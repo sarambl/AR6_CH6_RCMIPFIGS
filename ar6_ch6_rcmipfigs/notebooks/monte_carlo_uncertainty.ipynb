{
 "cells": [
  {
   "cell_type": "markdown",
   "metadata": {},
   "source": [
    "# Desciption of data:\n",
    "For Fair and OSCAR we have quantiles:\n",
    "- 0, 10, 17, 33, 50, 67, 83,90,95,100"
   ]
  },
  {
   "cell_type": "markdown",
   "metadata": {},
   "source": [
    "### From Nicholls et al 2020:\n",
    "#### FaiR: \n",
    "\"For the probabilistic ensemble, a 300-member sample of ECS, [Transient Climate Response], carbon cycle sensitivity, effective radiative forcing (for non-aerosol forcing categories) and emissions to forcing parameters for aerosols were used, with the ensemble constrained based on 1850-2015 warming from reconstructed GSAT (Richardson et al., 2016).\"\n"
   ]
  },
  {
   "cell_type": "markdown",
   "metadata": {},
   "source": []
  },
  {
   "cell_type": "markdown",
   "metadata": {},
   "source": [
    "If we can assume "
   ]
  },
  {
   "cell_type": "code",
   "execution_count": null,
   "metadata": {},
   "outputs": [],
   "source": []
  },
  {
   "cell_type": "code",
   "execution_count": 1,
   "metadata": {},
   "outputs": [],
   "source": [
    "import xarray as xr\n",
    "from pandas.plotting import register_matplotlib_converters\n",
    "\n",
    "register_matplotlib_converters()\n",
    "\n",
    "%load_ext autoreload\n",
    "%autoreload 2"
   ]
  },
  {
   "cell_type": "code",
   "execution_count": 2,
   "metadata": {},
   "outputs": [
    {
     "name": "stdout",
     "output_type": "stream",
     "text": [
      "/home/sarambl/PHD/IPCC/test/AR6_CH6_RCMIPFIGS/ar6_ch6_rcmipfigs\n",
      "/home/sarambl/PHD/IPCC/test/AR6_CH6_RCMIPFIGS/ar6_ch6_rcmipfigs/data_in\n"
     ]
    }
   ],
   "source": [
    "from ar6_ch6_rcmipfigs.constants import OUTPUT_DATA_DIR, RESULTS_DIR\n",
    "\n",
    "#PATH_DATASET = OUTPUT_DATA_DIR + '/forcing_data_rcmip_models.nc'\n",
    "PATH_DT = OUTPUT_DATA_DIR + '/dT_data_rcmip_models.nc'"
   ]
  },
  {
   "cell_type": "code",
   "execution_count": 3,
   "metadata": {},
   "outputs": [],
   "source": [
    "FIGURE_DIR = RESULTS_DIR + '/figures/'"
   ]
  },
  {
   "cell_type": "code",
   "execution_count": 4,
   "metadata": {},
   "outputs": [],
   "source": [
    "\n",
    "climatemodel = 'climatemodel'\n",
    "scenario = 'scenario'\n",
    "variable = 'variable'\n",
    "time = 'time'"
   ]
  },
  {
   "cell_type": "markdown",
   "metadata": {},
   "source": [
    "### Define variables to look at:"
   ]
  },
  {
   "cell_type": "code",
   "execution_count": 5,
   "metadata": {},
   "outputs": [],
   "source": [
    "# variables to plot:\n",
    "variables_erf_comp = [\n",
    "    'Effective Radiative Forcing|Anthropogenic|CH4',\n",
    "    'Effective Radiative Forcing|Anthropogenic|Aerosols',\n",
    "    'Effective Radiative Forcing|Anthropogenic|Tropospheric Ozone',\n",
    "    'Effective Radiative Forcing|Anthropogenic|F-Gases|HFC',\n",
    "    'Effective Radiative Forcing|Anthropogenic|Other|BC on Snow']\n",
    "# total ERFs for anthropogenic and total:\n",
    "variables_erf_tot = ['Effective Radiative Forcing|Anthropogenic',\n",
    "                     'Effective Radiative Forcing']\n",
    "# Scenarios to plot:\n",
    "scenarios_fl = ['ssp119', 'ssp126', 'ssp245', 'ssp370', 'ssp370-lowNTCF-aerchemmip',  # 'ssp370-lowNTCF', Due to mistake here\n",
    "                'ssp585', 'historical']\n",
    "\n",
    "scenarios_fl_370 = ['ssp370', 'ssp370-lowNTCF-aerchemmip','ssp370-lowNTCF-gidden'# Due to mistake here\n",
    "                ]\n",
    "\n",
    "climatemodels_fl = ['Cicero-SCM', 'Cicero-SCM-ECS3', 'FaIR-1.5-DEFAULT', 'MAGICC7.1.0.beta-rcmip-phase-1', 'OSCARv3.0']\n"
   ]
  },
  {
   "cell_type": "markdown",
   "metadata": {},
   "source": [
    "## Open dataset:"
   ]
  },
  {
   "cell_type": "markdown",
   "metadata": {},
   "source": [
    "### Integrate:\n",
    "The code below opens the file generated in [2_compute_delta_T.ipynb](2_compute_delta_T.ipynb) by integrating"
   ]
  },
  {
   "cell_type": "markdown",
   "metadata": {},
   "source": [
    "\\begin{align*} \n",
    "\\Delta T (t) &= \\int_0^t ERF(t') IRF(t-t') dt' \\\\\n",
    "\\end{align*}"
   ]
  },
  {
   "cell_type": "markdown",
   "metadata": {},
   "source": [
    "where IRF is the impulse response function and ERF is the effective radiative forcing from RCMIP. "
   ]
  },
  {
   "cell_type": "code",
   "execution_count": 6,
   "metadata": {},
   "outputs": [],
   "source": [
    "ds_DT = xr.open_dataset(PATH_DT)"
   ]
  },
  {
   "cell_type": "code",
   "execution_count": 7,
   "metadata": {},
   "outputs": [
    {
     "data": {
      "text/html": [
       "<pre>&lt;xarray.DataArray &#x27;scenario&#x27; (scenario: 8)&gt;\n",
       "array([&#x27;historical&#x27;, &#x27;ssp119&#x27;, &#x27;ssp126&#x27;, &#x27;ssp245&#x27;, &#x27;ssp370&#x27;,\n",
       "       &#x27;ssp370-lowNTCF-aerchemmip&#x27;, &#x27;ssp370-lowNTCF-gidden&#x27;, &#x27;ssp585&#x27;],\n",
       "      dtype=object)\n",
       "Coordinates:\n",
       "    model         object ...\n",
       "  * scenario      (scenario) object &#x27;historical&#x27; &#x27;ssp119&#x27; ... &#x27;ssp585&#x27;\n",
       "    region        object ...\n",
       "    unit          object ...\n",
       "    unit_context  object ...</pre>"
      ],
      "text/plain": [
       "<xarray.DataArray 'scenario' (scenario: 8)>\n",
       "array(['historical', 'ssp119', 'ssp126', 'ssp245', 'ssp370',\n",
       "       'ssp370-lowNTCF-aerchemmip', 'ssp370-lowNTCF-gidden', 'ssp585'],\n",
       "      dtype=object)\n",
       "Coordinates:\n",
       "    model         object ...\n",
       "  * scenario      (scenario) object 'historical' 'ssp119' ... 'ssp585'\n",
       "    region        object ...\n",
       "    unit          object ...\n",
       "    unit_context  object ..."
      ]
     },
     "execution_count": 7,
     "metadata": {},
     "output_type": "execute_result"
    }
   ],
   "source": [
    "ds_DT[scenario]"
   ]
  },
  {
   "cell_type": "code",
   "execution_count": 8,
   "metadata": {},
   "outputs": [
    {
     "data": {
      "text/html": [
       "<pre>&lt;xarray.Dataset&gt;\n",
       "Dimensions:                                                       (climatemodel: 5, scenario: 8, time: 251)\n",
       "Coordinates:\n",
       "  * time                                                          (time) datetime64[ns] 1850-01-01 ... 2100-01-01\n",
       "    model                                                         object ...\n",
       "  * scenario                                                      (scenario) object &#x27;historical&#x27; ... &#x27;ssp585&#x27;\n",
       "    region                                                        object ...\n",
       "    unit                                                          object ...\n",
       "  * climatemodel                                                  (climatemodel) object &#x27;Cicero-SCM&#x27; ... &#x27;OSCARv3.0&#x27;\n",
       "    unit_context                                                  object ...\n",
       "Data variables:\n",
       "    Effective Radiative Forcing                                   (scenario, climatemodel, time) float64 ...\n",
       "    Effective Radiative Forcing|Anthropogenic                     (scenario, climatemodel, time) float64 ...\n",
       "    Effective Radiative Forcing|Anthropogenic|Other|BC on Snow    (scenario, climatemodel, time) float64 ...\n",
       "    Effective Radiative Forcing|Anthropogenic|F-Gases|HFC         (scenario, climatemodel, time) float64 ...\n",
       "    Effective Radiative Forcing|Anthropogenic|Tropospheric Ozone  (scenario, climatemodel, time) float64 ...\n",
       "    Effective Radiative Forcing|Anthropogenic|Aerosols            (scenario, climatemodel, time) float64 ...\n",
       "    Effective Radiative Forcing|Anthropogenic|CH4                 (scenario, climatemodel, time) float64 ...\n",
       "    year                                                          (time) int64 ...\n",
       "    month                                                         (time) int64 ...\n",
       "    day                                                           (time) int64 ...\n",
       "    delta_t                                                       (time) float64 ...\n",
       "    Delta T|Anthropogenic|CH4                                     (scenario, climatemodel, time) float64 ...\n",
       "    Delta T|Anthropogenic|Aerosols                                (scenario, climatemodel, time) float64 ...\n",
       "    Delta T|Anthropogenic|Tropospheric Ozone                      (scenario, climatemodel, time) float64 ...\n",
       "    Delta T|Anthropogenic|F-Gases|HFC                             (scenario, climatemodel, time) float64 ...\n",
       "    Delta T|Anthropogenic|Other|BC on Snow                        (scenario, climatemodel, time) float64 ...\n",
       "    Delta T|Anthropogenic                                         (scenario, climatemodel, time) float64 ...\n",
       "    Delta T|                                                      (scenario, climatemodel, time) float64 ...</pre>"
      ],
      "text/plain": [
       "<xarray.Dataset>\n",
       "Dimensions:                                                       (climatemodel: 5, scenario: 8, time: 251)\n",
       "Coordinates:\n",
       "  * time                                                          (time) datetime64[ns] 1850-01-01 ... 2100-01-01\n",
       "    model                                                         object ...\n",
       "  * scenario                                                      (scenario) object 'historical' ... 'ssp585'\n",
       "    region                                                        object ...\n",
       "    unit                                                          object ...\n",
       "  * climatemodel                                                  (climatemodel) object 'Cicero-SCM' ... 'OSCARv3.0'\n",
       "    unit_context                                                  object ...\n",
       "Data variables:\n",
       "    Effective Radiative Forcing                                   (scenario, climatemodel, time) float64 ...\n",
       "    Effective Radiative Forcing|Anthropogenic                     (scenario, climatemodel, time) float64 ...\n",
       "    Effective Radiative Forcing|Anthropogenic|Other|BC on Snow    (scenario, climatemodel, time) float64 ...\n",
       "    Effective Radiative Forcing|Anthropogenic|F-Gases|HFC         (scenario, climatemodel, time) float64 ...\n",
       "    Effective Radiative Forcing|Anthropogenic|Tropospheric Ozone  (scenario, climatemodel, time) float64 ...\n",
       "    Effective Radiative Forcing|Anthropogenic|Aerosols            (scenario, climatemodel, time) float64 ...\n",
       "    Effective Radiative Forcing|Anthropogenic|CH4                 (scenario, climatemodel, time) float64 ...\n",
       "    year                                                          (time) int64 ...\n",
       "    month                                                         (time) int64 ...\n",
       "    day                                                           (time) int64 ...\n",
       "    delta_t                                                       (time) float64 ...\n",
       "    Delta T|Anthropogenic|CH4                                     (scenario, climatemodel, time) float64 ...\n",
       "    Delta T|Anthropogenic|Aerosols                                (scenario, climatemodel, time) float64 ...\n",
       "    Delta T|Anthropogenic|Tropospheric Ozone                      (scenario, climatemodel, time) float64 ...\n",
       "    Delta T|Anthropogenic|F-Gases|HFC                             (scenario, climatemodel, time) float64 ...\n",
       "    Delta T|Anthropogenic|Other|BC on Snow                        (scenario, climatemodel, time) float64 ...\n",
       "    Delta T|Anthropogenic                                         (scenario, climatemodel, time) float64 ...\n",
       "    Delta T|                                                      (scenario, climatemodel, time) float64 ..."
      ]
     },
     "execution_count": 8,
     "metadata": {},
     "output_type": "execute_result"
    }
   ],
   "source": [
    "ds_DT"
   ]
  }
 ],
 "metadata": {
  "jupytext": {
   "text_representation": {
    "extension": ".py",
    "format_name": "percent",
    "format_version": "1.3",
    "jupytext_version": "1.3.3"
   }
  },
  "kernelspec": {
   "display_name": "Python 3",
   "language": "python",
   "name": "python3"
  },
  "language_info": {
   "codemirror_mode": {
    "name": "ipython",
    "version": 3
   },
   "file_extension": ".py",
   "mimetype": "text/x-python",
   "name": "python",
   "nbconvert_exporter": "python",
   "pygments_lexer": "ipython3",
   "version": "3.7.6"
  }
 },
 "nbformat": 4,
 "nbformat_minor": 4
}
