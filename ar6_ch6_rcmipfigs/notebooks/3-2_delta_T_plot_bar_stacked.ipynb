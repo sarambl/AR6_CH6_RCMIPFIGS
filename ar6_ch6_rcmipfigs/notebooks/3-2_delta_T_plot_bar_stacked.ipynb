{
 "cells": [
  {
   "cell_type": "markdown",
   "metadata": {},
   "source": [
    "# Plot temperature response over time"
   ]
  },
  {
   "cell_type": "markdown",
   "metadata": {},
   "source": [
    "## Method: \n"
   ]
  },
  {
   "cell_type": "markdown",
   "metadata": {},
   "source": [
    "## IRF:\n",
    "Using forcings from RCMIP models and the impulse response function:\n",
    "\\begin{align*}\n",
    "\\text{IRF}(t)=& 0.885\\cdot (\\frac{0.587}{4.1}\\cdot exp(\\frac{-t}{4.1}) + \\frac{0.413}{249} \\cdot exp(\\frac{-t}{249}))\\\\\n",
    "\\text{IRF}(t)= &  \\sum_{i=1}^2\\frac{\\alpha \\cdot c_i}{\\tau_i}\\cdot exp\\big(\\frac{-t}{\\tau_1}\\big) \n",
    "\\end{align*}\n",
    "with $\\alpha = 0.885$, $c_1=0.587$, $\\tau_1=4.1$, $c_2=0.413$ and $\\tau_2 = 249$."
   ]
  },
  {
   "cell_type": "markdown",
   "metadata": {
    "title": "Thus we can estimate the mean surface temperature change from some reference year (here 0) by using"
   },
   "source": [
    "the estimated ERF$_x$ for some forcing agent $x$ as follows: "
   ]
  },
  {
   "cell_type": "markdown",
   "metadata": {},
   "source": [
    "\\begin{align*} \n",
    "\\Delta T (t) &= \\int_0^t ERF(t') IRF(t-t') dt' \\\\\n",
    "\\end{align*}"
   ]
  },
  {
   "cell_type": "markdown",
   "metadata": {},
   "source": [
    "# Code + figures"
   ]
  },
  {
   "cell_type": "markdown",
   "metadata": {
    "lines_to_next_cell": 0
   },
   "source": [
    "## Imports:\n",
    "\n",
    "import pandas as pd"
   ]
  },
  {
   "cell_type": "code",
   "execution_count": 156,
   "metadata": {},
   "outputs": [
    {
     "name": "stdout",
     "output_type": "stream",
     "text": [
      "The autoreload extension is already loaded. To reload it, use:\n",
      "  %reload_ext autoreload\n"
     ]
    }
   ],
   "source": [
    "import xarray as xr\n",
    "import pandas as pd\n",
    "from pandas.plotting import register_matplotlib_converters\n",
    "\n",
    "register_matplotlib_converters()\n",
    "\n",
    "%load_ext autoreload\n",
    "%autoreload 2"
   ]
  },
  {
   "cell_type": "code",
   "execution_count": 157,
   "metadata": {},
   "outputs": [],
   "source": [
    "from ar6_ch6_rcmipfigs.constants import OUTPUT_DATA_DIR, RESULTS_DIR\n",
    "\n",
    "PATH_DT = OUTPUT_DATA_DIR + '/dT_data_rcmip_models.nc'"
   ]
  },
  {
   "cell_type": "code",
   "execution_count": 158,
   "metadata": {},
   "outputs": [],
   "source": [
    "FIGURE_DIR = RESULTS_DIR + '/figures/'"
   ]
  },
  {
   "cell_type": "code",
   "execution_count": 159,
   "metadata": {},
   "outputs": [],
   "source": [
    "\n",
    "climatemodel = 'climatemodel'\n",
    "scenario = 'scenario'\n",
    "variable = 'variable'\n",
    "time = 'time'"
   ]
  },
  {
   "cell_type": "markdown",
   "metadata": {},
   "source": [
    "### Define variables to look at:"
   ]
  },
  {
   "cell_type": "code",
   "execution_count": 160,
   "metadata": {
    "lines_to_next_cell": 2
   },
   "outputs": [],
   "source": [
    "from ar6_ch6_rcmipfigs.utils.misc_func import new_varname\n",
    "\n",
    "# variables to plot:\n",
    "variables_erf_comp = [\n",
    "    'Effective Radiative Forcing|Anthropogenic|CH4',\n",
    "    'Effective Radiative Forcing|Anthropogenic|Aerosols',\n",
    "    'Effective Radiative Forcing|Anthropogenic|Tropospheric Ozone',\n",
    "    'Effective Radiative Forcing|Anthropogenic|F-Gases|HFC',\n",
    "    'Effective Radiative Forcing|Anthropogenic|Other|BC on Snow']\n",
    "# total ERFs for anthropogenic and total:\n",
    "variables_erf_tot = ['Effective Radiative Forcing|Anthropogenic',\n",
    "                     'Effective Radiative Forcing']\n",
    "# Scenarios to plot:\n",
    "scenarios_fl = ['ssp119', 'ssp126', 'ssp245', 'ssp370', 'ssp370-lowNTCF-aerchemmip',\n",
    "                # 'ssp370-lowNTCF', Due to mistake here\n",
    "                'ssp585', 'historical']\n",
    "scenarios_nhist = ['ssp119', 'ssp126', 'ssp245', 'ssp370', 'ssp370-lowNTCF-aerchemmip',\n",
    "                'ssp370-lowNTCF-gidden',\n",
    "                   # 'ssp370-lowNTCF', Due to mistake here\n",
    "                   'ssp585']  # list(set(scenarios_fl)- {'historical'})\n",
    "climatemodels_fl = ['Cicero-SCM', 'Cicero-SCM-ECS3', 'FaIR-1.5-DEFAULT', 'MAGICC7.1.0.beta-rcmip-phase-1', 'OSCARv3.0']\n",
    "\n",
    "# List of delta T for variables\n",
    "name_deltaT = 'Delta T'\n",
    "variables_dt_comp = [new_varname(var, name_deltaT) for var in variables_erf_comp]"
   ]
  },
  {
   "cell_type": "code",
   "execution_count": 161,
   "metadata": {},
   "outputs": [],
   "source": [
    "# Years to plot:\n",
    "years = ['2040', '2100']\n",
    "\n",
    "# scn_trans = [trans_scen2plotlabel(label) for label in scenarios_nhist]\n",
    "# scn_trans = scenarios_nhist  # scenarios except historical\n",
    "\n",
    "variables_tot = ['Total']\n",
    "variables_sum = ['Sum SLCFs']\n",
    "\n",
    "\n",
    "def setup_table_prop(scenario_n='', years=None, variabs=None, scens=None):\n",
    "    if variabs is None:\n",
    "        variabs = [var.split('|')[-1] for var in variables_erf_comp]\n",
    "    if years is None:\n",
    "        years = ['2040', '2100']\n",
    "    if scens is None:\n",
    "        scens = scenarios_nhist\n",
    "    its = [years, variabs]\n",
    "    _i = pd.MultiIndex.from_product(its, names=['', ''])\n",
    "    table = pd.DataFrame(columns=scens, index=_i)  # .transpose()\n",
    "    table.index.name = scenario_n\n",
    "    return table"
   ]
  },
  {
   "cell_type": "markdown",
   "metadata": {},
   "source": [
    "## Open dataset:"
   ]
  },
  {
   "cell_type": "markdown",
   "metadata": {},
   "source": [
    "### Integrate:\n",
    "The code below opens the file generated in [2_compute_delta_T.ipynb](2_compute_delta_T.ipynb) by integrating"
   ]
  },
  {
   "cell_type": "markdown",
   "metadata": {},
   "source": [
    "\\begin{align*} \n",
    "\\Delta T (t) &= \\int_0^t ERF(t') IRF(t-t') dt' \\\\\n",
    "\\end{align*}"
   ]
  },
  {
   "cell_type": "markdown",
   "metadata": {},
   "source": [
    "where IRF is the impulse response function and ERF is the effective radiative forcing from RCMIP. "
   ]
  },
  {
   "cell_type": "code",
   "execution_count": 162,
   "metadata": {
    "lines_to_next_cell": 2
   },
   "outputs": [],
   "source": [
    "ds_DT = xr.open_dataset(PATH_DT)"
   ]
  },
  {
   "cell_type": "markdown",
   "metadata": {},
   "source": [
    "## Compute sum of all SLCF forcers"
   ]
  },
  {
   "cell_type": "code",
   "execution_count": 163,
   "metadata": {},
   "outputs": [],
   "source": [
    "from ar6_ch6_rcmipfigs.utils.plot import get_scenario_c_dic, get_scenario_ls_dic"
   ]
  },
  {
   "cell_type": "code",
   "execution_count": 164,
   "metadata": {},
   "outputs": [],
   "source": [
    "\n",
    "# ds_DT = dic_ds[0.885]\n",
    "s_y = '1850'\n",
    "# cdic = get_scenario_c_dic()\n",
    "\n",
    "cdic = get_scenario_c_dic()  # get_cmap_dic(ds_DT[scenario].values)\n",
    "lsdic = get_scenario_ls_dic()  # _scget_ls_dic(ds_DT[climatemodel].values)\n",
    "\n",
    "\n",
    "def sum_name(var): return '|'.join(var.split('|')[0:2]) + '|' + 'All'\n",
    "\n",
    "\n",
    "var = variables_erf_comp[0]\n",
    "f_totn = sum_name(var)\n",
    "dt_totn = sum_name(new_varname(var, name_deltaT))\n",
    "\n",
    "# make xarray with variable as new dimension:\n",
    "_lst_f = []\n",
    "_lst_dt = []\n",
    "for var in variables_erf_comp:\n",
    "    _lst_f.append(ds_DT[var])\n",
    "    _lst_dt.append(ds_DT[new_varname(var, name_deltaT)])\n",
    "erf_all = sum_name('Effective Radiative Forcing|Anthropogenic|all')\n",
    "dt_all = sum_name(new_varname('Effective Radiative Forcing|Anthropogenic|all', name_deltaT))\n",
    "ds_DT[erf_all] = xr.concat(_lst_f, pd.Index(variables_erf_comp, name='variable'))\n",
    "ds_DT[dt_all] = xr.concat(_lst_dt, pd.Index(variables_erf_comp, name='variable'))"
   ]
  },
  {
   "cell_type": "code",
   "execution_count": 189,
   "metadata": {},
   "outputs": [],
   "source": [
    "ref_year = '2021'\n",
    "scntab_dic = {}\n",
    "\n",
    "\n",
    "# tab_tot = setup_table2()\n",
    "# tab_tot_sd = setup_table2()\n",
    "def table_of_sts(ds_DT, scenarios_nhist, variables, tab_vars, years, ref_year, sts='mean'):\n",
    "    \"\"\"\n",
    "    Creates pandas dataframe of statistics (mean, median, standard deviation) for change\n",
    "    in temperature Delta T since year (ref year) for each scenario in scenarios,\n",
    "\n",
    "    :param ds_DT:\n",
    "    :param scenarios_nhist:\n",
    "    :param variables:\n",
    "    :param tab_vars:\n",
    "    :param years:\n",
    "    :param ref_year:\n",
    "    :param sts:\n",
    "    :return:\n",
    "    \"\"\"\n",
    "    tabel = setup_table_prop(years=years, variabs=tab_vars)\n",
    "    for scn in scenarios_nhist:\n",
    "        for var, tabvar in zip(variables, tab_vars):\n",
    "            dtvar = new_varname(var, name_deltaT) # if ERF name, changes it here.\n",
    "            tabscn = scn  # Table scenario name the same.\n",
    "            for year in years:\n",
    "                _da =ds_DT[dtvar].sel(scenario=scn)\n",
    "                _da_refy = _da.sel(time=slice(ref_year, ref_year)).squeeze() # ref year value\n",
    "                _da_y = _da.sel(time=slice(year, year)) # year value\n",
    "                _tab_da = _da_y - _da_refy\n",
    "                #_tab_da = ds_DT[dtvar].sel(scenario=scn, time=slice(year, year)) - ds_DT[dtvar].sel(scenario=scn,\n",
    "                #                                                                                    time=slice(ref_year,\n",
    "                #                                                                                               ref_year)).squeeze()\n",
    "\n",
    "                # Do statistics over RCMIP models\n",
    "                if sts == 'mean':\n",
    "                    tabel.loc[(year, tabvar), tabscn] = _tab_da.mean('climatemodel').values[0]\n",
    "                if sts == 'median':\n",
    "                    tabel.loc[(year, tabvar), tabscn] = _tab_da.median('climatemodel').values[0]\n",
    "                elif sts == 'std':\n",
    "                    tabel.loc[(year, tabvar), tabscn] = _tab_da.std('climatemodel').values[0]\n",
    "\n",
    "    return tabel\n",
    "\n",
    "def table_of_stats_varsums(ds_DT, scenarios_nhist, dsvar, tabvar, years, ref_year, sts='mean'):\n",
    "    tabel = setup_table_prop(years=years, variabs=[tabvar])\n",
    "    da = ds_DT[dsvar]\n",
    "    if sts=='mean':\n",
    "        da = ds_DT[dsvar]#.mean('climatemodel').sum('variable')\n",
    "    if sts == 'median':\n",
    "        da = ds_DT[dsvar]#.median('climatemodel').sum('variable')\n",
    "    elif sts=='std':\n",
    "        da = ds_DT[dsvar]#.sum('variable').std('climatemodel')\n",
    "    for scn in scenarios_nhist:\n",
    "        #for var, tabvar in zip(variables, tab_vars):\n",
    "        dtvar = new_varname(dsvar, name_deltaT) # if ERF name, changes it here.\n",
    "        tabscn = scn  # Table scenario name the same.\n",
    "        for year in years:\n",
    "            _da =da.sel(scenario=scn)\n",
    "            _da_refy = _da.sel(time=slice(ref_year, ref_year)).squeeze() # ref year value\n",
    "            _da_y = _da.sel(time=slice(year, year)).squeeze() # year value\n",
    "            _tab_da = (_da_y - _da_refy).squeeze()\n",
    "            if sts=='mean':\n",
    "                _tab_da = _tab_da.mean('climatemodel').sum('variable')\n",
    "            elif sts == 'median':\n",
    "                _tab_da = _tab_da.median('climatemodel').sum('variable')\n",
    "            elif sts=='std':\n",
    "                _tab_da= _tab_da.sum('variable').std('climatemodel')\n",
    "\n",
    "            # Do statistics over RCMIP models\n",
    "            tabel.loc[(year, tabvar), tabscn] = _tab_da.values\n",
    "\n",
    "    return tabel\n",
    "        \n",
    "\n",
    "# Statistics on Delta T anthropogenic\n",
    "# Mean\n",
    "tabel_dT_anthrop = table_of_sts(ds_DT, scenarios_nhist, ['Delta T|Anthropogenic'], ['Total'], years, ref_year)\n",
    "# Standard deviation\n",
    "tabel_dT_anthrop_SD = table_of_sts(ds_DT, scenarios_nhist, ['Delta T|Anthropogenic'], ['Total'], years, ref_year, sts='std')\n",
    "# Mean:\n",
    "tabel_dT_slcfs = table_of_sts(ds_DT, scenarios_nhist, variables_dt_comp, [var.split('|')[-1] for var in variables_dt_comp], years,\n",
    "                              ref_year)\n",
    "# Standard deviation\n",
    "tabel_dT_slcfs_DF = table_of_sts(ds_DT, scenarios_nhist, variables_dt_comp, [var.split('|')[-1] for var in variables_dt_comp],\n",
    "                                 years, ref_year, sts='std')\n",
    "# Compute sum of SLCFs\n",
    "_ds = ds_DT.copy()\n",
    "vall = 'Delta T|Anthropogenic|All'\n",
    "_ds[vall] = _ds[vall].sum('variable')\n",
    "tabel_dT_sum_slcf = table_of_sts(_ds, scenarios_nhist, [vall], ['Sum SLCFs'], years, ref_year)\n",
    "tabel_dT_sum_slcf_SD = table_of_sts(_ds, scenarios_nhist, [vall], ['Sum SLCFs'], years, ref_year, sts='std')"
   ]
  },
  {
   "cell_type": "code",
   "execution_count": 190,
   "metadata": {},
   "outputs": [
    {
     "data": {
      "text/html": [
       "<div>\n",
       "<style scoped>\n",
       "    .dataframe tbody tr th:only-of-type {\n",
       "        vertical-align: middle;\n",
       "    }\n",
       "\n",
       "    .dataframe tbody tr th {\n",
       "        vertical-align: top;\n",
       "    }\n",
       "\n",
       "    .dataframe thead th {\n",
       "        text-align: right;\n",
       "    }\n",
       "</style>\n",
       "<table border=\"1\" class=\"dataframe\">\n",
       "  <thead>\n",
       "    <tr style=\"text-align: right;\">\n",
       "      <th></th>\n",
       "      <th></th>\n",
       "      <th>ssp119</th>\n",
       "      <th>ssp126</th>\n",
       "      <th>ssp245</th>\n",
       "      <th>ssp370</th>\n",
       "      <th>ssp370-lowNTCF-aerchemmip</th>\n",
       "      <th>ssp370-lowNTCF-gidden</th>\n",
       "      <th>ssp585</th>\n",
       "    </tr>\n",
       "    <tr>\n",
       "      <th></th>\n",
       "      <th></th>\n",
       "      <th></th>\n",
       "      <th></th>\n",
       "      <th></th>\n",
       "      <th></th>\n",
       "      <th></th>\n",
       "      <th></th>\n",
       "      <th></th>\n",
       "    </tr>\n",
       "  </thead>\n",
       "  <tbody>\n",
       "    <tr>\n",
       "      <th>2040</th>\n",
       "      <th>Sum SLCFs</th>\n",
       "      <td>0.106843</td>\n",
       "      <td>0.0852915</td>\n",
       "      <td>0.0483122</td>\n",
       "      <td>0.0257856</td>\n",
       "      <td>0.0639803</td>\n",
       "      <td>0.0600776</td>\n",
       "      <td>0.0525353</td>\n",
       "    </tr>\n",
       "    <tr>\n",
       "      <th>2100</th>\n",
       "      <th>Sum SLCFs</th>\n",
       "      <td>0.129779</td>\n",
       "      <td>0.140355</td>\n",
       "      <td>0.113588</td>\n",
       "      <td>0.107319</td>\n",
       "      <td>0.168648</td>\n",
       "      <td>0.140443</td>\n",
       "      <td>0.158017</td>\n",
       "    </tr>\n",
       "  </tbody>\n",
       "</table>\n",
       "</div>"
      ],
      "text/plain": [
       "                  ssp119     ssp126     ssp245     ssp370  \\\n",
       "                                                            \n",
       "2040 Sum SLCFs  0.106843  0.0852915  0.0483122  0.0257856   \n",
       "2100 Sum SLCFs  0.129779   0.140355   0.113588   0.107319   \n",
       "\n",
       "               ssp370-lowNTCF-aerchemmip ssp370-lowNTCF-gidden     ssp585  \n",
       "                                                                           \n",
       "2040 Sum SLCFs                 0.0639803             0.0600776  0.0525353  \n",
       "2100 Sum SLCFs                  0.168648              0.140443   0.158017  "
      ]
     },
     "execution_count": 190,
     "metadata": {},
     "output_type": "execute_result"
    }
   ],
   "source": [
    "tabel_dT_sum_slcf_SD"
   ]
  },
  {
   "cell_type": "code",
   "execution_count": 191,
   "metadata": {},
   "outputs": [
    {
     "data": {
      "text/html": [
       "<div>\n",
       "<style scoped>\n",
       "    .dataframe tbody tr th:only-of-type {\n",
       "        vertical-align: middle;\n",
       "    }\n",
       "\n",
       "    .dataframe tbody tr th {\n",
       "        vertical-align: top;\n",
       "    }\n",
       "\n",
       "    .dataframe thead th {\n",
       "        text-align: right;\n",
       "    }\n",
       "</style>\n",
       "<table border=\"1\" class=\"dataframe\">\n",
       "  <thead>\n",
       "    <tr style=\"text-align: right;\">\n",
       "      <th></th>\n",
       "      <th></th>\n",
       "      <th>ssp119</th>\n",
       "      <th>ssp126</th>\n",
       "      <th>ssp245</th>\n",
       "      <th>ssp370</th>\n",
       "      <th>ssp370-lowNTCF-aerchemmip</th>\n",
       "      <th>ssp370-lowNTCF-gidden</th>\n",
       "      <th>ssp585</th>\n",
       "    </tr>\n",
       "    <tr>\n",
       "      <th></th>\n",
       "      <th></th>\n",
       "      <th></th>\n",
       "      <th></th>\n",
       "      <th></th>\n",
       "      <th></th>\n",
       "      <th></th>\n",
       "      <th></th>\n",
       "      <th></th>\n",
       "    </tr>\n",
       "  </thead>\n",
       "  <tbody>\n",
       "    <tr>\n",
       "      <th>2040</th>\n",
       "      <th>Sum SLCFs</th>\n",
       "      <td>0.10684343548179748</td>\n",
       "      <td>0.08529145407800068</td>\n",
       "      <td>0.04831220630757891</td>\n",
       "      <td>0.025785552790189827</td>\n",
       "      <td>0.06398027899234776</td>\n",
       "      <td>0.06007755097970012</td>\n",
       "      <td>0.05253533762557518</td>\n",
       "    </tr>\n",
       "    <tr>\n",
       "      <th>2100</th>\n",
       "      <th>Sum SLCFs</th>\n",
       "      <td>0.1297791963664601</td>\n",
       "      <td>0.14035522920526422</td>\n",
       "      <td>0.11358809497353772</td>\n",
       "      <td>0.10731891440382212</td>\n",
       "      <td>0.1686480511004645</td>\n",
       "      <td>0.14044266035549746</td>\n",
       "      <td>0.1580167611267991</td>\n",
       "    </tr>\n",
       "  </tbody>\n",
       "</table>\n",
       "</div>"
      ],
      "text/plain": [
       "                             ssp119               ssp126               ssp245  \\\n",
       "                                                                                \n",
       "2040 Sum SLCFs  0.10684343548179748  0.08529145407800068  0.04831220630757891   \n",
       "2100 Sum SLCFs   0.1297791963664601  0.14035522920526422  0.11358809497353772   \n",
       "\n",
       "                              ssp370 ssp370-lowNTCF-aerchemmip  \\\n",
       "                                                                 \n",
       "2040 Sum SLCFs  0.025785552790189827       0.06398027899234776   \n",
       "2100 Sum SLCFs   0.10731891440382212        0.1686480511004645   \n",
       "\n",
       "               ssp370-lowNTCF-gidden               ssp585  \n",
       "                                                           \n",
       "2040 Sum SLCFs   0.06007755097970012  0.05253533762557518  \n",
       "2100 Sum SLCFs   0.14044266035549746   0.1580167611267991  "
      ]
     },
     "execution_count": 191,
     "metadata": {},
     "output_type": "execute_result"
    }
   ],
   "source": [
    "tabel_dT_sum_slcf = table_of_stats_varsums(ds_DT, scenarios_nhist, vall, 'Sum SLCFs', years, ref_year)\n",
    "tabel_dT_sum_slcf_SD = table_of_stats_varsums(ds_DT, scenarios_nhist, vall, 'Sum SLCFs', years, ref_year, sts='std')\n",
    "tabel_dT_sum_slcf_SD"
   ]
  },
  {
   "cell_type": "code",
   "execution_count": 192,
   "metadata": {},
   "outputs": [
    {
     "data": {
      "image/png": "[encoded data removed]",
      "text/plain": [
       "<Figure size 720x576 with 2 Axes>"
      ]
     },
     "metadata": {
      "needs_background": "light"
     },
     "output_type": "display_data"
    }
   ],
   "source": [
    "from ar6_ch6_rcmipfigs.constants import RESULTS_DIR\n",
    "from matplotlib.ticker import (MultipleLocator)\n",
    "import matplotlib.pyplot as plt\n",
    "\n",
    "fig, axs = plt.subplots(1, len(years), figsize=[10, 8], sharey=False)\n",
    "tits = ['Near Term surface temperature change (2040 relative to 2021)',\n",
    "        'Long Term surface T change 2100 relatie to 2021)']\n",
    "tits = ['Change in GSAT in 2040 relative to 2021', 'Change in GSAT in 2100 relative to 2021']\n",
    "for yr, ax, tit in zip(years, axs, tits):\n",
    "    ntot = 'Scenario total'\n",
    "    tot_yr = tabel_dT_anthrop.loc[yr].rename({'Total': ntot, 'ssp370-lowNTCF-aerchemmip': 'ssp370-lowNTCF\\n-aerchemmip'})\n",
    "    tot_sd_yr = tabel_dT_anthrop_SD.loc[yr].rename({'Total': ntot, 'ssp370-lowNTCF-aerchemmip': 'ssp370-lowNTCF\\n-aerchemmip'})\n",
    "    # l =ax.bar(tot_yr.transpose().index, tot_yr.transpose()[ntot].values, color='k', label='Scenario total', alpha=.2, yerr=tab_tot_sd)\n",
    "    sum_yr = tabel_dT_sum_slcf.loc[yr].rename({'Total': ntot, 'ssp370-lowNTCF-aerchemmip': 'ssp370-lowNTCF\\n-aerchemmip'})\n",
    "    sum_sd_yr = tabel_dT_sum_slcf_SD.loc[yr].rename(\n",
    "        {'Total': ntot, 'ssp370-lowNTCF-aerchemmip': 'ssp370-lowNTCF\\n-aerchemmip'})\n",
    "    ax.bar(tot_yr.transpose().index, tot_yr.transpose()[ntot].values, color='k', label='Scenario total', alpha=.2,\n",
    "           yerr=tot_sd_yr.transpose()[ntot].values,\n",
    "           error_kw=dict(ecolor='gray', lw=2, capsize=5, capthick=2))\n",
    "    ntot = 'Sum SLCFs'\n",
    "    # ax.bar(sum_yr.transpose().index, sum_yr.transpose()[ntot].values, color='r', label=ntot, alpha=.2, yerr=sum_sd_yr.transpose()[ntot].values,\n",
    "    #      error_kw=dict(ecolor='r', lw=2, capsize=0, capthick=1))\n",
    "\n",
    "    s_x = sum_yr.transpose().index\n",
    "    s_y = sum_yr.transpose()[ntot].values\n",
    "    s_err = sum_sd_yr.transpose()[ntot].values\n",
    "    ax.errorbar(s_x, s_y, color='k', fmt='d', label=ntot, yerr=s_err, linestyle=\"None\")  # ,\n",
    "    # error_kw=dict(ecolor='r', lw=2, capsize=0, capthick=1))\n",
    "\n",
    "    _tab = tabel_dT_slcfs.loc[yr].transpose().rename({'ssp370-lowNTCF-aerchemmip': 'ssp370-lowNTCF\\n-aerchemmip'})\n",
    "\n",
    "    a = _tab.plot(kind='bar', stacked=True, ax=ax, legend=(yr != '2040'))  # , grid=True)#stac)\n",
    "    if not yr == '2040':\n",
    "        ax.legend()  # [l],labels=['Sce!!nario total'], loc = 4)#'lower right')\n",
    "\n",
    "    ax.axhline(0, linestyle='--', color='k', alpha=0.4)\n",
    "    ax.set_title(tit)\n",
    "    ax.set_ylabel('$\\Delta$ GSAT ($^\\circ$C)')\n",
    "    ax.yaxis.set_minor_locator(MultipleLocator(.1))\n",
    "    ax.grid(axis='y', which='major')\n",
    "\n",
    "fn = RESULTS_DIR + '/figures/stack_bar_influence_years.png'\n",
    "plt.tight_layout()\n",
    "ax = plt.gca()\n",
    "\n",
    "ax.tick_params(axis='y', which='minor')  # ,bottom='off')\n",
    "plt.savefig(fn, dpi=300)"
   ]
  },
  {
   "cell_type": "markdown",
   "metadata": {},
   "source": [
    "## Error bars only from model uncertainty\n",
    "The following uncertainties assume the ECS has a standard deviation of"
   ]
  },
  {
   "cell_type": "code",
   "execution_count": 193,
   "metadata": {},
   "outputs": [
    {
     "data": {
      "image/png": "[encoded data removed]",
      "text/plain": [
       "<Figure size 864x432 with 2 Axes>"
      ]
     },
     "metadata": {
      "needs_background": "light"
     },
     "output_type": "display_data"
    }
   ],
   "source": [
    "from ar6_ch6_rcmipfigs.constants import RESULTS_DIR\n",
    "from matplotlib.ticker import (MultipleLocator)\n",
    "import matplotlib.pyplot as plt\n",
    "\n",
    "fig, axs = plt.subplots(1, len(years), figsize=[12, 6], sharex=False, sharey=True)\n",
    "tits = ['Near Term surface temperature change (2040 relative to 2021)',\n",
    "        'Long Term surface T change 2100 relatie to 2021)']\n",
    "tits = ['Change in GSAT in 2040 relative to 2021', 'Change in GSAT in 2100 relative to 2021']\n",
    "for yr, ax, tit in zip(years, axs, tits):\n",
    "    ntot = 'Scenario total'\n",
    "    # Pick out year and do various renames:\n",
    "    # Total antropogenic\n",
    "    tot_yr = tabel_dT_anthrop.loc[yr].rename({'Total': ntot, 'ssp370-lowNTCF-aerchemmip': 'ssp370-lowNTCF\\n-aerchemmip'})\n",
    "    tot_sd_yr = tabel_dT_anthrop_SD.loc[yr].rename({'Total': ntot, 'ssp370-lowNTCF-aerchemmip': 'ssp370-lowNTCF\\n-aerchemmip'})\n",
    "    # Sum SLCFs\n",
    "    sum_yr = tabel_dT_sum_slcf.loc[yr].rename({'Total': ntot, 'ssp370-lowNTCF-aerchemmip': 'ssp370-lowNTCF\\n-aerchemmip'})\n",
    "    sum_sd_yr = tabel_dT_sum_slcf_SD.loc[yr].rename(\n",
    "        {'Total': ntot, 'ssp370-lowNTCF-aerchemmip': 'ssp370-lowNTCF\\n-aerchemmip'})\n",
    "    # Plot bars for anthropopogenic total:\n",
    "    ax.barh(tot_yr.transpose().index, tot_yr.transpose()[ntot].values, color='k', label='Scenario total', alpha=.2,\n",
    "            xerr=tot_sd_yr.transpose()[ntot].values,\n",
    "            error_kw=dict(ecolor='gray', lw=2, capsize=5, capthick=2))\n",
    "    # Plot bars for SLCFs total:\n",
    "    ntot = 'Sum SLCFs'\n",
    "    s_x = sum_yr.transpose().index\n",
    "    s_y = sum_yr.transpose()[ntot].values\n",
    "    s_err = sum_sd_yr.transpose()[ntot].values\n",
    "    ax.errorbar(s_y, s_x, xerr=s_err, label=ntot, color='k', fmt='d', linestyle=\"None\")  # ,\n",
    "\n",
    "    # Plot stacked plot of components:\n",
    "    _tab = tabel_dT_slcfs.loc[yr].transpose().rename({'ssp370-lowNTCF-aerchemmip': 'ssp370-lowNTCF\\n-aerchemmip'})\n",
    "\n",
    "    a = _tab.plot(kind='barh', stacked=True, ax=ax, legend=(yr != '2040'))  # , grid=True)#stac)\n",
    "    if not yr == '2040':\n",
    "        ax.legend()  # [l],labels=['Sce!!nario total'], loc = 4)#'lower right')\n",
    "    # Zero line:\n",
    "    ax.axvline(0, linestyle='--', color='k', alpha=0.4)\n",
    "    ax.set_title(tit)\n",
    "    ax.set_xlabel('$\\Delta$ GSAT ($^\\circ$C)')\n",
    "    ax.xaxis.set_minor_locator(MultipleLocator(.1))\n",
    "    ax.grid(axis='y', which='major')\n",
    "\n",
    "fn = RESULTS_DIR + '/figures/stack_bar_influence_years.png'\n",
    "plt.tight_layout()\n",
    "ax = plt.gca()\n",
    "\n",
    "ax.tick_params(axis='y', which='minor')  # ,bottom='off')\n",
    "ax.tick_params(labelright=True, right=True, left=False)\n",
    "plt.savefig(fn, dpi=300)"
   ]
  },
  {
   "cell_type": "markdown",
   "metadata": {},
   "source": [
    "## Error bars from model uncertainty AND ECS uncertainty"
   ]
  },
  {
   "cell_type": "markdown",
   "metadata": {},
   "source": [
    "See [Uncertainty_calculation.ipynb](Uncertainty_calculation.ipynb)"
   ]
  },
  {
   "cell_type": "code",
   "execution_count": 194,
   "metadata": {},
   "outputs": [],
   "source": [
    "def sigma_DT(dT, sig_alpha, mu_alpha, dim='climatemodel'):\n",
    "    sig_DT = dT.std(dim)\n",
    "    mu_DT = dT.mean(dim)\n",
    "    return ((sig_DT + mu_DT) * (sig_alpha + mu_alpha) - mu_DT * mu_alpha) / mu_alpha\n",
    "\n",
    "\n",
    "def sigma_com(sig_DT, mu_DT, sig_alpha, mu_alpha):\n",
    "    return (((sig_DT ** 2 + mu_DT ** 2) * (\n",
    "            sig_alpha ** 2 + mu_alpha ** 2) - mu_DT ** 2 * mu_alpha ** 2) / mu_alpha ** 2) ** .5\n",
    "\n",
    "\n",
    "sum_DT_std =  table_of_sts(_ds, scenarios_nhist, [vall], ['Sum SLCFs'], years, ref_year, sts='std')\n",
    "sum_DT_mean = table_of_sts(_ds, scenarios_nhist, [vall], ['Sum SLCFs'], years, ref_year, sts='mean')\n",
    "tot_DT_std = table_of_sts(ds_DT, scenarios_nhist, ['Delta T|Anthropogenic'], ['Total'], years, ref_year, sts='std')\n",
    "tot_DT_mean = table_of_sts(ds_DT, scenarios_nhist, ['Delta T|Anthropogenic'], ['Total'], years, ref_year, sts='mean')\n",
    "\n",
    "yerr_sum = sigma_com(sum_DT_std, sum_DT_mean, .24, .885)\n",
    "yerr_tot = sigma_com(tot_DT_std, tot_DT_mean, .24, .885)  # .rename('')\n",
    "\n",
    "# tab_sig_DT = setup_table_prop()"
   ]
  },
  {
   "cell_type": "code",
   "execution_count": 195,
   "metadata": {},
   "outputs": [
    {
     "data": {
      "image/png": "[encoded data removed]",
      "text/plain": [
       "<Figure size 864x432 with 2 Axes>"
      ]
     },
     "metadata": {
      "needs_background": "light"
     },
     "output_type": "display_data"
    }
   ],
   "source": [
    "from ar6_ch6_rcmipfigs.constants import RESULTS_DIR\n",
    "from matplotlib.ticker import (MultipleLocator)\n",
    "import matplotlib.pyplot as plt\n",
    "\n",
    "fig, axs = plt.subplots(1, len(years), figsize=[12, 6], sharex=False, sharey=True)\n",
    "tits = ['Near Term surface temperature change (2040 relative to 2021)',\n",
    "        'Long Term surface T change 2100 relatie to 2021)']\n",
    "tits = ['Change in GSAT in 2040 relative to 2021', 'Change in GSAT in 2100 relative to 2021']\n",
    "for yr, ax, tit in zip(years, axs, tits):\n",
    "    ntot = 'Scenario total'\n",
    "    tot_yr = tabel_dT_anthrop.loc[yr].rename({'Total': ntot, 'ssp370-lowNTCF-aerchemmip': 'ssp370-lowNTCF\\n-aerchemmip'})\n",
    "    tot_sd_yr = yerr_tot.loc[yr].rename({'Total': ntot, 'ssp370-lowNTCF-aerchemmip': 'ssp370-lowNTCF\\n-aerchemmip'})\n",
    "    # l =ax.bar(tot_yr.transpose().index, tot_yr.transpose()[ntot].values, color='k', label='Scenario total', alpha=.2, yerr=tab_tot_sd)\n",
    "    sum_yr = tabel_dT_sum_slcf.loc[yr].rename({'Total': ntot, 'ssp370-lowNTCF-aerchemmip': 'ssp370-lowNTCF\\n-aerchemmip'})\n",
    "    sum_sd_yr = yerr_sum.loc[yr].rename({'Total': ntot, 'ssp370-lowNTCF-aerchemmip': 'ssp370-lowNTCF\\n-aerchemmip'})\n",
    "    ax.barh(tot_yr.transpose().index, tot_yr.transpose()[ntot].values, color='k', label='Scenario total', alpha=.2,\n",
    "            xerr=tot_sd_yr.transpose()[ntot].values,\n",
    "            error_kw=dict(ecolor='gray', lw=2, capsize=5, capthick=2))\n",
    "    ntot = 'Sum SLCFs'\n",
    "    # ax.bar(sum_yr.transpose().index, sum_yr.transpose()[ntot].values, color='r', label=ntot, alpha=.2, yerr=sum_sd_yr.transpose()[ntot].values,\n",
    "    #      error_kw=dict(ecolor='r', lw=2, capsize=0, capthick=1))\n",
    "\n",
    "    s_x = sum_yr.transpose().index\n",
    "    s_y = sum_yr.transpose()[ntot].values\n",
    "    s_err = sum_sd_yr.transpose()[ntot].values\n",
    "    ax.errorbar(s_y, s_x, xerr=s_err, label=ntot, color='k', fmt='d', linestyle=\"None\")  # ,\n",
    "    # error_kw=dict(ecolor='r', lw=2, capsize=0, capthick=1))\n",
    "\n",
    "    _tab = tabel_dT_slcfs.loc[yr].transpose().rename({'ssp370-lowNTCF-aerchemmip': 'ssp370-lowNTCF\\n-aerchemmip'})\n",
    "\n",
    "    a = _tab.plot(kind='barh', stacked=True, ax=ax, legend=(yr != '2040'))  # , grid=True)#stac)\n",
    "    if not yr == '2040':\n",
    "        ax.legend()  # [l],labels=['Sce!!nario total'], loc = 4)#'lower right')\n",
    "\n",
    "    ax.axvline(0, linestyle='--', color='k', alpha=0.4)\n",
    "    ax.set_title(tit)\n",
    "    ax.set_xlabel('$\\Delta$ GSAT ($^\\circ$C)')\n",
    "    ax.xaxis.set_minor_locator(MultipleLocator(.1))\n",
    "    ax.grid(axis='y', which='major')\n",
    "\n",
    "fn = RESULTS_DIR + '/figures/stack_bar_influence_years_horiz_errTot.png'\n",
    "plt.tight_layout()\n",
    "ax = plt.gca()\n",
    "\n",
    "ax.tick_params(axis='y', which='minor')  # ,bottom='off')\n",
    "ax.tick_params(labelright=True, right=True, left=False)\n",
    "plt.savefig(fn, dpi=300)"
   ]
  },
  {
   "cell_type": "markdown",
   "metadata": {},
   "source": [
    "## Only ssp370:"
   ]
  },
  {
   "cell_type": "code",
   "execution_count": 196,
   "metadata": {},
   "outputs": [],
   "source": [
    "scenario_370 =[sc for sc in scenarios_nhist if 'ssp370' in sc]"
   ]
  },
  {
   "cell_type": "code",
   "execution_count": 197,
   "metadata": {},
   "outputs": [
    {
     "data": {
      "text/html": [
       "<div>\n",
       "<style scoped>\n",
       "    .dataframe tbody tr th:only-of-type {\n",
       "        vertical-align: middle;\n",
       "    }\n",
       "\n",
       "    .dataframe tbody tr th {\n",
       "        vertical-align: top;\n",
       "    }\n",
       "\n",
       "    .dataframe thead th {\n",
       "        text-align: right;\n",
       "    }\n",
       "</style>\n",
       "<table border=\"1\" class=\"dataframe\">\n",
       "  <thead>\n",
       "    <tr style=\"text-align: right;\">\n",
       "      <th></th>\n",
       "      <th>ssp370</th>\n",
       "      <th>ssp370-lowNTCF-aerchemmip</th>\n",
       "      <th>ssp370-lowNTCF-gidden</th>\n",
       "    </tr>\n",
       "    <tr>\n",
       "      <th></th>\n",
       "      <th></th>\n",
       "      <th></th>\n",
       "      <th></th>\n",
       "    </tr>\n",
       "  </thead>\n",
       "  <tbody>\n",
       "    <tr>\n",
       "      <th>Total</th>\n",
       "      <td>3.39964</td>\n",
       "      <td>3.54998</td>\n",
       "      <td>2.81364</td>\n",
       "    </tr>\n",
       "  </tbody>\n",
       "</table>\n",
       "</div>"
      ],
      "text/plain": [
       "        ssp370 ssp370-lowNTCF-aerchemmip ssp370-lowNTCF-gidden\n",
       "                                                              \n",
       "Total  3.39964                   3.54998               2.81364"
      ]
     },
     "execution_count": 197,
     "metadata": {},
     "output_type": "execute_result"
    }
   ],
   "source": [
    "tabel_dT_anthrop.loc[yr,scenario_370]"
   ]
  },
  {
   "cell_type": "code",
   "execution_count": 198,
   "metadata": {},
   "outputs": [
    {
     "data": {
      "image/png": "[encoded data removed]",
      "text/plain": [
       "<Figure size 864x216 with 2 Axes>"
      ]
     },
     "metadata": {
      "needs_background": "light"
     },
     "output_type": "display_data"
    }
   ],
   "source": [
    "from ar6_ch6_rcmipfigs.constants import RESULTS_DIR\n",
    "from matplotlib.ticker import (MultipleLocator)\n",
    "import matplotlib.pyplot as plt\n",
    "\n",
    "fig, axs = plt.subplots(1, len(years), figsize=[12, 3], sharex=False, sharey=True)\n",
    "tits = ['Near Term surface temperature change (2040 relative to 2021)',\n",
    "        'Long Term surface T change 2100 relatie to 2021)']\n",
    "tits = ['Change in GSAT in 2040 relative to 2021', 'Change in GSAT in 2100 relative to 2021']\n",
    "for yr, ax, tit in zip(years, axs, tits):\n",
    "    ntot = 'Scenario total'\n",
    "    tot_yr = tabel_dT_anthrop.loc[yr, scenario_370].rename({'Total': ntot, 'ssp370-lowNTCF-aerchemmip': 'ssp370-lowNTCF\\n-aerchemmip'})\n",
    "    tot_sd_yr = yerr_tot.loc[yr, scenario_370].rename({'Total': ntot, 'ssp370-lowNTCF-aerchemmip': 'ssp370-lowNTCF\\n-aerchemmip'})\n",
    "    # l =ax.bar(tot_yr.transpose().index, tot_yr.transpose()[ntot].values, color='k', label='Scenario total', alpha=.2, yerr=tab_tot_sd)\n",
    "    sum_yr = tabel_dT_sum_slcf.loc[yr, scenario_370].rename({'Total': ntot, 'ssp370-lowNTCF-aerchemmip': 'ssp370-lowNTCF\\n-aerchemmip'})\n",
    "    sum_sd_yr = yerr_sum.loc[yr, scenario_370].rename({'Total': ntot, 'ssp370-lowNTCF-aerchemmip': 'ssp370-lowNTCF\\n-aerchemmip'})\n",
    "    \n",
    "    ax.barh(tot_yr.transpose().index, tot_yr.transpose()[ntot].values, color='k', label='Scenario total', alpha=.2,\n",
    "            xerr=tot_sd_yr.transpose()[ntot].values,\n",
    "            error_kw=dict(ecolor='gray', lw=2, capsize=5, capthick=2))\n",
    "    ntot = 'Sum SLCFs'\n",
    "    # ax.bar(sum_yr.transpose().index, sum_yr.transpose()[ntot].values, color='r', label=ntot, alpha=.2, yerr=sum_sd_yr.transpose()[ntot].values,\n",
    "    #      error_kw=dict(ecolor='r', lw=2, capsize=0, capthick=1))\n",
    "\n",
    "    s_x = sum_yr.transpose().index\n",
    "    s_y = sum_yr.transpose()[ntot].values\n",
    "    s_err = sum_sd_yr.transpose()[ntot].values\n",
    "    ax.errorbar(s_y, s_x, xerr=s_err, label=ntot, color='k', fmt='d', linestyle=\"None\")  # ,\n",
    "    # error_kw=dict(ecolor='r', lw=2, capsize=0, capthick=1))\n",
    "\n",
    "    _tab = tabel_dT_slcfs.loc[yr, scenario_370].transpose().rename({'ssp370-lowNTCF-aerchemmip': 'ssp370-lowNTCF\\n-aerchemmip'})\n",
    "\n",
    "    a = _tab.plot(kind='barh', stacked=True, ax=ax, legend=(yr != '2040'))  # , grid=True)#stac)\n",
    "    if not yr == '2040':\n",
    "        ax.legend()  # [l],labels=['Sce!!nario total'], loc = 4)#'lower right')\n",
    "\n",
    "    ax.axvline(0, linestyle='--', color='k', alpha=0.4)\n",
    "    ax.set_title(tit)\n",
    "    ax.set_xlabel('$\\Delta$ GSAT ($^\\circ$C)')\n",
    "    ax.xaxis.set_minor_locator(MultipleLocator(.1))\n",
    "    ax.grid(axis='y', which='major')\n",
    "\n",
    "fn = RESULTS_DIR + '/figures/stack_bar_influence_years_horiz_errTot_370only.png'\n",
    "plt.tight_layout()\n",
    "ax = plt.gca()\n",
    "\n",
    "ax.tick_params(axis='y', which='minor')  # ,bottom='off')\n",
    "ax.tick_params(labelright=True, right=True, left=False)\n",
    "plt.savefig(fn, dpi=300)\n",
    "a=2\n",
    "#plt.show()"
   ]
  },
  {
   "cell_type": "markdown",
   "metadata": {},
   "source": [
    "# prosent of total:\n",
    "\n"
   ]
  },
  {
   "cell_type": "code",
   "execution_count": 199,
   "metadata": {},
   "outputs": [
    {
     "data": {
      "text/html": [
       "<div>\n",
       "<style scoped>\n",
       "    .dataframe tbody tr th:only-of-type {\n",
       "        vertical-align: middle;\n",
       "    }\n",
       "\n",
       "    .dataframe tbody tr th {\n",
       "        vertical-align: top;\n",
       "    }\n",
       "\n",
       "    .dataframe thead th {\n",
       "        text-align: right;\n",
       "    }\n",
       "</style>\n",
       "<table border=\"1\" class=\"dataframe\">\n",
       "  <thead>\n",
       "    <tr style=\"text-align: right;\">\n",
       "      <th></th>\n",
       "      <th></th>\n",
       "      <th>ssp119</th>\n",
       "      <th>ssp126</th>\n",
       "      <th>ssp245</th>\n",
       "      <th>ssp370</th>\n",
       "      <th>ssp370-lowNTCF-aerchemmip</th>\n",
       "      <th>ssp370-lowNTCF-gidden</th>\n",
       "      <th>ssp585</th>\n",
       "    </tr>\n",
       "    <tr>\n",
       "      <th></th>\n",
       "      <th></th>\n",
       "      <th></th>\n",
       "      <th></th>\n",
       "      <th></th>\n",
       "      <th></th>\n",
       "      <th></th>\n",
       "      <th></th>\n",
       "      <th></th>\n",
       "    </tr>\n",
       "  </thead>\n",
       "  <tbody>\n",
       "    <tr>\n",
       "      <th>2040</th>\n",
       "      <th>Total</th>\n",
       "      <td>0.409698</td>\n",
       "      <td>0.514518</td>\n",
       "      <td>0.621916</td>\n",
       "      <td>0.728237</td>\n",
       "      <td>0.798053</td>\n",
       "      <td>0.613612</td>\n",
       "      <td>0.831031</td>\n",
       "    </tr>\n",
       "    <tr>\n",
       "      <th>2100</th>\n",
       "      <th>Total</th>\n",
       "      <td>0.0245512</td>\n",
       "      <td>0.510912</td>\n",
       "      <td>1.80734</td>\n",
       "      <td>3.39964</td>\n",
       "      <td>3.54998</td>\n",
       "      <td>2.81364</td>\n",
       "      <td>4.40707</td>\n",
       "    </tr>\n",
       "  </tbody>\n",
       "</table>\n",
       "</div>"
      ],
      "text/plain": [
       "               ssp119    ssp126    ssp245    ssp370 ssp370-lowNTCF-aerchemmip  \\\n",
       "                                                                                \n",
       "2040 Total   0.409698  0.514518  0.621916  0.728237                  0.798053   \n",
       "2100 Total  0.0245512  0.510912   1.80734   3.39964                   3.54998   \n",
       "\n",
       "           ssp370-lowNTCF-gidden    ssp585  \n",
       "                                            \n",
       "2040 Total              0.613612  0.831031  \n",
       "2100 Total               2.81364   4.40707  "
      ]
     },
     "execution_count": 199,
     "metadata": {},
     "output_type": "execute_result"
    }
   ],
   "source": [
    "tabel_dT_anthrop"
   ]
  },
  {
   "cell_type": "code",
   "execution_count": 200,
   "metadata": {},
   "outputs": [
    {
     "data": {
      "text/html": [
       "<div>\n",
       "<style scoped>\n",
       "    .dataframe tbody tr th:only-of-type {\n",
       "        vertical-align: middle;\n",
       "    }\n",
       "\n",
       "    .dataframe tbody tr th {\n",
       "        vertical-align: top;\n",
       "    }\n",
       "\n",
       "    .dataframe thead th {\n",
       "        text-align: right;\n",
       "    }\n",
       "</style>\n",
       "<table border=\"1\" class=\"dataframe\">\n",
       "  <thead>\n",
       "    <tr style=\"text-align: right;\">\n",
       "      <th></th>\n",
       "      <th></th>\n",
       "      <th>ssp119</th>\n",
       "      <th>ssp126</th>\n",
       "      <th>ssp245</th>\n",
       "      <th>ssp370</th>\n",
       "      <th>ssp370-lowNTCF-aerchemmip</th>\n",
       "      <th>ssp370-lowNTCF-gidden</th>\n",
       "      <th>ssp585</th>\n",
       "    </tr>\n",
       "    <tr>\n",
       "      <th></th>\n",
       "      <th></th>\n",
       "      <th></th>\n",
       "      <th></th>\n",
       "      <th></th>\n",
       "      <th></th>\n",
       "      <th></th>\n",
       "      <th></th>\n",
       "      <th></th>\n",
       "    </tr>\n",
       "  </thead>\n",
       "  <tbody>\n",
       "    <tr>\n",
       "      <th rowspan=\"5\" valign=\"top\">2040</th>\n",
       "      <th>CH4</th>\n",
       "      <td>-0.0447013</td>\n",
       "      <td>-0.0291883</td>\n",
       "      <td>0.0486324</td>\n",
       "      <td>0.0917135</td>\n",
       "      <td>0.0917135</td>\n",
       "      <td>-0.0505624</td>\n",
       "      <td>0.0741541</td>\n",
       "    </tr>\n",
       "    <tr>\n",
       "      <th>Aerosols</th>\n",
       "      <td>0.262955</td>\n",
       "      <td>0.205296</td>\n",
       "      <td>0.0611389</td>\n",
       "      <td>-0.0186025</td>\n",
       "      <td>0.105429</td>\n",
       "      <td>0.106122</td>\n",
       "      <td>0.0791586</td>\n",
       "    </tr>\n",
       "    <tr>\n",
       "      <th>Tropospheric Ozone</th>\n",
       "      <td>-0.0839045</td>\n",
       "      <td>-0.056743</td>\n",
       "      <td>0.00156772</td>\n",
       "      <td>0.0413476</td>\n",
       "      <td>-0.00538849</td>\n",
       "      <td>-0.0412995</td>\n",
       "      <td>0.0257412</td>\n",
       "    </tr>\n",
       "    <tr>\n",
       "      <th>HFC</th>\n",
       "      <td>0.00582878</td>\n",
       "      <td>0.0185408</td>\n",
       "      <td>0.0306454</td>\n",
       "      <td>0.0286523</td>\n",
       "      <td>0.0286523</td>\n",
       "      <td>0.0286542</td>\n",
       "      <td>0.0455577</td>\n",
       "    </tr>\n",
       "    <tr>\n",
       "      <th>BC on Snow</th>\n",
       "      <td>-0.0190398</td>\n",
       "      <td>-0.0158591</td>\n",
       "      <td>-0.00571875</td>\n",
       "      <td>0.00619175</td>\n",
       "      <td>-0.00629107</td>\n",
       "      <td>-0.00637372</td>\n",
       "      <td>-0.00305192</td>\n",
       "    </tr>\n",
       "    <tr>\n",
       "      <th rowspan=\"5\" valign=\"top\">2100</th>\n",
       "      <th>CH4</th>\n",
       "      <td>-0.21796</td>\n",
       "      <td>-0.206977</td>\n",
       "      <td>-0.00702949</td>\n",
       "      <td>0.362437</td>\n",
       "      <td>0.362437</td>\n",
       "      <td>-0.170351</td>\n",
       "      <td>0.193089</td>\n",
       "    </tr>\n",
       "    <tr>\n",
       "      <th>Aerosols</th>\n",
       "      <td>0.378002</td>\n",
       "      <td>0.382743</td>\n",
       "      <td>0.229839</td>\n",
       "      <td>-0.0124726</td>\n",
       "      <td>0.239401</td>\n",
       "      <td>0.242435</td>\n",
       "      <td>0.164572</td>\n",
       "    </tr>\n",
       "    <tr>\n",
       "      <th>Tropospheric Ozone</th>\n",
       "      <td>-0.168869</td>\n",
       "      <td>-0.158057</td>\n",
       "      <td>-0.065602</td>\n",
       "      <td>0.106714</td>\n",
       "      <td>0.0202453</td>\n",
       "      <td>-0.11613</td>\n",
       "      <td>0.0191433</td>\n",
       "    </tr>\n",
       "    <tr>\n",
       "      <th>HFC</th>\n",
       "      <td>-0.00500177</td>\n",
       "      <td>-0.00222552</td>\n",
       "      <td>0.0646217</td>\n",
       "      <td>0.109127</td>\n",
       "      <td>0.109127</td>\n",
       "      <td>0.0942153</td>\n",
       "      <td>0.251827</td>\n",
       "    </tr>\n",
       "    <tr>\n",
       "      <th>BC on Snow</th>\n",
       "      <td>-0.0285351</td>\n",
       "      <td>-0.0257577</td>\n",
       "      <td>-0.0209888</td>\n",
       "      <td>0.0113509</td>\n",
       "      <td>-0.0118344</td>\n",
       "      <td>-0.0126836</td>\n",
       "      <td>-0.00593702</td>\n",
       "    </tr>\n",
       "  </tbody>\n",
       "</table>\n",
       "</div>"
      ],
      "text/plain": [
       "                             ssp119      ssp126      ssp245      ssp370  \\\n",
       "                                                                          \n",
       "2040 CH4                 -0.0447013  -0.0291883   0.0486324   0.0917135   \n",
       "     Aerosols              0.262955    0.205296   0.0611389  -0.0186025   \n",
       "     Tropospheric Ozone  -0.0839045   -0.056743  0.00156772   0.0413476   \n",
       "     HFC                 0.00582878   0.0185408   0.0306454   0.0286523   \n",
       "     BC on Snow          -0.0190398  -0.0158591 -0.00571875  0.00619175   \n",
       "2100 CH4                   -0.21796   -0.206977 -0.00702949    0.362437   \n",
       "     Aerosols              0.378002    0.382743    0.229839  -0.0124726   \n",
       "     Tropospheric Ozone   -0.168869   -0.158057   -0.065602    0.106714   \n",
       "     HFC                -0.00500177 -0.00222552   0.0646217    0.109127   \n",
       "     BC on Snow          -0.0285351  -0.0257577  -0.0209888   0.0113509   \n",
       "\n",
       "                        ssp370-lowNTCF-aerchemmip ssp370-lowNTCF-gidden  \\\n",
       "                                                                          \n",
       "2040 CH4                                0.0917135            -0.0505624   \n",
       "     Aerosols                            0.105429              0.106122   \n",
       "     Tropospheric Ozone               -0.00538849            -0.0412995   \n",
       "     HFC                                0.0286523             0.0286542   \n",
       "     BC on Snow                       -0.00629107           -0.00637372   \n",
       "2100 CH4                                 0.362437             -0.170351   \n",
       "     Aerosols                            0.239401              0.242435   \n",
       "     Tropospheric Ozone                 0.0202453              -0.11613   \n",
       "     HFC                                 0.109127             0.0942153   \n",
       "     BC on Snow                        -0.0118344            -0.0126836   \n",
       "\n",
       "                             ssp585  \n",
       "                                     \n",
       "2040 CH4                  0.0741541  \n",
       "     Aerosols             0.0791586  \n",
       "     Tropospheric Ozone   0.0257412  \n",
       "     HFC                  0.0455577  \n",
       "     BC on Snow         -0.00305192  \n",
       "2100 CH4                   0.193089  \n",
       "     Aerosols              0.164572  \n",
       "     Tropospheric Ozone   0.0191433  \n",
       "     HFC                   0.251827  \n",
       "     BC on Snow         -0.00593702  "
      ]
     },
     "execution_count": 200,
     "metadata": {},
     "output_type": "execute_result"
    }
   ],
   "source": [
    "tabel_dT_slcfs"
   ]
  },
  {
   "cell_type": "code",
   "execution_count": 201,
   "metadata": {},
   "outputs": [
    {
     "data": {
      "text/html": [
       "<div>\n",
       "<style scoped>\n",
       "    .dataframe tbody tr th:only-of-type {\n",
       "        vertical-align: middle;\n",
       "    }\n",
       "\n",
       "    .dataframe tbody tr th {\n",
       "        vertical-align: top;\n",
       "    }\n",
       "\n",
       "    .dataframe thead th {\n",
       "        text-align: right;\n",
       "    }\n",
       "</style>\n",
       "<table border=\"1\" class=\"dataframe\">\n",
       "  <thead>\n",
       "    <tr style=\"text-align: right;\">\n",
       "      <th></th>\n",
       "      <th></th>\n",
       "      <th>ssp119</th>\n",
       "      <th>ssp126</th>\n",
       "      <th>ssp245</th>\n",
       "      <th>ssp370</th>\n",
       "      <th>ssp370-lowNTCF-aerchemmip</th>\n",
       "      <th>ssp370-lowNTCF-gidden</th>\n",
       "      <th>ssp585</th>\n",
       "    </tr>\n",
       "    <tr>\n",
       "      <th></th>\n",
       "      <th></th>\n",
       "      <th></th>\n",
       "      <th></th>\n",
       "      <th></th>\n",
       "      <th></th>\n",
       "      <th></th>\n",
       "      <th></th>\n",
       "      <th></th>\n",
       "    </tr>\n",
       "  </thead>\n",
       "  <tbody>\n",
       "    <tr>\n",
       "      <th>2040</th>\n",
       "      <th>Sum SLCFs</th>\n",
       "      <td>0.12113768163025361</td>\n",
       "      <td>0.12204675645646818</td>\n",
       "      <td>0.13626564724821078</td>\n",
       "      <td>0.14930274397448162</td>\n",
       "      <td>0.21411576918531927</td>\n",
       "      <td>0.036540477925460564</td>\n",
       "      <td>0.22155965866487787</td>\n",
       "    </tr>\n",
       "    <tr>\n",
       "      <th>2100</th>\n",
       "      <th>Sum SLCFs</th>\n",
       "      <td>-0.04236441172655865</td>\n",
       "      <td>-0.010273078419766678</td>\n",
       "      <td>0.20084007345336521</td>\n",
       "      <td>0.5771562749011422</td>\n",
       "      <td>0.7193754374814196</td>\n",
       "      <td>0.03748543344928557</td>\n",
       "      <td>0.6226940927425837</td>\n",
       "    </tr>\n",
       "  </tbody>\n",
       "</table>\n",
       "</div>"
      ],
      "text/plain": [
       "                              ssp119                 ssp126  \\\n",
       "                                                              \n",
       "2040 Sum SLCFs   0.12113768163025361    0.12204675645646818   \n",
       "2100 Sum SLCFs  -0.04236441172655865  -0.010273078419766678   \n",
       "\n",
       "                             ssp245               ssp370  \\\n",
       "                                                           \n",
       "2040 Sum SLCFs  0.13626564724821078  0.14930274397448162   \n",
       "2100 Sum SLCFs  0.20084007345336521   0.5771562749011422   \n",
       "\n",
       "               ssp370-lowNTCF-aerchemmip ssp370-lowNTCF-gidden  \\\n",
       "                                                                 \n",
       "2040 Sum SLCFs       0.21411576918531927  0.036540477925460564   \n",
       "2100 Sum SLCFs        0.7193754374814196   0.03748543344928557   \n",
       "\n",
       "                             ssp585  \n",
       "                                     \n",
       "2040 Sum SLCFs  0.22155965866487787  \n",
       "2100 Sum SLCFs   0.6226940927425837  "
      ]
     },
     "execution_count": 201,
     "metadata": {},
     "output_type": "execute_result"
    }
   ],
   "source": [
    "tabel_dT_sum_slcf"
   ]
  },
  {
   "cell_type": "code",
   "execution_count": 202,
   "metadata": {},
   "outputs": [
    {
     "data": {
      "text/html": [
       "<div>\n",
       "<style scoped>\n",
       "    .dataframe tbody tr th:only-of-type {\n",
       "        vertical-align: middle;\n",
       "    }\n",
       "\n",
       "    .dataframe tbody tr th {\n",
       "        vertical-align: top;\n",
       "    }\n",
       "\n",
       "    .dataframe thead th {\n",
       "        text-align: right;\n",
       "    }\n",
       "</style>\n",
       "<table border=\"1\" class=\"dataframe\">\n",
       "  <thead>\n",
       "    <tr style=\"text-align: right;\">\n",
       "      <th></th>\n",
       "      <th></th>\n",
       "      <th>ssp119</th>\n",
       "      <th>ssp126</th>\n",
       "      <th>ssp245</th>\n",
       "      <th>ssp370</th>\n",
       "      <th>ssp370-lowNTCF-aerchemmip</th>\n",
       "      <th>ssp370-lowNTCF-gidden</th>\n",
       "      <th>ssp585</th>\n",
       "    </tr>\n",
       "    <tr>\n",
       "      <th></th>\n",
       "      <th></th>\n",
       "      <th></th>\n",
       "      <th></th>\n",
       "      <th></th>\n",
       "      <th></th>\n",
       "      <th></th>\n",
       "      <th></th>\n",
       "      <th></th>\n",
       "    </tr>\n",
       "  </thead>\n",
       "  <tbody>\n",
       "    <tr>\n",
       "      <th>2040</th>\n",
       "      <th>Total SLCFs</th>\n",
       "      <td>29.5675</td>\n",
       "      <td>23.7206</td>\n",
       "      <td>21.9106</td>\n",
       "      <td>20.502</td>\n",
       "      <td>26.8298</td>\n",
       "      <td>5.95498</td>\n",
       "      <td>26.6608</td>\n",
       "    </tr>\n",
       "    <tr>\n",
       "      <th>2100</th>\n",
       "      <th>Total SLCFs</th>\n",
       "      <td>-172.556</td>\n",
       "      <td>-2.01073</td>\n",
       "      <td>11.1125</td>\n",
       "      <td>16.977</td>\n",
       "      <td>20.2642</td>\n",
       "      <td>1.33227</td>\n",
       "      <td>14.1294</td>\n",
       "    </tr>\n",
       "  </tbody>\n",
       "</table>\n",
       "</div>"
      ],
      "text/plain": [
       "                   ssp119   ssp126   ssp245  ssp370 ssp370-lowNTCF-aerchemmip  \\\n",
       "                                                                                \n",
       "2040 Total SLCFs  29.5675  23.7206  21.9106  20.502                   26.8298   \n",
       "2100 Total SLCFs -172.556 -2.01073  11.1125  16.977                   20.2642   \n",
       "\n",
       "                 ssp370-lowNTCF-gidden   ssp585  \n",
       "                                                 \n",
       "2040 Total SLCFs               5.95498  26.6608  \n",
       "2100 Total SLCFs               1.33227  14.1294  "
      ]
     },
     "execution_count": 202,
     "metadata": {},
     "output_type": "execute_result"
    }
   ],
   "source": [
    "slcf_pct_tot"
   ]
  },
  {
   "cell_type": "code",
   "execution_count": 203,
   "metadata": {},
   "outputs": [],
   "source": [
    "vn_slct_tot = 'Total SLCFs'\n",
    "slcf_pct_tot = setup_table_prop(variabs=[vn_slct_tot])\n",
    "comp_pct_totslcf = setup_table_prop()\n",
    "for yr in years:\n",
    "        slc_sum = tabel_dT_sum_slcf.loc[(yr, 'Sum SLCFs')]\n",
    "        tot = tabel_dT_anthrop.loc[(yr, 'Total')] \n",
    "        slcf_pct_tot.loc[(yr, vn_slct_tot)] = (slc_sum)/tot*100\n",
    "        \n",
    "        # comp_pct_tot:\n",
    "        for scn in scenarios_nhist:\n",
    "            slcf = tabel_dT_slcfs.loc[(yr)][scn]\n",
    "            comp_pct_totslcf.loc[yr, scn] = slcf.values/tot[scn]*100"
   ]
  },
  {
   "cell_type": "code",
   "execution_count": 204,
   "metadata": {},
   "outputs": [
    {
     "data": {
      "text/html": [
       "<div>\n",
       "<style scoped>\n",
       "    .dataframe tbody tr th:only-of-type {\n",
       "        vertical-align: middle;\n",
       "    }\n",
       "\n",
       "    .dataframe tbody tr th {\n",
       "        vertical-align: top;\n",
       "    }\n",
       "\n",
       "    .dataframe thead th {\n",
       "        text-align: right;\n",
       "    }\n",
       "</style>\n",
       "<table border=\"1\" class=\"dataframe\">\n",
       "  <thead>\n",
       "    <tr style=\"text-align: right;\">\n",
       "      <th></th>\n",
       "      <th></th>\n",
       "      <th>ssp119</th>\n",
       "      <th>ssp126</th>\n",
       "      <th>ssp245</th>\n",
       "      <th>ssp370</th>\n",
       "      <th>ssp370-lowNTCF-aerchemmip</th>\n",
       "      <th>ssp370-lowNTCF-gidden</th>\n",
       "      <th>ssp585</th>\n",
       "    </tr>\n",
       "    <tr>\n",
       "      <th></th>\n",
       "      <th></th>\n",
       "      <th></th>\n",
       "      <th></th>\n",
       "      <th></th>\n",
       "      <th></th>\n",
       "      <th></th>\n",
       "      <th></th>\n",
       "      <th></th>\n",
       "    </tr>\n",
       "  </thead>\n",
       "  <tbody>\n",
       "    <tr>\n",
       "      <th>2040</th>\n",
       "      <th>Sum SLCFs</th>\n",
       "      <td>0.12113768163025361</td>\n",
       "      <td>0.12204675645646818</td>\n",
       "      <td>0.13626564724821078</td>\n",
       "      <td>0.14930274397448162</td>\n",
       "      <td>0.21411576918531927</td>\n",
       "      <td>0.036540477925460564</td>\n",
       "      <td>0.22155965866487787</td>\n",
       "    </tr>\n",
       "    <tr>\n",
       "      <th>2100</th>\n",
       "      <th>Sum SLCFs</th>\n",
       "      <td>-0.04236441172655865</td>\n",
       "      <td>-0.010273078419766678</td>\n",
       "      <td>0.20084007345336521</td>\n",
       "      <td>0.5771562749011422</td>\n",
       "      <td>0.7193754374814196</td>\n",
       "      <td>0.03748543344928557</td>\n",
       "      <td>0.6226940927425837</td>\n",
       "    </tr>\n",
       "  </tbody>\n",
       "</table>\n",
       "</div>"
      ],
      "text/plain": [
       "                              ssp119                 ssp126  \\\n",
       "                                                              \n",
       "2040 Sum SLCFs   0.12113768163025361    0.12204675645646818   \n",
       "2100 Sum SLCFs  -0.04236441172655865  -0.010273078419766678   \n",
       "\n",
       "                             ssp245               ssp370  \\\n",
       "                                                           \n",
       "2040 Sum SLCFs  0.13626564724821078  0.14930274397448162   \n",
       "2100 Sum SLCFs  0.20084007345336521   0.5771562749011422   \n",
       "\n",
       "               ssp370-lowNTCF-aerchemmip ssp370-lowNTCF-gidden  \\\n",
       "                                                                 \n",
       "2040 Sum SLCFs       0.21411576918531927  0.036540477925460564   \n",
       "2100 Sum SLCFs        0.7193754374814196   0.03748543344928557   \n",
       "\n",
       "                             ssp585  \n",
       "                                     \n",
       "2040 Sum SLCFs  0.22155965866487787  \n",
       "2100 Sum SLCFs   0.6226940927425837  "
      ]
     },
     "execution_count": 204,
     "metadata": {},
     "output_type": "execute_result"
    }
   ],
   "source": [
    "tabel_dT_sum_slcf"
   ]
  },
  {
   "cell_type": "code",
   "execution_count": 213,
   "metadata": {},
   "outputs": [
    {
     "data": {
      "image/png": "[encoded data removed]",
      "text/plain": [
       "<Figure size 864x432 with 2 Axes>"
      ]
     },
     "metadata": {
      "needs_background": "light"
     },
     "output_type": "display_data"
    }
   ],
   "source": [
    "from ar6_ch6_rcmipfigs.constants import RESULTS_DIR\n",
    "from matplotlib.ticker import (MultipleLocator)\n",
    "import matplotlib.pyplot as plt\n",
    "\n",
    "fig, axs = plt.subplots(1, len(years), figsize=[12, 6], sharex=False, sharey=True)\n",
    "tits = ['Near Term surface temperature change (2040 relative to 2021)',\n",
    "        'Long Term surface T change 2100 relatie to 2021)']\n",
    "tits = ['Change in GSAT in 2040 relative to 2021', 'Change in GSAT in 2100 relative to 2021']\n",
    "for yr, ax, tit in zip(years, axs, tits):\n",
    "    ntot = 'Scenario total'\n",
    "    #tot_yr = tabel_dT_anthrop.loc[yr].rename({'Total': ntot, 'ssp370-lowNTCF-aerchemmip': 'ssp370-lowNTCF\\n-aerchemmip'})\n",
    "    #tot_sd_yr = yerr_tot.loc[yr].rename({'Total': ntot, 'ssp370-lowNTCF-aerchemmip': 'ssp370-lowNTCF\\n-aerchemmip'})\n",
    "    \n",
    "    sum_yr_pcd = slcf_pct_tot.loc[yr].rename({'Total SLCFs': ntot, 'ssp370-lowNTCF-aerchemmip': 'ssp370-lowNTCF\\n-aerchemmip'})\n",
    "    #sum_sd_yr = yerr_sum.loc[yr].rename({'Total': ntot, 'ssp370-lowNTCF-aerchemmip': 'ssp370-lowNTCF\\n-aerchemmip'})\n",
    "    ax.barh(sum_yr_pcd.transpose().index, sum_yr_pcd.transpose()[ntot].values, color='blue', label='Scenario total', alpha=.9,\n",
    "            #xerr=tot_sd_yr.transpose()[ntot].values,\n",
    "            error_kw=dict(ecolor='gray', lw=2, capsize=5, capthick=2))\n",
    "    ntot = 'Sum SLCFs'\n",
    "    # ax.bar(sum_yr.transpose().index, sum_yr.transpose()[ntot].values, color='r', label=ntot, alpha=.2, yerr=sum_sd_yr.transpose()[ntot].values,\n",
    "    #      error_kw=dict(ecolor='r', lw=2, capsize=0, capthick=1))\n",
    "\n",
    "    #s_x = sum_yr.transpose().index\n",
    "    #s_y = sum_yr.transpose()[ntot].values\n",
    "    #s_err = sum_sd_yr.transpose()[ntot].values\n",
    "    #ax.errorbar(s_y, s_x, xerr=s_err, label=ntot, color='k', fmt='d', linestyle=\"None\")  # ,\n",
    "    # error_kw=dict(ecolor='r', lw=2, capsize=0, capthick=1))\n",
    "\n",
    "    _tab = comp_pct_totslcf.loc[yr].transpose().rename({'ssp370-lowNTCF-aerchemmip': 'ssp370-lowNTCF\\n-aerchemmip'})\n",
    "\n",
    "    #a = _tab.plot(kind='barh', stacked=True, ax=ax, legend=(yr != '2040'))  # , grid=True)#stac)\n",
    "    if not yr == '2040':\n",
    "        ax.legend()  # [l],labels=['Sce!!nario total'], loc = 4)#'lower right')\n",
    "\n",
    "    #ax.axvline(0, linestyle='--', color='k', alpha=0.4)\n",
    "    #ax.set_title(tit)\n",
    "    ax.set_xlabel('% of total change GSAT scenario change')\n",
    "    #ax.xaxis.set_minor_locator(MultipleLocator(.1))\n",
    "    #ax.grid(axis='y', which='major')\n",
    "\n",
    "fn = RESULTS_DIR + '/figures/stack_bar_influence_years_horiz_errTot.png'\n",
    "plt.tight_layout()\n",
    "ax = plt.gca()\n",
    "\n",
    "ax.tick_params(axis='y', which='minor')  # ,bottom='off')\n",
    "ax.tick_params(labelright=True, right=True, left=False)\n",
    "plt.savefig(fn, dpi=300)"
   ]
  },
  {
   "cell_type": "code",
   "execution_count": null,
   "metadata": {},
   "outputs": [],
   "source": []
  },
  {
   "cell_type": "code",
   "execution_count": 186,
   "metadata": {},
   "outputs": [],
   "source": [
    "plt.show()"
   ]
  },
  {
   "cell_type": "markdown",
   "metadata": {},
   "source": [
    "- De vi allerede har.\n",
    "\n",
    "Hvis vi skulle lagt til usikkerhet?\n",
    "- Ville lagt til usikkerhet gjennom ECS -- \n",
    "    - Regne ut de samme tallene for 3 verdier av ECS. \n",
    "    - Monte carlo trekk med en fordeling på ECS. \n",
    "    - "
   ]
  }
 ],
 "metadata": {
  "ipub": {
   "bibliography": "IPCC_terje.bib",
   "biboptions": [
    "super",
    "sort"
   ],
   "bibstyle": "unsrtnat"
  },
  "jupytext": {
   "encoding": "# -*- coding: utf-8 -*-",
   "text_representation": {
    "extension": ".py",
    "format_name": "percent",
    "format_version": "1.3",
    "jupytext_version": "1.3.3"
   }
  },
  "kernelspec": {
   "display_name": "Python 3",
   "language": "python",
   "name": "python3"
  },
  "language_info": {
   "codemirror_mode": {
    "name": "ipython",
    "version": 3
   },
   "file_extension": ".py",
   "mimetype": "text/x-python",
   "name": "python",
   "nbconvert_exporter": "python",
   "pygments_lexer": "ipython3",
   "version": "3.7.6"
  },
  "latex_metadata": {
   "author": "Sara Blichner, T. K. Berntsen",
   "bibliography": "IPCC_terje",
   "bibstyle": "plain",
   "title": "Comparison of temperature response for various climate gases"
  },
  "pycharm": {
   "stem_cell": {
    "cell_type": "raw",
    "metadata": {
     "collapsed": false
    },
    "source": []
   }
  }
 },
 "nbformat": 4,
 "nbformat_minor": 4
}
