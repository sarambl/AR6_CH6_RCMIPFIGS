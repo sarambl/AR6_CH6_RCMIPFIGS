{
 "cells": [
  {
   "cell_type": "markdown",
   "metadata": {},
   "source": [
    "## Make plot ERF 2019"
   ]
  },
  {
   "cell_type": "code",
   "execution_count": 1,
   "metadata": {
    "lines_to_next_cell": 2
   },
   "outputs": [
    {
     "data": {
      "application/javascript": [
       "IPython.OutputArea.prototype._should_scroll = function(lines) { return false; }"
      ],
      "text/plain": [
       "<IPython.core.display.Javascript object>"
      ]
     },
     "metadata": {},
     "output_type": "display_data"
    },
    {
     "name": "stdout",
     "output_type": "stream",
     "text": [
      "/home/sarambl/PHD/IPCC/public/AR6_CH6_RCMIPFIGSv2/ar6_ch6_rcmipfigs\n",
      "/home/sarambl/PHD/IPCC/public/AR6_CH6_RCMIPFIGSv2/ar6_ch6_rcmipfigs/data_in\n",
      "hallo\n"
     ]
    }
   ],
   "source": [
    "import pandas as pd\n",
    "import numpy.testing\n",
    "from numpy.testing import assert_allclose\n",
    "from ar6_ch6_rcmipfigs.utils.plot import get_chem_col\n",
    "from ar6_ch6_rcmipfigs.constants import RESULTS_DIR, INPUT_DATA_DIR\n",
    "from pathlib import  Path\n",
    "import numpy as np\n",
    "import matplotlib.pyplot as plt"
   ]
  },
  {
   "cell_type": "markdown",
   "metadata": {},
   "source": [
    "## Get tables from script from Bill"
   ]
  },
  {
   "cell_type": "code",
   "execution_count": 2,
   "metadata": {},
   "outputs": [],
   "source": [
    "from ar6_ch6_rcmipfigs.notebooks.ERF_hist_attribution import attribution_1750_2019_v2_smb"
   ]
  },
  {
   "cell_type": "code",
   "execution_count": 3,
   "metadata": {},
   "outputs": [
    {
     "name": "stdout",
     "output_type": "stream",
     "text": [
      "[2.05755418 0.         0.         0.         0.         0.\n",
      " 0.         0.         0.         0.        ]\n",
      "(0.9568627450980393, 0.796078431372549, 0.21176470588235294)\n",
      "(0.30980392156862746, 0.3215686274509804, 0.7176470588235294)\n",
      "(1.0, 0.4196078431372549, 0.07450980392156863)\n",
      "(0.5254901960784314, 0.7803921568627451, 0.29411764705882354)\n",
      "(0.47843137254901963, 0.5058823529411764, 0.5058823529411764)\n",
      "(0.792156862745098, 0.6980392156862745, 0.8392156862745098)\n"
     ]
    },
    {
     "name": "stderr",
     "output_type": "stream",
     "text": [
      "/home/sarambl/PHD/IPCC/public/AR6_CH6_RCMIPFIGSv2/ar6_ch6_rcmipfigs/notebooks/ERF_hist_attribution/attribution_1750_2019_v2_smb.py:92: RuntimeWarning: invalid value encountered in true_divide\n",
      "  ch4_sd = (ch4-ch4_2014)*lifech4_sd/lifech4\n"
     ]
    },
    {
     "name": "stdout",
     "output_type": "stream",
     "text": [
      "(0.5607843137254902, 0.0, 0.6470588235294118)\n",
      "(1.0, 0.4196078431372549, 0.07450980392156863)\n",
      "(0.5254901960784314, 0.7803921568627451, 0.29411764705882354)\n",
      "(0.792156862745098, 0.6980392156862745, 0.8392156862745098)\n",
      "(0.5607843137254902, 0.0, 0.6470588235294118)\n"
     ]
    },
    {
     "data": {
      "image/png": "[encoded data removed]",
      "text/plain": [
       "<Figure size 432x288 with 1 Axes>"
      ]
     },
     "metadata": {
      "needs_background": "light"
     },
     "output_type": "display_data"
    }
   ],
   "source": [
    "table, table_sd = attribution_1750_2019_v2_smb.main(plot=True)"
   ]
  },
  {
   "cell_type": "code",
   "execution_count": 4,
   "metadata": {},
   "outputs": [
    {
     "data": {
      "text/plain": [
       "CO2             2.144647\n",
       "GHG             0.620000\n",
       "CH4_lifetime    0.540000\n",
       "O3              0.480930\n",
       "O3_prime       -0.010930\n",
       "Strat_H2O       0.050000\n",
       "Aerosol        -0.220000\n",
       "Cloud          -0.803708\n",
       "Total           2.800939\n",
       "dtype: float64"
      ]
     },
     "execution_count": 4,
     "metadata": {},
     "output_type": "execute_result"
    }
   ],
   "source": [
    "table.sum()#_sd"
   ]
  },
  {
   "cell_type": "code",
   "execution_count": 5,
   "metadata": {},
   "outputs": [],
   "source": [
    "import matplotlib.pyplot as plt\n",
    "import numpy as np"
   ]
  },
  {
   "cell_type": "markdown",
   "metadata": {},
   "source": [
    "## Scale cloud forcing to fit mest estimate 0.84"
   ]
  },
  {
   "cell_type": "code",
   "execution_count": 6,
   "metadata": {
    "lines_to_next_cell": 2
   },
   "outputs": [
    {
     "data": {
      "text/plain": [
       "CO2             2.144647\n",
       "GHG             0.620000\n",
       "CH4_lifetime    0.540000\n",
       "O3              0.480930\n",
       "O3_prime       -0.010930\n",
       "Strat_H2O       0.050000\n",
       "Aerosol        -0.220000\n",
       "Cloud          -0.840000\n",
       "Total           2.800939\n",
       "dtype: float64"
      ]
     },
     "execution_count": 6,
     "metadata": {},
     "output_type": "execute_result"
    }
   ],
   "source": [
    "table_c = table.copy()\n",
    "correct_cloud_forcing = -0.84\n",
    "scale_fac = correct_cloud_forcing/table.sum()['Cloud']\n",
    "table_c['Cloud']=scale_fac*table['Cloud']\n",
    "table_c.sum()"
   ]
  },
  {
   "cell_type": "markdown",
   "metadata": {},
   "source": [
    "## Add together O3 primary and O3"
   ]
  },
  {
   "cell_type": "code",
   "execution_count": 7,
   "metadata": {},
   "outputs": [],
   "source": [
    "o3_sum = table_c['O3']+table_c['O3_prime']\n",
    "tab2 = table_c.copy(deep=True).drop(['O3','O3_prime','Total'], axis=1)\n",
    "tab2['O3'] = o3_sum"
   ]
  },
  {
   "cell_type": "markdown",
   "metadata": {},
   "source": [
    "## Replace GHG with N2O and HC"
   ]
  },
  {
   "cell_type": "code",
   "execution_count": 8,
   "metadata": {},
   "outputs": [
    {
     "data": {
      "text/html": [
       "<div>\n",
       "<style scoped>\n",
       "    .dataframe tbody tr th:only-of-type {\n",
       "        vertical-align: middle;\n",
       "    }\n",
       "\n",
       "    .dataframe tbody tr th {\n",
       "        vertical-align: top;\n",
       "    }\n",
       "\n",
       "    .dataframe thead th {\n",
       "        text-align: right;\n",
       "    }\n",
       "</style>\n",
       "<table border=\"1\" class=\"dataframe\">\n",
       "  <thead>\n",
       "    <tr style=\"text-align: right;\">\n",
       "      <th></th>\n",
       "      <th>CO2</th>\n",
       "      <th>CH4_lifetime</th>\n",
       "      <th>Strat_H2O</th>\n",
       "      <th>Aerosol</th>\n",
       "      <th>Cloud</th>\n",
       "      <th>O3</th>\n",
       "      <th>HC</th>\n",
       "      <th>N2O</th>\n",
       "    </tr>\n",
       "    <tr>\n",
       "      <th>Species</th>\n",
       "      <th></th>\n",
       "      <th></th>\n",
       "      <th></th>\n",
       "      <th></th>\n",
       "      <th></th>\n",
       "      <th></th>\n",
       "      <th></th>\n",
       "      <th></th>\n",
       "    </tr>\n",
       "  </thead>\n",
       "  <tbody>\n",
       "    <tr>\n",
       "      <th>CO2</th>\n",
       "      <td>2.057554</td>\n",
       "      <td>0.000000</td>\n",
       "      <td>0.00</td>\n",
       "      <td>0.000000</td>\n",
       "      <td>0.000000</td>\n",
       "      <td>0.000000</td>\n",
       "      <td>0.00</td>\n",
       "      <td>0.00</td>\n",
       "    </tr>\n",
       "    <tr>\n",
       "      <th>CH4</th>\n",
       "      <td>0.017549</td>\n",
       "      <td>0.844457</td>\n",
       "      <td>0.05</td>\n",
       "      <td>-0.003448</td>\n",
       "      <td>0.018421</td>\n",
       "      <td>0.279179</td>\n",
       "      <td>0.00</td>\n",
       "      <td>0.00</td>\n",
       "    </tr>\n",
       "    <tr>\n",
       "      <th>N2O</th>\n",
       "      <td>0.000000</td>\n",
       "      <td>-0.035967</td>\n",
       "      <td>0.00</td>\n",
       "      <td>-0.002717</td>\n",
       "      <td>0.042503</td>\n",
       "      <td>0.024311</td>\n",
       "      <td>0.00</td>\n",
       "      <td>0.21</td>\n",
       "    </tr>\n",
       "    <tr>\n",
       "      <th>HC</th>\n",
       "      <td>0.000053</td>\n",
       "      <td>-0.050927</td>\n",
       "      <td>0.00</td>\n",
       "      <td>-0.010501</td>\n",
       "      <td>-0.017419</td>\n",
       "      <td>-0.164586</td>\n",
       "      <td>0.41</td>\n",
       "      <td>0.00</td>\n",
       "    </tr>\n",
       "    <tr>\n",
       "      <th>NOx</th>\n",
       "      <td>0.000000</td>\n",
       "      <td>-0.380025</td>\n",
       "      <td>0.00</td>\n",
       "      <td>-0.011912</td>\n",
       "      <td>-0.014458</td>\n",
       "      <td>0.120237</td>\n",
       "      <td>0.00</td>\n",
       "      <td>0.00</td>\n",
       "    </tr>\n",
       "    <tr>\n",
       "      <th>VOC</th>\n",
       "      <td>0.069491</td>\n",
       "      <td>0.162462</td>\n",
       "      <td>0.00</td>\n",
       "      <td>-0.003344</td>\n",
       "      <td>0.008884</td>\n",
       "      <td>0.210860</td>\n",
       "      <td>0.00</td>\n",
       "      <td>0.00</td>\n",
       "    </tr>\n",
       "    <tr>\n",
       "      <th>SO2</th>\n",
       "      <td>0.000000</td>\n",
       "      <td>0.000000</td>\n",
       "      <td>0.00</td>\n",
       "      <td>-0.214702</td>\n",
       "      <td>-0.683985</td>\n",
       "      <td>0.000000</td>\n",
       "      <td>0.00</td>\n",
       "      <td>0.00</td>\n",
       "    </tr>\n",
       "    <tr>\n",
       "      <th>OC</th>\n",
       "      <td>0.000000</td>\n",
       "      <td>0.000000</td>\n",
       "      <td>0.00</td>\n",
       "      <td>-0.066129</td>\n",
       "      <td>-0.133067</td>\n",
       "      <td>0.000000</td>\n",
       "      <td>0.00</td>\n",
       "      <td>0.00</td>\n",
       "    </tr>\n",
       "    <tr>\n",
       "      <th>BC</th>\n",
       "      <td>0.000000</td>\n",
       "      <td>0.000000</td>\n",
       "      <td>0.00</td>\n",
       "      <td>0.123707</td>\n",
       "      <td>-0.060878</td>\n",
       "      <td>0.000000</td>\n",
       "      <td>0.00</td>\n",
       "      <td>0.00</td>\n",
       "    </tr>\n",
       "    <tr>\n",
       "      <th>NH3</th>\n",
       "      <td>0.000000</td>\n",
       "      <td>0.000000</td>\n",
       "      <td>0.00</td>\n",
       "      <td>-0.030954</td>\n",
       "      <td>0.000000</td>\n",
       "      <td>0.000000</td>\n",
       "      <td>0.00</td>\n",
       "      <td>0.00</td>\n",
       "    </tr>\n",
       "  </tbody>\n",
       "</table>\n",
       "</div>"
      ],
      "text/plain": [
       "              CO2  CH4_lifetime  Strat_H2O   Aerosol     Cloud        O3  \\\n",
       "Species                                                                    \n",
       "CO2      2.057554      0.000000       0.00  0.000000  0.000000  0.000000   \n",
       "CH4      0.017549      0.844457       0.05 -0.003448  0.018421  0.279179   \n",
       "N2O      0.000000     -0.035967       0.00 -0.002717  0.042503  0.024311   \n",
       "HC       0.000053     -0.050927       0.00 -0.010501 -0.017419 -0.164586   \n",
       "NOx      0.000000     -0.380025       0.00 -0.011912 -0.014458  0.120237   \n",
       "VOC      0.069491      0.162462       0.00 -0.003344  0.008884  0.210860   \n",
       "SO2      0.000000      0.000000       0.00 -0.214702 -0.683985  0.000000   \n",
       "OC       0.000000      0.000000       0.00 -0.066129 -0.133067  0.000000   \n",
       "BC       0.000000      0.000000       0.00  0.123707 -0.060878  0.000000   \n",
       "NH3      0.000000      0.000000       0.00 -0.030954  0.000000  0.000000   \n",
       "\n",
       "           HC   N2O  \n",
       "Species              \n",
       "CO2      0.00  0.00  \n",
       "CH4      0.00  0.00  \n",
       "N2O      0.00  0.21  \n",
       "HC       0.41  0.00  \n",
       "NOx      0.00  0.00  \n",
       "VOC      0.00  0.00  \n",
       "SO2      0.00  0.00  \n",
       "OC       0.00  0.00  \n",
       "BC       0.00  0.00  \n",
       "NH3      0.00  0.00  "
      ]
     },
     "execution_count": 8,
     "metadata": {},
     "output_type": "execute_result"
    }
   ],
   "source": [
    "table_ed = tab2.copy(deep=True)\n",
    "_ghg = tab2.loc['HC','GHG']\n",
    "table_ed.loc['HC','GHG'] = 0\n",
    "table_ed['HC'] = 0\n",
    "table_ed.loc['HC','HC']=_ghg\n",
    "table_ed\n",
    "_ghg = tab2.loc['N2O','GHG']\n",
    "table_ed.loc['N2O','GHG'] = 0\n",
    "table_ed['N2O']=0\n",
    "table_ed.loc['N2O','N2O']=_ghg\n",
    "table_ed = table_ed.drop('GHG', axis=1)\n",
    "table_ed"
   ]
  },
  {
   "cell_type": "markdown",
   "metadata": {},
   "source": [
    " No need to fix std because we only use the total (which is not influenced by the summation above). "
   ]
  },
  {
   "cell_type": "code",
   "execution_count": 9,
   "metadata": {},
   "outputs": [
    {
     "data": {
      "text/html": [
       "<div>\n",
       "<style scoped>\n",
       "    .dataframe tbody tr th:only-of-type {\n",
       "        vertical-align: middle;\n",
       "    }\n",
       "\n",
       "    .dataframe tbody tr th {\n",
       "        vertical-align: top;\n",
       "    }\n",
       "\n",
       "    .dataframe thead th {\n",
       "        text-align: right;\n",
       "    }\n",
       "</style>\n",
       "<table border=\"1\" class=\"dataframe\">\n",
       "  <thead>\n",
       "    <tr style=\"text-align: right;\">\n",
       "      <th></th>\n",
       "      <th>CO2_sd</th>\n",
       "      <th>GHG_sd</th>\n",
       "      <th>CH4_lifetime_sd</th>\n",
       "      <th>O3_sd</th>\n",
       "      <th>O3_prime_sd</th>\n",
       "      <th>Strat_H2O_sd</th>\n",
       "      <th>Aerosol_sd</th>\n",
       "      <th>Cloud_sd</th>\n",
       "      <th>Total_sd</th>\n",
       "    </tr>\n",
       "    <tr>\n",
       "      <th>Species</th>\n",
       "      <th></th>\n",
       "      <th></th>\n",
       "      <th></th>\n",
       "      <th></th>\n",
       "      <th></th>\n",
       "      <th></th>\n",
       "      <th></th>\n",
       "      <th></th>\n",
       "      <th></th>\n",
       "    </tr>\n",
       "  </thead>\n",
       "  <tbody>\n",
       "    <tr>\n",
       "      <th>CO2</th>\n",
       "      <td>0.246907</td>\n",
       "      <td>0.000000</td>\n",
       "      <td>0.000000</td>\n",
       "      <td>0.000000</td>\n",
       "      <td>0.000000</td>\n",
       "      <td>0.00</td>\n",
       "      <td>0.000000</td>\n",
       "      <td>0.000000</td>\n",
       "      <td>0.246907</td>\n",
       "    </tr>\n",
       "    <tr>\n",
       "      <th>CH4</th>\n",
       "      <td>0.002106</td>\n",
       "      <td>0.089942</td>\n",
       "      <td>0.047124</td>\n",
       "      <td>0.036693</td>\n",
       "      <td>0.022592</td>\n",
       "      <td>0.05</td>\n",
       "      <td>0.002856</td>\n",
       "      <td>0.092581</td>\n",
       "      <td>0.182717</td>\n",
       "    </tr>\n",
       "    <tr>\n",
       "      <th>N2O</th>\n",
       "      <td>0.000000</td>\n",
       "      <td>0.029400</td>\n",
       "      <td>0.028548</td>\n",
       "      <td>0.015462</td>\n",
       "      <td>0.003696</td>\n",
       "      <td>0.00</td>\n",
       "      <td>0.002627</td>\n",
       "      <td>0.042169</td>\n",
       "      <td>0.061899</td>\n",
       "    </tr>\n",
       "    <tr>\n",
       "      <th>HC</th>\n",
       "      <td>0.000006</td>\n",
       "      <td>0.057400</td>\n",
       "      <td>0.032639</td>\n",
       "      <td>0.077735</td>\n",
       "      <td>0.005206</td>\n",
       "      <td>0.00</td>\n",
       "      <td>0.002561</td>\n",
       "      <td>0.049554</td>\n",
       "      <td>0.117053</td>\n",
       "    </tr>\n",
       "    <tr>\n",
       "      <th>NOx</th>\n",
       "      <td>0.000000</td>\n",
       "      <td>0.000000</td>\n",
       "      <td>0.107711</td>\n",
       "      <td>0.088303</td>\n",
       "      <td>0.034382</td>\n",
       "      <td>0.00</td>\n",
       "      <td>0.005903</td>\n",
       "      <td>0.057188</td>\n",
       "      <td>0.173085</td>\n",
       "    </tr>\n",
       "    <tr>\n",
       "      <th>VOC</th>\n",
       "      <td>0.008339</td>\n",
       "      <td>0.000000</td>\n",
       "      <td>0.059041</td>\n",
       "      <td>0.057143</td>\n",
       "      <td>0.017918</td>\n",
       "      <td>0.00</td>\n",
       "      <td>0.006582</td>\n",
       "      <td>0.098979</td>\n",
       "      <td>0.137949</td>\n",
       "    </tr>\n",
       "    <tr>\n",
       "      <th>SO2</th>\n",
       "      <td>0.000000</td>\n",
       "      <td>0.000000</td>\n",
       "      <td>0.000000</td>\n",
       "      <td>0.000000</td>\n",
       "      <td>0.000000</td>\n",
       "      <td>0.00</td>\n",
       "      <td>0.205242</td>\n",
       "      <td>0.345009</td>\n",
       "      <td>0.401442</td>\n",
       "    </tr>\n",
       "    <tr>\n",
       "      <th>OC</th>\n",
       "      <td>0.000000</td>\n",
       "      <td>0.000000</td>\n",
       "      <td>0.000000</td>\n",
       "      <td>0.000000</td>\n",
       "      <td>0.000000</td>\n",
       "      <td>0.00</td>\n",
       "      <td>0.060004</td>\n",
       "      <td>0.120197</td>\n",
       "      <td>0.134342</td>\n",
       "    </tr>\n",
       "    <tr>\n",
       "      <th>BC</th>\n",
       "      <td>0.000000</td>\n",
       "      <td>0.000000</td>\n",
       "      <td>0.000000</td>\n",
       "      <td>0.000000</td>\n",
       "      <td>0.000000</td>\n",
       "      <td>0.00</td>\n",
       "      <td>0.135916</td>\n",
       "      <td>0.164055</td>\n",
       "      <td>0.213043</td>\n",
       "    </tr>\n",
       "    <tr>\n",
       "      <th>NH3</th>\n",
       "      <td>0.000000</td>\n",
       "      <td>0.000000</td>\n",
       "      <td>0.000000</td>\n",
       "      <td>0.000000</td>\n",
       "      <td>0.000000</td>\n",
       "      <td>0.00</td>\n",
       "      <td>0.004422</td>\n",
       "      <td>0.000000</td>\n",
       "      <td>0.004422</td>\n",
       "    </tr>\n",
       "  </tbody>\n",
       "</table>\n",
       "</div>"
      ],
      "text/plain": [
       "           CO2_sd    GHG_sd  CH4_lifetime_sd     O3_sd  O3_prime_sd  \\\n",
       "Species                                                               \n",
       "CO2      0.246907  0.000000         0.000000  0.000000     0.000000   \n",
       "CH4      0.002106  0.089942         0.047124  0.036693     0.022592   \n",
       "N2O      0.000000  0.029400         0.028548  0.015462     0.003696   \n",
       "HC       0.000006  0.057400         0.032639  0.077735     0.005206   \n",
       "NOx      0.000000  0.000000         0.107711  0.088303     0.034382   \n",
       "VOC      0.008339  0.000000         0.059041  0.057143     0.017918   \n",
       "SO2      0.000000  0.000000         0.000000  0.000000     0.000000   \n",
       "OC       0.000000  0.000000         0.000000  0.000000     0.000000   \n",
       "BC       0.000000  0.000000         0.000000  0.000000     0.000000   \n",
       "NH3      0.000000  0.000000         0.000000  0.000000     0.000000   \n",
       "\n",
       "         Strat_H2O_sd  Aerosol_sd  Cloud_sd  Total_sd  \n",
       "Species                                                \n",
       "CO2              0.00    0.000000  0.000000  0.246907  \n",
       "CH4              0.05    0.002856  0.092581  0.182717  \n",
       "N2O              0.00    0.002627  0.042169  0.061899  \n",
       "HC               0.00    0.002561  0.049554  0.117053  \n",
       "NOx              0.00    0.005903  0.057188  0.173085  \n",
       "VOC              0.00    0.006582  0.098979  0.137949  \n",
       "SO2              0.00    0.205242  0.345009  0.401442  \n",
       "OC               0.00    0.060004  0.120197  0.134342  \n",
       "BC               0.00    0.135916  0.164055  0.213043  \n",
       "NH3              0.00    0.004422  0.000000  0.004422  "
      ]
     },
     "execution_count": 9,
     "metadata": {},
     "output_type": "execute_result"
    }
   ],
   "source": [
    "table_sd"
   ]
  },
  {
   "cell_type": "markdown",
   "metadata": {},
   "source": [
    "Write tables to file."
   ]
  },
  {
   "cell_type": "code",
   "execution_count": 10,
   "metadata": {},
   "outputs": [],
   "source": [
    "table_ed.to_csv(RESULTS_DIR/'tables_historic_attribution/table_mean_smb_orignames.csv')\n",
    "table_sd.to_csv(RESULTS_DIR/'tables_historic_attribution/table_std_smb_orignames.csv')"
   ]
  },
  {
   "cell_type": "code",
   "execution_count": 11,
   "metadata": {},
   "outputs": [],
   "source": [
    "from ar6_ch6_rcmipfigs.utils.plot import get_chem_col"
   ]
  },
  {
   "cell_type": "markdown",
   "metadata": {},
   "source": [
    "Variables in the rigth order:"
   ]
  },
  {
   "cell_type": "code",
   "execution_count": 12,
   "metadata": {},
   "outputs": [],
   "source": [
    "varn = ['co2','N2O','HC','ch4','o3','H2O_strat','ari','aci']\n",
    "var_dir = ['CO2','N2O','HC','CH4_lifetime','O3','Strat_H2O','Aerosol','Cloud']"
   ]
  },
  {
   "cell_type": "markdown",
   "metadata": {},
   "source": [
    "Colors:"
   ]
  },
  {
   "cell_type": "code",
   "execution_count": 13,
   "metadata": {},
   "outputs": [
    {
     "name": "stdout",
     "output_type": "stream",
     "text": [
      "(0.9568627450980393, 0.796078431372549, 0.21176470588235294)\n",
      "(0.8274509803921568, 0.0, 0.1568627450980392)\n",
      "(0.47843137254901963, 0.5058823529411764, 0.5058823529411764)\n",
      "(1.0, 0.4196078431372549, 0.07450980392156863)\n",
      "(0.5254901960784314, 0.7803921568627451, 0.29411764705882354)\n",
      "(0.47843137254901963, 0.5058823529411764, 0.5058823529411764)\n",
      "(0.792156862745098, 0.6980392156862745, 0.8392156862745098)\n",
      "(0.5607843137254902, 0.0, 0.6470588235294118)\n"
     ]
    }
   ],
   "source": [
    "cols = [get_chem_col(var) for var in varn]"
   ]
  },
  {
   "cell_type": "markdown",
   "metadata": {},
   "source": [
    "## Uncertainty:"
   ]
  },
  {
   "cell_type": "markdown",
   "metadata": {},
   "source": [
    "We have the standard deviation, but would like the use the standard error of the mean AND we would like to calculate the 5-95th percentile. "
   ]
  },
  {
   "cell_type": "markdown",
   "metadata": {},
   "source": [
    "We have the standard deviation (as far as I can tell, not the unbiased one)"
   ]
  },
  {
   "cell_type": "markdown",
   "metadata": {},
   "source": [
    "$\\sigma=\\sqrt {\\frac {\\sum _{i=1}^{n}(x_{i}-{\\overline {x}})^{2}}{n}}$"
   ]
  },
  {
   "cell_type": "markdown",
   "metadata": {},
   "source": [
    "The unbiased estimator would be:"
   ]
  },
  {
   "cell_type": "markdown",
   "metadata": {},
   "source": [
    "$s=\\sqrt {\\frac {\\sum _{i=1}^{n}(x_{i}-{\\overline {x}})^{2}}{n-1}} = \\sigma \\cdot \\sqrt{ \\frac{n}{n-1}}$"
   ]
  },
  {
   "cell_type": "markdown",
   "metadata": {},
   "source": [
    "The standard error is:\n",
    "\n",
    "$SE = \\frac{\\sigma}{n}$"
   ]
  },
  {
   "cell_type": "markdown",
   "metadata": {},
   "source": [
    "Finally, we want 5-95th percentile. Assuming normal distribution, this amounts to multiplying the standard error by 1.645"
   ]
  },
  {
   "cell_type": "code",
   "execution_count": 14,
   "metadata": {},
   "outputs": [],
   "source": [
    "std_2_95th = 1.645"
   ]
  },
  {
   "cell_type": "code",
   "execution_count": 15,
   "metadata": {},
   "outputs": [
    {
     "data": {
      "text/html": [
       "<div>\n",
       "<style scoped>\n",
       "    .dataframe tbody tr th:only-of-type {\n",
       "        vertical-align: middle;\n",
       "    }\n",
       "\n",
       "    .dataframe tbody tr th {\n",
       "        vertical-align: top;\n",
       "    }\n",
       "\n",
       "    .dataframe thead th {\n",
       "        text-align: right;\n",
       "    }\n",
       "</style>\n",
       "<table border=\"1\" class=\"dataframe\">\n",
       "  <thead>\n",
       "    <tr style=\"text-align: right;\">\n",
       "      <th></th>\n",
       "      <th>n</th>\n",
       "      <th>Number of models (Thornhill 2020)</th>\n",
       "    </tr>\n",
       "    <tr>\n",
       "      <th>Species</th>\n",
       "      <th></th>\n",
       "      <th></th>\n",
       "    </tr>\n",
       "  </thead>\n",
       "  <tbody>\n",
       "    <tr>\n",
       "      <th>BC</th>\n",
       "      <td>6</td>\n",
       "      <td>7</td>\n",
       "    </tr>\n",
       "    <tr>\n",
       "      <th>CH4</th>\n",
       "      <td>7</td>\n",
       "      <td>8</td>\n",
       "    </tr>\n",
       "    <tr>\n",
       "      <th>N2O</th>\n",
       "      <td>4</td>\n",
       "      <td>5</td>\n",
       "    </tr>\n",
       "    <tr>\n",
       "      <th>HC</th>\n",
       "      <td>4</td>\n",
       "      <td>6</td>\n",
       "    </tr>\n",
       "    <tr>\n",
       "      <th>NOx</th>\n",
       "      <td>4</td>\n",
       "      <td>5</td>\n",
       "    </tr>\n",
       "    <tr>\n",
       "      <th>VOC</th>\n",
       "      <td>4</td>\n",
       "      <td>5</td>\n",
       "    </tr>\n",
       "    <tr>\n",
       "      <th>SO2</th>\n",
       "      <td>5</td>\n",
       "      <td>6</td>\n",
       "    </tr>\n",
       "    <tr>\n",
       "      <th>OC</th>\n",
       "      <td>5</td>\n",
       "      <td>6</td>\n",
       "    </tr>\n",
       "    <tr>\n",
       "      <th>NH3</th>\n",
       "      <td>2</td>\n",
       "      <td>2</td>\n",
       "    </tr>\n",
       "  </tbody>\n",
       "</table>\n",
       "</div>"
      ],
      "text/plain": [
       "         n  Number of models (Thornhill 2020)\n",
       "Species                                      \n",
       "BC       6                                  7\n",
       "CH4      7                                  8\n",
       "N2O      4                                  5\n",
       "HC       4                                  6\n",
       "NOx      4                                  5\n",
       "VOC      4                                  5\n",
       "SO2      5                                  6\n",
       "OC       5                                  6\n",
       "NH3      2                                  2"
      ]
     },
     "execution_count": 15,
     "metadata": {},
     "output_type": "execute_result"
    }
   ],
   "source": [
    "import pandas as pd\n",
    "num_mod_lab = 'Number of models (Thornhill 2020)'\n",
    "thornhill = pd.read_csv(INPUT_DATA_DIR/'table2_thornhill2020.csv', index_col=0)\n",
    "thornhill.index = thornhill.index.rename('Species')\n",
    "thornhill"
   ]
  },
  {
   "cell_type": "markdown",
   "metadata": {},
   "source": [
    "![](thornhill.jpg)"
   ]
  },
  {
   "cell_type": "code",
   "execution_count": 16,
   "metadata": {},
   "outputs": [
    {
     "data": {
      "text/html": [
       "<div>\n",
       "<style scoped>\n",
       "    .dataframe tbody tr th:only-of-type {\n",
       "        vertical-align: middle;\n",
       "    }\n",
       "\n",
       "    .dataframe tbody tr th {\n",
       "        vertical-align: top;\n",
       "    }\n",
       "\n",
       "    .dataframe thead th {\n",
       "        text-align: right;\n",
       "    }\n",
       "</style>\n",
       "<table border=\"1\" class=\"dataframe\">\n",
       "  <thead>\n",
       "    <tr style=\"text-align: right;\">\n",
       "      <th></th>\n",
       "      <th>std</th>\n",
       "      <th>SE</th>\n",
       "      <th>95-50_SE</th>\n",
       "      <th>95-50</th>\n",
       "    </tr>\n",
       "    <tr>\n",
       "      <th>Species</th>\n",
       "      <th></th>\n",
       "      <th></th>\n",
       "      <th></th>\n",
       "      <th></th>\n",
       "    </tr>\n",
       "  </thead>\n",
       "  <tbody>\n",
       "    <tr>\n",
       "      <th>CO2</th>\n",
       "      <td>0.246907</td>\n",
       "      <td>NaN</td>\n",
       "      <td>0.246907</td>\n",
       "      <td>0.246907</td>\n",
       "    </tr>\n",
       "    <tr>\n",
       "      <th>CH4</th>\n",
       "      <td>0.182717</td>\n",
       "      <td>0.064600</td>\n",
       "      <td>0.106267</td>\n",
       "      <td>0.300569</td>\n",
       "    </tr>\n",
       "    <tr>\n",
       "      <th>N2O</th>\n",
       "      <td>0.061899</td>\n",
       "      <td>0.027682</td>\n",
       "      <td>0.045537</td>\n",
       "      <td>0.101825</td>\n",
       "    </tr>\n",
       "    <tr>\n",
       "      <th>HC</th>\n",
       "      <td>0.117053</td>\n",
       "      <td>0.047787</td>\n",
       "      <td>0.078609</td>\n",
       "      <td>0.192552</td>\n",
       "    </tr>\n",
       "    <tr>\n",
       "      <th>NOx</th>\n",
       "      <td>0.173085</td>\n",
       "      <td>0.077406</td>\n",
       "      <td>0.127333</td>\n",
       "      <td>0.284725</td>\n",
       "    </tr>\n",
       "    <tr>\n",
       "      <th>VOC</th>\n",
       "      <td>0.137949</td>\n",
       "      <td>0.061693</td>\n",
       "      <td>0.101484</td>\n",
       "      <td>0.226926</td>\n",
       "    </tr>\n",
       "    <tr>\n",
       "      <th>SO2</th>\n",
       "      <td>0.401442</td>\n",
       "      <td>0.163888</td>\n",
       "      <td>0.269596</td>\n",
       "      <td>0.660372</td>\n",
       "    </tr>\n",
       "    <tr>\n",
       "      <th>OC</th>\n",
       "      <td>0.134342</td>\n",
       "      <td>0.054845</td>\n",
       "      <td>0.090220</td>\n",
       "      <td>0.220992</td>\n",
       "    </tr>\n",
       "    <tr>\n",
       "      <th>BC</th>\n",
       "      <td>0.213043</td>\n",
       "      <td>0.080523</td>\n",
       "      <td>0.132460</td>\n",
       "      <td>0.350455</td>\n",
       "    </tr>\n",
       "    <tr>\n",
       "      <th>NH3</th>\n",
       "      <td>0.004422</td>\n",
       "      <td>0.003127</td>\n",
       "      <td>0.005144</td>\n",
       "      <td>0.007274</td>\n",
       "    </tr>\n",
       "  </tbody>\n",
       "</table>\n",
       "</div>"
      ],
      "text/plain": [
       "              std        SE  95-50_SE     95-50\n",
       "Species                                        \n",
       "CO2      0.246907       NaN  0.246907  0.246907\n",
       "CH4      0.182717  0.064600  0.106267  0.300569\n",
       "N2O      0.061899  0.027682  0.045537  0.101825\n",
       "HC       0.117053  0.047787  0.078609  0.192552\n",
       "NOx      0.173085  0.077406  0.127333  0.284725\n",
       "VOC      0.137949  0.061693  0.101484  0.226926\n",
       "SO2      0.401442  0.163888  0.269596  0.660372\n",
       "OC       0.134342  0.054845  0.090220  0.220992\n",
       "BC       0.213043  0.080523  0.132460  0.350455\n",
       "NH3      0.004422  0.003127  0.005144  0.007274"
      ]
     },
     "execution_count": 16,
     "metadata": {},
     "output_type": "execute_result"
    }
   ],
   "source": [
    "sd_tot = table_sd['Total_sd']\n",
    "df_err= pd.DataFrame(sd_tot.rename('std'))\n",
    "df_err['SE'] = df_err\n",
    "\n",
    "df_err['SE'] = df_err['std']/np.sqrt(thornhill[num_mod_lab])\n",
    "df_err['95-50_SE'] = df_err['SE']*std_2_95th\n",
    "df_err.loc['CO2','95-50_SE']= df_err.loc['CO2','std']\n",
    "df_err\n",
    "\n",
    "df_err['95-50'] = df_err['std']*std_2_95th\n",
    "df_err.loc['CO2','95-50']= df_err.loc['CO2','std']\n",
    "df_err"
   ]
  },
  {
   "cell_type": "markdown",
   "metadata": {},
   "source": [
    "## Rename some variables"
   ]
  },
  {
   "cell_type": "code",
   "execution_count": 17,
   "metadata": {},
   "outputs": [
    {
     "data": {
      "text/html": [
       "<div>\n",
       "<style scoped>\n",
       "    .dataframe tbody tr th:only-of-type {\n",
       "        vertical-align: middle;\n",
       "    }\n",
       "\n",
       "    .dataframe tbody tr th {\n",
       "        vertical-align: top;\n",
       "    }\n",
       "\n",
       "    .dataframe thead th {\n",
       "        text-align: right;\n",
       "    }\n",
       "</style>\n",
       "<table border=\"1\" class=\"dataframe\">\n",
       "  <thead>\n",
       "    <tr style=\"text-align: right;\">\n",
       "      <th></th>\n",
       "      <th>Carbon dioxide (CO$_2$)</th>\n",
       "      <th>N$_2$O</th>\n",
       "      <th>CFC + HCFC</th>\n",
       "      <th>Methane (CH$_4$)</th>\n",
       "      <th>Ozone (O$_3$)</th>\n",
       "      <th>H$_2$O (strat)</th>\n",
       "      <th>Aerosol-radiation</th>\n",
       "      <th>Aerosol-cloud</th>\n",
       "    </tr>\n",
       "    <tr>\n",
       "      <th>Species</th>\n",
       "      <th></th>\n",
       "      <th></th>\n",
       "      <th></th>\n",
       "      <th></th>\n",
       "      <th></th>\n",
       "      <th></th>\n",
       "      <th></th>\n",
       "      <th></th>\n",
       "    </tr>\n",
       "  </thead>\n",
       "  <tbody>\n",
       "    <tr>\n",
       "      <th>Ammonia</th>\n",
       "      <td>0.000000</td>\n",
       "      <td>0.00</td>\n",
       "      <td>0.00</td>\n",
       "      <td>0.000000</td>\n",
       "      <td>0.000000</td>\n",
       "      <td>0.00</td>\n",
       "      <td>-0.030954</td>\n",
       "      <td>0.000000</td>\n",
       "    </tr>\n",
       "    <tr>\n",
       "      <th>Black carbon</th>\n",
       "      <td>0.000000</td>\n",
       "      <td>0.00</td>\n",
       "      <td>0.00</td>\n",
       "      <td>0.000000</td>\n",
       "      <td>0.000000</td>\n",
       "      <td>0.00</td>\n",
       "      <td>0.123707</td>\n",
       "      <td>-0.060878</td>\n",
       "    </tr>\n",
       "    <tr>\n",
       "      <th>Organic carbon</th>\n",
       "      <td>0.000000</td>\n",
       "      <td>0.00</td>\n",
       "      <td>0.00</td>\n",
       "      <td>0.000000</td>\n",
       "      <td>0.000000</td>\n",
       "      <td>0.00</td>\n",
       "      <td>-0.066129</td>\n",
       "      <td>-0.133067</td>\n",
       "    </tr>\n",
       "    <tr>\n",
       "      <th>SO$_2$</th>\n",
       "      <td>0.000000</td>\n",
       "      <td>0.00</td>\n",
       "      <td>0.00</td>\n",
       "      <td>0.000000</td>\n",
       "      <td>0.000000</td>\n",
       "      <td>0.00</td>\n",
       "      <td>-0.214702</td>\n",
       "      <td>-0.683985</td>\n",
       "    </tr>\n",
       "    <tr>\n",
       "      <th>NMVOC + CO</th>\n",
       "      <td>0.069491</td>\n",
       "      <td>0.00</td>\n",
       "      <td>0.00</td>\n",
       "      <td>0.162462</td>\n",
       "      <td>0.210860</td>\n",
       "      <td>0.00</td>\n",
       "      <td>-0.003344</td>\n",
       "      <td>0.008884</td>\n",
       "    </tr>\n",
       "    <tr>\n",
       "      <th>NO$_x$</th>\n",
       "      <td>0.000000</td>\n",
       "      <td>0.00</td>\n",
       "      <td>0.00</td>\n",
       "      <td>-0.380025</td>\n",
       "      <td>0.120237</td>\n",
       "      <td>0.00</td>\n",
       "      <td>-0.011912</td>\n",
       "      <td>-0.014458</td>\n",
       "    </tr>\n",
       "    <tr>\n",
       "      <th>CFC + HCFC</th>\n",
       "      <td>0.000053</td>\n",
       "      <td>0.00</td>\n",
       "      <td>0.41</td>\n",
       "      <td>-0.050927</td>\n",
       "      <td>-0.164586</td>\n",
       "      <td>0.00</td>\n",
       "      <td>-0.010501</td>\n",
       "      <td>-0.017419</td>\n",
       "    </tr>\n",
       "    <tr>\n",
       "      <th>N$_2$O</th>\n",
       "      <td>0.000000</td>\n",
       "      <td>0.21</td>\n",
       "      <td>0.00</td>\n",
       "      <td>-0.035967</td>\n",
       "      <td>0.024311</td>\n",
       "      <td>0.00</td>\n",
       "      <td>-0.002717</td>\n",
       "      <td>0.042503</td>\n",
       "    </tr>\n",
       "    <tr>\n",
       "      <th>CH$_4$</th>\n",
       "      <td>0.017549</td>\n",
       "      <td>0.00</td>\n",
       "      <td>0.00</td>\n",
       "      <td>0.844457</td>\n",
       "      <td>0.279179</td>\n",
       "      <td>0.05</td>\n",
       "      <td>-0.003448</td>\n",
       "      <td>0.018421</td>\n",
       "    </tr>\n",
       "    <tr>\n",
       "      <th>CO$_2$</th>\n",
       "      <td>2.057554</td>\n",
       "      <td>0.00</td>\n",
       "      <td>0.00</td>\n",
       "      <td>0.000000</td>\n",
       "      <td>0.000000</td>\n",
       "      <td>0.00</td>\n",
       "      <td>0.000000</td>\n",
       "      <td>0.000000</td>\n",
       "    </tr>\n",
       "  </tbody>\n",
       "</table>\n",
       "</div>"
      ],
      "text/plain": [
       "                Carbon dioxide (CO$_2$)  N$_2$O  CFC + HCFC  Methane (CH$_4$)  \\\n",
       "Species                                                                         \n",
       "Ammonia                        0.000000    0.00        0.00          0.000000   \n",
       "Black carbon                   0.000000    0.00        0.00          0.000000   \n",
       "Organic carbon                 0.000000    0.00        0.00          0.000000   \n",
       "SO$_2$                         0.000000    0.00        0.00          0.000000   \n",
       "NMVOC + CO                     0.069491    0.00        0.00          0.162462   \n",
       "NO$_x$                         0.000000    0.00        0.00         -0.380025   \n",
       "CFC + HCFC                     0.000053    0.00        0.41         -0.050927   \n",
       "N$_2$O                         0.000000    0.21        0.00         -0.035967   \n",
       "CH$_4$                         0.017549    0.00        0.00          0.844457   \n",
       "CO$_2$                         2.057554    0.00        0.00          0.000000   \n",
       "\n",
       "                Ozone (O$_3$)  H$_2$O (strat)  Aerosol-radiation  \\\n",
       "Species                                                            \n",
       "Ammonia              0.000000            0.00          -0.030954   \n",
       "Black carbon         0.000000            0.00           0.123707   \n",
       "Organic carbon       0.000000            0.00          -0.066129   \n",
       "SO$_2$               0.000000            0.00          -0.214702   \n",
       "NMVOC + CO           0.210860            0.00          -0.003344   \n",
       "NO$_x$               0.120237            0.00          -0.011912   \n",
       "CFC + HCFC          -0.164586            0.00          -0.010501   \n",
       "N$_2$O               0.024311            0.00          -0.002717   \n",
       "CH$_4$               0.279179            0.05          -0.003448   \n",
       "CO$_2$               0.000000            0.00           0.000000   \n",
       "\n",
       "                Aerosol-cloud  \n",
       "Species                        \n",
       "Ammonia              0.000000  \n",
       "Black carbon        -0.060878  \n",
       "Organic carbon      -0.133067  \n",
       "SO$_2$              -0.683985  \n",
       "NMVOC + CO           0.008884  \n",
       "NO$_x$              -0.014458  \n",
       "CFC + HCFC          -0.017419  \n",
       "N$_2$O               0.042503  \n",
       "CH$_4$               0.018421  \n",
       "CO$_2$               0.000000  "
      ]
     },
     "execution_count": 17,
     "metadata": {},
     "output_type": "execute_result"
    }
   ],
   "source": [
    "rename_dic_cat = {\n",
    "    'CO2':'Carbon dioxide (CO$_2$)',\n",
    "    'GHG':'WMGHG',\n",
    "    'CH4_lifetime': 'Methane (CH$_4$)',\n",
    "    'O3': 'Ozone (O$_3$)',\n",
    "    'Strat_H2O':'H$_2$O (strat)',\n",
    "    'Aerosol':'Aerosol-radiation',\n",
    "    'Cloud':'Aerosol-cloud',\n",
    "    'N2O':'N$_2$O',\n",
    "    'HC':'CFC + HCFC',\n",
    "\n",
    "}\n",
    "rename_dic_cols ={\n",
    "    'CO2':'CO$_2$',\n",
    "    'CH4':'CH$_4$',\n",
    "    'N2O':'N$_2$O',\n",
    "    'HC':'CFC + HCFC',\n",
    "    'NOx':'NO$_x$',\n",
    "    'VOC':'NMVOC + CO',\n",
    "    'SO2':'SO$_2$',\n",
    "    'OC':'Organic carbon',\n",
    "    'BC':'Black carbon',\n",
    "    'NH3':'Ammonia'\n",
    "}\n",
    "tab_plt = table_ed.loc[::-1,var_dir].rename(rename_dic_cat, axis=1).rename(rename_dic_cols, axis=0)\n",
    "tab_plt"
   ]
  },
  {
   "cell_type": "code",
   "execution_count": 18,
   "metadata": {
    "lines_to_next_cell": 2
   },
   "outputs": [],
   "source": [
    "fn_sd = RESULTS_DIR/'tables_historic_attribution/table_uncertainties_smb_plt.csv'\n",
    "fn_mean = RESULTS_DIR/'tables_historic_attribution/table_mean_smb_plt.csv'"
   ]
  },
  {
   "cell_type": "code",
   "execution_count": 19,
   "metadata": {},
   "outputs": [],
   "source": [
    "df_err = df_err.rename(rename_dic_cols, axis=0)\n",
    "df_err.to_csv(fn_sd)\n",
    "tab_plt.to_csv(fn_mean)"
   ]
  },
  {
   "cell_type": "code",
   "execution_count": 20,
   "metadata": {
    "lines_to_next_cell": 2
   },
   "outputs": [],
   "source": [
    "width = 0.7\n",
    "kwargs = {'linewidth':.1,'edgecolor':'k'}"
   ]
  },
  {
   "cell_type": "code",
   "execution_count": 21,
   "metadata": {},
   "outputs": [],
   "source": [
    "import seaborn as sns"
   ]
  },
  {
   "cell_type": "code",
   "execution_count": 22,
   "metadata": {},
   "outputs": [
    {
     "data": {
      "text/plain": [
       "array([ 0,  1,  2,  3,  4,  5,  6,  7,  8,  9, 10])"
      ]
     },
     "execution_count": 22,
     "metadata": {},
     "output_type": "execute_result"
    }
   ],
   "source": [
    "ybar = np.arange(len(tab_plt)+1)#, -1)\n",
    "ybar"
   ]
  },
  {
   "cell_type": "code",
   "execution_count": 23,
   "metadata": {},
   "outputs": [
    {
     "data": {
      "text/plain": [
       "CO2             2.144647\n",
       "CH4_lifetime    0.540000\n",
       "Strat_H2O       0.050000\n",
       "Aerosol        -0.220000\n",
       "Cloud          -0.840000\n",
       "O3              0.470000\n",
       "HC              0.410000\n",
       "N2O             0.210000\n",
       "dtype: float64"
      ]
     },
     "execution_count": 23,
     "metadata": {},
     "output_type": "execute_result"
    }
   ],
   "source": [
    "table_ed.sum(axis=0)"
   ]
  },
  {
   "cell_type": "code",
   "execution_count": 24,
   "metadata": {
    "lines_to_next_cell": 2
   },
   "outputs": [
    {
     "data": {
      "image/png": "[encoded data removed]",
      "text/plain": [
       "<Figure size 900x600 with 1 Axes>"
      ]
     },
     "metadata": {
      "needs_background": "light"
     },
     "output_type": "display_data"
    }
   ],
   "source": [
    "fig, ax = plt.subplots(dpi=150)#figsize=[10,10])\n",
    "\n",
    "\n",
    "tab_plt.plot.barh(stacked=True, color=cols, linewidth=.0, edgecolor='k',ax=ax, width=width)\n",
    "tot = table_ed.sum(axis=1)[::-1]#table_ed['Total'][::-1]\n",
    "xerr = df_err['95-50'][::-1]\n",
    "y = np.arange(len(tot))\n",
    "plt.errorbar(tot, y,xerr=xerr,marker='d', linestyle='None', color='k', label='Sum', )\n",
    "plt.legend(frameon=False)\n",
    "ax.set_ylabel('')\n",
    "sns.despine()\n",
    "\n",
    "\n",
    "\n",
    "\n",
    "\n",
    "for lab, y in zip(tab_plt.index, ybar):\n",
    "        #plt.text(-1.55, ybar[i], species[i],  ha='left')#, va='left')\n",
    "    plt.text(-1.9, y-0.1, lab,  ha='left')#, va='left')\n",
    "plt.title('Change in effective radiative forcing from  1750 to 2019')\n",
    "plt.xlabel(r'Effective radiative forcing, W m$^{-2}$')\n",
    "plt.xlim(-1.5, 2.6)\n",
    "    #plt.xlim(-1.6, 2.0)\n",
    "sns.despine(fig, left=True, trim=True)\n",
    "plt.legend(loc='lower right', frameon=False)\n",
    "plt.axvline(x=0., color='k', linewidth=0.25)\n",
    "fn = 'attribution_1750_2019_5-95th.png'\n",
    "fp = RESULTS_DIR /'figures_historic_attribution'/fn\n",
    "fp.parent.mkdir(parents=True, exist_ok=True)\n",
    "ax.set_yticks([])\n",
    "\n",
    "plt.savefig(fp, dpi=300)\n",
    "plt.savefig(fp.with_suffix('.pdf'), dpi=300)\n",
    "plt.show()"
   ]
  },
  {
   "cell_type": "code",
   "execution_count": null,
   "metadata": {},
   "outputs": [],
   "source": []
  },
  {
   "cell_type": "code",
   "execution_count": null,
   "metadata": {},
   "outputs": [],
   "source": []
  }
 ],
 "metadata": {
  "jupytext": {
   "text_representation": {
    "extension": ".py",
    "format_name": "percent",
    "format_version": "1.3",
    "jupytext_version": "1.3.3"
   }
  },
  "kernelspec": {
   "display_name": "Python 3",
   "language": "python",
   "name": "python3"
  },
  "language_info": {
   "codemirror_mode": {
    "name": "ipython",
    "version": 3
   },
   "file_extension": ".py",
   "mimetype": "text/x-python",
   "name": "python",
   "nbconvert_exporter": "python",
   "pygments_lexer": "ipython3",
   "version": "3.7.6"
  }
 },
 "nbformat": 4,
 "nbformat_minor": 4
}
