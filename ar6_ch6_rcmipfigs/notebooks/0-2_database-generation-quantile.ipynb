{
 "cells": [
  {
   "cell_type": "markdown",
   "metadata": {},
   "source": [
    "## OBS:\n",
    "This notebook is only slightly edited from Zebedee Nicholls notebook, see [here](https://gitlab.com/rcmip/rcmip/-/blob/master/notebooks/results/phase-1/database-generation.ipynb)"
   ]
  },
  {
   "cell_type": "code",
   "execution_count": 1,
   "metadata": {},
   "outputs": [
    {
     "name": "stdout",
     "output_type": "stream",
     "text": [
      "/home/sarambl/PHD/IPCC/public/AR6_CH6_RCMIPFIGS/ar6_ch6_rcmipfigs\n",
      "/home/sarambl/PHD/IPCC/public/AR6_CH6_RCMIPFIGS/ar6_ch6_rcmipfigs/data_in\n"
     ]
    }
   ],
   "source": [
    "from ar6_ch6_rcmipfigs.constants import INPUT_DATA_DIR\n",
    "\n",
    "__depends__ = []\n",
    "__dest__ = [INPUT_DATA_DIR+\n",
    "    \"/data/database-results/phase-1/timestamp.txt\",\n",
    "    INPUT_DATA_DIR+\"/data/database-observations/timestamp.txt\",\n",
    "]"
   ]
  },
  {
   "cell_type": "code",
   "execution_count": 2,
   "metadata": {},
   "outputs": [
    {
     "data": {
      "application/javascript": [
       "\n",
       "            setTimeout(function() {\n",
       "                var nbb_cell_id = 2;\n",
       "                var nbb_formatted_code = \"%load_ext nb_black\";\n",
       "                var nbb_cells = Jupyter.notebook.get_cells();\n",
       "                for (var i = 0; i < nbb_cells.length; ++i) {\n",
       "                    if (nbb_cells[i].input_prompt_number == nbb_cell_id) {\n",
       "                        nbb_cells[i].set_text(nbb_formatted_code);\n",
       "                        break;\n",
       "                    }\n",
       "                }\n",
       "            }, 500);\n",
       "            "
      ],
      "text/plain": [
       "<IPython.core.display.Javascript object>"
      ]
     },
     "metadata": {},
     "output_type": "display_data"
    }
   ],
   "source": [
    "%load_ext nb_black"
   ]
  },
  {
   "cell_type": "markdown",
   "metadata": {},
   "source": [
    "# Database generation\n",
    "\n",
    "\n",
    "In this notebook we process the data into a database we can later query to make plots/do analysis etc."
   ]
  },
  {
   "cell_type": "markdown",
   "metadata": {},
   "source": [
    "## Imports"
   ]
  },
  {
   "cell_type": "code",
   "execution_count": 3,
   "metadata": {},
   "outputs": [
    {
     "data": {
      "application/javascript": [
       "IPython.OutputArea.prototype._should_scroll = function(lines) { return false; }"
      ],
      "text/plain": [
       "<IPython.core.display.Javascript object>"
      ]
     },
     "metadata": {},
     "output_type": "display_data"
    },
    {
     "name": "stderr",
     "output_type": "stream",
     "text": [
      "pyam - INFO: Running in a notebook, setting `pyam` logging level to `logging.INFO` and adding stderr handler\n"
     ]
    },
    {
     "data": {
      "application/javascript": [
       "\n",
       "            setTimeout(function() {\n",
       "                var nbb_cell_id = 3;\n",
       "                var nbb_formatted_code = \"import logging\\nimport os.path\\nimport re\\nfrom pathlib import Path\\nfrom distutils.util import strtobool\\n\\nimport pandas as pd\\nimport tqdm\\nfrom scmdata import ScmDataFrame, df_append\";\n",
       "                var nbb_cells = Jupyter.notebook.get_cells();\n",
       "                for (var i = 0; i < nbb_cells.length; ++i) {\n",
       "                    if (nbb_cells[i].input_prompt_number == nbb_cell_id) {\n",
       "                        nbb_cells[i].set_text(nbb_formatted_code);\n",
       "                        break;\n",
       "                    }\n",
       "                }\n",
       "            }, 500);\n",
       "            "
      ],
      "text/plain": [
       "<IPython.core.display.Javascript object>"
      ]
     },
     "metadata": {},
     "output_type": "display_data"
    }
   ],
   "source": [
    "import logging\n",
    "import os.path\n",
    "import re\n",
    "from pathlib import Path\n",
    "from distutils.util import strtobool\n",
    "\n",
    "import pandas as pd\n",
    "import tqdm\n",
    "from scmdata import ScmDataFrame, df_append"
   ]
  },
  {
   "cell_type": "code",
   "execution_count": 4,
   "metadata": {},
   "outputs": [
    {
     "data": {
      "text/plain": [
       "False"
      ]
     },
     "execution_count": 4,
     "metadata": {},
     "output_type": "execute_result"
    },
    {
     "data": {
      "application/javascript": [
       "\n",
       "            setTimeout(function() {\n",
       "                var nbb_cell_id = 4;\n",
       "                var nbb_formatted_code = \"from ar6_ch6_rcmipfigs.utils.database_generation import (\\n    check_all_variables_and_units_as_in_protocol,\\n    check_all_scenarios_as_in_protocol,\\n    unify_units,\\n    save_into_database,\\n    mce_get_quantile,\\n    hector_get_quantile,\\n)\\nfrom ar6_ch6_rcmipfigs.utils.database_generation2 import (\\n    get_res_fl,\\n    read_db,\\n    fix_ssp370_names,\\n    _assert,\\n    fix_hector_mce_mislab,\\n    fix_quant_FaIR,\\n    fix_quant_wasp,\\n    unify_units_check_names,\\n)\\n\\nTEST_RUN = strtobool(os.getenv(\\\"CI\\\", \\\"False\\\")) or False\\nTEST_RUN\";\n",
       "                var nbb_cells = Jupyter.notebook.get_cells();\n",
       "                for (var i = 0; i < nbb_cells.length; ++i) {\n",
       "                    if (nbb_cells[i].input_prompt_number == nbb_cell_id) {\n",
       "                        nbb_cells[i].set_text(nbb_formatted_code);\n",
       "                        break;\n",
       "                    }\n",
       "                }\n",
       "            }, 500);\n",
       "            "
      ],
      "text/plain": [
       "<IPython.core.display.Javascript object>"
      ]
     },
     "metadata": {},
     "output_type": "display_data"
    }
   ],
   "source": [
    "from ar6_ch6_rcmipfigs.utils.database_generation import check_all_variables_and_units_as_in_protocol, \\\n",
    "    check_all_scenarios_as_in_protocol, unify_units, save_into_database, mce_get_quantile, hector_get_quantile\n",
    "from ar6_ch6_rcmipfigs.utils.database_generation2 import get_res_fl, read_db, fix_ssp370_names, _assert, \\\n",
    "    fix_hector_mce_mislab, fix_quant_FaIR, fix_quant_wasp, unify_units_check_names\n",
    "\n",
    "TEST_RUN = strtobool(os.getenv(\"CI\", \"False\")) or False\n",
    "TEST_RUN"
   ]
  },
  {
   "cell_type": "code",
   "execution_count": 5,
   "metadata": {},
   "outputs": [
    {
     "data": {
      "application/javascript": [
       "\n",
       "            setTimeout(function() {\n",
       "                var nbb_cell_id = 5;\n",
       "                var nbb_formatted_code = \"logger = logging.getLogger()\";\n",
       "                var nbb_cells = Jupyter.notebook.get_cells();\n",
       "                for (var i = 0; i < nbb_cells.length; ++i) {\n",
       "                    if (nbb_cells[i].input_prompt_number == nbb_cell_id) {\n",
       "                        nbb_cells[i].set_text(nbb_formatted_code);\n",
       "                        break;\n",
       "                    }\n",
       "                }\n",
       "            }, 500);\n",
       "            "
      ],
      "text/plain": [
       "<IPython.core.display.Javascript object>"
      ]
     },
     "metadata": {},
     "output_type": "display_data"
    }
   ],
   "source": [
    "logger = logging.getLogger()"
   ]
  },
  {
   "cell_type": "markdown",
   "metadata": {},
   "source": [
    "## Constants"
   ]
  },
  {
   "cell_type": "code",
   "execution_count": 10,
   "metadata": {},
   "outputs": [
    {
     "data": {
      "application/javascript": [
       "\n",
       "            setTimeout(function() {\n",
       "                var nbb_cell_id = 10;\n",
       "                var nbb_formatted_code = \"from ar6_ch6_rcmipfigs.constants import INPUT_DATA_DIR\\n\\nOUTPUT_DATABASE_PATH = os.path.join(INPUT_DATA_DIR, \\\"database-results\\\", \\\"phase-1/\\\")\\n\\nOBS_DATABASE_PATH = os.path.join(INPUT_DATA_DIR, \\\"database-observations/\\\")\";\n",
       "                var nbb_cells = Jupyter.notebook.get_cells();\n",
       "                for (var i = 0; i < nbb_cells.length; ++i) {\n",
       "                    if (nbb_cells[i].input_prompt_number == nbb_cell_id) {\n",
       "                        nbb_cells[i].set_text(nbb_formatted_code);\n",
       "                        break;\n",
       "                    }\n",
       "                }\n",
       "            }, 500);\n",
       "            "
      ],
      "text/plain": [
       "<IPython.core.display.Javascript object>"
      ]
     },
     "metadata": {},
     "output_type": "display_data"
    }
   ],
   "source": [
    "from ar6_ch6_rcmipfigs.constants import  INPUT_DATA_DIR\n",
    "OUTPUT_DATABASE_PATH = os.path.join(INPUT_DATA_DIR, \"database-results\", \"phase-1/\")\n",
    "\n",
    "OBS_DATABASE_PATH = os.path.join(INPUT_DATA_DIR, \"database-observations/\")"
   ]
  },
  {
   "cell_type": "code",
   "execution_count": 11,
   "metadata": {
    "lines_to_next_cell": 2
   },
   "outputs": [
    {
     "data": {
      "application/javascript": [
       "\n",
       "            setTimeout(function() {\n",
       "                var nbb_cell_id = 11;\n",
       "                var nbb_formatted_code = \"from ar6_ch6_rcmipfigs.utils.misc_func import make_folders\\n\\nif not os.path.isdir(OUTPUT_DATABASE_PATH):\\n    make_folders(OUTPUT_DATABASE_PATH)\\n\\nif not os.path.isdir(OBS_DATABASE_PATH):\\n    make_folders(OBS_DATABASE_PATH)\";\n",
       "                var nbb_cells = Jupyter.notebook.get_cells();\n",
       "                for (var i = 0; i < nbb_cells.length; ++i) {\n",
       "                    if (nbb_cells[i].input_prompt_number == nbb_cell_id) {\n",
       "                        nbb_cells[i].set_text(nbb_formatted_code);\n",
       "                        break;\n",
       "                    }\n",
       "                }\n",
       "            }, 500);\n",
       "            "
      ],
      "text/plain": [
       "<IPython.core.display.Javascript object>"
      ]
     },
     "metadata": {},
     "output_type": "display_data"
    }
   ],
   "source": [
    "from ar6_ch6_rcmipfigs.utils.misc_func import make_folders\n",
    "\n",
    "if not os.path.isdir(OUTPUT_DATABASE_PATH):\n",
    "    make_folders(OUTPUT_DATABASE_PATH)\n",
    "\n",
    "if not os.path.isdir(OBS_DATABASE_PATH):\n",
    "    make_folders(OBS_DATABASE_PATH)"
   ]
  },
  {
   "cell_type": "markdown",
   "metadata": {},
   "source": [
    "## Protocol"
   ]
  },
  {
   "cell_type": "code",
   "execution_count": 12,
   "metadata": {},
   "outputs": [
    {
     "data": {
      "application/javascript": [
       "\n",
       "            setTimeout(function() {\n",
       "                var nbb_cell_id = 12;\n",
       "                var nbb_formatted_code = \"SCENARIO_PROTOCOL = os.path.join(\\n    INPUT_DATA_DIR, \\\"data\\\", \\\"protocol\\\", \\\"rcmip-emissions-annual-means.csv\\\"\\n)\";\n",
       "                var nbb_cells = Jupyter.notebook.get_cells();\n",
       "                for (var i = 0; i < nbb_cells.length; ++i) {\n",
       "                    if (nbb_cells[i].input_prompt_number == nbb_cell_id) {\n",
       "                        nbb_cells[i].set_text(nbb_formatted_code);\n",
       "                        break;\n",
       "                    }\n",
       "                }\n",
       "            }, 500);\n",
       "            "
      ],
      "text/plain": [
       "<IPython.core.display.Javascript object>"
      ]
     },
     "metadata": {},
     "output_type": "display_data"
    }
   ],
   "source": [
    "SCENARIO_PROTOCOL = os.path.join(INPUT_DATA_DIR, \"data\", \"protocol\", \"rcmip-emissions-annual-means.csv\"\n",
    ")"
   ]
  },
  {
   "cell_type": "code",
   "execution_count": 13,
   "metadata": {},
   "outputs": [
    {
     "data": {
      "text/html": [
       "<div>\n",
       "<style scoped>\n",
       "    .dataframe tbody tr th:only-of-type {\n",
       "        vertical-align: middle;\n",
       "    }\n",
       "\n",
       "    .dataframe tbody tr th {\n",
       "        vertical-align: top;\n",
       "    }\n",
       "\n",
       "    .dataframe thead th {\n",
       "        text-align: right;\n",
       "    }\n",
       "</style>\n",
       "<table border=\"1\" class=\"dataframe\">\n",
       "  <thead>\n",
       "    <tr style=\"text-align: right;\">\n",
       "      <th></th>\n",
       "      <th></th>\n",
       "      <th></th>\n",
       "      <th></th>\n",
       "      <th></th>\n",
       "      <th></th>\n",
       "      <th>time</th>\n",
       "      <th>1750-01-01 00:00:00</th>\n",
       "      <th>1751-01-01 00:00:00</th>\n",
       "      <th>1752-01-01 00:00:00</th>\n",
       "      <th>1753-01-01 00:00:00</th>\n",
       "      <th>1754-01-01 00:00:00</th>\n",
       "      <th>1755-01-01 00:00:00</th>\n",
       "      <th>1756-01-01 00:00:00</th>\n",
       "      <th>1757-01-01 00:00:00</th>\n",
       "      <th>1758-01-01 00:00:00</th>\n",
       "      <th>1759-01-01 00:00:00</th>\n",
       "      <th>...</th>\n",
       "      <th>2491-01-01 00:00:00</th>\n",
       "      <th>2492-01-01 00:00:00</th>\n",
       "      <th>2493-01-01 00:00:00</th>\n",
       "      <th>2494-01-01 00:00:00</th>\n",
       "      <th>2495-01-01 00:00:00</th>\n",
       "      <th>2496-01-01 00:00:00</th>\n",
       "      <th>2497-01-01 00:00:00</th>\n",
       "      <th>2498-01-01 00:00:00</th>\n",
       "      <th>2499-01-01 00:00:00</th>\n",
       "      <th>2500-01-01 00:00:00</th>\n",
       "    </tr>\n",
       "    <tr>\n",
       "      <th>model</th>\n",
       "      <th>scenario</th>\n",
       "      <th>region</th>\n",
       "      <th>variable</th>\n",
       "      <th>unit</th>\n",
       "      <th>activity_id</th>\n",
       "      <th>mip_era</th>\n",
       "      <th></th>\n",
       "      <th></th>\n",
       "      <th></th>\n",
       "      <th></th>\n",
       "      <th></th>\n",
       "      <th></th>\n",
       "      <th></th>\n",
       "      <th></th>\n",
       "      <th></th>\n",
       "      <th></th>\n",
       "      <th></th>\n",
       "      <th></th>\n",
       "      <th></th>\n",
       "      <th></th>\n",
       "      <th></th>\n",
       "      <th></th>\n",
       "      <th></th>\n",
       "      <th></th>\n",
       "      <th></th>\n",
       "      <th></th>\n",
       "      <th></th>\n",
       "    </tr>\n",
       "  </thead>\n",
       "  <tbody>\n",
       "    <tr>\n",
       "      <th rowspan=\"5\" valign=\"top\">AIM</th>\n",
       "      <th rowspan=\"5\" valign=\"top\">rcp60</th>\n",
       "      <th rowspan=\"5\" valign=\"top\">World</th>\n",
       "      <th>Emissions|BC</th>\n",
       "      <th>Mt BC/yr</th>\n",
       "      <th>not_applicable</th>\n",
       "      <th>CMIP5</th>\n",
       "      <td>NaN</td>\n",
       "      <td>NaN</td>\n",
       "      <td>NaN</td>\n",
       "      <td>NaN</td>\n",
       "      <td>NaN</td>\n",
       "      <td>NaN</td>\n",
       "      <td>NaN</td>\n",
       "      <td>NaN</td>\n",
       "      <td>NaN</td>\n",
       "      <td>NaN</td>\n",
       "      <td>...</td>\n",
       "      <td>4.361500</td>\n",
       "      <td>4.361500</td>\n",
       "      <td>4.36150</td>\n",
       "      <td>4.361500</td>\n",
       "      <td>4.361500</td>\n",
       "      <td>4.36150</td>\n",
       "      <td>4.361500</td>\n",
       "      <td>4.361500</td>\n",
       "      <td>4.36150</td>\n",
       "      <td>4.361500</td>\n",
       "    </tr>\n",
       "    <tr>\n",
       "      <th>Emissions|CH4</th>\n",
       "      <th>Mt CH4/yr</th>\n",
       "      <th>not_applicable</th>\n",
       "      <th>CMIP5</th>\n",
       "      <td>NaN</td>\n",
       "      <td>NaN</td>\n",
       "      <td>NaN</td>\n",
       "      <td>NaN</td>\n",
       "      <td>NaN</td>\n",
       "      <td>NaN</td>\n",
       "      <td>NaN</td>\n",
       "      <td>NaN</td>\n",
       "      <td>NaN</td>\n",
       "      <td>NaN</td>\n",
       "      <td>...</td>\n",
       "      <td>254.567840</td>\n",
       "      <td>254.577630</td>\n",
       "      <td>254.58741</td>\n",
       "      <td>254.597200</td>\n",
       "      <td>254.606980</td>\n",
       "      <td>254.61676</td>\n",
       "      <td>254.626550</td>\n",
       "      <td>254.636330</td>\n",
       "      <td>254.64612</td>\n",
       "      <td>254.655900</td>\n",
       "    </tr>\n",
       "    <tr>\n",
       "      <th>Emissions|CO</th>\n",
       "      <th>Mt CO/yr</th>\n",
       "      <th>not_applicable</th>\n",
       "      <th>CMIP5</th>\n",
       "      <td>NaN</td>\n",
       "      <td>NaN</td>\n",
       "      <td>NaN</td>\n",
       "      <td>NaN</td>\n",
       "      <td>NaN</td>\n",
       "      <td>NaN</td>\n",
       "      <td>NaN</td>\n",
       "      <td>NaN</td>\n",
       "      <td>NaN</td>\n",
       "      <td>NaN</td>\n",
       "      <td>...</td>\n",
       "      <td>792.225700</td>\n",
       "      <td>792.225700</td>\n",
       "      <td>792.22570</td>\n",
       "      <td>792.225700</td>\n",
       "      <td>792.225700</td>\n",
       "      <td>792.22570</td>\n",
       "      <td>792.225700</td>\n",
       "      <td>792.225700</td>\n",
       "      <td>792.22570</td>\n",
       "      <td>792.225700</td>\n",
       "    </tr>\n",
       "    <tr>\n",
       "      <th>Emissions|CO2</th>\n",
       "      <th>Mt CO2/yr</th>\n",
       "      <th>not_applicable</th>\n",
       "      <th>CMIP5</th>\n",
       "      <td>NaN</td>\n",
       "      <td>NaN</td>\n",
       "      <td>NaN</td>\n",
       "      <td>NaN</td>\n",
       "      <td>NaN</td>\n",
       "      <td>NaN</td>\n",
       "      <td>NaN</td>\n",
       "      <td>NaN</td>\n",
       "      <td>NaN</td>\n",
       "      <td>NaN</td>\n",
       "      <td>...</td>\n",
       "      <td>3165.917333</td>\n",
       "      <td>3162.074667</td>\n",
       "      <td>3158.23200</td>\n",
       "      <td>3154.389333</td>\n",
       "      <td>3150.546667</td>\n",
       "      <td>3146.70400</td>\n",
       "      <td>3142.861333</td>\n",
       "      <td>3139.018667</td>\n",
       "      <td>3135.17600</td>\n",
       "      <td>3131.333333</td>\n",
       "    </tr>\n",
       "    <tr>\n",
       "      <th>Emissions|CO2|MAGICC AFOLU</th>\n",
       "      <th>Mt CO2/yr</th>\n",
       "      <th>not_applicable</th>\n",
       "      <th>CMIP5</th>\n",
       "      <td>NaN</td>\n",
       "      <td>NaN</td>\n",
       "      <td>NaN</td>\n",
       "      <td>NaN</td>\n",
       "      <td>NaN</td>\n",
       "      <td>NaN</td>\n",
       "      <td>NaN</td>\n",
       "      <td>NaN</td>\n",
       "      <td>NaN</td>\n",
       "      <td>NaN</td>\n",
       "      <td>...</td>\n",
       "      <td>0.000000</td>\n",
       "      <td>0.000000</td>\n",
       "      <td>0.00000</td>\n",
       "      <td>0.000000</td>\n",
       "      <td>0.000000</td>\n",
       "      <td>0.00000</td>\n",
       "      <td>0.000000</td>\n",
       "      <td>0.000000</td>\n",
       "      <td>0.00000</td>\n",
       "      <td>0.000000</td>\n",
       "    </tr>\n",
       "  </tbody>\n",
       "</table>\n",
       "<p>5 rows × 751 columns</p>\n",
       "</div>"
      ],
      "text/plain": [
       "time                                                                               1750-01-01 00:00:00  \\\n",
       "model scenario region variable                   unit      activity_id    mip_era                        \n",
       "AIM   rcp60    World  Emissions|BC               Mt BC/yr  not_applicable CMIP5                    NaN   \n",
       "                      Emissions|CH4              Mt CH4/yr not_applicable CMIP5                    NaN   \n",
       "                      Emissions|CO               Mt CO/yr  not_applicable CMIP5                    NaN   \n",
       "                      Emissions|CO2              Mt CO2/yr not_applicable CMIP5                    NaN   \n",
       "                      Emissions|CO2|MAGICC AFOLU Mt CO2/yr not_applicable CMIP5                    NaN   \n",
       "\n",
       "time                                                                               1751-01-01 00:00:00  \\\n",
       "model scenario region variable                   unit      activity_id    mip_era                        \n",
       "AIM   rcp60    World  Emissions|BC               Mt BC/yr  not_applicable CMIP5                    NaN   \n",
       "                      Emissions|CH4              Mt CH4/yr not_applicable CMIP5                    NaN   \n",
       "                      Emissions|CO               Mt CO/yr  not_applicable CMIP5                    NaN   \n",
       "                      Emissions|CO2              Mt CO2/yr not_applicable CMIP5                    NaN   \n",
       "                      Emissions|CO2|MAGICC AFOLU Mt CO2/yr not_applicable CMIP5                    NaN   \n",
       "\n",
       "time                                                                               1752-01-01 00:00:00  \\\n",
       "model scenario region variable                   unit      activity_id    mip_era                        \n",
       "AIM   rcp60    World  Emissions|BC               Mt BC/yr  not_applicable CMIP5                    NaN   \n",
       "                      Emissions|CH4              Mt CH4/yr not_applicable CMIP5                    NaN   \n",
       "                      Emissions|CO               Mt CO/yr  not_applicable CMIP5                    NaN   \n",
       "                      Emissions|CO2              Mt CO2/yr not_applicable CMIP5                    NaN   \n",
       "                      Emissions|CO2|MAGICC AFOLU Mt CO2/yr not_applicable CMIP5                    NaN   \n",
       "\n",
       "time                                                                               1753-01-01 00:00:00  \\\n",
       "model scenario region variable                   unit      activity_id    mip_era                        \n",
       "AIM   rcp60    World  Emissions|BC               Mt BC/yr  not_applicable CMIP5                    NaN   \n",
       "                      Emissions|CH4              Mt CH4/yr not_applicable CMIP5                    NaN   \n",
       "                      Emissions|CO               Mt CO/yr  not_applicable CMIP5                    NaN   \n",
       "                      Emissions|CO2              Mt CO2/yr not_applicable CMIP5                    NaN   \n",
       "                      Emissions|CO2|MAGICC AFOLU Mt CO2/yr not_applicable CMIP5                    NaN   \n",
       "\n",
       "time                                                                               1754-01-01 00:00:00  \\\n",
       "model scenario region variable                   unit      activity_id    mip_era                        \n",
       "AIM   rcp60    World  Emissions|BC               Mt BC/yr  not_applicable CMIP5                    NaN   \n",
       "                      Emissions|CH4              Mt CH4/yr not_applicable CMIP5                    NaN   \n",
       "                      Emissions|CO               Mt CO/yr  not_applicable CMIP5                    NaN   \n",
       "                      Emissions|CO2              Mt CO2/yr not_applicable CMIP5                    NaN   \n",
       "                      Emissions|CO2|MAGICC AFOLU Mt CO2/yr not_applicable CMIP5                    NaN   \n",
       "\n",
       "time                                                                               1755-01-01 00:00:00  \\\n",
       "model scenario region variable                   unit      activity_id    mip_era                        \n",
       "AIM   rcp60    World  Emissions|BC               Mt BC/yr  not_applicable CMIP5                    NaN   \n",
       "                      Emissions|CH4              Mt CH4/yr not_applicable CMIP5                    NaN   \n",
       "                      Emissions|CO               Mt CO/yr  not_applicable CMIP5                    NaN   \n",
       "                      Emissions|CO2              Mt CO2/yr not_applicable CMIP5                    NaN   \n",
       "                      Emissions|CO2|MAGICC AFOLU Mt CO2/yr not_applicable CMIP5                    NaN   \n",
       "\n",
       "time                                                                               1756-01-01 00:00:00  \\\n",
       "model scenario region variable                   unit      activity_id    mip_era                        \n",
       "AIM   rcp60    World  Emissions|BC               Mt BC/yr  not_applicable CMIP5                    NaN   \n",
       "                      Emissions|CH4              Mt CH4/yr not_applicable CMIP5                    NaN   \n",
       "                      Emissions|CO               Mt CO/yr  not_applicable CMIP5                    NaN   \n",
       "                      Emissions|CO2              Mt CO2/yr not_applicable CMIP5                    NaN   \n",
       "                      Emissions|CO2|MAGICC AFOLU Mt CO2/yr not_applicable CMIP5                    NaN   \n",
       "\n",
       "time                                                                               1757-01-01 00:00:00  \\\n",
       "model scenario region variable                   unit      activity_id    mip_era                        \n",
       "AIM   rcp60    World  Emissions|BC               Mt BC/yr  not_applicable CMIP5                    NaN   \n",
       "                      Emissions|CH4              Mt CH4/yr not_applicable CMIP5                    NaN   \n",
       "                      Emissions|CO               Mt CO/yr  not_applicable CMIP5                    NaN   \n",
       "                      Emissions|CO2              Mt CO2/yr not_applicable CMIP5                    NaN   \n",
       "                      Emissions|CO2|MAGICC AFOLU Mt CO2/yr not_applicable CMIP5                    NaN   \n",
       "\n",
       "time                                                                               1758-01-01 00:00:00  \\\n",
       "model scenario region variable                   unit      activity_id    mip_era                        \n",
       "AIM   rcp60    World  Emissions|BC               Mt BC/yr  not_applicable CMIP5                    NaN   \n",
       "                      Emissions|CH4              Mt CH4/yr not_applicable CMIP5                    NaN   \n",
       "                      Emissions|CO               Mt CO/yr  not_applicable CMIP5                    NaN   \n",
       "                      Emissions|CO2              Mt CO2/yr not_applicable CMIP5                    NaN   \n",
       "                      Emissions|CO2|MAGICC AFOLU Mt CO2/yr not_applicable CMIP5                    NaN   \n",
       "\n",
       "time                                                                               1759-01-01 00:00:00  \\\n",
       "model scenario region variable                   unit      activity_id    mip_era                        \n",
       "AIM   rcp60    World  Emissions|BC               Mt BC/yr  not_applicable CMIP5                    NaN   \n",
       "                      Emissions|CH4              Mt CH4/yr not_applicable CMIP5                    NaN   \n",
       "                      Emissions|CO               Mt CO/yr  not_applicable CMIP5                    NaN   \n",
       "                      Emissions|CO2              Mt CO2/yr not_applicable CMIP5                    NaN   \n",
       "                      Emissions|CO2|MAGICC AFOLU Mt CO2/yr not_applicable CMIP5                    NaN   \n",
       "\n",
       "time                                                                               ...  \\\n",
       "model scenario region variable                   unit      activity_id    mip_era  ...   \n",
       "AIM   rcp60    World  Emissions|BC               Mt BC/yr  not_applicable CMIP5    ...   \n",
       "                      Emissions|CH4              Mt CH4/yr not_applicable CMIP5    ...   \n",
       "                      Emissions|CO               Mt CO/yr  not_applicable CMIP5    ...   \n",
       "                      Emissions|CO2              Mt CO2/yr not_applicable CMIP5    ...   \n",
       "                      Emissions|CO2|MAGICC AFOLU Mt CO2/yr not_applicable CMIP5    ...   \n",
       "\n",
       "time                                                                               2491-01-01 00:00:00  \\\n",
       "model scenario region variable                   unit      activity_id    mip_era                        \n",
       "AIM   rcp60    World  Emissions|BC               Mt BC/yr  not_applicable CMIP5               4.361500   \n",
       "                      Emissions|CH4              Mt CH4/yr not_applicable CMIP5             254.567840   \n",
       "                      Emissions|CO               Mt CO/yr  not_applicable CMIP5             792.225700   \n",
       "                      Emissions|CO2              Mt CO2/yr not_applicable CMIP5            3165.917333   \n",
       "                      Emissions|CO2|MAGICC AFOLU Mt CO2/yr not_applicable CMIP5               0.000000   \n",
       "\n",
       "time                                                                               2492-01-01 00:00:00  \\\n",
       "model scenario region variable                   unit      activity_id    mip_era                        \n",
       "AIM   rcp60    World  Emissions|BC               Mt BC/yr  not_applicable CMIP5               4.361500   \n",
       "                      Emissions|CH4              Mt CH4/yr not_applicable CMIP5             254.577630   \n",
       "                      Emissions|CO               Mt CO/yr  not_applicable CMIP5             792.225700   \n",
       "                      Emissions|CO2              Mt CO2/yr not_applicable CMIP5            3162.074667   \n",
       "                      Emissions|CO2|MAGICC AFOLU Mt CO2/yr not_applicable CMIP5               0.000000   \n",
       "\n",
       "time                                                                               2493-01-01 00:00:00  \\\n",
       "model scenario region variable                   unit      activity_id    mip_era                        \n",
       "AIM   rcp60    World  Emissions|BC               Mt BC/yr  not_applicable CMIP5                4.36150   \n",
       "                      Emissions|CH4              Mt CH4/yr not_applicable CMIP5              254.58741   \n",
       "                      Emissions|CO               Mt CO/yr  not_applicable CMIP5              792.22570   \n",
       "                      Emissions|CO2              Mt CO2/yr not_applicable CMIP5             3158.23200   \n",
       "                      Emissions|CO2|MAGICC AFOLU Mt CO2/yr not_applicable CMIP5                0.00000   \n",
       "\n",
       "time                                                                               2494-01-01 00:00:00  \\\n",
       "model scenario region variable                   unit      activity_id    mip_era                        \n",
       "AIM   rcp60    World  Emissions|BC               Mt BC/yr  not_applicable CMIP5               4.361500   \n",
       "                      Emissions|CH4              Mt CH4/yr not_applicable CMIP5             254.597200   \n",
       "                      Emissions|CO               Mt CO/yr  not_applicable CMIP5             792.225700   \n",
       "                      Emissions|CO2              Mt CO2/yr not_applicable CMIP5            3154.389333   \n",
       "                      Emissions|CO2|MAGICC AFOLU Mt CO2/yr not_applicable CMIP5               0.000000   \n",
       "\n",
       "time                                                                               2495-01-01 00:00:00  \\\n",
       "model scenario region variable                   unit      activity_id    mip_era                        \n",
       "AIM   rcp60    World  Emissions|BC               Mt BC/yr  not_applicable CMIP5               4.361500   \n",
       "                      Emissions|CH4              Mt CH4/yr not_applicable CMIP5             254.606980   \n",
       "                      Emissions|CO               Mt CO/yr  not_applicable CMIP5             792.225700   \n",
       "                      Emissions|CO2              Mt CO2/yr not_applicable CMIP5            3150.546667   \n",
       "                      Emissions|CO2|MAGICC AFOLU Mt CO2/yr not_applicable CMIP5               0.000000   \n",
       "\n",
       "time                                                                               2496-01-01 00:00:00  \\\n",
       "model scenario region variable                   unit      activity_id    mip_era                        \n",
       "AIM   rcp60    World  Emissions|BC               Mt BC/yr  not_applicable CMIP5                4.36150   \n",
       "                      Emissions|CH4              Mt CH4/yr not_applicable CMIP5              254.61676   \n",
       "                      Emissions|CO               Mt CO/yr  not_applicable CMIP5              792.22570   \n",
       "                      Emissions|CO2              Mt CO2/yr not_applicable CMIP5             3146.70400   \n",
       "                      Emissions|CO2|MAGICC AFOLU Mt CO2/yr not_applicable CMIP5                0.00000   \n",
       "\n",
       "time                                                                               2497-01-01 00:00:00  \\\n",
       "model scenario region variable                   unit      activity_id    mip_era                        \n",
       "AIM   rcp60    World  Emissions|BC               Mt BC/yr  not_applicable CMIP5               4.361500   \n",
       "                      Emissions|CH4              Mt CH4/yr not_applicable CMIP5             254.626550   \n",
       "                      Emissions|CO               Mt CO/yr  not_applicable CMIP5             792.225700   \n",
       "                      Emissions|CO2              Mt CO2/yr not_applicable CMIP5            3142.861333   \n",
       "                      Emissions|CO2|MAGICC AFOLU Mt CO2/yr not_applicable CMIP5               0.000000   \n",
       "\n",
       "time                                                                               2498-01-01 00:00:00  \\\n",
       "model scenario region variable                   unit      activity_id    mip_era                        \n",
       "AIM   rcp60    World  Emissions|BC               Mt BC/yr  not_applicable CMIP5               4.361500   \n",
       "                      Emissions|CH4              Mt CH4/yr not_applicable CMIP5             254.636330   \n",
       "                      Emissions|CO               Mt CO/yr  not_applicable CMIP5             792.225700   \n",
       "                      Emissions|CO2              Mt CO2/yr not_applicable CMIP5            3139.018667   \n",
       "                      Emissions|CO2|MAGICC AFOLU Mt CO2/yr not_applicable CMIP5               0.000000   \n",
       "\n",
       "time                                                                               2499-01-01 00:00:00  \\\n",
       "model scenario region variable                   unit      activity_id    mip_era                        \n",
       "AIM   rcp60    World  Emissions|BC               Mt BC/yr  not_applicable CMIP5                4.36150   \n",
       "                      Emissions|CH4              Mt CH4/yr not_applicable CMIP5              254.64612   \n",
       "                      Emissions|CO               Mt CO/yr  not_applicable CMIP5              792.22570   \n",
       "                      Emissions|CO2              Mt CO2/yr not_applicable CMIP5             3135.17600   \n",
       "                      Emissions|CO2|MAGICC AFOLU Mt CO2/yr not_applicable CMIP5                0.00000   \n",
       "\n",
       "time                                                                               2500-01-01 00:00:00  \n",
       "model scenario region variable                   unit      activity_id    mip_era                       \n",
       "AIM   rcp60    World  Emissions|BC               Mt BC/yr  not_applicable CMIP5               4.361500  \n",
       "                      Emissions|CH4              Mt CH4/yr not_applicable CMIP5             254.655900  \n",
       "                      Emissions|CO               Mt CO/yr  not_applicable CMIP5             792.225700  \n",
       "                      Emissions|CO2              Mt CO2/yr not_applicable CMIP5            3131.333333  \n",
       "                      Emissions|CO2|MAGICC AFOLU Mt CO2/yr not_applicable CMIP5               0.000000  \n",
       "\n",
       "[5 rows x 751 columns]"
      ]
     },
     "execution_count": 13,
     "metadata": {},
     "output_type": "execute_result"
    },
    {
     "data": {
      "application/javascript": [
       "\n",
       "            setTimeout(function() {\n",
       "                var nbb_cell_id = 13;\n",
       "                var nbb_formatted_code = \"protocol_db = ScmDataFrame(SCENARIO_PROTOCOL)\\nprotocol_db.head()\";\n",
       "                var nbb_cells = Jupyter.notebook.get_cells();\n",
       "                for (var i = 0; i < nbb_cells.length; ++i) {\n",
       "                    if (nbb_cells[i].input_prompt_number == nbb_cell_id) {\n",
       "                        nbb_cells[i].set_text(nbb_formatted_code);\n",
       "                        break;\n",
       "                    }\n",
       "                }\n",
       "            }, 500);\n",
       "            "
      ],
      "text/plain": [
       "<IPython.core.display.Javascript object>"
      ]
     },
     "metadata": {},
     "output_type": "display_data"
    }
   ],
   "source": [
    "protocol_db = ScmDataFrame(SCENARIO_PROTOCOL)\n",
    "protocol_db.head()"
   ]
  },
  {
   "cell_type": "code",
   "execution_count": 14,
   "metadata": {},
   "outputs": [
    {
     "data": {
      "text/plain": [
       "array(['rcp60', 'ssp370', 'ssp370-lowNTCF-aerchemmip',\n",
       "       'ssp370-lowNTCF-gidden', 'historical', 'ssp434', 'ssp460', 'rcp26',\n",
       "       'ssp119', 'ssp126', 'rcp85', 'ssp245', 'rcp45', 'ssp534-over',\n",
       "       'ssp585', 'esm-bell-1000PgC', 'esm-bell-2000PgC',\n",
       "       'esm-bell-750PgC', 'esm-pi-CO2pulse', 'esm-pi-cdr-pulse',\n",
       "       'esm-piControl', 'historical-cmip5'], dtype=object)"
      ]
     },
     "execution_count": 14,
     "metadata": {},
     "output_type": "execute_result"
    },
    {
     "data": {
      "application/javascript": [
       "\n",
       "            setTimeout(function() {\n",
       "                var nbb_cell_id = 14;\n",
       "                var nbb_formatted_code = \"protocol_db[\\\"scenario\\\"].unique()\";\n",
       "                var nbb_cells = Jupyter.notebook.get_cells();\n",
       "                for (var i = 0; i < nbb_cells.length; ++i) {\n",
       "                    if (nbb_cells[i].input_prompt_number == nbb_cell_id) {\n",
       "                        nbb_cells[i].set_text(nbb_formatted_code);\n",
       "                        break;\n",
       "                    }\n",
       "                }\n",
       "            }, 500);\n",
       "            "
      ],
      "text/plain": [
       "<IPython.core.display.Javascript object>"
      ]
     },
     "metadata": {},
     "output_type": "display_data"
    }
   ],
   "source": [
    "protocol_db[\"scenario\"].unique()"
   ]
  },
  {
   "cell_type": "code",
   "execution_count": 15,
   "metadata": {},
   "outputs": [
    {
     "data": {
      "application/javascript": [
       "\n",
       "            setTimeout(function() {\n",
       "                var nbb_cell_id = 15;\n",
       "                var nbb_formatted_code = \"DATA_PROTOCOL = os.path.join(\\n    INPUT_DATA_DIR,\\n    \\\"data\\\",\\n    \\\"submission-template\\\",\\n    \\\"rcmip-data-submission-template.xlsx\\\",\\n)\";\n",
       "                var nbb_cells = Jupyter.notebook.get_cells();\n",
       "                for (var i = 0; i < nbb_cells.length; ++i) {\n",
       "                    if (nbb_cells[i].input_prompt_number == nbb_cell_id) {\n",
       "                        nbb_cells[i].set_text(nbb_formatted_code);\n",
       "                        break;\n",
       "                    }\n",
       "                }\n",
       "            }, 500);\n",
       "            "
      ],
      "text/plain": [
       "<IPython.core.display.Javascript object>"
      ]
     },
     "metadata": {},
     "output_type": "display_data"
    }
   ],
   "source": [
    "DATA_PROTOCOL = os.path.join(INPUT_DATA_DIR,\n",
    "    \"data\",\n",
    "    \"submission-template\",\n",
    "    \"rcmip-data-submission-template.xlsx\",\n",
    ")"
   ]
  },
  {
   "cell_type": "code",
   "execution_count": 16,
   "metadata": {},
   "outputs": [
    {
     "data": {
      "text/html": [
       "<div>\n",
       "<style scoped>\n",
       "    .dataframe tbody tr th:only-of-type {\n",
       "        vertical-align: middle;\n",
       "    }\n",
       "\n",
       "    .dataframe tbody tr th {\n",
       "        vertical-align: top;\n",
       "    }\n",
       "\n",
       "    .dataframe thead th {\n",
       "        text-align: right;\n",
       "    }\n",
       "</style>\n",
       "<table border=\"1\" class=\"dataframe\">\n",
       "  <thead>\n",
       "    <tr style=\"text-align: right;\">\n",
       "      <th></th>\n",
       "      <th>idx</th>\n",
       "      <th>category</th>\n",
       "      <th>variable</th>\n",
       "      <th>unit</th>\n",
       "      <th>definition</th>\n",
       "      <th>tier</th>\n",
       "    </tr>\n",
       "  </thead>\n",
       "  <tbody>\n",
       "    <tr>\n",
       "      <th>0</th>\n",
       "      <td>1</td>\n",
       "      <td>Atmospheric Concentrations</td>\n",
       "      <td>Atmospheric Concentrations|CH4</td>\n",
       "      <td>ppb</td>\n",
       "      <td>atmospheric concentrations of CH4</td>\n",
       "      <td>1</td>\n",
       "    </tr>\n",
       "    <tr>\n",
       "      <th>1</th>\n",
       "      <td>2</td>\n",
       "      <td>Atmospheric Concentrations</td>\n",
       "      <td>Atmospheric Concentrations|CO2</td>\n",
       "      <td>ppm</td>\n",
       "      <td>atmospheric concentrations of CO2</td>\n",
       "      <td>1</td>\n",
       "    </tr>\n",
       "    <tr>\n",
       "      <th>2</th>\n",
       "      <td>3</td>\n",
       "      <td>Atmospheric Concentrations</td>\n",
       "      <td>Atmospheric Concentrations|F-Gases</td>\n",
       "      <td>ppm</td>\n",
       "      <td>equivalent species atmospheric concentrations ...</td>\n",
       "      <td>3</td>\n",
       "    </tr>\n",
       "    <tr>\n",
       "      <th>3</th>\n",
       "      <td>4</td>\n",
       "      <td>Atmospheric Concentrations</td>\n",
       "      <td>Atmospheric Concentrations|F-Gases|HFC</td>\n",
       "      <td>ppm</td>\n",
       "      <td>equivalent species atmospheric concentrations ...</td>\n",
       "      <td>3</td>\n",
       "    </tr>\n",
       "    <tr>\n",
       "      <th>4</th>\n",
       "      <td>5</td>\n",
       "      <td>Atmospheric Concentrations</td>\n",
       "      <td>Atmospheric Concentrations|F-Gases|HFC|HFC125</td>\n",
       "      <td>ppt</td>\n",
       "      <td>atmospheric concentrations of HFC125</td>\n",
       "      <td>2</td>\n",
       "    </tr>\n",
       "  </tbody>\n",
       "</table>\n",
       "</div>"
      ],
      "text/plain": [
       "   idx                    category  \\\n",
       "0    1  Atmospheric Concentrations   \n",
       "1    2  Atmospheric Concentrations   \n",
       "2    3  Atmospheric Concentrations   \n",
       "3    4  Atmospheric Concentrations   \n",
       "4    5  Atmospheric Concentrations   \n",
       "\n",
       "                                        variable unit  \\\n",
       "0                 Atmospheric Concentrations|CH4  ppb   \n",
       "1                 Atmospheric Concentrations|CO2  ppm   \n",
       "2             Atmospheric Concentrations|F-Gases  ppm   \n",
       "3         Atmospheric Concentrations|F-Gases|HFC  ppm   \n",
       "4  Atmospheric Concentrations|F-Gases|HFC|HFC125  ppt   \n",
       "\n",
       "                                          definition  tier  \n",
       "0                  atmospheric concentrations of CH4     1  \n",
       "1                  atmospheric concentrations of CO2     1  \n",
       "2  equivalent species atmospheric concentrations ...     3  \n",
       "3  equivalent species atmospheric concentrations ...     3  \n",
       "4               atmospheric concentrations of HFC125     2  "
      ]
     },
     "execution_count": 16,
     "metadata": {},
     "output_type": "execute_result"
    },
    {
     "data": {
      "application/javascript": [
       "\n",
       "            setTimeout(function() {\n",
       "                var nbb_cell_id = 16;\n",
       "                var nbb_formatted_code = \"protocol_variables = pd.read_excel(DATA_PROTOCOL, sheet_name=\\\"variable_definitions\\\")\\nprotocol_variables.columns = protocol_variables.columns.str.lower()\\nprotocol_variables.head()\";\n",
       "                var nbb_cells = Jupyter.notebook.get_cells();\n",
       "                for (var i = 0; i < nbb_cells.length; ++i) {\n",
       "                    if (nbb_cells[i].input_prompt_number == nbb_cell_id) {\n",
       "                        nbb_cells[i].set_text(nbb_formatted_code);\n",
       "                        break;\n",
       "                    }\n",
       "                }\n",
       "            }, 500);\n",
       "            "
      ],
      "text/plain": [
       "<IPython.core.display.Javascript object>"
      ]
     },
     "metadata": {},
     "output_type": "display_data"
    }
   ],
   "source": [
    "protocol_variables = pd.read_excel(DATA_PROTOCOL, sheet_name=\"variable_definitions\")\n",
    "protocol_variables.columns = protocol_variables.columns.str.lower()\n",
    "protocol_variables.head()"
   ]
  },
  {
   "cell_type": "code",
   "execution_count": 17,
   "metadata": {},
   "outputs": [
    {
     "data": {
      "text/html": [
       "<div>\n",
       "<style scoped>\n",
       "    .dataframe tbody tr th:only-of-type {\n",
       "        vertical-align: middle;\n",
       "    }\n",
       "\n",
       "    .dataframe tbody tr th {\n",
       "        vertical-align: top;\n",
       "    }\n",
       "\n",
       "    .dataframe thead th {\n",
       "        text-align: right;\n",
       "    }\n",
       "</style>\n",
       "<table border=\"1\" class=\"dataframe\">\n",
       "  <thead>\n",
       "    <tr style=\"text-align: right;\">\n",
       "      <th></th>\n",
       "      <th>unnamed: 0</th>\n",
       "      <th>scenario</th>\n",
       "      <th>description of scenario</th>\n",
       "      <th>detailed scenario description</th>\n",
       "      <th>priority</th>\n",
       "    </tr>\n",
       "  </thead>\n",
       "  <tbody>\n",
       "    <tr>\n",
       "      <th>0</th>\n",
       "      <td>Instructions/Details</td>\n",
       "      <td>Scenario identifier used in the CMIP6 modeling...</td>\n",
       "      <td>Brief description of scenario</td>\n",
       "      <td>Documentation on es-doc + some other clarifyin...</td>\n",
       "      <td>Top priority is Tier 1, additional runs are Ti...</td>\n",
       "    </tr>\n",
       "    <tr>\n",
       "      <th>1</th>\n",
       "      <td>Answers</td>\n",
       "      <td># Scenario ID</td>\n",
       "      <td># Scenario Description</td>\n",
       "      <td>#Scenario Specification</td>\n",
       "      <td># Tier in RCMP</td>\n",
       "    </tr>\n",
       "    <tr>\n",
       "      <th>2</th>\n",
       "      <td>NaN</td>\n",
       "      <td>piControl</td>\n",
       "      <td>pre-industrial control simulation (i.e. consta...</td>\n",
       "      <td>groups should run as long as is sensible/they ...</td>\n",
       "      <td>1</td>\n",
       "    </tr>\n",
       "    <tr>\n",
       "      <th>3</th>\n",
       "      <td>NaN</td>\n",
       "      <td>esm-piControl</td>\n",
       "      <td>pre-industrial control simulation with zero an...</td>\n",
       "      <td>should be identical to piControl except CO2 is...</td>\n",
       "      <td>1</td>\n",
       "    </tr>\n",
       "    <tr>\n",
       "      <th>4</th>\n",
       "      <td>NaN</td>\n",
       "      <td>esm-piControl-allGHG</td>\n",
       "      <td>pre-industrial control simulation with zero an...</td>\n",
       "      <td>should be identical to piControl except all GH...</td>\n",
       "      <td>2</td>\n",
       "    </tr>\n",
       "  </tbody>\n",
       "</table>\n",
       "</div>"
      ],
      "text/plain": [
       "             unnamed: 0                                           scenario  \\\n",
       "0  Instructions/Details  Scenario identifier used in the CMIP6 modeling...   \n",
       "1               Answers                                      # Scenario ID   \n",
       "2                   NaN                                          piControl   \n",
       "3                   NaN                                      esm-piControl   \n",
       "4                   NaN                               esm-piControl-allGHG   \n",
       "\n",
       "                             description of scenario  \\\n",
       "0                     Brief description of scenario    \n",
       "1                             # Scenario Description   \n",
       "2  pre-industrial control simulation (i.e. consta...   \n",
       "3  pre-industrial control simulation with zero an...   \n",
       "4  pre-industrial control simulation with zero an...   \n",
       "\n",
       "                       detailed scenario description  \\\n",
       "0  Documentation on es-doc + some other clarifyin...   \n",
       "1                            #Scenario Specification   \n",
       "2  groups should run as long as is sensible/they ...   \n",
       "3  should be identical to piControl except CO2 is...   \n",
       "4  should be identical to piControl except all GH...   \n",
       "\n",
       "                                            priority  \n",
       "0  Top priority is Tier 1, additional runs are Ti...  \n",
       "1                                     # Tier in RCMP  \n",
       "2                                                  1  \n",
       "3                                                  1  \n",
       "4                                                  2  "
      ]
     },
     "execution_count": 17,
     "metadata": {},
     "output_type": "execute_result"
    },
    {
     "data": {
      "application/javascript": [
       "\n",
       "            setTimeout(function() {\n",
       "                var nbb_cell_id = 17;\n",
       "                var nbb_formatted_code = \"protocol_scenarios = pd.read_excel(\\n    DATA_PROTOCOL, sheet_name=\\\"scenario_info\\\", skip_rows=2\\n)\\nprotocol_scenarios.columns = protocol_scenarios.columns.str.lower()\\nprotocol_scenarios.head()\";\n",
       "                var nbb_cells = Jupyter.notebook.get_cells();\n",
       "                for (var i = 0; i < nbb_cells.length; ++i) {\n",
       "                    if (nbb_cells[i].input_prompt_number == nbb_cell_id) {\n",
       "                        nbb_cells[i].set_text(nbb_formatted_code);\n",
       "                        break;\n",
       "                    }\n",
       "                }\n",
       "            }, 500);\n",
       "            "
      ],
      "text/plain": [
       "<IPython.core.display.Javascript object>"
      ]
     },
     "metadata": {},
     "output_type": "display_data"
    }
   ],
   "source": [
    "protocol_scenarios = pd.read_excel(\n",
    "    DATA_PROTOCOL, sheet_name=\"scenario_info\", skip_rows=2\n",
    ")\n",
    "protocol_scenarios.columns = protocol_scenarios.columns.str.lower()\n",
    "protocol_scenarios.head()"
   ]
  },
  {
   "cell_type": "markdown",
   "metadata": {},
   "source": [
    "## Model output"
   ]
  },
  {
   "cell_type": "code",
   "execution_count": 18,
   "metadata": {},
   "outputs": [
    {
     "data": {
      "application/javascript": [
       "\n",
       "            setTimeout(function() {\n",
       "                var nbb_cell_id = 18;\n",
       "                var nbb_formatted_code = \"RESULTS_PATH = os.path.join(INPUT_DATA_DIR, \\\"data\\\", \\\"results\\\", \\\"phase-1\\\")\";\n",
       "                var nbb_cells = Jupyter.notebook.get_cells();\n",
       "                for (var i = 0; i < nbb_cells.length; ++i) {\n",
       "                    if (nbb_cells[i].input_prompt_number == nbb_cell_id) {\n",
       "                        nbb_cells[i].set_text(nbb_formatted_code);\n",
       "                        break;\n",
       "                    }\n",
       "                }\n",
       "            }, 500);\n",
       "            "
      ],
      "text/plain": [
       "<IPython.core.display.Javascript object>"
      ]
     },
     "metadata": {},
     "output_type": "display_data"
    }
   ],
   "source": [
    "RESULTS_PATH = os.path.join(INPUT_DATA_DIR, \"data\", \"results\", \"phase-1\")\n",
    "\n",
    "\n",
    "\n",
    "\n"
   ]
  },
  {
   "cell_type": "code",
   "execution_count": 19,
   "metadata": {},
   "outputs": [
    {
     "data": {
      "application/javascript": [
       "\n",
       "            setTimeout(function() {\n",
       "                var nbb_cell_id = 19;\n",
       "                var nbb_formatted_code = \"model_of_interest = [\\n    #    \\\".*acc2.*v2-0-1.*\\\",\\n    #    \\\".*rcmip_phase-1_cicero-scm.*v5-0-0.*\\\",\\n    #    \\\".*escimo.*v2-0-1.*\\\",\\n    #    \\\".*fair-1.5-default.*v1-0-1.csv\\\",\\n    #    \\\".*fair-1.5-ens.*v1-0-1.csv\\\",\\n    #    \\\".*rcmip_phase-1_gir.*\\\",\\n    #    \\\".*greb.*v2-0-0.*\\\",\\n    #    \\\".*hector.*v2-0-0.*\\\",\\n    #    \\\".*MAGICC7.1.0aX-rcmip-phase-1.*\\\",\\n    #    \\\".*rcmip_phase-1_magicc7.1.0.beta.*_v1-0-0.*\\\",\\n    #    \\\".*rcmip_phase-1_magicc7.1.0.beta.*_v1-0-0.*\\\",\\n    #    \\\".*MAGICC7.1.0aX.*\\\",\\n    #    \\\".*mce.*v2-0-1.*\\\",\\n    #    \\\".*oscar-v3-0*v1-0-1.*\\\",\\n    #    \\\".*oscar-v3-0.*v1-0-1.*\\\"\\n    #    \\\".*wasp.*v1-0-1.*\\\",\\n]\";\n",
       "                var nbb_cells = Jupyter.notebook.get_cells();\n",
       "                for (var i = 0; i < nbb_cells.length; ++i) {\n",
       "                    if (nbb_cells[i].input_prompt_number == nbb_cell_id) {\n",
       "                        nbb_cells[i].set_text(nbb_formatted_code);\n",
       "                        break;\n",
       "                    }\n",
       "                }\n",
       "            }, 500);\n",
       "            "
      ],
      "text/plain": [
       "<IPython.core.display.Javascript object>"
      ]
     },
     "metadata": {},
     "output_type": "display_data"
    }
   ],
   "source": [
    "model_of_interest = [\n",
    "#    \".*acc2.*v2-0-1.*\",\n",
    "#    \".*rcmip_phase-1_cicero-scm.*v5-0-0.*\",\n",
    "#    \".*escimo.*v2-0-1.*\",\n",
    "#    \".*fair-1.5-default.*v1-0-1.csv\",\n",
    "#    \".*fair-1.5-ens.*v1-0-1.csv\",\n",
    "#    \".*rcmip_phase-1_gir.*\",\n",
    "#    \".*greb.*v2-0-0.*\",\n",
    "#    \".*hector.*v2-0-0.*\",\n",
    "#    \".*MAGICC7.1.0aX-rcmip-phase-1.*\",\n",
    "#    \".*rcmip_phase-1_magicc7.1.0.beta.*_v1-0-0.*\",\n",
    "#    \".*rcmip_phase-1_magicc7.1.0.beta.*_v1-0-0.*\",\n",
    "#    \".*MAGICC7.1.0aX.*\",\n",
    "#    \".*mce.*v2-0-1.*\",\n",
    "#    \".*oscar-v3-0*v1-0-1.*\",\n",
    "#    \".*oscar-v3-0.*v1-0-1.*\"\n",
    "#    \".*wasp.*v1-0-1.*\",\n",
    "]"
   ]
  },
  {
   "cell_type": "code",
   "execution_count": 20,
   "metadata": {
    "lines_to_next_cell": 2
   },
   "outputs": [
    {
     "name": "stdout",
     "output_type": "stream",
     "text": [
      "rcmip_phase-1_magicc7.1.0.beta-ipsl-cm6a-lr-r1i1p1f2_v1-0-0.csv\n",
      "rcmip_phase-1_magicc7.1.0.beta-canesm5-r1i1p2f1_v1-0-0.csv\n",
      "rcmip_phase-1_magicc7.1.0.beta-miroc6-r1i1p1f1_v1-0-0.csv\n",
      "rcmip_phase-1_magicc7.1.0.beta-giss-e2-2-g-r1i1p1f1_v1-0-0.csv\n",
      "rcmip_phase-1_magicc7.1.0.beta-bcc-esm1-r1i1p1f1_v1-0-0.csv\n",
      "rcmip_phase-1_magicc7.1.0.beta-cesm2-r1i1p1f1_v1-0-0.csv\n",
      "rcmip_phase-1_magicc7.1.0.beta-norcpm1-r1i1p1f1_v1-0-0.csv\n",
      "rcmip_phase-1_magicc7.1.0.beta-canesm5-r10i1p1f1_v1-0-0.csv\n",
      "rcmip_phase-1_magicc7.1.0.beta-noresm2-lm-r1i1p1f1_v1-0-0.csv\n",
      "rcmip_phase-1_magicc7.1.0.beta-cnrm-cm6-1-hr-r1i1p1f2_v1-0-0.csv\n",
      "rcmip_phase-1_magicc7.1.0.beta-giss-e2-1-h-r1i1p1f1_v1-0-0.csv\n",
      "rcmip_phase-1_magicc7.1.0.beta-sam0-unicon-r1i1p1f1_v1-0-0.csv\n",
      "rcmip_phase-1_magicc7.1.0.beta-cesm2-waccm-r1i1p1f1_v1-0-0.csv\n",
      "rcmip_phase-1_magicc7.1.0.beta-e3sm-1-0-r1i1p1f1_v1-0-0.csv\n",
      "rcmip_phase-1_magicc7.1.0.beta_v1-0-0.csv\n",
      "rcmip_phase-1_magicc7.1.0.beta-ipsl-cm6a-lr-r10i1p1f1_v1-0-0.csv\n",
      "rcmip_phase-1_magicc7.1.0.beta-fgoals-g3-r1i1p1f1_v1-0-0.csv\n",
      "rcmip_phase-1_magicc7.1.0.beta-ukesm1-0-ll-r1i1p1f2_v1-0-0.csv\n",
      "rcmip_phase-1_magicc7.1.0.beta-mcm-ua-1-0-r1i1p1f2_v1-0-0.csv\n",
      "rcmip_phase-1_magicc7.1.0.beta-bcc-csm2-mr-r1i1p1f1_v1-0-0.csv\n",
      "rcmip_phase-1_magicc7.1.0.beta-giss-e2-1-g-r1i1p1f1_v1-0-0.csv\n",
      "rcmip_phase-1_magicc7.1.0.beta-ipsl-cm6a-lr-r1i1p1f1_v1-0-0.csv\n",
      "rcmip_phase-1_magicc7.1.0.beta-ec-earth3-veg-r1i1p1f1_v1-0-0.csv\n",
      "rcmip_phase-1_magicc7.1.0.beta-miroc-es2l-r1i1p1f2_v1-0-0.csv\n",
      "rcmip_phase-1_magicc7.1.0.beta-cnrm-esm2-1-r1i1p1f2_v1-0-0.csv\n",
      "rcmip_phase-1_magicc7.1.0.beta-cnrm-cm6-1-r1i1p1f2_v1-0-0.csv\n",
      "rcmip_phase-1_magicc7.1.0.beta-awi-cm-1-1-mr-r1i1p1f1_v1-0-0.csv\n",
      "rcmip_phase-1_magicc7.1.0.beta-mpi-esm1-2-hr-r1i1p1f1_v1-0-0.csv\n",
      "rcmip_phase-1_magicc7.1.0.beta-canesm5-r1i1p1f1_v1-0-0.csv\n"
     ]
    },
    {
     "data": {
      "application/javascript": [
       "\n",
       "            setTimeout(function() {\n",
       "                var nbb_cell_id = 20;\n",
       "                var nbb_formatted_code = \"l_magicc_mods = []\\nfor _a in a:\\n    print(_a.split(\\\"/\\\")[-1])\\n    l_magicc_mods.append(\\\".*\\\" + _a.split(\\\"/\\\")[-1])\";\n",
       "                var nbb_cells = Jupyter.notebook.get_cells();\n",
       "                for (var i = 0; i < nbb_cells.length; ++i) {\n",
       "                    if (nbb_cells[i].input_prompt_number == nbb_cell_id) {\n",
       "                        nbb_cells[i].set_text(nbb_formatted_code);\n",
       "                        break;\n",
       "                    }\n",
       "                }\n",
       "            }, 500);\n",
       "            "
      ],
      "text/plain": [
       "<IPython.core.display.Javascript object>"
      ]
     },
     "metadata": {},
     "output_type": "display_data"
    }
   ],
   "source": [
    "magic_base = \".*rcmip_phase-1_magicc7.1.0.beta.*_v1-0-0.*\"\n",
    "mag_rf = get_res_fl(mod)\n",
    "l_magicc_mods = []\n",
    "for _a in mag_rf:\n",
    "    print(_a.split('/')[-1])\n",
    "    l_magicc_mods.append('.*'+_a.split('/')[-1])"
   ]
  },
  {
   "cell_type": "code",
   "execution_count": null,
   "metadata": {},
   "outputs": [],
   "source": []
  },
  {
   "cell_type": "code",
   "execution_count": 21,
   "metadata": {},
   "outputs": [
    {
     "name": "stdout",
     "output_type": "stream",
     "text": [
      ".*rcmip_phase-1_magicc7.1.0.beta-ipsl-cm6a-lr-r1i1p1f2_v1-0-0.csv\n",
      "['/home/sarambl/PHD/IPCC/public/AR6_CH6_RCMIPFIGS/ar6_ch6_rcmipfigs/data_in/data/results/phase-1/magicc7/rcmip_phase-1_magicc7.1.0.beta-ipsl-cm6a-lr-r1i1p1f2_v1-0-0.csv']\n"
     ]
    },
    {
     "data": {
      "application/vnd.jupyter.widget-view+json": {
       "model_id": "144b402ad6044ca6931316d048e0ba3a",
       "version_major": 2,
       "version_minor": 0
      },
      "text/plain": [
       "HBox(children=(IntProgress(value=0, max=1), HTML(value='')))"
      ]
     },
     "metadata": {},
     "output_type": "display_data"
    },
    {
     "name": "stdout",
     "output_type": "stream",
     "text": [
      "\n"
     ]
    },
    {
     "name": "stderr",
     "output_type": "stream",
     "text": [
      "Filtered ScmDataFrame is empty!\n",
      "Filtered ScmDataFrame is empty!\n",
      "Filtered ScmDataFrame is empty!\n",
      "Filtered ScmDataFrame is empty!\n"
     ]
    },
    {
     "data": {
      "application/vnd.jupyter.widget-view+json": {
       "model_id": "cf17105bb93042d49f0b7e867ea38eda",
       "version_major": 2,
       "version_minor": 0
      },
      "text/plain": [
       "HBox(children=(IntProgress(value=0, description='Climate model', max=1, style=ProgressStyle(description_width=…"
      ]
     },
     "metadata": {},
     "output_type": "display_data"
    },
    {
     "name": "stdout",
     "output_type": "stream",
     "text": [
      "MAGICC7.1.0.beta_IPSL-CM6A-LR_R1I1P1F2\n",
      "--------------------------------------\n"
     ]
    },
    {
     "data": {
      "application/vnd.jupyter.widget-view+json": {
       "model_id": "eb44faf19e1d4c3b9d7e3ee0f6e0e3fc",
       "version_major": 2,
       "version_minor": 0
      },
      "text/plain": [
       "HBox(children=(IntProgress(value=0, max=226), HTML(value='')))"
      ]
     },
     "metadata": {},
     "output_type": "display_data"
    },
    {
     "name": "stdout",
     "output_type": "stream",
     "text": [
      "\n",
      "All clear for MAGICC7.1.0.beta_IPSL-CM6A-LR_R1I1P1F2\n",
      "\n",
      "\n",
      "\n"
     ]
    },
    {
     "data": {
      "application/vnd.jupyter.widget-view+json": {
       "model_id": "459286636acd4657a4d31d853be926a0",
       "version_major": 2,
       "version_minor": 0
      },
      "text/plain": [
       "HBox(children=(IntProgress(value=0, description='Climate models', max=1, style=ProgressStyle(description_width…"
      ]
     },
     "metadata": {},
     "output_type": "display_data"
    },
    {
     "data": {
      "application/vnd.jupyter.widget-view+json": {
       "model_id": "b8668614e476459897d06da92c51f8c0",
       "version_major": 2,
       "version_minor": 0
      },
      "text/plain": [
       "HBox(children=(IntProgress(value=0, description='Regions', max=1, style=ProgressStyle(description_width='initi…"
      ]
     },
     "metadata": {},
     "output_type": "display_data"
    },
    {
     "data": {
      "application/vnd.jupyter.widget-view+json": {
       "model_id": "47f78e95c9064892ad657080826a1232",
       "version_major": 2,
       "version_minor": 0
      },
      "text/plain": [
       "HBox(children=(IntProgress(value=0, description='Variables', max=226, style=ProgressStyle(description_width='i…"
      ]
     },
     "metadata": {},
     "output_type": "display_data"
    },
    {
     "name": "stdout",
     "output_type": "stream",
     "text": [
      "22 of 226 vars done for MAGICC7.1.0.beta_IPSL-CM6A-LR_R1I1P1F2, region World\n",
      "44 of 226 vars done for MAGICC7.1.0.beta_IPSL-CM6A-LR_R1I1P1F2, region World\n",
      "66 of 226 vars done for MAGICC7.1.0.beta_IPSL-CM6A-LR_R1I1P1F2, region World\n",
      "88 of 226 vars done for MAGICC7.1.0.beta_IPSL-CM6A-LR_R1I1P1F2, region World\n",
      "110 of 226 vars done for MAGICC7.1.0.beta_IPSL-CM6A-LR_R1I1P1F2, region World\n",
      "132 of 226 vars done for MAGICC7.1.0.beta_IPSL-CM6A-LR_R1I1P1F2, region World\n",
      "154 of 226 vars done for MAGICC7.1.0.beta_IPSL-CM6A-LR_R1I1P1F2, region World\n",
      "176 of 226 vars done for MAGICC7.1.0.beta_IPSL-CM6A-LR_R1I1P1F2, region World\n",
      "198 of 226 vars done for MAGICC7.1.0.beta_IPSL-CM6A-LR_R1I1P1F2, region World\n",
      "220 of 226 vars done for MAGICC7.1.0.beta_IPSL-CM6A-LR_R1I1P1F2, region World\n",
      ".*rcmip_phase-1_magicc7.1.0.beta-canesm5-r1i1p2f1_v1-0-0.csv\n",
      "['/home/sarambl/PHD/IPCC/public/AR6_CH6_RCMIPFIGS/ar6_ch6_rcmipfigs/data_in/data/results/phase-1/magicc7/rcmip_phase-1_magicc7.1.0.beta-canesm5-r1i1p2f1_v1-0-0.csv']\n"
     ]
    },
    {
     "data": {
      "application/vnd.jupyter.widget-view+json": {
       "model_id": "c1a1dcb068a24d73ad90683c9d9fc396",
       "version_major": 2,
       "version_minor": 0
      },
      "text/plain": [
       "HBox(children=(IntProgress(value=0, max=1), HTML(value='')))"
      ]
     },
     "metadata": {},
     "output_type": "display_data"
    },
    {
     "name": "stdout",
     "output_type": "stream",
     "text": [
      "\n"
     ]
    },
    {
     "name": "stderr",
     "output_type": "stream",
     "text": [
      "Filtered ScmDataFrame is empty!\n",
      "Filtered ScmDataFrame is empty!\n",
      "Filtered ScmDataFrame is empty!\n",
      "Filtered ScmDataFrame is empty!\n"
     ]
    },
    {
     "data": {
      "application/vnd.jupyter.widget-view+json": {
       "model_id": "e0d7e0ff5867479ea61d15c240c628aa",
       "version_major": 2,
       "version_minor": 0
      },
      "text/plain": [
       "HBox(children=(IntProgress(value=0, description='Climate model', max=1, style=ProgressStyle(description_width=…"
      ]
     },
     "metadata": {},
     "output_type": "display_data"
    },
    {
     "name": "stdout",
     "output_type": "stream",
     "text": [
      "MAGICC7.1.0.beta_CANESM5_R1I1P2F1\n",
      "---------------------------------\n"
     ]
    },
    {
     "data": {
      "application/vnd.jupyter.widget-view+json": {
       "model_id": "ce3e2c821122498686dc35a9ab7862fb",
       "version_major": 2,
       "version_minor": 0
      },
      "text/plain": [
       "HBox(children=(IntProgress(value=0, max=226), HTML(value='')))"
      ]
     },
     "metadata": {},
     "output_type": "display_data"
    },
    {
     "name": "stdout",
     "output_type": "stream",
     "text": [
      "\n",
      "All clear for MAGICC7.1.0.beta_CANESM5_R1I1P2F1\n",
      "\n",
      "\n",
      "\n"
     ]
    },
    {
     "data": {
      "application/vnd.jupyter.widget-view+json": {
       "model_id": "f5db341c8c2248b39d1b03722fd0cc21",
       "version_major": 2,
       "version_minor": 0
      },
      "text/plain": [
       "HBox(children=(IntProgress(value=0, description='Climate models', max=1, style=ProgressStyle(description_width…"
      ]
     },
     "metadata": {},
     "output_type": "display_data"
    },
    {
     "data": {
      "application/vnd.jupyter.widget-view+json": {
       "model_id": "63623656bcf644a997bcaec4436080b5",
       "version_major": 2,
       "version_minor": 0
      },
      "text/plain": [
       "HBox(children=(IntProgress(value=0, description='Regions', max=1, style=ProgressStyle(description_width='initi…"
      ]
     },
     "metadata": {},
     "output_type": "display_data"
    },
    {
     "data": {
      "application/vnd.jupyter.widget-view+json": {
       "model_id": "58edcf4573e5441b93137f2f1b99cd1d",
       "version_major": 2,
       "version_minor": 0
      },
      "text/plain": [
       "HBox(children=(IntProgress(value=0, description='Variables', max=226, style=ProgressStyle(description_width='i…"
      ]
     },
     "metadata": {},
     "output_type": "display_data"
    },
    {
     "name": "stdout",
     "output_type": "stream",
     "text": [
      "22 of 226 vars done for MAGICC7.1.0.beta_CANESM5_R1I1P2F1, region World\n",
      "44 of 226 vars done for MAGICC7.1.0.beta_CANESM5_R1I1P2F1, region World\n",
      "66 of 226 vars done for MAGICC7.1.0.beta_CANESM5_R1I1P2F1, region World\n",
      "88 of 226 vars done for MAGICC7.1.0.beta_CANESM5_R1I1P2F1, region World\n",
      "110 of 226 vars done for MAGICC7.1.0.beta_CANESM5_R1I1P2F1, region World\n",
      "132 of 226 vars done for MAGICC7.1.0.beta_CANESM5_R1I1P2F1, region World\n",
      "154 of 226 vars done for MAGICC7.1.0.beta_CANESM5_R1I1P2F1, region World\n",
      "176 of 226 vars done for MAGICC7.1.0.beta_CANESM5_R1I1P2F1, region World\n",
      "198 of 226 vars done for MAGICC7.1.0.beta_CANESM5_R1I1P2F1, region World\n",
      "220 of 226 vars done for MAGICC7.1.0.beta_CANESM5_R1I1P2F1, region World\n",
      ".*rcmip_phase-1_magicc7.1.0.beta-miroc6-r1i1p1f1_v1-0-0.csv\n",
      "['/home/sarambl/PHD/IPCC/public/AR6_CH6_RCMIPFIGS/ar6_ch6_rcmipfigs/data_in/data/results/phase-1/magicc7/rcmip_phase-1_magicc7.1.0.beta-miroc6-r1i1p1f1_v1-0-0.csv']\n"
     ]
    },
    {
     "data": {
      "application/vnd.jupyter.widget-view+json": {
       "model_id": "c4f412b63d694ab19b60aad9ad2fa61a",
       "version_major": 2,
       "version_minor": 0
      },
      "text/plain": [
       "HBox(children=(IntProgress(value=0, max=1), HTML(value='')))"
      ]
     },
     "metadata": {},
     "output_type": "display_data"
    },
    {
     "name": "stdout",
     "output_type": "stream",
     "text": [
      "\n"
     ]
    },
    {
     "name": "stderr",
     "output_type": "stream",
     "text": [
      "Filtered ScmDataFrame is empty!\n",
      "Filtered ScmDataFrame is empty!\n",
      "Filtered ScmDataFrame is empty!\n",
      "Filtered ScmDataFrame is empty!\n"
     ]
    },
    {
     "data": {
      "application/vnd.jupyter.widget-view+json": {
       "model_id": "d47e9e80740d41418499de972f010f0b",
       "version_major": 2,
       "version_minor": 0
      },
      "text/plain": [
       "HBox(children=(IntProgress(value=0, description='Climate model', max=1, style=ProgressStyle(description_width=…"
      ]
     },
     "metadata": {},
     "output_type": "display_data"
    },
    {
     "name": "stdout",
     "output_type": "stream",
     "text": [
      "MAGICC7.1.0.beta_MIROC6_R1I1P1F1\n",
      "--------------------------------\n"
     ]
    },
    {
     "data": {
      "application/vnd.jupyter.widget-view+json": {
       "model_id": "db59650bfe414ac38713555a477bc1c7",
       "version_major": 2,
       "version_minor": 0
      },
      "text/plain": [
       "HBox(children=(IntProgress(value=0, max=226), HTML(value='')))"
      ]
     },
     "metadata": {},
     "output_type": "display_data"
    },
    {
     "name": "stdout",
     "output_type": "stream",
     "text": [
      "\n",
      "All clear for MAGICC7.1.0.beta_MIROC6_R1I1P1F1\n",
      "\n",
      "\n",
      "\n"
     ]
    },
    {
     "data": {
      "application/vnd.jupyter.widget-view+json": {
       "model_id": "e6ed419e103745cebed181213c9b87b4",
       "version_major": 2,
       "version_minor": 0
      },
      "text/plain": [
       "HBox(children=(IntProgress(value=0, description='Climate models', max=1, style=ProgressStyle(description_width…"
      ]
     },
     "metadata": {},
     "output_type": "display_data"
    },
    {
     "data": {
      "application/vnd.jupyter.widget-view+json": {
       "model_id": "aefe0e550edc45f9a2a4d1a17e7f14ea",
       "version_major": 2,
       "version_minor": 0
      },
      "text/plain": [
       "HBox(children=(IntProgress(value=0, description='Regions', max=1, style=ProgressStyle(description_width='initi…"
      ]
     },
     "metadata": {},
     "output_type": "display_data"
    },
    {
     "data": {
      "application/vnd.jupyter.widget-view+json": {
       "model_id": "3fc5e1ec842f42ee93b8d92c7515007e",
       "version_major": 2,
       "version_minor": 0
      },
      "text/plain": [
       "HBox(children=(IntProgress(value=0, description='Variables', max=226, style=ProgressStyle(description_width='i…"
      ]
     },
     "metadata": {},
     "output_type": "display_data"
    },
    {
     "name": "stdout",
     "output_type": "stream",
     "text": [
      "22 of 226 vars done for MAGICC7.1.0.beta_MIROC6_R1I1P1F1, region World\n",
      "44 of 226 vars done for MAGICC7.1.0.beta_MIROC6_R1I1P1F1, region World\n",
      "66 of 226 vars done for MAGICC7.1.0.beta_MIROC6_R1I1P1F1, region World\n",
      "88 of 226 vars done for MAGICC7.1.0.beta_MIROC6_R1I1P1F1, region World\n",
      "110 of 226 vars done for MAGICC7.1.0.beta_MIROC6_R1I1P1F1, region World\n",
      "132 of 226 vars done for MAGICC7.1.0.beta_MIROC6_R1I1P1F1, region World\n",
      "154 of 226 vars done for MAGICC7.1.0.beta_MIROC6_R1I1P1F1, region World\n",
      "176 of 226 vars done for MAGICC7.1.0.beta_MIROC6_R1I1P1F1, region World\n",
      "198 of 226 vars done for MAGICC7.1.0.beta_MIROC6_R1I1P1F1, region World\n",
      "220 of 226 vars done for MAGICC7.1.0.beta_MIROC6_R1I1P1F1, region World\n",
      ".*rcmip_phase-1_magicc7.1.0.beta-giss-e2-2-g-r1i1p1f1_v1-0-0.csv\n",
      "['/home/sarambl/PHD/IPCC/public/AR6_CH6_RCMIPFIGS/ar6_ch6_rcmipfigs/data_in/data/results/phase-1/magicc7/rcmip_phase-1_magicc7.1.0.beta-giss-e2-2-g-r1i1p1f1_v1-0-0.csv']\n"
     ]
    },
    {
     "data": {
      "application/vnd.jupyter.widget-view+json": {
       "model_id": "0ae4ef0335e54c04a15104d7b241ff30",
       "version_major": 2,
       "version_minor": 0
      },
      "text/plain": [
       "HBox(children=(IntProgress(value=0, max=1), HTML(value='')))"
      ]
     },
     "metadata": {},
     "output_type": "display_data"
    },
    {
     "name": "stdout",
     "output_type": "stream",
     "text": [
      "\n"
     ]
    },
    {
     "name": "stderr",
     "output_type": "stream",
     "text": [
      "Filtered ScmDataFrame is empty!\n",
      "Filtered ScmDataFrame is empty!\n",
      "Filtered ScmDataFrame is empty!\n",
      "Filtered ScmDataFrame is empty!\n"
     ]
    },
    {
     "data": {
      "application/vnd.jupyter.widget-view+json": {
       "model_id": "c22c354104cc4f40b1acd30b2799d539",
       "version_major": 2,
       "version_minor": 0
      },
      "text/plain": [
       "HBox(children=(IntProgress(value=0, description='Climate model', max=1, style=ProgressStyle(description_width=…"
      ]
     },
     "metadata": {},
     "output_type": "display_data"
    },
    {
     "name": "stdout",
     "output_type": "stream",
     "text": [
      "MAGICC7.1.0.beta_GISS-E2-2-G_R1I1P1F1\n",
      "-------------------------------------\n"
     ]
    },
    {
     "data": {
      "application/vnd.jupyter.widget-view+json": {
       "model_id": "cd5eed9fd70445b2b696b512c17ac25a",
       "version_major": 2,
       "version_minor": 0
      },
      "text/plain": [
       "HBox(children=(IntProgress(value=0, max=226), HTML(value='')))"
      ]
     },
     "metadata": {},
     "output_type": "display_data"
    },
    {
     "name": "stdout",
     "output_type": "stream",
     "text": [
      "\n",
      "All clear for MAGICC7.1.0.beta_GISS-E2-2-G_R1I1P1F1\n",
      "\n",
      "\n",
      "\n"
     ]
    },
    {
     "data": {
      "application/vnd.jupyter.widget-view+json": {
       "model_id": "7933247964c64abcab31e2e3333d535e",
       "version_major": 2,
       "version_minor": 0
      },
      "text/plain": [
       "HBox(children=(IntProgress(value=0, description='Climate models', max=1, style=ProgressStyle(description_width…"
      ]
     },
     "metadata": {},
     "output_type": "display_data"
    },
    {
     "data": {
      "application/vnd.jupyter.widget-view+json": {
       "model_id": "3bf2e998e7484cef8633de7584be9610",
       "version_major": 2,
       "version_minor": 0
      },
      "text/plain": [
       "HBox(children=(IntProgress(value=0, description='Regions', max=1, style=ProgressStyle(description_width='initi…"
      ]
     },
     "metadata": {},
     "output_type": "display_data"
    },
    {
     "data": {
      "application/vnd.jupyter.widget-view+json": {
       "model_id": "a7794fb7a4fa4090804aa4a55219693e",
       "version_major": 2,
       "version_minor": 0
      },
      "text/plain": [
       "HBox(children=(IntProgress(value=0, description='Variables', max=226, style=ProgressStyle(description_width='i…"
      ]
     },
     "metadata": {},
     "output_type": "display_data"
    },
    {
     "name": "stdout",
     "output_type": "stream",
     "text": [
      "22 of 226 vars done for MAGICC7.1.0.beta_GISS-E2-2-G_R1I1P1F1, region World\n",
      "44 of 226 vars done for MAGICC7.1.0.beta_GISS-E2-2-G_R1I1P1F1, region World\n",
      "66 of 226 vars done for MAGICC7.1.0.beta_GISS-E2-2-G_R1I1P1F1, region World\n",
      "88 of 226 vars done for MAGICC7.1.0.beta_GISS-E2-2-G_R1I1P1F1, region World\n",
      "110 of 226 vars done for MAGICC7.1.0.beta_GISS-E2-2-G_R1I1P1F1, region World\n",
      "132 of 226 vars done for MAGICC7.1.0.beta_GISS-E2-2-G_R1I1P1F1, region World\n",
      "154 of 226 vars done for MAGICC7.1.0.beta_GISS-E2-2-G_R1I1P1F1, region World\n",
      "176 of 226 vars done for MAGICC7.1.0.beta_GISS-E2-2-G_R1I1P1F1, region World\n",
      "198 of 226 vars done for MAGICC7.1.0.beta_GISS-E2-2-G_R1I1P1F1, region World\n",
      "220 of 226 vars done for MAGICC7.1.0.beta_GISS-E2-2-G_R1I1P1F1, region World\n",
      ".*rcmip_phase-1_magicc7.1.0.beta-bcc-esm1-r1i1p1f1_v1-0-0.csv\n",
      "['/home/sarambl/PHD/IPCC/public/AR6_CH6_RCMIPFIGS/ar6_ch6_rcmipfigs/data_in/data/results/phase-1/magicc7/rcmip_phase-1_magicc7.1.0.beta-bcc-esm1-r1i1p1f1_v1-0-0.csv']\n"
     ]
    },
    {
     "data": {
      "application/vnd.jupyter.widget-view+json": {
       "model_id": "1fb16d636f7741e291cd0cc828c9187d",
       "version_major": 2,
       "version_minor": 0
      },
      "text/plain": [
       "HBox(children=(IntProgress(value=0, max=1), HTML(value='')))"
      ]
     },
     "metadata": {},
     "output_type": "display_data"
    },
    {
     "name": "stdout",
     "output_type": "stream",
     "text": [
      "\n"
     ]
    },
    {
     "name": "stderr",
     "output_type": "stream",
     "text": [
      "Filtered ScmDataFrame is empty!\n",
      "Filtered ScmDataFrame is empty!\n",
      "Filtered ScmDataFrame is empty!\n",
      "Filtered ScmDataFrame is empty!\n"
     ]
    },
    {
     "data": {
      "application/vnd.jupyter.widget-view+json": {
       "model_id": "e5fa1a4d36f642c2a5c5a8af184aac39",
       "version_major": 2,
       "version_minor": 0
      },
      "text/plain": [
       "HBox(children=(IntProgress(value=0, description='Climate model', max=1, style=ProgressStyle(description_width=…"
      ]
     },
     "metadata": {},
     "output_type": "display_data"
    },
    {
     "name": "stdout",
     "output_type": "stream",
     "text": [
      "MAGICC7.1.0.beta_BCC-ESM1_R1I1P1F1\n",
      "----------------------------------\n"
     ]
    },
    {
     "data": {
      "application/vnd.jupyter.widget-view+json": {
       "model_id": "a8ddd5c4f2854ef6af290babc6c48f22",
       "version_major": 2,
       "version_minor": 0
      },
      "text/plain": [
       "HBox(children=(IntProgress(value=0, max=226), HTML(value='')))"
      ]
     },
     "metadata": {},
     "output_type": "display_data"
    },
    {
     "name": "stdout",
     "output_type": "stream",
     "text": [
      "\n",
      "All clear for MAGICC7.1.0.beta_BCC-ESM1_R1I1P1F1\n",
      "\n",
      "\n",
      "\n"
     ]
    },
    {
     "data": {
      "application/vnd.jupyter.widget-view+json": {
       "model_id": "0a81bd69c76245c8a20498a900917331",
       "version_major": 2,
       "version_minor": 0
      },
      "text/plain": [
       "HBox(children=(IntProgress(value=0, description='Climate models', max=1, style=ProgressStyle(description_width…"
      ]
     },
     "metadata": {},
     "output_type": "display_data"
    },
    {
     "data": {
      "application/vnd.jupyter.widget-view+json": {
       "model_id": "49a8a855c17243ec9722b1050696d651",
       "version_major": 2,
       "version_minor": 0
      },
      "text/plain": [
       "HBox(children=(IntProgress(value=0, description='Regions', max=1, style=ProgressStyle(description_width='initi…"
      ]
     },
     "metadata": {},
     "output_type": "display_data"
    },
    {
     "data": {
      "application/vnd.jupyter.widget-view+json": {
       "model_id": "c42e21d58b084d67bd7e1c91618cbb4f",
       "version_major": 2,
       "version_minor": 0
      },
      "text/plain": [
       "HBox(children=(IntProgress(value=0, description='Variables', max=226, style=ProgressStyle(description_width='i…"
      ]
     },
     "metadata": {},
     "output_type": "display_data"
    },
    {
     "name": "stdout",
     "output_type": "stream",
     "text": [
      "22 of 226 vars done for MAGICC7.1.0.beta_BCC-ESM1_R1I1P1F1, region World\n",
      "44 of 226 vars done for MAGICC7.1.0.beta_BCC-ESM1_R1I1P1F1, region World\n",
      "66 of 226 vars done for MAGICC7.1.0.beta_BCC-ESM1_R1I1P1F1, region World\n",
      "88 of 226 vars done for MAGICC7.1.0.beta_BCC-ESM1_R1I1P1F1, region World\n",
      "110 of 226 vars done for MAGICC7.1.0.beta_BCC-ESM1_R1I1P1F1, region World\n",
      "132 of 226 vars done for MAGICC7.1.0.beta_BCC-ESM1_R1I1P1F1, region World\n",
      "154 of 226 vars done for MAGICC7.1.0.beta_BCC-ESM1_R1I1P1F1, region World\n",
      "176 of 226 vars done for MAGICC7.1.0.beta_BCC-ESM1_R1I1P1F1, region World\n",
      "198 of 226 vars done for MAGICC7.1.0.beta_BCC-ESM1_R1I1P1F1, region World\n",
      "220 of 226 vars done for MAGICC7.1.0.beta_BCC-ESM1_R1I1P1F1, region World\n",
      ".*rcmip_phase-1_magicc7.1.0.beta-cesm2-r1i1p1f1_v1-0-0.csv\n",
      "['/home/sarambl/PHD/IPCC/public/AR6_CH6_RCMIPFIGS/ar6_ch6_rcmipfigs/data_in/data/results/phase-1/magicc7/rcmip_phase-1_magicc7.1.0.beta-cesm2-r1i1p1f1_v1-0-0.csv']\n"
     ]
    },
    {
     "data": {
      "application/vnd.jupyter.widget-view+json": {
       "model_id": "60de48083f5843a7b9c88b93d74fe164",
       "version_major": 2,
       "version_minor": 0
      },
      "text/plain": [
       "HBox(children=(IntProgress(value=0, max=1), HTML(value='')))"
      ]
     },
     "metadata": {},
     "output_type": "display_data"
    },
    {
     "name": "stdout",
     "output_type": "stream",
     "text": [
      "\n"
     ]
    },
    {
     "name": "stderr",
     "output_type": "stream",
     "text": [
      "Filtered ScmDataFrame is empty!\n",
      "Filtered ScmDataFrame is empty!\n",
      "Filtered ScmDataFrame is empty!\n",
      "Filtered ScmDataFrame is empty!\n"
     ]
    },
    {
     "data": {
      "application/vnd.jupyter.widget-view+json": {
       "model_id": "7a0f0bec69a6485caea6523b4d97b859",
       "version_major": 2,
       "version_minor": 0
      },
      "text/plain": [
       "HBox(children=(IntProgress(value=0, description='Climate model', max=1, style=ProgressStyle(description_width=…"
      ]
     },
     "metadata": {},
     "output_type": "display_data"
    },
    {
     "name": "stdout",
     "output_type": "stream",
     "text": [
      "MAGICC7.1.0.beta_CESM2_R1I1P1F1\n",
      "-------------------------------\n"
     ]
    },
    {
     "data": {
      "application/vnd.jupyter.widget-view+json": {
       "model_id": "bf7a532be247402884347547e3565b5f",
       "version_major": 2,
       "version_minor": 0
      },
      "text/plain": [
       "HBox(children=(IntProgress(value=0, max=226), HTML(value='')))"
      ]
     },
     "metadata": {},
     "output_type": "display_data"
    },
    {
     "name": "stdout",
     "output_type": "stream",
     "text": [
      "\n",
      "All clear for MAGICC7.1.0.beta_CESM2_R1I1P1F1\n",
      "\n",
      "\n",
      "\n"
     ]
    },
    {
     "data": {
      "application/vnd.jupyter.widget-view+json": {
       "model_id": "37dd5792f1af432882bc91352a17ef59",
       "version_major": 2,
       "version_minor": 0
      },
      "text/plain": [
       "HBox(children=(IntProgress(value=0, description='Climate models', max=1, style=ProgressStyle(description_width…"
      ]
     },
     "metadata": {},
     "output_type": "display_data"
    },
    {
     "data": {
      "application/vnd.jupyter.widget-view+json": {
       "model_id": "ca9a771cb9004be784f3ffbff25a09a2",
       "version_major": 2,
       "version_minor": 0
      },
      "text/plain": [
       "HBox(children=(IntProgress(value=0, description='Regions', max=1, style=ProgressStyle(description_width='initi…"
      ]
     },
     "metadata": {},
     "output_type": "display_data"
    },
    {
     "data": {
      "application/vnd.jupyter.widget-view+json": {
       "model_id": "d69f96a7dc394ac388b3ca190434ba37",
       "version_major": 2,
       "version_minor": 0
      },
      "text/plain": [
       "HBox(children=(IntProgress(value=0, description='Variables', max=226, style=ProgressStyle(description_width='i…"
      ]
     },
     "metadata": {},
     "output_type": "display_data"
    },
    {
     "name": "stdout",
     "output_type": "stream",
     "text": [
      "22 of 226 vars done for MAGICC7.1.0.beta_CESM2_R1I1P1F1, region World\n",
      "44 of 226 vars done for MAGICC7.1.0.beta_CESM2_R1I1P1F1, region World\n",
      "66 of 226 vars done for MAGICC7.1.0.beta_CESM2_R1I1P1F1, region World\n",
      "88 of 226 vars done for MAGICC7.1.0.beta_CESM2_R1I1P1F1, region World\n",
      "110 of 226 vars done for MAGICC7.1.0.beta_CESM2_R1I1P1F1, region World\n",
      "132 of 226 vars done for MAGICC7.1.0.beta_CESM2_R1I1P1F1, region World\n",
      "154 of 226 vars done for MAGICC7.1.0.beta_CESM2_R1I1P1F1, region World\n",
      "176 of 226 vars done for MAGICC7.1.0.beta_CESM2_R1I1P1F1, region World\n",
      "198 of 226 vars done for MAGICC7.1.0.beta_CESM2_R1I1P1F1, region World\n",
      "220 of 226 vars done for MAGICC7.1.0.beta_CESM2_R1I1P1F1, region World\n",
      ".*rcmip_phase-1_magicc7.1.0.beta-norcpm1-r1i1p1f1_v1-0-0.csv\n",
      "['/home/sarambl/PHD/IPCC/public/AR6_CH6_RCMIPFIGS/ar6_ch6_rcmipfigs/data_in/data/results/phase-1/magicc7/rcmip_phase-1_magicc7.1.0.beta-norcpm1-r1i1p1f1_v1-0-0.csv']\n"
     ]
    },
    {
     "data": {
      "application/vnd.jupyter.widget-view+json": {
       "model_id": "f763f39aef1c49d2a40aec1c5e2fefc0",
       "version_major": 2,
       "version_minor": 0
      },
      "text/plain": [
       "HBox(children=(IntProgress(value=0, max=1), HTML(value='')))"
      ]
     },
     "metadata": {},
     "output_type": "display_data"
    },
    {
     "name": "stdout",
     "output_type": "stream",
     "text": [
      "\n"
     ]
    },
    {
     "name": "stderr",
     "output_type": "stream",
     "text": [
      "Filtered ScmDataFrame is empty!\n",
      "Filtered ScmDataFrame is empty!\n",
      "Filtered ScmDataFrame is empty!\n",
      "Filtered ScmDataFrame is empty!\n"
     ]
    },
    {
     "data": {
      "application/vnd.jupyter.widget-view+json": {
       "model_id": "91d6b1d35ecb4d5fbff0c7b783229bd4",
       "version_major": 2,
       "version_minor": 0
      },
      "text/plain": [
       "HBox(children=(IntProgress(value=0, description='Climate model', max=1, style=ProgressStyle(description_width=…"
      ]
     },
     "metadata": {},
     "output_type": "display_data"
    },
    {
     "name": "stdout",
     "output_type": "stream",
     "text": [
      "MAGICC7.1.0.beta_NORCPM1_R1I1P1F1\n",
      "---------------------------------\n"
     ]
    },
    {
     "data": {
      "application/vnd.jupyter.widget-view+json": {
       "model_id": "6ed9e19219f0484c8a8170a4df589400",
       "version_major": 2,
       "version_minor": 0
      },
      "text/plain": [
       "HBox(children=(IntProgress(value=0, max=226), HTML(value='')))"
      ]
     },
     "metadata": {},
     "output_type": "display_data"
    },
    {
     "name": "stdout",
     "output_type": "stream",
     "text": [
      "\n",
      "All clear for MAGICC7.1.0.beta_NORCPM1_R1I1P1F1\n",
      "\n",
      "\n",
      "\n"
     ]
    },
    {
     "data": {
      "application/vnd.jupyter.widget-view+json": {
       "model_id": "44799c20f3eb40898ec785b2af51e956",
       "version_major": 2,
       "version_minor": 0
      },
      "text/plain": [
       "HBox(children=(IntProgress(value=0, description='Climate models', max=1, style=ProgressStyle(description_width…"
      ]
     },
     "metadata": {},
     "output_type": "display_data"
    },
    {
     "data": {
      "application/vnd.jupyter.widget-view+json": {
       "model_id": "a3f906ba95c046f9a9afa149b4f941a0",
       "version_major": 2,
       "version_minor": 0
      },
      "text/plain": [
       "HBox(children=(IntProgress(value=0, description='Regions', max=1, style=ProgressStyle(description_width='initi…"
      ]
     },
     "metadata": {},
     "output_type": "display_data"
    },
    {
     "data": {
      "application/vnd.jupyter.widget-view+json": {
       "model_id": "fd6ff6f527ae4a1687f48a4d36acc3ca",
       "version_major": 2,
       "version_minor": 0
      },
      "text/plain": [
       "HBox(children=(IntProgress(value=0, description='Variables', max=226, style=ProgressStyle(description_width='i…"
      ]
     },
     "metadata": {},
     "output_type": "display_data"
    },
    {
     "name": "stdout",
     "output_type": "stream",
     "text": [
      "22 of 226 vars done for MAGICC7.1.0.beta_NORCPM1_R1I1P1F1, region World\n",
      "44 of 226 vars done for MAGICC7.1.0.beta_NORCPM1_R1I1P1F1, region World\n",
      "66 of 226 vars done for MAGICC7.1.0.beta_NORCPM1_R1I1P1F1, region World\n",
      "88 of 226 vars done for MAGICC7.1.0.beta_NORCPM1_R1I1P1F1, region World\n",
      "110 of 226 vars done for MAGICC7.1.0.beta_NORCPM1_R1I1P1F1, region World\n",
      "132 of 226 vars done for MAGICC7.1.0.beta_NORCPM1_R1I1P1F1, region World\n",
      "154 of 226 vars done for MAGICC7.1.0.beta_NORCPM1_R1I1P1F1, region World\n",
      "176 of 226 vars done for MAGICC7.1.0.beta_NORCPM1_R1I1P1F1, region World\n",
      "198 of 226 vars done for MAGICC7.1.0.beta_NORCPM1_R1I1P1F1, region World\n",
      "220 of 226 vars done for MAGICC7.1.0.beta_NORCPM1_R1I1P1F1, region World\n",
      ".*rcmip_phase-1_magicc7.1.0.beta-canesm5-r10i1p1f1_v1-0-0.csv\n",
      "['/home/sarambl/PHD/IPCC/public/AR6_CH6_RCMIPFIGS/ar6_ch6_rcmipfigs/data_in/data/results/phase-1/magicc7/rcmip_phase-1_magicc7.1.0.beta-canesm5-r10i1p1f1_v1-0-0.csv']\n"
     ]
    },
    {
     "data": {
      "application/vnd.jupyter.widget-view+json": {
       "model_id": "eb3b0b352fbf4100a2eecea077f17657",
       "version_major": 2,
       "version_minor": 0
      },
      "text/plain": [
       "HBox(children=(IntProgress(value=0, max=1), HTML(value='')))"
      ]
     },
     "metadata": {},
     "output_type": "display_data"
    },
    {
     "name": "stdout",
     "output_type": "stream",
     "text": [
      "\n"
     ]
    },
    {
     "name": "stderr",
     "output_type": "stream",
     "text": [
      "Filtered ScmDataFrame is empty!\n",
      "Filtered ScmDataFrame is empty!\n",
      "Filtered ScmDataFrame is empty!\n",
      "Filtered ScmDataFrame is empty!\n"
     ]
    },
    {
     "data": {
      "application/vnd.jupyter.widget-view+json": {
       "model_id": "ebe2ad61d6bd4412a8c96673981237b1",
       "version_major": 2,
       "version_minor": 0
      },
      "text/plain": [
       "HBox(children=(IntProgress(value=0, description='Climate model', max=1, style=ProgressStyle(description_width=…"
      ]
     },
     "metadata": {},
     "output_type": "display_data"
    },
    {
     "name": "stdout",
     "output_type": "stream",
     "text": [
      "MAGICC7.1.0.beta_CANESM5_R10I1P1F1\n",
      "----------------------------------\n"
     ]
    },
    {
     "data": {
      "application/vnd.jupyter.widget-view+json": {
       "model_id": "eee2704514ea4ce49f6936b7cbbdd91d",
       "version_major": 2,
       "version_minor": 0
      },
      "text/plain": [
       "HBox(children=(IntProgress(value=0, max=226), HTML(value='')))"
      ]
     },
     "metadata": {},
     "output_type": "display_data"
    },
    {
     "name": "stdout",
     "output_type": "stream",
     "text": [
      "\n",
      "All clear for MAGICC7.1.0.beta_CANESM5_R10I1P1F1\n",
      "\n",
      "\n",
      "\n"
     ]
    },
    {
     "data": {
      "application/vnd.jupyter.widget-view+json": {
       "model_id": "74f0f4d047004ee6b783a2c61f9a1e9a",
       "version_major": 2,
       "version_minor": 0
      },
      "text/plain": [
       "HBox(children=(IntProgress(value=0, description='Climate models', max=1, style=ProgressStyle(description_width…"
      ]
     },
     "metadata": {},
     "output_type": "display_data"
    },
    {
     "data": {
      "application/vnd.jupyter.widget-view+json": {
       "model_id": "39ee0ee025e94b1fae50ef2134c41a17",
       "version_major": 2,
       "version_minor": 0
      },
      "text/plain": [
       "HBox(children=(IntProgress(value=0, description='Regions', max=1, style=ProgressStyle(description_width='initi…"
      ]
     },
     "metadata": {},
     "output_type": "display_data"
    },
    {
     "data": {
      "application/vnd.jupyter.widget-view+json": {
       "model_id": "85b858bfe6864a6391ee91e7a7a87508",
       "version_major": 2,
       "version_minor": 0
      },
      "text/plain": [
       "HBox(children=(IntProgress(value=0, description='Variables', max=226, style=ProgressStyle(description_width='i…"
      ]
     },
     "metadata": {},
     "output_type": "display_data"
    },
    {
     "name": "stdout",
     "output_type": "stream",
     "text": [
      "22 of 226 vars done for MAGICC7.1.0.beta_CANESM5_R10I1P1F1, region World\n",
      "44 of 226 vars done for MAGICC7.1.0.beta_CANESM5_R10I1P1F1, region World\n",
      "66 of 226 vars done for MAGICC7.1.0.beta_CANESM5_R10I1P1F1, region World\n",
      "88 of 226 vars done for MAGICC7.1.0.beta_CANESM5_R10I1P1F1, region World\n",
      "110 of 226 vars done for MAGICC7.1.0.beta_CANESM5_R10I1P1F1, region World\n",
      "132 of 226 vars done for MAGICC7.1.0.beta_CANESM5_R10I1P1F1, region World\n",
      "154 of 226 vars done for MAGICC7.1.0.beta_CANESM5_R10I1P1F1, region World\n",
      "176 of 226 vars done for MAGICC7.1.0.beta_CANESM5_R10I1P1F1, region World\n",
      "198 of 226 vars done for MAGICC7.1.0.beta_CANESM5_R10I1P1F1, region World\n",
      "220 of 226 vars done for MAGICC7.1.0.beta_CANESM5_R10I1P1F1, region World\n",
      ".*rcmip_phase-1_magicc7.1.0.beta-noresm2-lm-r1i1p1f1_v1-0-0.csv\n",
      "['/home/sarambl/PHD/IPCC/public/AR6_CH6_RCMIPFIGS/ar6_ch6_rcmipfigs/data_in/data/results/phase-1/magicc7/rcmip_phase-1_magicc7.1.0.beta-noresm2-lm-r1i1p1f1_v1-0-0.csv']\n"
     ]
    },
    {
     "data": {
      "application/vnd.jupyter.widget-view+json": {
       "model_id": "8724965576f74103a86f29e4f4dd0281",
       "version_major": 2,
       "version_minor": 0
      },
      "text/plain": [
       "HBox(children=(IntProgress(value=0, max=1), HTML(value='')))"
      ]
     },
     "metadata": {},
     "output_type": "display_data"
    },
    {
     "name": "stdout",
     "output_type": "stream",
     "text": [
      "\n"
     ]
    },
    {
     "name": "stderr",
     "output_type": "stream",
     "text": [
      "Filtered ScmDataFrame is empty!\n",
      "Filtered ScmDataFrame is empty!\n",
      "Filtered ScmDataFrame is empty!\n",
      "Filtered ScmDataFrame is empty!\n"
     ]
    },
    {
     "data": {
      "application/vnd.jupyter.widget-view+json": {
       "model_id": "d8f38eae8ef7479bbbacf8ce0517bf55",
       "version_major": 2,
       "version_minor": 0
      },
      "text/plain": [
       "HBox(children=(IntProgress(value=0, description='Climate model', max=1, style=ProgressStyle(description_width=…"
      ]
     },
     "metadata": {},
     "output_type": "display_data"
    },
    {
     "name": "stdout",
     "output_type": "stream",
     "text": [
      "MAGICC7.1.0.beta_NORESM2-LM_R1I1P1F1\n",
      "------------------------------------\n"
     ]
    },
    {
     "data": {
      "application/vnd.jupyter.widget-view+json": {
       "model_id": "4424e4249e994694b7ad43aa70a160ff",
       "version_major": 2,
       "version_minor": 0
      },
      "text/plain": [
       "HBox(children=(IntProgress(value=0, max=226), HTML(value='')))"
      ]
     },
     "metadata": {},
     "output_type": "display_data"
    },
    {
     "name": "stdout",
     "output_type": "stream",
     "text": [
      "\n",
      "All clear for MAGICC7.1.0.beta_NORESM2-LM_R1I1P1F1\n",
      "\n",
      "\n",
      "\n"
     ]
    },
    {
     "data": {
      "application/vnd.jupyter.widget-view+json": {
       "model_id": "24d5fd00c4e0414cb173368b75095360",
       "version_major": 2,
       "version_minor": 0
      },
      "text/plain": [
       "HBox(children=(IntProgress(value=0, description='Climate models', max=1, style=ProgressStyle(description_width…"
      ]
     },
     "metadata": {},
     "output_type": "display_data"
    },
    {
     "data": {
      "application/vnd.jupyter.widget-view+json": {
       "model_id": "47f487357516481abb4a64d3395cd6f0",
       "version_major": 2,
       "version_minor": 0
      },
      "text/plain": [
       "HBox(children=(IntProgress(value=0, description='Regions', max=1, style=ProgressStyle(description_width='initi…"
      ]
     },
     "metadata": {},
     "output_type": "display_data"
    },
    {
     "data": {
      "application/vnd.jupyter.widget-view+json": {
       "model_id": "a0fea1355dd94ac1a396c94a7afd1142",
       "version_major": 2,
       "version_minor": 0
      },
      "text/plain": [
       "HBox(children=(IntProgress(value=0, description='Variables', max=226, style=ProgressStyle(description_width='i…"
      ]
     },
     "metadata": {},
     "output_type": "display_data"
    },
    {
     "name": "stdout",
     "output_type": "stream",
     "text": [
      "22 of 226 vars done for MAGICC7.1.0.beta_NORESM2-LM_R1I1P1F1, region World\n",
      "44 of 226 vars done for MAGICC7.1.0.beta_NORESM2-LM_R1I1P1F1, region World\n",
      "66 of 226 vars done for MAGICC7.1.0.beta_NORESM2-LM_R1I1P1F1, region World\n",
      "88 of 226 vars done for MAGICC7.1.0.beta_NORESM2-LM_R1I1P1F1, region World\n",
      "110 of 226 vars done for MAGICC7.1.0.beta_NORESM2-LM_R1I1P1F1, region World\n",
      "132 of 226 vars done for MAGICC7.1.0.beta_NORESM2-LM_R1I1P1F1, region World\n",
      "154 of 226 vars done for MAGICC7.1.0.beta_NORESM2-LM_R1I1P1F1, region World\n",
      "176 of 226 vars done for MAGICC7.1.0.beta_NORESM2-LM_R1I1P1F1, region World\n",
      "198 of 226 vars done for MAGICC7.1.0.beta_NORESM2-LM_R1I1P1F1, region World\n",
      "220 of 226 vars done for MAGICC7.1.0.beta_NORESM2-LM_R1I1P1F1, region World\n",
      ".*rcmip_phase-1_magicc7.1.0.beta-cnrm-cm6-1-hr-r1i1p1f2_v1-0-0.csv\n",
      "['/home/sarambl/PHD/IPCC/public/AR6_CH6_RCMIPFIGS/ar6_ch6_rcmipfigs/data_in/data/results/phase-1/magicc7/rcmip_phase-1_magicc7.1.0.beta-cnrm-cm6-1-hr-r1i1p1f2_v1-0-0.csv']\n"
     ]
    },
    {
     "data": {
      "application/vnd.jupyter.widget-view+json": {
       "model_id": "70bc5606187240b5917b823bd494bda6",
       "version_major": 2,
       "version_minor": 0
      },
      "text/plain": [
       "HBox(children=(IntProgress(value=0, max=1), HTML(value='')))"
      ]
     },
     "metadata": {},
     "output_type": "display_data"
    },
    {
     "name": "stdout",
     "output_type": "stream",
     "text": [
      "\n"
     ]
    },
    {
     "name": "stderr",
     "output_type": "stream",
     "text": [
      "Filtered ScmDataFrame is empty!\n",
      "Filtered ScmDataFrame is empty!\n",
      "Filtered ScmDataFrame is empty!\n",
      "Filtered ScmDataFrame is empty!\n"
     ]
    },
    {
     "data": {
      "application/vnd.jupyter.widget-view+json": {
       "model_id": "e9d6b7ed7a9b4f1d9ea7a6590de7b765",
       "version_major": 2,
       "version_minor": 0
      },
      "text/plain": [
       "HBox(children=(IntProgress(value=0, description='Climate model', max=1, style=ProgressStyle(description_width=…"
      ]
     },
     "metadata": {},
     "output_type": "display_data"
    },
    {
     "name": "stdout",
     "output_type": "stream",
     "text": [
      "MAGICC7.1.0.beta_CNRM-CM6-1-HR_R1I1P1F2\n",
      "---------------------------------------\n"
     ]
    },
    {
     "data": {
      "application/vnd.jupyter.widget-view+json": {
       "model_id": "a46687668dfa4219b4852b96a8f4b2f2",
       "version_major": 2,
       "version_minor": 0
      },
      "text/plain": [
       "HBox(children=(IntProgress(value=0, max=226), HTML(value='')))"
      ]
     },
     "metadata": {},
     "output_type": "display_data"
    },
    {
     "name": "stdout",
     "output_type": "stream",
     "text": [
      "\n",
      "All clear for MAGICC7.1.0.beta_CNRM-CM6-1-HR_R1I1P1F2\n",
      "\n",
      "\n",
      "\n"
     ]
    },
    {
     "data": {
      "application/vnd.jupyter.widget-view+json": {
       "model_id": "df702a08325f481cb42fd447c7685a3a",
       "version_major": 2,
       "version_minor": 0
      },
      "text/plain": [
       "HBox(children=(IntProgress(value=0, description='Climate models', max=1, style=ProgressStyle(description_width…"
      ]
     },
     "metadata": {},
     "output_type": "display_data"
    },
    {
     "data": {
      "application/vnd.jupyter.widget-view+json": {
       "model_id": "fd9c14fb09144d8fa612643827b07c31",
       "version_major": 2,
       "version_minor": 0
      },
      "text/plain": [
       "HBox(children=(IntProgress(value=0, description='Regions', max=1, style=ProgressStyle(description_width='initi…"
      ]
     },
     "metadata": {},
     "output_type": "display_data"
    },
    {
     "data": {
      "application/vnd.jupyter.widget-view+json": {
       "model_id": "2b16bd9cfa5d43499dfe792ba5ed4ccb",
       "version_major": 2,
       "version_minor": 0
      },
      "text/plain": [
       "HBox(children=(IntProgress(value=0, description='Variables', max=226, style=ProgressStyle(description_width='i…"
      ]
     },
     "metadata": {},
     "output_type": "display_data"
    },
    {
     "name": "stdout",
     "output_type": "stream",
     "text": [
      "22 of 226 vars done for MAGICC7.1.0.beta_CNRM-CM6-1-HR_R1I1P1F2, region World\n",
      "44 of 226 vars done for MAGICC7.1.0.beta_CNRM-CM6-1-HR_R1I1P1F2, region World\n",
      "66 of 226 vars done for MAGICC7.1.0.beta_CNRM-CM6-1-HR_R1I1P1F2, region World\n",
      "88 of 226 vars done for MAGICC7.1.0.beta_CNRM-CM6-1-HR_R1I1P1F2, region World\n",
      "110 of 226 vars done for MAGICC7.1.0.beta_CNRM-CM6-1-HR_R1I1P1F2, region World\n",
      "132 of 226 vars done for MAGICC7.1.0.beta_CNRM-CM6-1-HR_R1I1P1F2, region World\n",
      "154 of 226 vars done for MAGICC7.1.0.beta_CNRM-CM6-1-HR_R1I1P1F2, region World\n",
      "176 of 226 vars done for MAGICC7.1.0.beta_CNRM-CM6-1-HR_R1I1P1F2, region World\n",
      "198 of 226 vars done for MAGICC7.1.0.beta_CNRM-CM6-1-HR_R1I1P1F2, region World\n",
      "220 of 226 vars done for MAGICC7.1.0.beta_CNRM-CM6-1-HR_R1I1P1F2, region World\n",
      ".*rcmip_phase-1_magicc7.1.0.beta-giss-e2-1-h-r1i1p1f1_v1-0-0.csv\n",
      "['/home/sarambl/PHD/IPCC/public/AR6_CH6_RCMIPFIGS/ar6_ch6_rcmipfigs/data_in/data/results/phase-1/magicc7/rcmip_phase-1_magicc7.1.0.beta-giss-e2-1-h-r1i1p1f1_v1-0-0.csv']\n"
     ]
    },
    {
     "data": {
      "application/vnd.jupyter.widget-view+json": {
       "model_id": "d83675e8dc9242abae4e612f0e654e31",
       "version_major": 2,
       "version_minor": 0
      },
      "text/plain": [
       "HBox(children=(IntProgress(value=0, max=1), HTML(value='')))"
      ]
     },
     "metadata": {},
     "output_type": "display_data"
    },
    {
     "name": "stdout",
     "output_type": "stream",
     "text": [
      "\n"
     ]
    },
    {
     "name": "stderr",
     "output_type": "stream",
     "text": [
      "Filtered ScmDataFrame is empty!\n",
      "Filtered ScmDataFrame is empty!\n",
      "Filtered ScmDataFrame is empty!\n",
      "Filtered ScmDataFrame is empty!\n"
     ]
    },
    {
     "data": {
      "application/vnd.jupyter.widget-view+json": {
       "model_id": "d0b0d255083747a682d7c2a18d776038",
       "version_major": 2,
       "version_minor": 0
      },
      "text/plain": [
       "HBox(children=(IntProgress(value=0, description='Climate model', max=1, style=ProgressStyle(description_width=…"
      ]
     },
     "metadata": {},
     "output_type": "display_data"
    },
    {
     "name": "stdout",
     "output_type": "stream",
     "text": [
      "MAGICC7.1.0.beta_GISS-E2-1-H_R1I1P1F1\n",
      "-------------------------------------\n"
     ]
    },
    {
     "data": {
      "application/vnd.jupyter.widget-view+json": {
       "model_id": "d2a03d756b774145bcc324d2d7e55634",
       "version_major": 2,
       "version_minor": 0
      },
      "text/plain": [
       "HBox(children=(IntProgress(value=0, max=226), HTML(value='')))"
      ]
     },
     "metadata": {},
     "output_type": "display_data"
    },
    {
     "name": "stdout",
     "output_type": "stream",
     "text": [
      "\n",
      "All clear for MAGICC7.1.0.beta_GISS-E2-1-H_R1I1P1F1\n",
      "\n",
      "\n",
      "\n"
     ]
    },
    {
     "data": {
      "application/vnd.jupyter.widget-view+json": {
       "model_id": "a67dbc3b35714b4ab29295b9b6d37320",
       "version_major": 2,
       "version_minor": 0
      },
      "text/plain": [
       "HBox(children=(IntProgress(value=0, description='Climate models', max=1, style=ProgressStyle(description_width…"
      ]
     },
     "metadata": {},
     "output_type": "display_data"
    },
    {
     "data": {
      "application/vnd.jupyter.widget-view+json": {
       "model_id": "c33f448f2f434329a31b6a66ae80ddbd",
       "version_major": 2,
       "version_minor": 0
      },
      "text/plain": [
       "HBox(children=(IntProgress(value=0, description='Regions', max=1, style=ProgressStyle(description_width='initi…"
      ]
     },
     "metadata": {},
     "output_type": "display_data"
    },
    {
     "data": {
      "application/vnd.jupyter.widget-view+json": {
       "model_id": "7e74227d84db4ffe96056df54437f1d1",
       "version_major": 2,
       "version_minor": 0
      },
      "text/plain": [
       "HBox(children=(IntProgress(value=0, description='Variables', max=226, style=ProgressStyle(description_width='i…"
      ]
     },
     "metadata": {},
     "output_type": "display_data"
    },
    {
     "name": "stdout",
     "output_type": "stream",
     "text": [
      "22 of 226 vars done for MAGICC7.1.0.beta_GISS-E2-1-H_R1I1P1F1, region World\n",
      "44 of 226 vars done for MAGICC7.1.0.beta_GISS-E2-1-H_R1I1P1F1, region World\n",
      "66 of 226 vars done for MAGICC7.1.0.beta_GISS-E2-1-H_R1I1P1F1, region World\n",
      "88 of 226 vars done for MAGICC7.1.0.beta_GISS-E2-1-H_R1I1P1F1, region World\n",
      "110 of 226 vars done for MAGICC7.1.0.beta_GISS-E2-1-H_R1I1P1F1, region World\n",
      "132 of 226 vars done for MAGICC7.1.0.beta_GISS-E2-1-H_R1I1P1F1, region World\n",
      "154 of 226 vars done for MAGICC7.1.0.beta_GISS-E2-1-H_R1I1P1F1, region World\n",
      "176 of 226 vars done for MAGICC7.1.0.beta_GISS-E2-1-H_R1I1P1F1, region World\n",
      "198 of 226 vars done for MAGICC7.1.0.beta_GISS-E2-1-H_R1I1P1F1, region World\n",
      "220 of 226 vars done for MAGICC7.1.0.beta_GISS-E2-1-H_R1I1P1F1, region World\n",
      ".*rcmip_phase-1_magicc7.1.0.beta-sam0-unicon-r1i1p1f1_v1-0-0.csv\n",
      "['/home/sarambl/PHD/IPCC/public/AR6_CH6_RCMIPFIGS/ar6_ch6_rcmipfigs/data_in/data/results/phase-1/magicc7/rcmip_phase-1_magicc7.1.0.beta-sam0-unicon-r1i1p1f1_v1-0-0.csv']\n"
     ]
    },
    {
     "data": {
      "application/vnd.jupyter.widget-view+json": {
       "model_id": "423431e9b6a0443e9986b6d2f4edea21",
       "version_major": 2,
       "version_minor": 0
      },
      "text/plain": [
       "HBox(children=(IntProgress(value=0, max=1), HTML(value='')))"
      ]
     },
     "metadata": {},
     "output_type": "display_data"
    },
    {
     "name": "stdout",
     "output_type": "stream",
     "text": [
      "\n"
     ]
    },
    {
     "name": "stderr",
     "output_type": "stream",
     "text": [
      "Filtered ScmDataFrame is empty!\n",
      "Filtered ScmDataFrame is empty!\n",
      "Filtered ScmDataFrame is empty!\n",
      "Filtered ScmDataFrame is empty!\n"
     ]
    },
    {
     "data": {
      "application/vnd.jupyter.widget-view+json": {
       "model_id": "fcbc3ea142b046b79fadfce34b406a80",
       "version_major": 2,
       "version_minor": 0
      },
      "text/plain": [
       "HBox(children=(IntProgress(value=0, description='Climate model', max=1, style=ProgressStyle(description_width=…"
      ]
     },
     "metadata": {},
     "output_type": "display_data"
    },
    {
     "name": "stdout",
     "output_type": "stream",
     "text": [
      "MAGICC7.1.0.beta_SAM0-UNICON_R1I1P1F1\n",
      "-------------------------------------\n"
     ]
    },
    {
     "data": {
      "application/vnd.jupyter.widget-view+json": {
       "model_id": "81176ade1669427f8720c31b2ef201f1",
       "version_major": 2,
       "version_minor": 0
      },
      "text/plain": [
       "HBox(children=(IntProgress(value=0, max=226), HTML(value='')))"
      ]
     },
     "metadata": {},
     "output_type": "display_data"
    },
    {
     "name": "stdout",
     "output_type": "stream",
     "text": [
      "\n",
      "All clear for MAGICC7.1.0.beta_SAM0-UNICON_R1I1P1F1\n",
      "\n",
      "\n",
      "\n"
     ]
    },
    {
     "data": {
      "application/vnd.jupyter.widget-view+json": {
       "model_id": "21858c43159c45cb9951433643bc8263",
       "version_major": 2,
       "version_minor": 0
      },
      "text/plain": [
       "HBox(children=(IntProgress(value=0, description='Climate models', max=1, style=ProgressStyle(description_width…"
      ]
     },
     "metadata": {},
     "output_type": "display_data"
    },
    {
     "data": {
      "application/vnd.jupyter.widget-view+json": {
       "model_id": "a030bb7e2c04479cab4dc927720f3e1c",
       "version_major": 2,
       "version_minor": 0
      },
      "text/plain": [
       "HBox(children=(IntProgress(value=0, description='Regions', max=1, style=ProgressStyle(description_width='initi…"
      ]
     },
     "metadata": {},
     "output_type": "display_data"
    },
    {
     "data": {
      "application/vnd.jupyter.widget-view+json": {
       "model_id": "3c44f89dcd45490aac66c2f4e8e9a71b",
       "version_major": 2,
       "version_minor": 0
      },
      "text/plain": [
       "HBox(children=(IntProgress(value=0, description='Variables', max=226, style=ProgressStyle(description_width='i…"
      ]
     },
     "metadata": {},
     "output_type": "display_data"
    },
    {
     "name": "stdout",
     "output_type": "stream",
     "text": [
      "22 of 226 vars done for MAGICC7.1.0.beta_SAM0-UNICON_R1I1P1F1, region World\n",
      "44 of 226 vars done for MAGICC7.1.0.beta_SAM0-UNICON_R1I1P1F1, region World\n",
      "66 of 226 vars done for MAGICC7.1.0.beta_SAM0-UNICON_R1I1P1F1, region World\n",
      "88 of 226 vars done for MAGICC7.1.0.beta_SAM0-UNICON_R1I1P1F1, region World\n",
      "110 of 226 vars done for MAGICC7.1.0.beta_SAM0-UNICON_R1I1P1F1, region World\n",
      "132 of 226 vars done for MAGICC7.1.0.beta_SAM0-UNICON_R1I1P1F1, region World\n",
      "154 of 226 vars done for MAGICC7.1.0.beta_SAM0-UNICON_R1I1P1F1, region World\n",
      "176 of 226 vars done for MAGICC7.1.0.beta_SAM0-UNICON_R1I1P1F1, region World\n",
      "198 of 226 vars done for MAGICC7.1.0.beta_SAM0-UNICON_R1I1P1F1, region World\n",
      "220 of 226 vars done for MAGICC7.1.0.beta_SAM0-UNICON_R1I1P1F1, region World\n",
      ".*rcmip_phase-1_magicc7.1.0.beta-cesm2-waccm-r1i1p1f1_v1-0-0.csv\n",
      "['/home/sarambl/PHD/IPCC/public/AR6_CH6_RCMIPFIGS/ar6_ch6_rcmipfigs/data_in/data/results/phase-1/magicc7/rcmip_phase-1_magicc7.1.0.beta-cesm2-waccm-r1i1p1f1_v1-0-0.csv']\n"
     ]
    },
    {
     "data": {
      "application/vnd.jupyter.widget-view+json": {
       "model_id": "0fc7750b7c574b51b0c9189aa65f87eb",
       "version_major": 2,
       "version_minor": 0
      },
      "text/plain": [
       "HBox(children=(IntProgress(value=0, max=1), HTML(value='')))"
      ]
     },
     "metadata": {},
     "output_type": "display_data"
    },
    {
     "name": "stdout",
     "output_type": "stream",
     "text": [
      "\n"
     ]
    },
    {
     "name": "stderr",
     "output_type": "stream",
     "text": [
      "Filtered ScmDataFrame is empty!\n",
      "Filtered ScmDataFrame is empty!\n",
      "Filtered ScmDataFrame is empty!\n",
      "Filtered ScmDataFrame is empty!\n"
     ]
    },
    {
     "data": {
      "application/vnd.jupyter.widget-view+json": {
       "model_id": "1d42f706b1e14107880a252fea19d3ad",
       "version_major": 2,
       "version_minor": 0
      },
      "text/plain": [
       "HBox(children=(IntProgress(value=0, description='Climate model', max=1, style=ProgressStyle(description_width=…"
      ]
     },
     "metadata": {},
     "output_type": "display_data"
    },
    {
     "name": "stdout",
     "output_type": "stream",
     "text": [
      "MAGICC7.1.0.beta_CESM2-WACCM_R1I1P1F1\n",
      "-------------------------------------\n"
     ]
    },
    {
     "data": {
      "application/vnd.jupyter.widget-view+json": {
       "model_id": "0ec0fecc584342cea60f7026be7a7fab",
       "version_major": 2,
       "version_minor": 0
      },
      "text/plain": [
       "HBox(children=(IntProgress(value=0, max=226), HTML(value='')))"
      ]
     },
     "metadata": {},
     "output_type": "display_data"
    },
    {
     "name": "stdout",
     "output_type": "stream",
     "text": [
      "\n",
      "All clear for MAGICC7.1.0.beta_CESM2-WACCM_R1I1P1F1\n",
      "\n",
      "\n",
      "\n"
     ]
    },
    {
     "data": {
      "application/vnd.jupyter.widget-view+json": {
       "model_id": "ec53b9e76731470a82cdf7d9f88f535e",
       "version_major": 2,
       "version_minor": 0
      },
      "text/plain": [
       "HBox(children=(IntProgress(value=0, description='Climate models', max=1, style=ProgressStyle(description_width…"
      ]
     },
     "metadata": {},
     "output_type": "display_data"
    },
    {
     "data": {
      "application/vnd.jupyter.widget-view+json": {
       "model_id": "4ec4e2592dee4c79806c2070d17e7edc",
       "version_major": 2,
       "version_minor": 0
      },
      "text/plain": [
       "HBox(children=(IntProgress(value=0, description='Regions', max=1, style=ProgressStyle(description_width='initi…"
      ]
     },
     "metadata": {},
     "output_type": "display_data"
    },
    {
     "data": {
      "application/vnd.jupyter.widget-view+json": {
       "model_id": "eef42425e2004f6b9174de9e244086a9",
       "version_major": 2,
       "version_minor": 0
      },
      "text/plain": [
       "HBox(children=(IntProgress(value=0, description='Variables', max=226, style=ProgressStyle(description_width='i…"
      ]
     },
     "metadata": {},
     "output_type": "display_data"
    },
    {
     "name": "stdout",
     "output_type": "stream",
     "text": [
      "22 of 226 vars done for MAGICC7.1.0.beta_CESM2-WACCM_R1I1P1F1, region World\n",
      "44 of 226 vars done for MAGICC7.1.0.beta_CESM2-WACCM_R1I1P1F1, region World\n",
      "66 of 226 vars done for MAGICC7.1.0.beta_CESM2-WACCM_R1I1P1F1, region World\n",
      "88 of 226 vars done for MAGICC7.1.0.beta_CESM2-WACCM_R1I1P1F1, region World\n",
      "110 of 226 vars done for MAGICC7.1.0.beta_CESM2-WACCM_R1I1P1F1, region World\n",
      "132 of 226 vars done for MAGICC7.1.0.beta_CESM2-WACCM_R1I1P1F1, region World\n",
      "154 of 226 vars done for MAGICC7.1.0.beta_CESM2-WACCM_R1I1P1F1, region World\n",
      "176 of 226 vars done for MAGICC7.1.0.beta_CESM2-WACCM_R1I1P1F1, region World\n",
      "198 of 226 vars done for MAGICC7.1.0.beta_CESM2-WACCM_R1I1P1F1, region World\n",
      "220 of 226 vars done for MAGICC7.1.0.beta_CESM2-WACCM_R1I1P1F1, region World\n",
      ".*rcmip_phase-1_magicc7.1.0.beta-e3sm-1-0-r1i1p1f1_v1-0-0.csv\n",
      "['/home/sarambl/PHD/IPCC/public/AR6_CH6_RCMIPFIGS/ar6_ch6_rcmipfigs/data_in/data/results/phase-1/magicc7/rcmip_phase-1_magicc7.1.0.beta-e3sm-1-0-r1i1p1f1_v1-0-0.csv']\n"
     ]
    },
    {
     "data": {
      "application/vnd.jupyter.widget-view+json": {
       "model_id": "a55c4c0747a047b19eb5b4b7c0cf973f",
       "version_major": 2,
       "version_minor": 0
      },
      "text/plain": [
       "HBox(children=(IntProgress(value=0, max=1), HTML(value='')))"
      ]
     },
     "metadata": {},
     "output_type": "display_data"
    },
    {
     "name": "stdout",
     "output_type": "stream",
     "text": [
      "\n"
     ]
    },
    {
     "name": "stderr",
     "output_type": "stream",
     "text": [
      "Filtered ScmDataFrame is empty!\n",
      "Filtered ScmDataFrame is empty!\n",
      "Filtered ScmDataFrame is empty!\n",
      "Filtered ScmDataFrame is empty!\n"
     ]
    },
    {
     "data": {
      "application/vnd.jupyter.widget-view+json": {
       "model_id": "b2368ec58eff430db9c671ef3564d9e0",
       "version_major": 2,
       "version_minor": 0
      },
      "text/plain": [
       "HBox(children=(IntProgress(value=0, description='Climate model', max=1, style=ProgressStyle(description_width=…"
      ]
     },
     "metadata": {},
     "output_type": "display_data"
    },
    {
     "name": "stdout",
     "output_type": "stream",
     "text": [
      "MAGICC7.1.0.beta_E3SM-1-0_R1I1P1F1\n",
      "----------------------------------\n"
     ]
    },
    {
     "data": {
      "application/vnd.jupyter.widget-view+json": {
       "model_id": "967f6b8f0dea4cbbba9c9bc48d2265c2",
       "version_major": 2,
       "version_minor": 0
      },
      "text/plain": [
       "HBox(children=(IntProgress(value=0, max=226), HTML(value='')))"
      ]
     },
     "metadata": {},
     "output_type": "display_data"
    },
    {
     "name": "stdout",
     "output_type": "stream",
     "text": [
      "\n",
      "All clear for MAGICC7.1.0.beta_E3SM-1-0_R1I1P1F1\n",
      "\n",
      "\n",
      "\n"
     ]
    },
    {
     "data": {
      "application/vnd.jupyter.widget-view+json": {
       "model_id": "2bf393facb0742ad829e748d44a54528",
       "version_major": 2,
       "version_minor": 0
      },
      "text/plain": [
       "HBox(children=(IntProgress(value=0, description='Climate models', max=1, style=ProgressStyle(description_width…"
      ]
     },
     "metadata": {},
     "output_type": "display_data"
    },
    {
     "data": {
      "application/vnd.jupyter.widget-view+json": {
       "model_id": "88cce31ba88f4f7da8040746bd0635aa",
       "version_major": 2,
       "version_minor": 0
      },
      "text/plain": [
       "HBox(children=(IntProgress(value=0, description='Regions', max=1, style=ProgressStyle(description_width='initi…"
      ]
     },
     "metadata": {},
     "output_type": "display_data"
    },
    {
     "data": {
      "application/vnd.jupyter.widget-view+json": {
       "model_id": "5407b1ec55cf41b6be5c28e29615bba5",
       "version_major": 2,
       "version_minor": 0
      },
      "text/plain": [
       "HBox(children=(IntProgress(value=0, description='Variables', max=226, style=ProgressStyle(description_width='i…"
      ]
     },
     "metadata": {},
     "output_type": "display_data"
    },
    {
     "name": "stdout",
     "output_type": "stream",
     "text": [
      "22 of 226 vars done for MAGICC7.1.0.beta_E3SM-1-0_R1I1P1F1, region World\n",
      "44 of 226 vars done for MAGICC7.1.0.beta_E3SM-1-0_R1I1P1F1, region World\n",
      "66 of 226 vars done for MAGICC7.1.0.beta_E3SM-1-0_R1I1P1F1, region World\n",
      "88 of 226 vars done for MAGICC7.1.0.beta_E3SM-1-0_R1I1P1F1, region World\n",
      "110 of 226 vars done for MAGICC7.1.0.beta_E3SM-1-0_R1I1P1F1, region World\n",
      "132 of 226 vars done for MAGICC7.1.0.beta_E3SM-1-0_R1I1P1F1, region World\n",
      "154 of 226 vars done for MAGICC7.1.0.beta_E3SM-1-0_R1I1P1F1, region World\n",
      "176 of 226 vars done for MAGICC7.1.0.beta_E3SM-1-0_R1I1P1F1, region World\n",
      "198 of 226 vars done for MAGICC7.1.0.beta_E3SM-1-0_R1I1P1F1, region World\n",
      "220 of 226 vars done for MAGICC7.1.0.beta_E3SM-1-0_R1I1P1F1, region World\n",
      ".*rcmip_phase-1_magicc7.1.0.beta_v1-0-0.csv\n",
      "['/home/sarambl/PHD/IPCC/public/AR6_CH6_RCMIPFIGS/ar6_ch6_rcmipfigs/data_in/data/results/phase-1/magicc7/rcmip_phase-1_magicc7.1.0.beta_v1-0-0.csv']\n"
     ]
    },
    {
     "data": {
      "application/vnd.jupyter.widget-view+json": {
       "model_id": "f80296e2361d4fcd8185ec23efbb20fc",
       "version_major": 2,
       "version_minor": 0
      },
      "text/plain": [
       "HBox(children=(IntProgress(value=0, max=1), HTML(value='')))"
      ]
     },
     "metadata": {},
     "output_type": "display_data"
    },
    {
     "name": "stdout",
     "output_type": "stream",
     "text": [
      "\n"
     ]
    },
    {
     "name": "stderr",
     "output_type": "stream",
     "text": [
      "Filtered ScmDataFrame is empty!\n",
      "Filtered ScmDataFrame is empty!\n",
      "Filtered ScmDataFrame is empty!\n",
      "Filtered ScmDataFrame is empty!\n"
     ]
    },
    {
     "data": {
      "application/vnd.jupyter.widget-view+json": {
       "model_id": "18526bfb4c214d1cbf6d473635739496",
       "version_major": 2,
       "version_minor": 0
      },
      "text/plain": [
       "HBox(children=(IntProgress(value=0, description='Climate model', max=1, style=ProgressStyle(description_width=…"
      ]
     },
     "metadata": {},
     "output_type": "display_data"
    },
    {
     "name": "stdout",
     "output_type": "stream",
     "text": [
      "MAGICC7.1.0.beta-rcmip-phase-1\n",
      "------------------------------\n"
     ]
    },
    {
     "data": {
      "application/vnd.jupyter.widget-view+json": {
       "model_id": "47d6ad1101574ccca3e14a18845eef4b",
       "version_major": 2,
       "version_minor": 0
      },
      "text/plain": [
       "HBox(children=(IntProgress(value=0, max=226), HTML(value='')))"
      ]
     },
     "metadata": {},
     "output_type": "display_data"
    },
    {
     "name": "stdout",
     "output_type": "stream",
     "text": [
      "\n",
      "All clear for MAGICC7.1.0.beta-rcmip-phase-1\n",
      "\n",
      "\n",
      "\n"
     ]
    },
    {
     "data": {
      "application/vnd.jupyter.widget-view+json": {
       "model_id": "14019782ce6a4a5abe5f7cefbbcdd4b5",
       "version_major": 2,
       "version_minor": 0
      },
      "text/plain": [
       "HBox(children=(IntProgress(value=0, description='Climate models', max=1, style=ProgressStyle(description_width…"
      ]
     },
     "metadata": {},
     "output_type": "display_data"
    },
    {
     "data": {
      "application/vnd.jupyter.widget-view+json": {
       "model_id": "9a8020822705455fb7bd70cb39a1f26a",
       "version_major": 2,
       "version_minor": 0
      },
      "text/plain": [
       "HBox(children=(IntProgress(value=0, description='Regions', max=1, style=ProgressStyle(description_width='initi…"
      ]
     },
     "metadata": {},
     "output_type": "display_data"
    },
    {
     "data": {
      "application/vnd.jupyter.widget-view+json": {
       "model_id": "4ce486d095354c93b2e3339516e1a480",
       "version_major": 2,
       "version_minor": 0
      },
      "text/plain": [
       "HBox(children=(IntProgress(value=0, description='Variables', max=226, style=ProgressStyle(description_width='i…"
      ]
     },
     "metadata": {},
     "output_type": "display_data"
    },
    {
     "name": "stdout",
     "output_type": "stream",
     "text": [
      "22 of 226 vars done for MAGICC7.1.0.beta-rcmip-phase-1, region World\n",
      "44 of 226 vars done for MAGICC7.1.0.beta-rcmip-phase-1, region World\n",
      "66 of 226 vars done for MAGICC7.1.0.beta-rcmip-phase-1, region World\n",
      "88 of 226 vars done for MAGICC7.1.0.beta-rcmip-phase-1, region World\n",
      "110 of 226 vars done for MAGICC7.1.0.beta-rcmip-phase-1, region World\n",
      "132 of 226 vars done for MAGICC7.1.0.beta-rcmip-phase-1, region World\n",
      "154 of 226 vars done for MAGICC7.1.0.beta-rcmip-phase-1, region World\n",
      "176 of 226 vars done for MAGICC7.1.0.beta-rcmip-phase-1, region World\n",
      "198 of 226 vars done for MAGICC7.1.0.beta-rcmip-phase-1, region World\n",
      "220 of 226 vars done for MAGICC7.1.0.beta-rcmip-phase-1, region World\n",
      ".*rcmip_phase-1_magicc7.1.0.beta-ipsl-cm6a-lr-r10i1p1f1_v1-0-0.csv\n",
      "['/home/sarambl/PHD/IPCC/public/AR6_CH6_RCMIPFIGS/ar6_ch6_rcmipfigs/data_in/data/results/phase-1/magicc7/rcmip_phase-1_magicc7.1.0.beta-ipsl-cm6a-lr-r10i1p1f1_v1-0-0.csv']\n"
     ]
    },
    {
     "data": {
      "application/vnd.jupyter.widget-view+json": {
       "model_id": "e148da9a9eaa40ce903d6f990e793f36",
       "version_major": 2,
       "version_minor": 0
      },
      "text/plain": [
       "HBox(children=(IntProgress(value=0, max=1), HTML(value='')))"
      ]
     },
     "metadata": {},
     "output_type": "display_data"
    },
    {
     "name": "stdout",
     "output_type": "stream",
     "text": [
      "\n"
     ]
    },
    {
     "name": "stderr",
     "output_type": "stream",
     "text": [
      "Filtered ScmDataFrame is empty!\n",
      "Filtered ScmDataFrame is empty!\n",
      "Filtered ScmDataFrame is empty!\n",
      "Filtered ScmDataFrame is empty!\n"
     ]
    },
    {
     "data": {
      "application/vnd.jupyter.widget-view+json": {
       "model_id": "28305f2217f242e1af204be0148ec9f3",
       "version_major": 2,
       "version_minor": 0
      },
      "text/plain": [
       "HBox(children=(IntProgress(value=0, description='Climate model', max=1, style=ProgressStyle(description_width=…"
      ]
     },
     "metadata": {},
     "output_type": "display_data"
    },
    {
     "name": "stdout",
     "output_type": "stream",
     "text": [
      "MAGICC7.1.0.beta_IPSL-CM6A-LR_R10I1P1F1\n",
      "---------------------------------------\n"
     ]
    },
    {
     "data": {
      "application/vnd.jupyter.widget-view+json": {
       "model_id": "7070cf6ec06c4479953cbffd7271de70",
       "version_major": 2,
       "version_minor": 0
      },
      "text/plain": [
       "HBox(children=(IntProgress(value=0, max=226), HTML(value='')))"
      ]
     },
     "metadata": {},
     "output_type": "display_data"
    },
    {
     "name": "stdout",
     "output_type": "stream",
     "text": [
      "\n",
      "All clear for MAGICC7.1.0.beta_IPSL-CM6A-LR_R10I1P1F1\n",
      "\n",
      "\n",
      "\n"
     ]
    },
    {
     "data": {
      "application/vnd.jupyter.widget-view+json": {
       "model_id": "616db0ad5d204c1cb325a50fae75354f",
       "version_major": 2,
       "version_minor": 0
      },
      "text/plain": [
       "HBox(children=(IntProgress(value=0, description='Climate models', max=1, style=ProgressStyle(description_width…"
      ]
     },
     "metadata": {},
     "output_type": "display_data"
    },
    {
     "data": {
      "application/vnd.jupyter.widget-view+json": {
       "model_id": "9cee1b91ceb54f7ebbc57d07eae244a4",
       "version_major": 2,
       "version_minor": 0
      },
      "text/plain": [
       "HBox(children=(IntProgress(value=0, description='Regions', max=1, style=ProgressStyle(description_width='initi…"
      ]
     },
     "metadata": {},
     "output_type": "display_data"
    },
    {
     "data": {
      "application/vnd.jupyter.widget-view+json": {
       "model_id": "d6d493cbdf984015a3326c8bbd4d32fd",
       "version_major": 2,
       "version_minor": 0
      },
      "text/plain": [
       "HBox(children=(IntProgress(value=0, description='Variables', max=226, style=ProgressStyle(description_width='i…"
      ]
     },
     "metadata": {},
     "output_type": "display_data"
    },
    {
     "name": "stdout",
     "output_type": "stream",
     "text": [
      "22 of 226 vars done for MAGICC7.1.0.beta_IPSL-CM6A-LR_R10I1P1F1, region World\n",
      "44 of 226 vars done for MAGICC7.1.0.beta_IPSL-CM6A-LR_R10I1P1F1, region World\n",
      "66 of 226 vars done for MAGICC7.1.0.beta_IPSL-CM6A-LR_R10I1P1F1, region World\n",
      "88 of 226 vars done for MAGICC7.1.0.beta_IPSL-CM6A-LR_R10I1P1F1, region World\n",
      "110 of 226 vars done for MAGICC7.1.0.beta_IPSL-CM6A-LR_R10I1P1F1, region World\n",
      "132 of 226 vars done for MAGICC7.1.0.beta_IPSL-CM6A-LR_R10I1P1F1, region World\n",
      "154 of 226 vars done for MAGICC7.1.0.beta_IPSL-CM6A-LR_R10I1P1F1, region World\n",
      "176 of 226 vars done for MAGICC7.1.0.beta_IPSL-CM6A-LR_R10I1P1F1, region World\n",
      "198 of 226 vars done for MAGICC7.1.0.beta_IPSL-CM6A-LR_R10I1P1F1, region World\n",
      "220 of 226 vars done for MAGICC7.1.0.beta_IPSL-CM6A-LR_R10I1P1F1, region World\n",
      ".*rcmip_phase-1_magicc7.1.0.beta-fgoals-g3-r1i1p1f1_v1-0-0.csv\n",
      "['/home/sarambl/PHD/IPCC/public/AR6_CH6_RCMIPFIGS/ar6_ch6_rcmipfigs/data_in/data/results/phase-1/magicc7/rcmip_phase-1_magicc7.1.0.beta-fgoals-g3-r1i1p1f1_v1-0-0.csv']\n"
     ]
    },
    {
     "data": {
      "application/vnd.jupyter.widget-view+json": {
       "model_id": "7f5cf61a879848bfa6bdf7869da95322",
       "version_major": 2,
       "version_minor": 0
      },
      "text/plain": [
       "HBox(children=(IntProgress(value=0, max=1), HTML(value='')))"
      ]
     },
     "metadata": {},
     "output_type": "display_data"
    },
    {
     "name": "stdout",
     "output_type": "stream",
     "text": [
      "\n"
     ]
    },
    {
     "name": "stderr",
     "output_type": "stream",
     "text": [
      "Filtered ScmDataFrame is empty!\n",
      "Filtered ScmDataFrame is empty!\n",
      "Filtered ScmDataFrame is empty!\n",
      "Filtered ScmDataFrame is empty!\n"
     ]
    },
    {
     "data": {
      "application/vnd.jupyter.widget-view+json": {
       "model_id": "a15ae99d0dd643cab1b400d8a88eb1e9",
       "version_major": 2,
       "version_minor": 0
      },
      "text/plain": [
       "HBox(children=(IntProgress(value=0, description='Climate model', max=1, style=ProgressStyle(description_width=…"
      ]
     },
     "metadata": {},
     "output_type": "display_data"
    },
    {
     "name": "stdout",
     "output_type": "stream",
     "text": [
      "MAGICC7.1.0.beta_FGOALS-G3_R1I1P1F1\n",
      "-----------------------------------\n"
     ]
    },
    {
     "data": {
      "application/vnd.jupyter.widget-view+json": {
       "model_id": "8120344c47ac4cd6bf8950875061518f",
       "version_major": 2,
       "version_minor": 0
      },
      "text/plain": [
       "HBox(children=(IntProgress(value=0, max=226), HTML(value='')))"
      ]
     },
     "metadata": {},
     "output_type": "display_data"
    },
    {
     "name": "stdout",
     "output_type": "stream",
     "text": [
      "\n",
      "All clear for MAGICC7.1.0.beta_FGOALS-G3_R1I1P1F1\n",
      "\n",
      "\n",
      "\n"
     ]
    },
    {
     "data": {
      "application/vnd.jupyter.widget-view+json": {
       "model_id": "95e9f29310ee4c4aae1283eaeb34d225",
       "version_major": 2,
       "version_minor": 0
      },
      "text/plain": [
       "HBox(children=(IntProgress(value=0, description='Climate models', max=1, style=ProgressStyle(description_width…"
      ]
     },
     "metadata": {},
     "output_type": "display_data"
    },
    {
     "data": {
      "application/vnd.jupyter.widget-view+json": {
       "model_id": "2f7011fa956f453a8c2f0821f058f365",
       "version_major": 2,
       "version_minor": 0
      },
      "text/plain": [
       "HBox(children=(IntProgress(value=0, description='Regions', max=1, style=ProgressStyle(description_width='initi…"
      ]
     },
     "metadata": {},
     "output_type": "display_data"
    },
    {
     "data": {
      "application/vnd.jupyter.widget-view+json": {
       "model_id": "f480c4898fd840bca0f531d82499c25b",
       "version_major": 2,
       "version_minor": 0
      },
      "text/plain": [
       "HBox(children=(IntProgress(value=0, description='Variables', max=226, style=ProgressStyle(description_width='i…"
      ]
     },
     "metadata": {},
     "output_type": "display_data"
    },
    {
     "name": "stdout",
     "output_type": "stream",
     "text": [
      "22 of 226 vars done for MAGICC7.1.0.beta_FGOALS-G3_R1I1P1F1, region World\n",
      "44 of 226 vars done for MAGICC7.1.0.beta_FGOALS-G3_R1I1P1F1, region World\n",
      "66 of 226 vars done for MAGICC7.1.0.beta_FGOALS-G3_R1I1P1F1, region World\n",
      "88 of 226 vars done for MAGICC7.1.0.beta_FGOALS-G3_R1I1P1F1, region World\n",
      "110 of 226 vars done for MAGICC7.1.0.beta_FGOALS-G3_R1I1P1F1, region World\n",
      "132 of 226 vars done for MAGICC7.1.0.beta_FGOALS-G3_R1I1P1F1, region World\n",
      "154 of 226 vars done for MAGICC7.1.0.beta_FGOALS-G3_R1I1P1F1, region World\n",
      "176 of 226 vars done for MAGICC7.1.0.beta_FGOALS-G3_R1I1P1F1, region World\n",
      "198 of 226 vars done for MAGICC7.1.0.beta_FGOALS-G3_R1I1P1F1, region World\n",
      "220 of 226 vars done for MAGICC7.1.0.beta_FGOALS-G3_R1I1P1F1, region World\n",
      ".*rcmip_phase-1_magicc7.1.0.beta-ukesm1-0-ll-r1i1p1f2_v1-0-0.csv\n",
      "['/home/sarambl/PHD/IPCC/public/AR6_CH6_RCMIPFIGS/ar6_ch6_rcmipfigs/data_in/data/results/phase-1/magicc7/rcmip_phase-1_magicc7.1.0.beta-ukesm1-0-ll-r1i1p1f2_v1-0-0.csv']\n"
     ]
    },
    {
     "data": {
      "application/vnd.jupyter.widget-view+json": {
       "model_id": "c9aca800ec9b42f8af08e7fce756c84e",
       "version_major": 2,
       "version_minor": 0
      },
      "text/plain": [
       "HBox(children=(IntProgress(value=0, max=1), HTML(value='')))"
      ]
     },
     "metadata": {},
     "output_type": "display_data"
    },
    {
     "name": "stdout",
     "output_type": "stream",
     "text": [
      "\n"
     ]
    },
    {
     "name": "stderr",
     "output_type": "stream",
     "text": [
      "Filtered ScmDataFrame is empty!\n",
      "Filtered ScmDataFrame is empty!\n",
      "Filtered ScmDataFrame is empty!\n",
      "Filtered ScmDataFrame is empty!\n"
     ]
    },
    {
     "data": {
      "application/vnd.jupyter.widget-view+json": {
       "model_id": "896196c002fb449caff95e8a39d94eb4",
       "version_major": 2,
       "version_minor": 0
      },
      "text/plain": [
       "HBox(children=(IntProgress(value=0, description='Climate model', max=1, style=ProgressStyle(description_width=…"
      ]
     },
     "metadata": {},
     "output_type": "display_data"
    },
    {
     "name": "stdout",
     "output_type": "stream",
     "text": [
      "MAGICC7.1.0.beta_UKESM1-0-LL_R1I1P1F2\n",
      "-------------------------------------\n"
     ]
    },
    {
     "data": {
      "application/vnd.jupyter.widget-view+json": {
       "model_id": "376212799e1941129dbde5d443b63192",
       "version_major": 2,
       "version_minor": 0
      },
      "text/plain": [
       "HBox(children=(IntProgress(value=0, max=226), HTML(value='')))"
      ]
     },
     "metadata": {},
     "output_type": "display_data"
    },
    {
     "name": "stdout",
     "output_type": "stream",
     "text": [
      "\n",
      "All clear for MAGICC7.1.0.beta_UKESM1-0-LL_R1I1P1F2\n",
      "\n",
      "\n",
      "\n"
     ]
    },
    {
     "data": {
      "application/vnd.jupyter.widget-view+json": {
       "model_id": "3b8bbd5b759e4ea49bed28f3e05a31d4",
       "version_major": 2,
       "version_minor": 0
      },
      "text/plain": [
       "HBox(children=(IntProgress(value=0, description='Climate models', max=1, style=ProgressStyle(description_width…"
      ]
     },
     "metadata": {},
     "output_type": "display_data"
    },
    {
     "data": {
      "application/vnd.jupyter.widget-view+json": {
       "model_id": "30ab5d13e69342ce898f342c7536c059",
       "version_major": 2,
       "version_minor": 0
      },
      "text/plain": [
       "HBox(children=(IntProgress(value=0, description='Regions', max=1, style=ProgressStyle(description_width='initi…"
      ]
     },
     "metadata": {},
     "output_type": "display_data"
    },
    {
     "data": {
      "application/vnd.jupyter.widget-view+json": {
       "model_id": "5129ee6dec2f4b5d9697670a9582c0be",
       "version_major": 2,
       "version_minor": 0
      },
      "text/plain": [
       "HBox(children=(IntProgress(value=0, description='Variables', max=226, style=ProgressStyle(description_width='i…"
      ]
     },
     "metadata": {},
     "output_type": "display_data"
    },
    {
     "name": "stdout",
     "output_type": "stream",
     "text": [
      "22 of 226 vars done for MAGICC7.1.0.beta_UKESM1-0-LL_R1I1P1F2, region World\n",
      "44 of 226 vars done for MAGICC7.1.0.beta_UKESM1-0-LL_R1I1P1F2, region World\n",
      "66 of 226 vars done for MAGICC7.1.0.beta_UKESM1-0-LL_R1I1P1F2, region World\n",
      "88 of 226 vars done for MAGICC7.1.0.beta_UKESM1-0-LL_R1I1P1F2, region World\n",
      "110 of 226 vars done for MAGICC7.1.0.beta_UKESM1-0-LL_R1I1P1F2, region World\n",
      "132 of 226 vars done for MAGICC7.1.0.beta_UKESM1-0-LL_R1I1P1F2, region World\n",
      "154 of 226 vars done for MAGICC7.1.0.beta_UKESM1-0-LL_R1I1P1F2, region World\n",
      "176 of 226 vars done for MAGICC7.1.0.beta_UKESM1-0-LL_R1I1P1F2, region World\n",
      "198 of 226 vars done for MAGICC7.1.0.beta_UKESM1-0-LL_R1I1P1F2, region World\n",
      "220 of 226 vars done for MAGICC7.1.0.beta_UKESM1-0-LL_R1I1P1F2, region World\n",
      ".*rcmip_phase-1_magicc7.1.0.beta-mcm-ua-1-0-r1i1p1f2_v1-0-0.csv\n",
      "['/home/sarambl/PHD/IPCC/public/AR6_CH6_RCMIPFIGS/ar6_ch6_rcmipfigs/data_in/data/results/phase-1/magicc7/rcmip_phase-1_magicc7.1.0.beta-mcm-ua-1-0-r1i1p1f2_v1-0-0.csv']\n"
     ]
    },
    {
     "data": {
      "application/vnd.jupyter.widget-view+json": {
       "model_id": "6d970838b29042259d1f82ef3d1e25f9",
       "version_major": 2,
       "version_minor": 0
      },
      "text/plain": [
       "HBox(children=(IntProgress(value=0, max=1), HTML(value='')))"
      ]
     },
     "metadata": {},
     "output_type": "display_data"
    },
    {
     "name": "stdout",
     "output_type": "stream",
     "text": [
      "\n"
     ]
    },
    {
     "name": "stderr",
     "output_type": "stream",
     "text": [
      "Filtered ScmDataFrame is empty!\n",
      "Filtered ScmDataFrame is empty!\n",
      "Filtered ScmDataFrame is empty!\n",
      "Filtered ScmDataFrame is empty!\n"
     ]
    },
    {
     "data": {
      "application/vnd.jupyter.widget-view+json": {
       "model_id": "5cf8844902454a33b928b6340366c94a",
       "version_major": 2,
       "version_minor": 0
      },
      "text/plain": [
       "HBox(children=(IntProgress(value=0, description='Climate model', max=1, style=ProgressStyle(description_width=…"
      ]
     },
     "metadata": {},
     "output_type": "display_data"
    },
    {
     "name": "stdout",
     "output_type": "stream",
     "text": [
      "MAGICC7.1.0.beta_MCM-UA-1-0_R1I1P1F2\n",
      "------------------------------------\n"
     ]
    },
    {
     "data": {
      "application/vnd.jupyter.widget-view+json": {
       "model_id": "278b93b18b0d488fb46ffb5362361b4a",
       "version_major": 2,
       "version_minor": 0
      },
      "text/plain": [
       "HBox(children=(IntProgress(value=0, max=226), HTML(value='')))"
      ]
     },
     "metadata": {},
     "output_type": "display_data"
    },
    {
     "name": "stdout",
     "output_type": "stream",
     "text": [
      "\n",
      "All clear for MAGICC7.1.0.beta_MCM-UA-1-0_R1I1P1F2\n",
      "\n",
      "\n",
      "\n"
     ]
    },
    {
     "data": {
      "application/vnd.jupyter.widget-view+json": {
       "model_id": "9a617cd86cf247329cd5261e7b05e69e",
       "version_major": 2,
       "version_minor": 0
      },
      "text/plain": [
       "HBox(children=(IntProgress(value=0, description='Climate models', max=1, style=ProgressStyle(description_width…"
      ]
     },
     "metadata": {},
     "output_type": "display_data"
    },
    {
     "data": {
      "application/vnd.jupyter.widget-view+json": {
       "model_id": "4a402fd562384fd59d7806f4fe7fd3f0",
       "version_major": 2,
       "version_minor": 0
      },
      "text/plain": [
       "HBox(children=(IntProgress(value=0, description='Regions', max=1, style=ProgressStyle(description_width='initi…"
      ]
     },
     "metadata": {},
     "output_type": "display_data"
    },
    {
     "data": {
      "application/vnd.jupyter.widget-view+json": {
       "model_id": "760cb5dab42043b988d08349bf584625",
       "version_major": 2,
       "version_minor": 0
      },
      "text/plain": [
       "HBox(children=(IntProgress(value=0, description='Variables', max=226, style=ProgressStyle(description_width='i…"
      ]
     },
     "metadata": {},
     "output_type": "display_data"
    },
    {
     "name": "stdout",
     "output_type": "stream",
     "text": [
      "22 of 226 vars done for MAGICC7.1.0.beta_MCM-UA-1-0_R1I1P1F2, region World\n",
      "44 of 226 vars done for MAGICC7.1.0.beta_MCM-UA-1-0_R1I1P1F2, region World\n",
      "66 of 226 vars done for MAGICC7.1.0.beta_MCM-UA-1-0_R1I1P1F2, region World\n",
      "88 of 226 vars done for MAGICC7.1.0.beta_MCM-UA-1-0_R1I1P1F2, region World\n",
      "110 of 226 vars done for MAGICC7.1.0.beta_MCM-UA-1-0_R1I1P1F2, region World\n",
      "132 of 226 vars done for MAGICC7.1.0.beta_MCM-UA-1-0_R1I1P1F2, region World\n",
      "154 of 226 vars done for MAGICC7.1.0.beta_MCM-UA-1-0_R1I1P1F2, region World\n",
      "176 of 226 vars done for MAGICC7.1.0.beta_MCM-UA-1-0_R1I1P1F2, region World\n",
      "198 of 226 vars done for MAGICC7.1.0.beta_MCM-UA-1-0_R1I1P1F2, region World\n",
      "220 of 226 vars done for MAGICC7.1.0.beta_MCM-UA-1-0_R1I1P1F2, region World\n",
      ".*rcmip_phase-1_magicc7.1.0.beta-bcc-csm2-mr-r1i1p1f1_v1-0-0.csv\n",
      "['/home/sarambl/PHD/IPCC/public/AR6_CH6_RCMIPFIGS/ar6_ch6_rcmipfigs/data_in/data/results/phase-1/magicc7/rcmip_phase-1_magicc7.1.0.beta-bcc-csm2-mr-r1i1p1f1_v1-0-0.csv']\n"
     ]
    },
    {
     "data": {
      "application/vnd.jupyter.widget-view+json": {
       "model_id": "45b147d99aec4698a6e2b2461719011d",
       "version_major": 2,
       "version_minor": 0
      },
      "text/plain": [
       "HBox(children=(IntProgress(value=0, max=1), HTML(value='')))"
      ]
     },
     "metadata": {},
     "output_type": "display_data"
    },
    {
     "name": "stdout",
     "output_type": "stream",
     "text": [
      "\n"
     ]
    },
    {
     "name": "stderr",
     "output_type": "stream",
     "text": [
      "Filtered ScmDataFrame is empty!\n",
      "Filtered ScmDataFrame is empty!\n",
      "Filtered ScmDataFrame is empty!\n",
      "Filtered ScmDataFrame is empty!\n"
     ]
    },
    {
     "data": {
      "application/vnd.jupyter.widget-view+json": {
       "model_id": "33da208f62cf465a9ff29493f2303b1c",
       "version_major": 2,
       "version_minor": 0
      },
      "text/plain": [
       "HBox(children=(IntProgress(value=0, description='Climate model', max=1, style=ProgressStyle(description_width=…"
      ]
     },
     "metadata": {},
     "output_type": "display_data"
    },
    {
     "name": "stdout",
     "output_type": "stream",
     "text": [
      "MAGICC7.1.0.beta_BCC-CSM2-MR_R1I1P1F1\n",
      "-------------------------------------\n"
     ]
    },
    {
     "data": {
      "application/vnd.jupyter.widget-view+json": {
       "model_id": "11931cbb3cde4a2188a3743513d9eec4",
       "version_major": 2,
       "version_minor": 0
      },
      "text/plain": [
       "HBox(children=(IntProgress(value=0, max=226), HTML(value='')))"
      ]
     },
     "metadata": {},
     "output_type": "display_data"
    },
    {
     "name": "stdout",
     "output_type": "stream",
     "text": [
      "\n",
      "All clear for MAGICC7.1.0.beta_BCC-CSM2-MR_R1I1P1F1\n",
      "\n",
      "\n",
      "\n"
     ]
    },
    {
     "data": {
      "application/vnd.jupyter.widget-view+json": {
       "model_id": "8af4fab4083940b294a825db6f05cd4b",
       "version_major": 2,
       "version_minor": 0
      },
      "text/plain": [
       "HBox(children=(IntProgress(value=0, description='Climate models', max=1, style=ProgressStyle(description_width…"
      ]
     },
     "metadata": {},
     "output_type": "display_data"
    },
    {
     "data": {
      "application/vnd.jupyter.widget-view+json": {
       "model_id": "6672a147e3424f569535f4c65b0739ac",
       "version_major": 2,
       "version_minor": 0
      },
      "text/plain": [
       "HBox(children=(IntProgress(value=0, description='Regions', max=1, style=ProgressStyle(description_width='initi…"
      ]
     },
     "metadata": {},
     "output_type": "display_data"
    },
    {
     "data": {
      "application/vnd.jupyter.widget-view+json": {
       "model_id": "fad8ef3314e942e28cf1bdd6852dfbd8",
       "version_major": 2,
       "version_minor": 0
      },
      "text/plain": [
       "HBox(children=(IntProgress(value=0, description='Variables', max=226, style=ProgressStyle(description_width='i…"
      ]
     },
     "metadata": {},
     "output_type": "display_data"
    },
    {
     "name": "stdout",
     "output_type": "stream",
     "text": [
      "22 of 226 vars done for MAGICC7.1.0.beta_BCC-CSM2-MR_R1I1P1F1, region World\n",
      "44 of 226 vars done for MAGICC7.1.0.beta_BCC-CSM2-MR_R1I1P1F1, region World\n",
      "66 of 226 vars done for MAGICC7.1.0.beta_BCC-CSM2-MR_R1I1P1F1, region World\n",
      "88 of 226 vars done for MAGICC7.1.0.beta_BCC-CSM2-MR_R1I1P1F1, region World\n",
      "110 of 226 vars done for MAGICC7.1.0.beta_BCC-CSM2-MR_R1I1P1F1, region World\n",
      "132 of 226 vars done for MAGICC7.1.0.beta_BCC-CSM2-MR_R1I1P1F1, region World\n",
      "154 of 226 vars done for MAGICC7.1.0.beta_BCC-CSM2-MR_R1I1P1F1, region World\n",
      "176 of 226 vars done for MAGICC7.1.0.beta_BCC-CSM2-MR_R1I1P1F1, region World\n",
      "198 of 226 vars done for MAGICC7.1.0.beta_BCC-CSM2-MR_R1I1P1F1, region World\n",
      "220 of 226 vars done for MAGICC7.1.0.beta_BCC-CSM2-MR_R1I1P1F1, region World\n",
      ".*rcmip_phase-1_magicc7.1.0.beta-giss-e2-1-g-r1i1p1f1_v1-0-0.csv\n",
      "['/home/sarambl/PHD/IPCC/public/AR6_CH6_RCMIPFIGS/ar6_ch6_rcmipfigs/data_in/data/results/phase-1/magicc7/rcmip_phase-1_magicc7.1.0.beta-giss-e2-1-g-r1i1p1f1_v1-0-0.csv']\n"
     ]
    },
    {
     "data": {
      "application/vnd.jupyter.widget-view+json": {
       "model_id": "85b8ac5751e64f0682a16e65460cb658",
       "version_major": 2,
       "version_minor": 0
      },
      "text/plain": [
       "HBox(children=(IntProgress(value=0, max=1), HTML(value='')))"
      ]
     },
     "metadata": {},
     "output_type": "display_data"
    },
    {
     "name": "stdout",
     "output_type": "stream",
     "text": [
      "\n"
     ]
    },
    {
     "name": "stderr",
     "output_type": "stream",
     "text": [
      "Filtered ScmDataFrame is empty!\n",
      "Filtered ScmDataFrame is empty!\n",
      "Filtered ScmDataFrame is empty!\n",
      "Filtered ScmDataFrame is empty!\n"
     ]
    },
    {
     "data": {
      "application/vnd.jupyter.widget-view+json": {
       "model_id": "e445039746f04502a06c73cf86ba8ced",
       "version_major": 2,
       "version_minor": 0
      },
      "text/plain": [
       "HBox(children=(IntProgress(value=0, description='Climate model', max=1, style=ProgressStyle(description_width=…"
      ]
     },
     "metadata": {},
     "output_type": "display_data"
    },
    {
     "name": "stdout",
     "output_type": "stream",
     "text": [
      "MAGICC7.1.0.beta_GISS-E2-1-G_R1I1P1F1\n",
      "-------------------------------------\n"
     ]
    },
    {
     "data": {
      "application/vnd.jupyter.widget-view+json": {
       "model_id": "3942fafea6474796b8a365dbf6f0d21d",
       "version_major": 2,
       "version_minor": 0
      },
      "text/plain": [
       "HBox(children=(IntProgress(value=0, max=226), HTML(value='')))"
      ]
     },
     "metadata": {},
     "output_type": "display_data"
    },
    {
     "name": "stdout",
     "output_type": "stream",
     "text": [
      "\n",
      "All clear for MAGICC7.1.0.beta_GISS-E2-1-G_R1I1P1F1\n",
      "\n",
      "\n",
      "\n"
     ]
    },
    {
     "data": {
      "application/vnd.jupyter.widget-view+json": {
       "model_id": "65760d3aa4f44a248987001da5f82a4d",
       "version_major": 2,
       "version_minor": 0
      },
      "text/plain": [
       "HBox(children=(IntProgress(value=0, description='Climate models', max=1, style=ProgressStyle(description_width…"
      ]
     },
     "metadata": {},
     "output_type": "display_data"
    },
    {
     "data": {
      "application/vnd.jupyter.widget-view+json": {
       "model_id": "0b4256c0c61249ba855cc4bf52503ef1",
       "version_major": 2,
       "version_minor": 0
      },
      "text/plain": [
       "HBox(children=(IntProgress(value=0, description='Regions', max=1, style=ProgressStyle(description_width='initi…"
      ]
     },
     "metadata": {},
     "output_type": "display_data"
    },
    {
     "data": {
      "application/vnd.jupyter.widget-view+json": {
       "model_id": "3d597123002347a790222884aa5f5340",
       "version_major": 2,
       "version_minor": 0
      },
      "text/plain": [
       "HBox(children=(IntProgress(value=0, description='Variables', max=226, style=ProgressStyle(description_width='i…"
      ]
     },
     "metadata": {},
     "output_type": "display_data"
    },
    {
     "name": "stdout",
     "output_type": "stream",
     "text": [
      "22 of 226 vars done for MAGICC7.1.0.beta_GISS-E2-1-G_R1I1P1F1, region World\n",
      "44 of 226 vars done for MAGICC7.1.0.beta_GISS-E2-1-G_R1I1P1F1, region World\n",
      "66 of 226 vars done for MAGICC7.1.0.beta_GISS-E2-1-G_R1I1P1F1, region World\n",
      "88 of 226 vars done for MAGICC7.1.0.beta_GISS-E2-1-G_R1I1P1F1, region World\n",
      "110 of 226 vars done for MAGICC7.1.0.beta_GISS-E2-1-G_R1I1P1F1, region World\n",
      "132 of 226 vars done for MAGICC7.1.0.beta_GISS-E2-1-G_R1I1P1F1, region World\n",
      "154 of 226 vars done for MAGICC7.1.0.beta_GISS-E2-1-G_R1I1P1F1, region World\n",
      "176 of 226 vars done for MAGICC7.1.0.beta_GISS-E2-1-G_R1I1P1F1, region World\n",
      "198 of 226 vars done for MAGICC7.1.0.beta_GISS-E2-1-G_R1I1P1F1, region World\n",
      "220 of 226 vars done for MAGICC7.1.0.beta_GISS-E2-1-G_R1I1P1F1, region World\n",
      ".*rcmip_phase-1_magicc7.1.0.beta-ipsl-cm6a-lr-r1i1p1f1_v1-0-0.csv\n",
      "['/home/sarambl/PHD/IPCC/public/AR6_CH6_RCMIPFIGS/ar6_ch6_rcmipfigs/data_in/data/results/phase-1/magicc7/rcmip_phase-1_magicc7.1.0.beta-ipsl-cm6a-lr-r1i1p1f1_v1-0-0.csv']\n"
     ]
    },
    {
     "data": {
      "application/vnd.jupyter.widget-view+json": {
       "model_id": "ff64c44216aa42a1aaab42dce305b060",
       "version_major": 2,
       "version_minor": 0
      },
      "text/plain": [
       "HBox(children=(IntProgress(value=0, max=1), HTML(value='')))"
      ]
     },
     "metadata": {},
     "output_type": "display_data"
    },
    {
     "name": "stdout",
     "output_type": "stream",
     "text": [
      "\n"
     ]
    },
    {
     "name": "stderr",
     "output_type": "stream",
     "text": [
      "Filtered ScmDataFrame is empty!\n",
      "Filtered ScmDataFrame is empty!\n",
      "Filtered ScmDataFrame is empty!\n",
      "Filtered ScmDataFrame is empty!\n"
     ]
    },
    {
     "data": {
      "application/vnd.jupyter.widget-view+json": {
       "model_id": "b3322b5cf6184a46a2f942b989a9fc7e",
       "version_major": 2,
       "version_minor": 0
      },
      "text/plain": [
       "HBox(children=(IntProgress(value=0, description='Climate model', max=1, style=ProgressStyle(description_width=…"
      ]
     },
     "metadata": {},
     "output_type": "display_data"
    },
    {
     "name": "stdout",
     "output_type": "stream",
     "text": [
      "MAGICC7.1.0.beta_IPSL-CM6A-LR_R1I1P1F1\n",
      "--------------------------------------\n"
     ]
    },
    {
     "data": {
      "application/vnd.jupyter.widget-view+json": {
       "model_id": "13e4c914ebee4e59bfafdfdfa83eb79f",
       "version_major": 2,
       "version_minor": 0
      },
      "text/plain": [
       "HBox(children=(IntProgress(value=0, max=226), HTML(value='')))"
      ]
     },
     "metadata": {},
     "output_type": "display_data"
    },
    {
     "name": "stdout",
     "output_type": "stream",
     "text": [
      "\n",
      "All clear for MAGICC7.1.0.beta_IPSL-CM6A-LR_R1I1P1F1\n",
      "\n",
      "\n",
      "\n"
     ]
    },
    {
     "data": {
      "application/vnd.jupyter.widget-view+json": {
       "model_id": "4d0dd2d22346469880f5f94fbde31380",
       "version_major": 2,
       "version_minor": 0
      },
      "text/plain": [
       "HBox(children=(IntProgress(value=0, description='Climate models', max=1, style=ProgressStyle(description_width…"
      ]
     },
     "metadata": {},
     "output_type": "display_data"
    },
    {
     "data": {
      "application/vnd.jupyter.widget-view+json": {
       "model_id": "ed47af1aecca445d852623828664576f",
       "version_major": 2,
       "version_minor": 0
      },
      "text/plain": [
       "HBox(children=(IntProgress(value=0, description='Regions', max=1, style=ProgressStyle(description_width='initi…"
      ]
     },
     "metadata": {},
     "output_type": "display_data"
    },
    {
     "data": {
      "application/vnd.jupyter.widget-view+json": {
       "model_id": "5c51a8f6ba064ce980dea3e68936bb0f",
       "version_major": 2,
       "version_minor": 0
      },
      "text/plain": [
       "HBox(children=(IntProgress(value=0, description='Variables', max=226, style=ProgressStyle(description_width='i…"
      ]
     },
     "metadata": {},
     "output_type": "display_data"
    },
    {
     "name": "stdout",
     "output_type": "stream",
     "text": [
      "22 of 226 vars done for MAGICC7.1.0.beta_IPSL-CM6A-LR_R1I1P1F1, region World\n",
      "44 of 226 vars done for MAGICC7.1.0.beta_IPSL-CM6A-LR_R1I1P1F1, region World\n",
      "66 of 226 vars done for MAGICC7.1.0.beta_IPSL-CM6A-LR_R1I1P1F1, region World\n",
      "88 of 226 vars done for MAGICC7.1.0.beta_IPSL-CM6A-LR_R1I1P1F1, region World\n",
      "110 of 226 vars done for MAGICC7.1.0.beta_IPSL-CM6A-LR_R1I1P1F1, region World\n",
      "132 of 226 vars done for MAGICC7.1.0.beta_IPSL-CM6A-LR_R1I1P1F1, region World\n",
      "154 of 226 vars done for MAGICC7.1.0.beta_IPSL-CM6A-LR_R1I1P1F1, region World\n",
      "176 of 226 vars done for MAGICC7.1.0.beta_IPSL-CM6A-LR_R1I1P1F1, region World\n",
      "198 of 226 vars done for MAGICC7.1.0.beta_IPSL-CM6A-LR_R1I1P1F1, region World\n",
      "220 of 226 vars done for MAGICC7.1.0.beta_IPSL-CM6A-LR_R1I1P1F1, region World\n",
      ".*rcmip_phase-1_magicc7.1.0.beta-ec-earth3-veg-r1i1p1f1_v1-0-0.csv\n",
      "['/home/sarambl/PHD/IPCC/public/AR6_CH6_RCMIPFIGS/ar6_ch6_rcmipfigs/data_in/data/results/phase-1/magicc7/rcmip_phase-1_magicc7.1.0.beta-ec-earth3-veg-r1i1p1f1_v1-0-0.csv']\n"
     ]
    },
    {
     "data": {
      "application/vnd.jupyter.widget-view+json": {
       "model_id": "9a699c3275724f258eddaf77a73b7763",
       "version_major": 2,
       "version_minor": 0
      },
      "text/plain": [
       "HBox(children=(IntProgress(value=0, max=1), HTML(value='')))"
      ]
     },
     "metadata": {},
     "output_type": "display_data"
    },
    {
     "name": "stdout",
     "output_type": "stream",
     "text": [
      "\n"
     ]
    },
    {
     "name": "stderr",
     "output_type": "stream",
     "text": [
      "Filtered ScmDataFrame is empty!\n",
      "Filtered ScmDataFrame is empty!\n",
      "Filtered ScmDataFrame is empty!\n",
      "Filtered ScmDataFrame is empty!\n"
     ]
    },
    {
     "data": {
      "application/vnd.jupyter.widget-view+json": {
       "model_id": "bfa1cc3cb2864339a748095ea483635c",
       "version_major": 2,
       "version_minor": 0
      },
      "text/plain": [
       "HBox(children=(IntProgress(value=0, description='Climate model', max=1, style=ProgressStyle(description_width=…"
      ]
     },
     "metadata": {},
     "output_type": "display_data"
    },
    {
     "name": "stdout",
     "output_type": "stream",
     "text": [
      "MAGICC7.1.0.beta_EC-EARTH3-VEG_R1I1P1F1\n",
      "---------------------------------------\n"
     ]
    },
    {
     "data": {
      "application/vnd.jupyter.widget-view+json": {
       "model_id": "04be78c4b43f410d8f7a0b233f128787",
       "version_major": 2,
       "version_minor": 0
      },
      "text/plain": [
       "HBox(children=(IntProgress(value=0, max=226), HTML(value='')))"
      ]
     },
     "metadata": {},
     "output_type": "display_data"
    },
    {
     "name": "stdout",
     "output_type": "stream",
     "text": [
      "\n",
      "All clear for MAGICC7.1.0.beta_EC-EARTH3-VEG_R1I1P1F1\n",
      "\n",
      "\n",
      "\n"
     ]
    },
    {
     "data": {
      "application/vnd.jupyter.widget-view+json": {
       "model_id": "33c850481fb94188a0de1a539978ddf7",
       "version_major": 2,
       "version_minor": 0
      },
      "text/plain": [
       "HBox(children=(IntProgress(value=0, description='Climate models', max=1, style=ProgressStyle(description_width…"
      ]
     },
     "metadata": {},
     "output_type": "display_data"
    },
    {
     "data": {
      "application/vnd.jupyter.widget-view+json": {
       "model_id": "31e7e74fe1b0467eb189e9d10bb3edcd",
       "version_major": 2,
       "version_minor": 0
      },
      "text/plain": [
       "HBox(children=(IntProgress(value=0, description='Regions', max=1, style=ProgressStyle(description_width='initi…"
      ]
     },
     "metadata": {},
     "output_type": "display_data"
    },
    {
     "data": {
      "application/vnd.jupyter.widget-view+json": {
       "model_id": "5245238c4d0544fe9ce332b8780571a6",
       "version_major": 2,
       "version_minor": 0
      },
      "text/plain": [
       "HBox(children=(IntProgress(value=0, description='Variables', max=226, style=ProgressStyle(description_width='i…"
      ]
     },
     "metadata": {},
     "output_type": "display_data"
    },
    {
     "name": "stdout",
     "output_type": "stream",
     "text": [
      "22 of 226 vars done for MAGICC7.1.0.beta_EC-EARTH3-VEG_R1I1P1F1, region World\n",
      "44 of 226 vars done for MAGICC7.1.0.beta_EC-EARTH3-VEG_R1I1P1F1, region World\n",
      "66 of 226 vars done for MAGICC7.1.0.beta_EC-EARTH3-VEG_R1I1P1F1, region World\n",
      "88 of 226 vars done for MAGICC7.1.0.beta_EC-EARTH3-VEG_R1I1P1F1, region World\n",
      "110 of 226 vars done for MAGICC7.1.0.beta_EC-EARTH3-VEG_R1I1P1F1, region World\n",
      "132 of 226 vars done for MAGICC7.1.0.beta_EC-EARTH3-VEG_R1I1P1F1, region World\n",
      "154 of 226 vars done for MAGICC7.1.0.beta_EC-EARTH3-VEG_R1I1P1F1, region World\n",
      "176 of 226 vars done for MAGICC7.1.0.beta_EC-EARTH3-VEG_R1I1P1F1, region World\n",
      "198 of 226 vars done for MAGICC7.1.0.beta_EC-EARTH3-VEG_R1I1P1F1, region World\n",
      "220 of 226 vars done for MAGICC7.1.0.beta_EC-EARTH3-VEG_R1I1P1F1, region World\n",
      ".*rcmip_phase-1_magicc7.1.0.beta-miroc-es2l-r1i1p1f2_v1-0-0.csv\n",
      "['/home/sarambl/PHD/IPCC/public/AR6_CH6_RCMIPFIGS/ar6_ch6_rcmipfigs/data_in/data/results/phase-1/magicc7/rcmip_phase-1_magicc7.1.0.beta-miroc-es2l-r1i1p1f2_v1-0-0.csv']\n"
     ]
    },
    {
     "data": {
      "application/vnd.jupyter.widget-view+json": {
       "model_id": "2e6ae14f2ef043118679046833c24bdb",
       "version_major": 2,
       "version_minor": 0
      },
      "text/plain": [
       "HBox(children=(IntProgress(value=0, max=1), HTML(value='')))"
      ]
     },
     "metadata": {},
     "output_type": "display_data"
    },
    {
     "name": "stdout",
     "output_type": "stream",
     "text": [
      "\n"
     ]
    },
    {
     "name": "stderr",
     "output_type": "stream",
     "text": [
      "Filtered ScmDataFrame is empty!\n",
      "Filtered ScmDataFrame is empty!\n",
      "Filtered ScmDataFrame is empty!\n",
      "Filtered ScmDataFrame is empty!\n"
     ]
    },
    {
     "data": {
      "application/vnd.jupyter.widget-view+json": {
       "model_id": "2a5fa6152f1946bb8cdc8fd82a4fe5b4",
       "version_major": 2,
       "version_minor": 0
      },
      "text/plain": [
       "HBox(children=(IntProgress(value=0, description='Climate model', max=1, style=ProgressStyle(description_width=…"
      ]
     },
     "metadata": {},
     "output_type": "display_data"
    },
    {
     "name": "stdout",
     "output_type": "stream",
     "text": [
      "MAGICC7.1.0.beta_MIROC-ES2L_R1I1P1F2\n",
      "------------------------------------\n"
     ]
    },
    {
     "data": {
      "application/vnd.jupyter.widget-view+json": {
       "model_id": "0a0d636470644052a29c0931ce31fbdb",
       "version_major": 2,
       "version_minor": 0
      },
      "text/plain": [
       "HBox(children=(IntProgress(value=0, max=226), HTML(value='')))"
      ]
     },
     "metadata": {},
     "output_type": "display_data"
    },
    {
     "name": "stdout",
     "output_type": "stream",
     "text": [
      "\n",
      "All clear for MAGICC7.1.0.beta_MIROC-ES2L_R1I1P1F2\n",
      "\n",
      "\n",
      "\n"
     ]
    },
    {
     "data": {
      "application/vnd.jupyter.widget-view+json": {
       "model_id": "d081da3757fb4e94805829ab96f42d2c",
       "version_major": 2,
       "version_minor": 0
      },
      "text/plain": [
       "HBox(children=(IntProgress(value=0, description='Climate models', max=1, style=ProgressStyle(description_width…"
      ]
     },
     "metadata": {},
     "output_type": "display_data"
    },
    {
     "data": {
      "application/vnd.jupyter.widget-view+json": {
       "model_id": "6ab76692009047f7964411b9a2bfffb4",
       "version_major": 2,
       "version_minor": 0
      },
      "text/plain": [
       "HBox(children=(IntProgress(value=0, description='Regions', max=1, style=ProgressStyle(description_width='initi…"
      ]
     },
     "metadata": {},
     "output_type": "display_data"
    },
    {
     "data": {
      "application/vnd.jupyter.widget-view+json": {
       "model_id": "899d9925e5324095b74864ac1aec3032",
       "version_major": 2,
       "version_minor": 0
      },
      "text/plain": [
       "HBox(children=(IntProgress(value=0, description='Variables', max=226, style=ProgressStyle(description_width='i…"
      ]
     },
     "metadata": {},
     "output_type": "display_data"
    },
    {
     "name": "stdout",
     "output_type": "stream",
     "text": [
      "22 of 226 vars done for MAGICC7.1.0.beta_MIROC-ES2L_R1I1P1F2, region World\n",
      "44 of 226 vars done for MAGICC7.1.0.beta_MIROC-ES2L_R1I1P1F2, region World\n",
      "66 of 226 vars done for MAGICC7.1.0.beta_MIROC-ES2L_R1I1P1F2, region World\n",
      "88 of 226 vars done for MAGICC7.1.0.beta_MIROC-ES2L_R1I1P1F2, region World\n",
      "110 of 226 vars done for MAGICC7.1.0.beta_MIROC-ES2L_R1I1P1F2, region World\n",
      "132 of 226 vars done for MAGICC7.1.0.beta_MIROC-ES2L_R1I1P1F2, region World\n",
      "154 of 226 vars done for MAGICC7.1.0.beta_MIROC-ES2L_R1I1P1F2, region World\n",
      "176 of 226 vars done for MAGICC7.1.0.beta_MIROC-ES2L_R1I1P1F2, region World\n",
      "198 of 226 vars done for MAGICC7.1.0.beta_MIROC-ES2L_R1I1P1F2, region World\n",
      "220 of 226 vars done for MAGICC7.1.0.beta_MIROC-ES2L_R1I1P1F2, region World\n",
      ".*rcmip_phase-1_magicc7.1.0.beta-cnrm-esm2-1-r1i1p1f2_v1-0-0.csv\n",
      "['/home/sarambl/PHD/IPCC/public/AR6_CH6_RCMIPFIGS/ar6_ch6_rcmipfigs/data_in/data/results/phase-1/magicc7/rcmip_phase-1_magicc7.1.0.beta-cnrm-esm2-1-r1i1p1f2_v1-0-0.csv']\n"
     ]
    },
    {
     "data": {
      "application/vnd.jupyter.widget-view+json": {
       "model_id": "0758459c855042998e973250a36da0ba",
       "version_major": 2,
       "version_minor": 0
      },
      "text/plain": [
       "HBox(children=(IntProgress(value=0, max=1), HTML(value='')))"
      ]
     },
     "metadata": {},
     "output_type": "display_data"
    },
    {
     "name": "stdout",
     "output_type": "stream",
     "text": [
      "\n"
     ]
    },
    {
     "name": "stderr",
     "output_type": "stream",
     "text": [
      "Filtered ScmDataFrame is empty!\n",
      "Filtered ScmDataFrame is empty!\n",
      "Filtered ScmDataFrame is empty!\n",
      "Filtered ScmDataFrame is empty!\n"
     ]
    },
    {
     "data": {
      "application/vnd.jupyter.widget-view+json": {
       "model_id": "9b82a171057340c9875eedac366b1d47",
       "version_major": 2,
       "version_minor": 0
      },
      "text/plain": [
       "HBox(children=(IntProgress(value=0, description='Climate model', max=1, style=ProgressStyle(description_width=…"
      ]
     },
     "metadata": {},
     "output_type": "display_data"
    },
    {
     "name": "stdout",
     "output_type": "stream",
     "text": [
      "MAGICC7.1.0.beta_CNRM-ESM2-1_R1I1P1F2\n",
      "-------------------------------------\n"
     ]
    },
    {
     "data": {
      "application/vnd.jupyter.widget-view+json": {
       "model_id": "2abeab012a954ab69b93bf8147bfdec4",
       "version_major": 2,
       "version_minor": 0
      },
      "text/plain": [
       "HBox(children=(IntProgress(value=0, max=226), HTML(value='')))"
      ]
     },
     "metadata": {},
     "output_type": "display_data"
    },
    {
     "name": "stdout",
     "output_type": "stream",
     "text": [
      "\n",
      "All clear for MAGICC7.1.0.beta_CNRM-ESM2-1_R1I1P1F2\n",
      "\n",
      "\n",
      "\n"
     ]
    },
    {
     "data": {
      "application/vnd.jupyter.widget-view+json": {
       "model_id": "bda56600fbac401aaae3a96c30db303d",
       "version_major": 2,
       "version_minor": 0
      },
      "text/plain": [
       "HBox(children=(IntProgress(value=0, description='Climate models', max=1, style=ProgressStyle(description_width…"
      ]
     },
     "metadata": {},
     "output_type": "display_data"
    },
    {
     "data": {
      "application/vnd.jupyter.widget-view+json": {
       "model_id": "4fd4cab5a39e4d7aa5459374faefa6c8",
       "version_major": 2,
       "version_minor": 0
      },
      "text/plain": [
       "HBox(children=(IntProgress(value=0, description='Regions', max=1, style=ProgressStyle(description_width='initi…"
      ]
     },
     "metadata": {},
     "output_type": "display_data"
    },
    {
     "data": {
      "application/vnd.jupyter.widget-view+json": {
       "model_id": "dbba82cb31b647189f84b1d5787f8703",
       "version_major": 2,
       "version_minor": 0
      },
      "text/plain": [
       "HBox(children=(IntProgress(value=0, description='Variables', max=226, style=ProgressStyle(description_width='i…"
      ]
     },
     "metadata": {},
     "output_type": "display_data"
    },
    {
     "name": "stdout",
     "output_type": "stream",
     "text": [
      "22 of 226 vars done for MAGICC7.1.0.beta_CNRM-ESM2-1_R1I1P1F2, region World\n",
      "44 of 226 vars done for MAGICC7.1.0.beta_CNRM-ESM2-1_R1I1P1F2, region World\n",
      "66 of 226 vars done for MAGICC7.1.0.beta_CNRM-ESM2-1_R1I1P1F2, region World\n",
      "88 of 226 vars done for MAGICC7.1.0.beta_CNRM-ESM2-1_R1I1P1F2, region World\n",
      "110 of 226 vars done for MAGICC7.1.0.beta_CNRM-ESM2-1_R1I1P1F2, region World\n",
      "132 of 226 vars done for MAGICC7.1.0.beta_CNRM-ESM2-1_R1I1P1F2, region World\n",
      "154 of 226 vars done for MAGICC7.1.0.beta_CNRM-ESM2-1_R1I1P1F2, region World\n",
      "176 of 226 vars done for MAGICC7.1.0.beta_CNRM-ESM2-1_R1I1P1F2, region World\n",
      "198 of 226 vars done for MAGICC7.1.0.beta_CNRM-ESM2-1_R1I1P1F2, region World\n",
      "220 of 226 vars done for MAGICC7.1.0.beta_CNRM-ESM2-1_R1I1P1F2, region World\n",
      ".*rcmip_phase-1_magicc7.1.0.beta-cnrm-cm6-1-r1i1p1f2_v1-0-0.csv\n",
      "['/home/sarambl/PHD/IPCC/public/AR6_CH6_RCMIPFIGS/ar6_ch6_rcmipfigs/data_in/data/results/phase-1/magicc7/rcmip_phase-1_magicc7.1.0.beta-cnrm-cm6-1-r1i1p1f2_v1-0-0.csv']\n"
     ]
    },
    {
     "data": {
      "application/vnd.jupyter.widget-view+json": {
       "model_id": "095c5249c6be4799bdda5b60104fd7e0",
       "version_major": 2,
       "version_minor": 0
      },
      "text/plain": [
       "HBox(children=(IntProgress(value=0, max=1), HTML(value='')))"
      ]
     },
     "metadata": {},
     "output_type": "display_data"
    },
    {
     "name": "stdout",
     "output_type": "stream",
     "text": [
      "\n"
     ]
    },
    {
     "name": "stderr",
     "output_type": "stream",
     "text": [
      "Filtered ScmDataFrame is empty!\n",
      "Filtered ScmDataFrame is empty!\n",
      "Filtered ScmDataFrame is empty!\n",
      "Filtered ScmDataFrame is empty!\n"
     ]
    },
    {
     "data": {
      "application/vnd.jupyter.widget-view+json": {
       "model_id": "6b5068c5db6c460690bbe0913e6d5a67",
       "version_major": 2,
       "version_minor": 0
      },
      "text/plain": [
       "HBox(children=(IntProgress(value=0, description='Climate model', max=1, style=ProgressStyle(description_width=…"
      ]
     },
     "metadata": {},
     "output_type": "display_data"
    },
    {
     "name": "stdout",
     "output_type": "stream",
     "text": [
      "MAGICC7.1.0.beta_CNRM-CM6-1_R1I1P1F2\n",
      "------------------------------------\n"
     ]
    },
    {
     "data": {
      "application/vnd.jupyter.widget-view+json": {
       "model_id": "73d90c1f718c4f0db7186f97a3941e27",
       "version_major": 2,
       "version_minor": 0
      },
      "text/plain": [
       "HBox(children=(IntProgress(value=0, max=226), HTML(value='')))"
      ]
     },
     "metadata": {},
     "output_type": "display_data"
    },
    {
     "name": "stdout",
     "output_type": "stream",
     "text": [
      "\n",
      "All clear for MAGICC7.1.0.beta_CNRM-CM6-1_R1I1P1F2\n",
      "\n",
      "\n",
      "\n"
     ]
    },
    {
     "data": {
      "application/vnd.jupyter.widget-view+json": {
       "model_id": "2c4cdced00394ffa8dbf76c2934e11dc",
       "version_major": 2,
       "version_minor": 0
      },
      "text/plain": [
       "HBox(children=(IntProgress(value=0, description='Climate models', max=1, style=ProgressStyle(description_width…"
      ]
     },
     "metadata": {},
     "output_type": "display_data"
    },
    {
     "data": {
      "application/vnd.jupyter.widget-view+json": {
       "model_id": "cda9f48d77b4420dbf0f8c74a6e66e1f",
       "version_major": 2,
       "version_minor": 0
      },
      "text/plain": [
       "HBox(children=(IntProgress(value=0, description='Regions', max=1, style=ProgressStyle(description_width='initi…"
      ]
     },
     "metadata": {},
     "output_type": "display_data"
    },
    {
     "data": {
      "application/vnd.jupyter.widget-view+json": {
       "model_id": "c42503a84bc74b80bef0cec06a2b41ea",
       "version_major": 2,
       "version_minor": 0
      },
      "text/plain": [
       "HBox(children=(IntProgress(value=0, description='Variables', max=226, style=ProgressStyle(description_width='i…"
      ]
     },
     "metadata": {},
     "output_type": "display_data"
    },
    {
     "name": "stdout",
     "output_type": "stream",
     "text": [
      "22 of 226 vars done for MAGICC7.1.0.beta_CNRM-CM6-1_R1I1P1F2, region World\n",
      "44 of 226 vars done for MAGICC7.1.0.beta_CNRM-CM6-1_R1I1P1F2, region World\n",
      "66 of 226 vars done for MAGICC7.1.0.beta_CNRM-CM6-1_R1I1P1F2, region World\n",
      "88 of 226 vars done for MAGICC7.1.0.beta_CNRM-CM6-1_R1I1P1F2, region World\n",
      "110 of 226 vars done for MAGICC7.1.0.beta_CNRM-CM6-1_R1I1P1F2, region World\n",
      "132 of 226 vars done for MAGICC7.1.0.beta_CNRM-CM6-1_R1I1P1F2, region World\n",
      "154 of 226 vars done for MAGICC7.1.0.beta_CNRM-CM6-1_R1I1P1F2, region World\n",
      "176 of 226 vars done for MAGICC7.1.0.beta_CNRM-CM6-1_R1I1P1F2, region World\n",
      "198 of 226 vars done for MAGICC7.1.0.beta_CNRM-CM6-1_R1I1P1F2, region World\n",
      "220 of 226 vars done for MAGICC7.1.0.beta_CNRM-CM6-1_R1I1P1F2, region World\n",
      ".*rcmip_phase-1_magicc7.1.0.beta-awi-cm-1-1-mr-r1i1p1f1_v1-0-0.csv\n",
      "['/home/sarambl/PHD/IPCC/public/AR6_CH6_RCMIPFIGS/ar6_ch6_rcmipfigs/data_in/data/results/phase-1/magicc7/rcmip_phase-1_magicc7.1.0.beta-awi-cm-1-1-mr-r1i1p1f1_v1-0-0.csv']\n"
     ]
    },
    {
     "data": {
      "application/vnd.jupyter.widget-view+json": {
       "model_id": "277b1084afaf47999ddd7b9d8ee9815a",
       "version_major": 2,
       "version_minor": 0
      },
      "text/plain": [
       "HBox(children=(IntProgress(value=0, max=1), HTML(value='')))"
      ]
     },
     "metadata": {},
     "output_type": "display_data"
    },
    {
     "name": "stdout",
     "output_type": "stream",
     "text": [
      "\n"
     ]
    },
    {
     "name": "stderr",
     "output_type": "stream",
     "text": [
      "Filtered ScmDataFrame is empty!\n",
      "Filtered ScmDataFrame is empty!\n",
      "Filtered ScmDataFrame is empty!\n",
      "Filtered ScmDataFrame is empty!\n"
     ]
    },
    {
     "data": {
      "application/vnd.jupyter.widget-view+json": {
       "model_id": "baade4053cfb4a4fbe6fb8b4835fd0f1",
       "version_major": 2,
       "version_minor": 0
      },
      "text/plain": [
       "HBox(children=(IntProgress(value=0, description='Climate model', max=1, style=ProgressStyle(description_width=…"
      ]
     },
     "metadata": {},
     "output_type": "display_data"
    },
    {
     "name": "stdout",
     "output_type": "stream",
     "text": [
      "MAGICC7.1.0.beta_AWI-CM-1-1-MR_R1I1P1F1\n",
      "---------------------------------------\n"
     ]
    },
    {
     "data": {
      "application/vnd.jupyter.widget-view+json": {
       "model_id": "f2a9e044769646fbae0eea28474251a6",
       "version_major": 2,
       "version_minor": 0
      },
      "text/plain": [
       "HBox(children=(IntProgress(value=0, max=226), HTML(value='')))"
      ]
     },
     "metadata": {},
     "output_type": "display_data"
    },
    {
     "name": "stdout",
     "output_type": "stream",
     "text": [
      "\n",
      "All clear for MAGICC7.1.0.beta_AWI-CM-1-1-MR_R1I1P1F1\n",
      "\n",
      "\n",
      "\n"
     ]
    },
    {
     "data": {
      "application/vnd.jupyter.widget-view+json": {
       "model_id": "a2e6e54021714a47bb0653da92699c5c",
       "version_major": 2,
       "version_minor": 0
      },
      "text/plain": [
       "HBox(children=(IntProgress(value=0, description='Climate models', max=1, style=ProgressStyle(description_width…"
      ]
     },
     "metadata": {},
     "output_type": "display_data"
    },
    {
     "data": {
      "application/vnd.jupyter.widget-view+json": {
       "model_id": "daa639d7cbe0452c85ffb0c49b3791be",
       "version_major": 2,
       "version_minor": 0
      },
      "text/plain": [
       "HBox(children=(IntProgress(value=0, description='Regions', max=1, style=ProgressStyle(description_width='initi…"
      ]
     },
     "metadata": {},
     "output_type": "display_data"
    },
    {
     "data": {
      "application/vnd.jupyter.widget-view+json": {
       "model_id": "855c3b75b52341a39386f730bf960508",
       "version_major": 2,
       "version_minor": 0
      },
      "text/plain": [
       "HBox(children=(IntProgress(value=0, description='Variables', max=226, style=ProgressStyle(description_width='i…"
      ]
     },
     "metadata": {},
     "output_type": "display_data"
    },
    {
     "name": "stdout",
     "output_type": "stream",
     "text": [
      "22 of 226 vars done for MAGICC7.1.0.beta_AWI-CM-1-1-MR_R1I1P1F1, region World\n",
      "44 of 226 vars done for MAGICC7.1.0.beta_AWI-CM-1-1-MR_R1I1P1F1, region World\n",
      "66 of 226 vars done for MAGICC7.1.0.beta_AWI-CM-1-1-MR_R1I1P1F1, region World\n",
      "88 of 226 vars done for MAGICC7.1.0.beta_AWI-CM-1-1-MR_R1I1P1F1, region World\n",
      "110 of 226 vars done for MAGICC7.1.0.beta_AWI-CM-1-1-MR_R1I1P1F1, region World\n",
      "132 of 226 vars done for MAGICC7.1.0.beta_AWI-CM-1-1-MR_R1I1P1F1, region World\n",
      "154 of 226 vars done for MAGICC7.1.0.beta_AWI-CM-1-1-MR_R1I1P1F1, region World\n",
      "176 of 226 vars done for MAGICC7.1.0.beta_AWI-CM-1-1-MR_R1I1P1F1, region World\n",
      "198 of 226 vars done for MAGICC7.1.0.beta_AWI-CM-1-1-MR_R1I1P1F1, region World\n",
      "220 of 226 vars done for MAGICC7.1.0.beta_AWI-CM-1-1-MR_R1I1P1F1, region World\n",
      ".*rcmip_phase-1_magicc7.1.0.beta-mpi-esm1-2-hr-r1i1p1f1_v1-0-0.csv\n",
      "['/home/sarambl/PHD/IPCC/public/AR6_CH6_RCMIPFIGS/ar6_ch6_rcmipfigs/data_in/data/results/phase-1/magicc7/rcmip_phase-1_magicc7.1.0.beta-mpi-esm1-2-hr-r1i1p1f1_v1-0-0.csv']\n"
     ]
    },
    {
     "data": {
      "application/vnd.jupyter.widget-view+json": {
       "model_id": "b3efb9b6daf147dba23d0020c0d60a9f",
       "version_major": 2,
       "version_minor": 0
      },
      "text/plain": [
       "HBox(children=(IntProgress(value=0, max=1), HTML(value='')))"
      ]
     },
     "metadata": {},
     "output_type": "display_data"
    },
    {
     "name": "stdout",
     "output_type": "stream",
     "text": [
      "\n"
     ]
    },
    {
     "name": "stderr",
     "output_type": "stream",
     "text": [
      "Filtered ScmDataFrame is empty!\n",
      "Filtered ScmDataFrame is empty!\n",
      "Filtered ScmDataFrame is empty!\n",
      "Filtered ScmDataFrame is empty!\n"
     ]
    },
    {
     "data": {
      "application/vnd.jupyter.widget-view+json": {
       "model_id": "aa71c7d1af914a22a9d25a5b01abd5ee",
       "version_major": 2,
       "version_minor": 0
      },
      "text/plain": [
       "HBox(children=(IntProgress(value=0, description='Climate model', max=1, style=ProgressStyle(description_width=…"
      ]
     },
     "metadata": {},
     "output_type": "display_data"
    },
    {
     "name": "stdout",
     "output_type": "stream",
     "text": [
      "MAGICC7.1.0.beta_MPI-ESM1-2-HR_R1I1P1F1\n",
      "---------------------------------------\n"
     ]
    },
    {
     "data": {
      "application/vnd.jupyter.widget-view+json": {
       "model_id": "e0e7608eee38405582aaf41afb60fc3e",
       "version_major": 2,
       "version_minor": 0
      },
      "text/plain": [
       "HBox(children=(IntProgress(value=0, max=226), HTML(value='')))"
      ]
     },
     "metadata": {},
     "output_type": "display_data"
    },
    {
     "name": "stdout",
     "output_type": "stream",
     "text": [
      "\n",
      "All clear for MAGICC7.1.0.beta_MPI-ESM1-2-HR_R1I1P1F1\n",
      "\n",
      "\n",
      "\n"
     ]
    },
    {
     "data": {
      "application/vnd.jupyter.widget-view+json": {
       "model_id": "9734195c3a1043a08518df0c2936bfac",
       "version_major": 2,
       "version_minor": 0
      },
      "text/plain": [
       "HBox(children=(IntProgress(value=0, description='Climate models', max=1, style=ProgressStyle(description_width…"
      ]
     },
     "metadata": {},
     "output_type": "display_data"
    },
    {
     "data": {
      "application/vnd.jupyter.widget-view+json": {
       "model_id": "c1a1dce2911b435ebdcd8a544fd73dcc",
       "version_major": 2,
       "version_minor": 0
      },
      "text/plain": [
       "HBox(children=(IntProgress(value=0, description='Regions', max=1, style=ProgressStyle(description_width='initi…"
      ]
     },
     "metadata": {},
     "output_type": "display_data"
    },
    {
     "data": {
      "application/vnd.jupyter.widget-view+json": {
       "model_id": "69254cb9667b4dcc93f60b7c5b3aeab8",
       "version_major": 2,
       "version_minor": 0
      },
      "text/plain": [
       "HBox(children=(IntProgress(value=0, description='Variables', max=226, style=ProgressStyle(description_width='i…"
      ]
     },
     "metadata": {},
     "output_type": "display_data"
    },
    {
     "name": "stdout",
     "output_type": "stream",
     "text": [
      "22 of 226 vars done for MAGICC7.1.0.beta_MPI-ESM1-2-HR_R1I1P1F1, region World\n",
      "44 of 226 vars done for MAGICC7.1.0.beta_MPI-ESM1-2-HR_R1I1P1F1, region World\n",
      "66 of 226 vars done for MAGICC7.1.0.beta_MPI-ESM1-2-HR_R1I1P1F1, region World\n",
      "88 of 226 vars done for MAGICC7.1.0.beta_MPI-ESM1-2-HR_R1I1P1F1, region World\n",
      "110 of 226 vars done for MAGICC7.1.0.beta_MPI-ESM1-2-HR_R1I1P1F1, region World\n",
      "132 of 226 vars done for MAGICC7.1.0.beta_MPI-ESM1-2-HR_R1I1P1F1, region World\n",
      "154 of 226 vars done for MAGICC7.1.0.beta_MPI-ESM1-2-HR_R1I1P1F1, region World\n",
      "176 of 226 vars done for MAGICC7.1.0.beta_MPI-ESM1-2-HR_R1I1P1F1, region World\n",
      "198 of 226 vars done for MAGICC7.1.0.beta_MPI-ESM1-2-HR_R1I1P1F1, region World\n",
      "220 of 226 vars done for MAGICC7.1.0.beta_MPI-ESM1-2-HR_R1I1P1F1, region World\n",
      ".*rcmip_phase-1_magicc7.1.0.beta-canesm5-r1i1p1f1_v1-0-0.csv\n",
      "['/home/sarambl/PHD/IPCC/public/AR6_CH6_RCMIPFIGS/ar6_ch6_rcmipfigs/data_in/data/results/phase-1/magicc7/rcmip_phase-1_magicc7.1.0.beta-canesm5-r1i1p1f1_v1-0-0.csv']\n"
     ]
    },
    {
     "data": {
      "application/vnd.jupyter.widget-view+json": {
       "model_id": "76890e8d83434435ac1eaae3937a42fc",
       "version_major": 2,
       "version_minor": 0
      },
      "text/plain": [
       "HBox(children=(IntProgress(value=0, max=1), HTML(value='')))"
      ]
     },
     "metadata": {},
     "output_type": "display_data"
    },
    {
     "name": "stdout",
     "output_type": "stream",
     "text": [
      "\n"
     ]
    },
    {
     "name": "stderr",
     "output_type": "stream",
     "text": [
      "Filtered ScmDataFrame is empty!\n",
      "Filtered ScmDataFrame is empty!\n",
      "Filtered ScmDataFrame is empty!\n",
      "Filtered ScmDataFrame is empty!\n"
     ]
    },
    {
     "data": {
      "application/vnd.jupyter.widget-view+json": {
       "model_id": "5c4a9bbc3ed64cfc80b7aee1fc1953ff",
       "version_major": 2,
       "version_minor": 0
      },
      "text/plain": [
       "HBox(children=(IntProgress(value=0, description='Climate model', max=1, style=ProgressStyle(description_width=…"
      ]
     },
     "metadata": {},
     "output_type": "display_data"
    },
    {
     "name": "stdout",
     "output_type": "stream",
     "text": [
      "MAGICC7.1.0.beta_CANESM5_R1I1P1F1\n",
      "---------------------------------\n"
     ]
    },
    {
     "data": {
      "application/vnd.jupyter.widget-view+json": {
       "model_id": "c50262e4e6194398bd50cfd06aceca49",
       "version_major": 2,
       "version_minor": 0
      },
      "text/plain": [
       "HBox(children=(IntProgress(value=0, max=226), HTML(value='')))"
      ]
     },
     "metadata": {},
     "output_type": "display_data"
    },
    {
     "name": "stdout",
     "output_type": "stream",
     "text": [
      "\n",
      "All clear for MAGICC7.1.0.beta_CANESM5_R1I1P1F1\n",
      "\n",
      "\n",
      "\n"
     ]
    },
    {
     "data": {
      "application/vnd.jupyter.widget-view+json": {
       "model_id": "0be92774bc0140549e3386dd385f5d10",
       "version_major": 2,
       "version_minor": 0
      },
      "text/plain": [
       "HBox(children=(IntProgress(value=0, description='Climate models', max=1, style=ProgressStyle(description_width…"
      ]
     },
     "metadata": {},
     "output_type": "display_data"
    },
    {
     "data": {
      "application/vnd.jupyter.widget-view+json": {
       "model_id": "fba95d948d0145c5916f06f3405350db",
       "version_major": 2,
       "version_minor": 0
      },
      "text/plain": [
       "HBox(children=(IntProgress(value=0, description='Regions', max=1, style=ProgressStyle(description_width='initi…"
      ]
     },
     "metadata": {},
     "output_type": "display_data"
    },
    {
     "data": {
      "application/vnd.jupyter.widget-view+json": {
       "model_id": "f8cfeaca7d0046d28d886c5d5d76207a",
       "version_major": 2,
       "version_minor": 0
      },
      "text/plain": [
       "HBox(children=(IntProgress(value=0, description='Variables', max=226, style=ProgressStyle(description_width='i…"
      ]
     },
     "metadata": {},
     "output_type": "display_data"
    },
    {
     "name": "stdout",
     "output_type": "stream",
     "text": [
      "22 of 226 vars done for MAGICC7.1.0.beta_CANESM5_R1I1P1F1, region World\n",
      "44 of 226 vars done for MAGICC7.1.0.beta_CANESM5_R1I1P1F1, region World\n",
      "66 of 226 vars done for MAGICC7.1.0.beta_CANESM5_R1I1P1F1, region World\n",
      "88 of 226 vars done for MAGICC7.1.0.beta_CANESM5_R1I1P1F1, region World\n",
      "110 of 226 vars done for MAGICC7.1.0.beta_CANESM5_R1I1P1F1, region World\n",
      "132 of 226 vars done for MAGICC7.1.0.beta_CANESM5_R1I1P1F1, region World\n",
      "154 of 226 vars done for MAGICC7.1.0.beta_CANESM5_R1I1P1F1, region World\n",
      "176 of 226 vars done for MAGICC7.1.0.beta_CANESM5_R1I1P1F1, region World\n",
      "198 of 226 vars done for MAGICC7.1.0.beta_CANESM5_R1I1P1F1, region World\n",
      "220 of 226 vars done for MAGICC7.1.0.beta_CANESM5_R1I1P1F1, region World\n",
      "\r"
     ]
    },
    {
     "data": {
      "application/javascript": [
       "\n",
       "            setTimeout(function() {\n",
       "                var nbb_cell_id = 21;\n",
       "                var nbb_formatted_code = \"for mod in model_of_interest + l_magicc_mods:\\n    print(mod)\\n    results_files = get_res_fl(mod)\\n    print(results_files)\\n    db = read_db(results_files)\\n    db = fix_ssp370_names(db)\\n    _assert(db)\\n    db = fix_hector_mce_mislab(db)\\n    db = fix_quant_FaIR(db)\\n    db = fix_quant_wasp(db)\\n    clean_db = unify_units_check_names(db, protocol_variables, protocol_scenarios)\\n    save_into_database(clean_db, OUTPUT_DATABASE_PATH, \\\"rcmip-phase-1\\\")\";\n",
       "                var nbb_cells = Jupyter.notebook.get_cells();\n",
       "                for (var i = 0; i < nbb_cells.length; ++i) {\n",
       "                    if (nbb_cells[i].input_prompt_number == nbb_cell_id) {\n",
       "                        nbb_cells[i].set_text(nbb_formatted_code);\n",
       "                        break;\n",
       "                    }\n",
       "                }\n",
       "            }, 500);\n",
       "            "
      ],
      "text/plain": [
       "<IPython.core.display.Javascript object>"
      ]
     },
     "metadata": {},
     "output_type": "display_data"
    }
   ],
   "source": [
    "for mod in model_of_interest + l_magicc_mods:\n",
    "    print(mod)\n",
    "    results_files = get_res_fl(mod)\n",
    "    print(results_files)\n",
    "    db = read_db(results_files)\n",
    "    db = fix_ssp370_names(db)\n",
    "    _assert(db)\n",
    "    db = fix_hector_mce_mislab(db)\n",
    "    db = fix_quant_FaIR(db)\n",
    "    db = fix_quant_wasp(db)\n",
    "    clean_db = unify_units_check_names(db, protocol_variables, protocol_scenarios)\n",
    "    save_into_database(clean_db, OUTPUT_DATABASE_PATH, \"rcmip-phase-1\")"
   ]
  },
  {
   "cell_type": "code",
   "execution_count": 22,
   "metadata": {},
   "outputs": [
    {
     "data": {
      "application/javascript": [
       "\n",
       "            setTimeout(function() {\n",
       "                var nbb_cell_id = 22;\n",
       "                var nbb_formatted_code = \"a = [\\n    \\\"/home/sarambl/PHD/IPCC/public/AR6_CH6_RCMIPFIGS/ar6_ch6_rcmipfigs/data_in/data/results/phase-1/magicc7/rcmip_phase-1_magicc7.1.0.beta-ipsl-cm6a-lr-r1i1p1f2_v1-0-0.csv\\\",\\n    \\\"/home/sarambl/PHD/IPCC/public/AR6_CH6_RCMIPFIGS/ar6_ch6_rcmipfigs/data_in/data/results/phase-1/magicc7/rcmip_phase-1_magicc7.1.0.beta-canesm5-r1i1p2f1_v1-0-0.csv\\\",\\n    \\\"/home/sarambl/PHD/IPCC/public/AR6_CH6_RCMIPFIGS/ar6_ch6_rcmipfigs/data_in/data/results/phase-1/magicc7/rcmip_phase-1_magicc7.1.0.beta-miroc6-r1i1p1f1_v1-0-0.csv\\\",\\n    \\\"/home/sarambl/PHD/IPCC/public/AR6_CH6_RCMIPFIGS/ar6_ch6_rcmipfigs/data_in/data/results/phase-1/magicc7/rcmip_phase-1_magicc7.1.0.beta-giss-e2-2-g-r1i1p1f1_v1-0-0.csv\\\",\\n    \\\"/home/sarambl/PHD/IPCC/public/AR6_CH6_RCMIPFIGS/ar6_ch6_rcmipfigs/data_in/data/results/phase-1/magicc7/rcmip_phase-1_magicc7.1.0.beta-bcc-esm1-r1i1p1f1_v1-0-0.csv\\\",\\n    \\\"/home/sarambl/PHD/IPCC/public/AR6_CH6_RCMIPFIGS/ar6_ch6_rcmipfigs/data_in/data/results/phase-1/magicc7/rcmip_phase-1_magicc7.1.0.beta-cesm2-r1i1p1f1_v1-0-0.csv\\\",\\n    \\\"/home/sarambl/PHD/IPCC/public/AR6_CH6_RCMIPFIGS/ar6_ch6_rcmipfigs/data_in/data/results/phase-1/magicc7/rcmip_phase-1_magicc7.1.0.beta-norcpm1-r1i1p1f1_v1-0-0.csv\\\",\\n    \\\"/home/sarambl/PHD/IPCC/public/AR6_CH6_RCMIPFIGS/ar6_ch6_rcmipfigs/data_in/data/results/phase-1/magicc7/rcmip_phase-1_magicc7.1.0.beta-canesm5-r10i1p1f1_v1-0-0.csv\\\",\\n    \\\"/home/sarambl/PHD/IPCC/public/AR6_CH6_RCMIPFIGS/ar6_ch6_rcmipfigs/data_in/data/results/phase-1/magicc7/rcmip_phase-1_magicc7.1.0.beta-noresm2-lm-r1i1p1f1_v1-0-0.csv\\\",\\n    \\\"/home/sarambl/PHD/IPCC/public/AR6_CH6_RCMIPFIGS/ar6_ch6_rcmipfigs/data_in/data/results/phase-1/magicc7/rcmip_phase-1_magicc7.1.0.beta-cnrm-cm6-1-hr-r1i1p1f2_v1-0-0.csv\\\",\\n    \\\"/home/sarambl/PHD/IPCC/public/AR6_CH6_RCMIPFIGS/ar6_ch6_rcmipfigs/data_in/data/results/phase-1/magicc7/rcmip_phase-1_magicc7.1.0.beta-giss-e2-1-h-r1i1p1f1_v1-0-0.csv\\\",\\n    \\\"/home/sarambl/PHD/IPCC/public/AR6_CH6_RCMIPFIGS/ar6_ch6_rcmipfigs/data_in/data/results/phase-1/magicc7/rcmip_phase-1_magicc7.1.0.beta-sam0-unicon-r1i1p1f1_v1-0-0.csv\\\",\\n    \\\"/home/sarambl/PHD/IPCC/public/AR6_CH6_RCMIPFIGS/ar6_ch6_rcmipfigs/data_in/data/results/phase-1/magicc7/rcmip_phase-1_magicc7.1.0.beta-cesm2-waccm-r1i1p1f1_v1-0-0.csv\\\",\\n    \\\"/home/sarambl/PHD/IPCC/public/AR6_CH6_RCMIPFIGS/ar6_ch6_rcmipfigs/data_in/data/results/phase-1/magicc7/rcmip_phase-1_magicc7.1.0.beta-e3sm-1-0-r1i1p1f1_v1-0-0.csv\\\",\\n    \\\"/home/sarambl/PHD/IPCC/public/AR6_CH6_RCMIPFIGS/ar6_ch6_rcmipfigs/data_in/data/results/phase-1/magicc7/rcmip_phase-1_magicc7.1.0.beta_v1-0-0.csv\\\",\\n    \\\"/home/sarambl/PHD/IPCC/public/AR6_CH6_RCMIPFIGS/ar6_ch6_rcmipfigs/data_in/data/results/phase-1/magicc7/rcmip_phase-1_magicc7.1.0.beta-ipsl-cm6a-lr-r10i1p1f1_v1-0-0.csv\\\",\\n    \\\"/home/sarambl/PHD/IPCC/public/AR6_CH6_RCMIPFIGS/ar6_ch6_rcmipfigs/data_in/data/results/phase-1/magicc7/rcmip_phase-1_magicc7.1.0.beta-fgoals-g3-r1i1p1f1_v1-0-0.csv\\\",\\n    \\\"/home/sarambl/PHD/IPCC/public/AR6_CH6_RCMIPFIGS/ar6_ch6_rcmipfigs/data_in/data/results/phase-1/magicc7/rcmip_phase-1_magicc7.1.0.beta-ukesm1-0-ll-r1i1p1f2_v1-0-0.csv\\\",\\n    \\\"/home/sarambl/PHD/IPCC/public/AR6_CH6_RCMIPFIGS/ar6_ch6_rcmipfigs/data_in/data/results/phase-1/magicc7/rcmip_phase-1_magicc7.1.0.beta-mcm-ua-1-0-r1i1p1f2_v1-0-0.csv\\\",\\n    \\\"/home/sarambl/PHD/IPCC/public/AR6_CH6_RCMIPFIGS/ar6_ch6_rcmipfigs/data_in/data/results/phase-1/magicc7/rcmip_phase-1_magicc7.1.0.beta-bcc-csm2-mr-r1i1p1f1_v1-0-0.csv\\\",\\n    \\\"/home/sarambl/PHD/IPCC/public/AR6_CH6_RCMIPFIGS/ar6_ch6_rcmipfigs/data_in/data/results/phase-1/magicc7/rcmip_phase-1_magicc7.1.0.beta-giss-e2-1-g-r1i1p1f1_v1-0-0.csv\\\",\\n    \\\"/home/sarambl/PHD/IPCC/public/AR6_CH6_RCMIPFIGS/ar6_ch6_rcmipfigs/data_in/data/results/phase-1/magicc7/rcmip_phase-1_magicc7.1.0.beta-ipsl-cm6a-lr-r1i1p1f1_v1-0-0.csv\\\",\\n    \\\"/home/sarambl/PHD/IPCC/public/AR6_CH6_RCMIPFIGS/ar6_ch6_rcmipfigs/data_in/data/results/phase-1/magicc7/rcmip_phase-1_magicc7.1.0.beta-ec-earth3-veg-r1i1p1f1_v1-0-0.csv\\\",\\n    \\\"/home/sarambl/PHD/IPCC/public/AR6_CH6_RCMIPFIGS/ar6_ch6_rcmipfigs/data_in/data/results/phase-1/magicc7/rcmip_phase-1_magicc7.1.0.beta-miroc-es2l-r1i1p1f2_v1-0-0.csv\\\",\\n    \\\"/home/sarambl/PHD/IPCC/public/AR6_CH6_RCMIPFIGS/ar6_ch6_rcmipfigs/data_in/data/results/phase-1/magicc7/rcmip_phase-1_magicc7.1.0.beta-cnrm-esm2-1-r1i1p1f2_v1-0-0.csv\\\",\\n    \\\"/home/sarambl/PHD/IPCC/public/AR6_CH6_RCMIPFIGS/ar6_ch6_rcmipfigs/data_in/data/results/phase-1/magicc7/rcmip_phase-1_magicc7.1.0.beta-cnrm-cm6-1-r1i1p1f2_v1-0-0.csv\\\",\\n    \\\"/home/sarambl/PHD/IPCC/public/AR6_CH6_RCMIPFIGS/ar6_ch6_rcmipfigs/data_in/data/results/phase-1/magicc7/rcmip_phase-1_magicc7.1.0.beta-awi-cm-1-1-mr-r1i1p1f1_v1-0-0.csv\\\",\\n    \\\"/home/sarambl/PHD/IPCC/public/AR6_CH6_RCMIPFIGS/ar6_ch6_rcmipfigs/data_in/data/results/phase-1/magicc7/rcmip_phase-1_magicc7.1.0.beta-mpi-esm1-2-hr-r1i1p1f1_v1-0-0.csv\\\",\\n    \\\"/home/sarambl/PHD/IPCC/public/AR6_CH6_RCMIPFIGS/ar6_ch6_rcmipfigs/data_in/data/results/phase-1/magicc7/rcmip_phase-1_magicc7.1.0.beta-canesm5-r1i1p1f1_v1-0-0.csv\\\",\\n]\";\n",
       "                var nbb_cells = Jupyter.notebook.get_cells();\n",
       "                for (var i = 0; i < nbb_cells.length; ++i) {\n",
       "                    if (nbb_cells[i].input_prompt_number == nbb_cell_id) {\n",
       "                        nbb_cells[i].set_text(nbb_formatted_code);\n",
       "                        break;\n",
       "                    }\n",
       "                }\n",
       "            }, 500);\n",
       "            "
      ],
      "text/plain": [
       "<IPython.core.display.Javascript object>"
      ]
     },
     "metadata": {},
     "output_type": "display_data"
    }
   ],
   "source": [
    "a=['/home/sarambl/PHD/IPCC/public/AR6_CH6_RCMIPFIGS/ar6_ch6_rcmipfigs/data_in/data/results/phase-1/magicc7/rcmip_phase-1_magicc7.1.0.beta-ipsl-cm6a-lr-r1i1p1f2_v1-0-0.csv', '/home/sarambl/PHD/IPCC/public/AR6_CH6_RCMIPFIGS/ar6_ch6_rcmipfigs/data_in/data/results/phase-1/magicc7/rcmip_phase-1_magicc7.1.0.beta-canesm5-r1i1p2f1_v1-0-0.csv', '/home/sarambl/PHD/IPCC/public/AR6_CH6_RCMIPFIGS/ar6_ch6_rcmipfigs/data_in/data/results/phase-1/magicc7/rcmip_phase-1_magicc7.1.0.beta-miroc6-r1i1p1f1_v1-0-0.csv', '/home/sarambl/PHD/IPCC/public/AR6_CH6_RCMIPFIGS/ar6_ch6_rcmipfigs/data_in/data/results/phase-1/magicc7/rcmip_phase-1_magicc7.1.0.beta-giss-e2-2-g-r1i1p1f1_v1-0-0.csv', '/home/sarambl/PHD/IPCC/public/AR6_CH6_RCMIPFIGS/ar6_ch6_rcmipfigs/data_in/data/results/phase-1/magicc7/rcmip_phase-1_magicc7.1.0.beta-bcc-esm1-r1i1p1f1_v1-0-0.csv', '/home/sarambl/PHD/IPCC/public/AR6_CH6_RCMIPFIGS/ar6_ch6_rcmipfigs/data_in/data/results/phase-1/magicc7/rcmip_phase-1_magicc7.1.0.beta-cesm2-r1i1p1f1_v1-0-0.csv', '/home/sarambl/PHD/IPCC/public/AR6_CH6_RCMIPFIGS/ar6_ch6_rcmipfigs/data_in/data/results/phase-1/magicc7/rcmip_phase-1_magicc7.1.0.beta-norcpm1-r1i1p1f1_v1-0-0.csv', '/home/sarambl/PHD/IPCC/public/AR6_CH6_RCMIPFIGS/ar6_ch6_rcmipfigs/data_in/data/results/phase-1/magicc7/rcmip_phase-1_magicc7.1.0.beta-canesm5-r10i1p1f1_v1-0-0.csv', '/home/sarambl/PHD/IPCC/public/AR6_CH6_RCMIPFIGS/ar6_ch6_rcmipfigs/data_in/data/results/phase-1/magicc7/rcmip_phase-1_magicc7.1.0.beta-noresm2-lm-r1i1p1f1_v1-0-0.csv', '/home/sarambl/PHD/IPCC/public/AR6_CH6_RCMIPFIGS/ar6_ch6_rcmipfigs/data_in/data/results/phase-1/magicc7/rcmip_phase-1_magicc7.1.0.beta-cnrm-cm6-1-hr-r1i1p1f2_v1-0-0.csv', '/home/sarambl/PHD/IPCC/public/AR6_CH6_RCMIPFIGS/ar6_ch6_rcmipfigs/data_in/data/results/phase-1/magicc7/rcmip_phase-1_magicc7.1.0.beta-giss-e2-1-h-r1i1p1f1_v1-0-0.csv', '/home/sarambl/PHD/IPCC/public/AR6_CH6_RCMIPFIGS/ar6_ch6_rcmipfigs/data_in/data/results/phase-1/magicc7/rcmip_phase-1_magicc7.1.0.beta-sam0-unicon-r1i1p1f1_v1-0-0.csv', '/home/sarambl/PHD/IPCC/public/AR6_CH6_RCMIPFIGS/ar6_ch6_rcmipfigs/data_in/data/results/phase-1/magicc7/rcmip_phase-1_magicc7.1.0.beta-cesm2-waccm-r1i1p1f1_v1-0-0.csv', '/home/sarambl/PHD/IPCC/public/AR6_CH6_RCMIPFIGS/ar6_ch6_rcmipfigs/data_in/data/results/phase-1/magicc7/rcmip_phase-1_magicc7.1.0.beta-e3sm-1-0-r1i1p1f1_v1-0-0.csv', '/home/sarambl/PHD/IPCC/public/AR6_CH6_RCMIPFIGS/ar6_ch6_rcmipfigs/data_in/data/results/phase-1/magicc7/rcmip_phase-1_magicc7.1.0.beta_v1-0-0.csv', '/home/sarambl/PHD/IPCC/public/AR6_CH6_RCMIPFIGS/ar6_ch6_rcmipfigs/data_in/data/results/phase-1/magicc7/rcmip_phase-1_magicc7.1.0.beta-ipsl-cm6a-lr-r10i1p1f1_v1-0-0.csv', '/home/sarambl/PHD/IPCC/public/AR6_CH6_RCMIPFIGS/ar6_ch6_rcmipfigs/data_in/data/results/phase-1/magicc7/rcmip_phase-1_magicc7.1.0.beta-fgoals-g3-r1i1p1f1_v1-0-0.csv', '/home/sarambl/PHD/IPCC/public/AR6_CH6_RCMIPFIGS/ar6_ch6_rcmipfigs/data_in/data/results/phase-1/magicc7/rcmip_phase-1_magicc7.1.0.beta-ukesm1-0-ll-r1i1p1f2_v1-0-0.csv', '/home/sarambl/PHD/IPCC/public/AR6_CH6_RCMIPFIGS/ar6_ch6_rcmipfigs/data_in/data/results/phase-1/magicc7/rcmip_phase-1_magicc7.1.0.beta-mcm-ua-1-0-r1i1p1f2_v1-0-0.csv', '/home/sarambl/PHD/IPCC/public/AR6_CH6_RCMIPFIGS/ar6_ch6_rcmipfigs/data_in/data/results/phase-1/magicc7/rcmip_phase-1_magicc7.1.0.beta-bcc-csm2-mr-r1i1p1f1_v1-0-0.csv', '/home/sarambl/PHD/IPCC/public/AR6_CH6_RCMIPFIGS/ar6_ch6_rcmipfigs/data_in/data/results/phase-1/magicc7/rcmip_phase-1_magicc7.1.0.beta-giss-e2-1-g-r1i1p1f1_v1-0-0.csv', '/home/sarambl/PHD/IPCC/public/AR6_CH6_RCMIPFIGS/ar6_ch6_rcmipfigs/data_in/data/results/phase-1/magicc7/rcmip_phase-1_magicc7.1.0.beta-ipsl-cm6a-lr-r1i1p1f1_v1-0-0.csv', '/home/sarambl/PHD/IPCC/public/AR6_CH6_RCMIPFIGS/ar6_ch6_rcmipfigs/data_in/data/results/phase-1/magicc7/rcmip_phase-1_magicc7.1.0.beta-ec-earth3-veg-r1i1p1f1_v1-0-0.csv', '/home/sarambl/PHD/IPCC/public/AR6_CH6_RCMIPFIGS/ar6_ch6_rcmipfigs/data_in/data/results/phase-1/magicc7/rcmip_phase-1_magicc7.1.0.beta-miroc-es2l-r1i1p1f2_v1-0-0.csv', '/home/sarambl/PHD/IPCC/public/AR6_CH6_RCMIPFIGS/ar6_ch6_rcmipfigs/data_in/data/results/phase-1/magicc7/rcmip_phase-1_magicc7.1.0.beta-cnrm-esm2-1-r1i1p1f2_v1-0-0.csv', '/home/sarambl/PHD/IPCC/public/AR6_CH6_RCMIPFIGS/ar6_ch6_rcmipfigs/data_in/data/results/phase-1/magicc7/rcmip_phase-1_magicc7.1.0.beta-cnrm-cm6-1-r1i1p1f2_v1-0-0.csv', '/home/sarambl/PHD/IPCC/public/AR6_CH6_RCMIPFIGS/ar6_ch6_rcmipfigs/data_in/data/results/phase-1/magicc7/rcmip_phase-1_magicc7.1.0.beta-awi-cm-1-1-mr-r1i1p1f1_v1-0-0.csv', '/home/sarambl/PHD/IPCC/public/AR6_CH6_RCMIPFIGS/ar6_ch6_rcmipfigs/data_in/data/results/phase-1/magicc7/rcmip_phase-1_magicc7.1.0.beta-mpi-esm1-2-hr-r1i1p1f1_v1-0-0.csv', '/home/sarambl/PHD/IPCC/public/AR6_CH6_RCMIPFIGS/ar6_ch6_rcmipfigs/data_in/data/results/phase-1/magicc7/rcmip_phase-1_magicc7.1.0.beta-canesm5-r1i1p1f1_v1-0-0.csv']"
   ]
  },
  {
   "cell_type": "code",
   "execution_count": 23,
   "metadata": {
    "lines_to_next_cell": 2
   },
   "outputs": [
    {
     "name": "stdout",
     "output_type": "stream",
     "text": [
      "rcmip_phase-1_magicc7.1.0.beta-ipsl-cm6a-lr-r1i1p1f2_v1-0-0.csv\n",
      "rcmip_phase-1_magicc7.1.0.beta-canesm5-r1i1p2f1_v1-0-0.csv\n",
      "rcmip_phase-1_magicc7.1.0.beta-miroc6-r1i1p1f1_v1-0-0.csv\n",
      "rcmip_phase-1_magicc7.1.0.beta-giss-e2-2-g-r1i1p1f1_v1-0-0.csv\n",
      "rcmip_phase-1_magicc7.1.0.beta-bcc-esm1-r1i1p1f1_v1-0-0.csv\n",
      "rcmip_phase-1_magicc7.1.0.beta-cesm2-r1i1p1f1_v1-0-0.csv\n",
      "rcmip_phase-1_magicc7.1.0.beta-norcpm1-r1i1p1f1_v1-0-0.csv\n",
      "rcmip_phase-1_magicc7.1.0.beta-canesm5-r10i1p1f1_v1-0-0.csv\n",
      "rcmip_phase-1_magicc7.1.0.beta-noresm2-lm-r1i1p1f1_v1-0-0.csv\n",
      "rcmip_phase-1_magicc7.1.0.beta-cnrm-cm6-1-hr-r1i1p1f2_v1-0-0.csv\n",
      "rcmip_phase-1_magicc7.1.0.beta-giss-e2-1-h-r1i1p1f1_v1-0-0.csv\n",
      "rcmip_phase-1_magicc7.1.0.beta-sam0-unicon-r1i1p1f1_v1-0-0.csv\n",
      "rcmip_phase-1_magicc7.1.0.beta-cesm2-waccm-r1i1p1f1_v1-0-0.csv\n",
      "rcmip_phase-1_magicc7.1.0.beta-e3sm-1-0-r1i1p1f1_v1-0-0.csv\n",
      "rcmip_phase-1_magicc7.1.0.beta_v1-0-0.csv\n",
      "rcmip_phase-1_magicc7.1.0.beta-ipsl-cm6a-lr-r10i1p1f1_v1-0-0.csv\n",
      "rcmip_phase-1_magicc7.1.0.beta-fgoals-g3-r1i1p1f1_v1-0-0.csv\n",
      "rcmip_phase-1_magicc7.1.0.beta-ukesm1-0-ll-r1i1p1f2_v1-0-0.csv\n",
      "rcmip_phase-1_magicc7.1.0.beta-mcm-ua-1-0-r1i1p1f2_v1-0-0.csv\n",
      "rcmip_phase-1_magicc7.1.0.beta-bcc-csm2-mr-r1i1p1f1_v1-0-0.csv\n",
      "rcmip_phase-1_magicc7.1.0.beta-giss-e2-1-g-r1i1p1f1_v1-0-0.csv\n",
      "rcmip_phase-1_magicc7.1.0.beta-ipsl-cm6a-lr-r1i1p1f1_v1-0-0.csv\n",
      "rcmip_phase-1_magicc7.1.0.beta-ec-earth3-veg-r1i1p1f1_v1-0-0.csv\n",
      "rcmip_phase-1_magicc7.1.0.beta-miroc-es2l-r1i1p1f2_v1-0-0.csv\n",
      "rcmip_phase-1_magicc7.1.0.beta-cnrm-esm2-1-r1i1p1f2_v1-0-0.csv\n",
      "rcmip_phase-1_magicc7.1.0.beta-cnrm-cm6-1-r1i1p1f2_v1-0-0.csv\n",
      "rcmip_phase-1_magicc7.1.0.beta-awi-cm-1-1-mr-r1i1p1f1_v1-0-0.csv\n",
      "rcmip_phase-1_magicc7.1.0.beta-mpi-esm1-2-hr-r1i1p1f1_v1-0-0.csv\n",
      "rcmip_phase-1_magicc7.1.0.beta-canesm5-r1i1p1f1_v1-0-0.csv\n"
     ]
    },
    {
     "data": {
      "application/javascript": [
       "\n",
       "            setTimeout(function() {\n",
       "                var nbb_cell_id = 23;\n",
       "                var nbb_formatted_code = \"l_magicc_mods = []\\nfor _a in a:\\n    print(_a.split(\\\"/\\\")[-1])\\n    l_magicc_mods.append(\\\".*\\\" + _a.split(\\\"/\\\")[-1])\";\n",
       "                var nbb_cells = Jupyter.notebook.get_cells();\n",
       "                for (var i = 0; i < nbb_cells.length; ++i) {\n",
       "                    if (nbb_cells[i].input_prompt_number == nbb_cell_id) {\n",
       "                        nbb_cells[i].set_text(nbb_formatted_code);\n",
       "                        break;\n",
       "                    }\n",
       "                }\n",
       "            }, 500);\n",
       "            "
      ],
      "text/plain": [
       "<IPython.core.display.Javascript object>"
      ]
     },
     "metadata": {},
     "output_type": "display_data"
    }
   ],
   "source": [
    "l_magicc_mods = []\n",
    "for _a in a:\n",
    "    print(_a.split('/')[-1])\n",
    "    l_magicc_mods.append('.*'+_a.split('/')[-1])"
   ]
  }
 ],
 "metadata": {
  "jupytext": {
   "text_representation": {
    "extension": ".py",
    "format_name": "percent",
    "format_version": "1.3",
    "jupytext_version": "1.3.3"
   }
  },
  "kernelspec": {
   "display_name": "Python 3",
   "language": "python",
   "name": "python3"
  },
  "language_info": {
   "codemirror_mode": {
    "name": "ipython",
    "version": 3
   },
   "file_extension": ".py",
   "mimetype": "text/x-python",
   "name": "python",
   "nbconvert_exporter": "python",
   "pygments_lexer": "ipython3",
   "version": "3.7.6"
  }
 },
 "nbformat": 4,
 "nbformat_minor": 4
}
