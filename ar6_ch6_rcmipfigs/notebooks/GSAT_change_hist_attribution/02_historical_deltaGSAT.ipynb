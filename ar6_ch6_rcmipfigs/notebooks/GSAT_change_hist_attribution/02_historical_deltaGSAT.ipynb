{
 "cells": [
  {
   "cell_type": "markdown",
   "metadata": {},
   "source": [
    "# Compute $\\Delta T$"
   ]
  },
  {
   "cell_type": "markdown",
   "metadata": {},
   "source": [
    "### Imports\n"
   ]
  },
  {
   "cell_type": "code",
   "execution_count": 1,
   "metadata": {},
   "outputs": [
    {
     "name": "stdout",
     "output_type": "stream",
     "text": [
      "/home/sarambl/PHD/IPCC/public/AR6_CH6_RCMIPFIGSv2/ar6_ch6_rcmipfigs\n",
      "/home/sarambl/PHD/IPCC/public/AR6_CH6_RCMIPFIGSv2/ar6_ch6_rcmipfigs/data_in\n"
     ]
    }
   ],
   "source": [
    "import pandas as pd\n",
    "import xarray as xr\n",
    "from IPython.display import clear_output\n",
    "import numpy as np\n",
    "import pandas as pd\n",
    "import matplotlib.pyplot as plt\n",
    "\n",
    "%load_ext autoreload\n",
    "%autoreload 2\n",
    "from ar6_ch6_rcmipfigs.constants import INPUT_DATA_DIR"
   ]
  },
  {
   "cell_type": "code",
   "execution_count": 2,
   "metadata": {
    "lines_to_next_cell": 2
   },
   "outputs": [
    {
     "name": "stderr",
     "output_type": "stream",
     "text": [
      "/home/sarambl/miniconda3/envs/rcmip_ch6/lib/python3.7/site-packages/tqdm/autonotebook/__init__.py:18: TqdmExperimentalWarning: Using `tqdm.autonotebook.tqdm` in notebook mode. Use `tqdm.tqdm` instead to force console mode (e.g. in jupyter console)\n",
      "  \" (e.g. in jupyter console)\", TqdmExperimentalWarning)\n"
     ]
    },
    {
     "data": {
      "application/javascript": [
       "IPython.OutputArea.prototype._should_scroll = function(lines) { return false; }"
      ],
      "text/plain": [
       "<IPython.core.display.Javascript object>"
      ]
     },
     "metadata": {},
     "output_type": "display_data"
    }
   ],
   "source": [
    "from openscm_twolayermodel import ImpulseResponseModel, TwoLayerModel, constants  # pip install openscm-twolayermodel\n",
    "from openscm_units import unit_registry  # pip install openscm-units\n",
    "from scmdata import ScmRun  # pip install scmdata"
   ]
  },
  {
   "cell_type": "markdown",
   "metadata": {
    "lines_to_next_cell": 0
   },
   "source": [
    "### General about computing $\\Delta T$:"
   ]
  },
  {
   "cell_type": "markdown",
   "metadata": {
    "lines_to_next_cell": 0
   },
   "source": [
    "We compute the change in GSAT temperature ($\\Delta T$) from the effective radiative forcing (ERF) from MAGICC?????? (#TODO: check model and reference), by integrating with the impulse response function (IRF(t-t'))\n",
    "\n",
    "#todo: check for ref for IRF\n",
    "(Geoffroy at al 2013).\n",
    "\n",
    "For any forcing agent $x$, with estimated ERF$_x$, the change in temperature $\\Delta T$ is calculated as:\n"
   ]
  },
  {
   "cell_type": "markdown",
   "metadata": {
    "lines_to_next_cell": 0
   },
   "source": [
    "\\begin{align*}\n",
    "\\Delta T_x (t) &= \\int_0^t ERF_x(t') IRF(t-t') dt' \\\\\n",
    "\\end{align*}"
   ]
  },
  {
   "cell_type": "markdown",
   "metadata": {
    "lines_to_next_cell": 0
   },
   "source": [
    "#### The Impulse response function (IRF):\n",
    "In these calculations we use:\n",
    "\\begin{align*}\n",
    "IRF(t) = \\frac{q_1}{d_1} \\exp\\Big(\\frac{-t}{d_1}\\Big) + \\frac{q_2}{d_2} \\exp\\Big(\\frac{-t}{d_2}\\Big)\n",
    "\\end{align*}\n",
    "\n",
    "Where the constants, $q_i$ and $d_i$ are shown below. \n",
    "\n"
   ]
  },
  {
   "cell_type": "markdown",
   "metadata": {},
   "source": [
    "# Code + figures"
   ]
  },
  {
   "cell_type": "code",
   "execution_count": 3,
   "metadata": {},
   "outputs": [
    {
     "data": {
      "text/html": [
       "<div>\n",
       "<style scoped>\n",
       "    .dataframe tbody tr th:only-of-type {\n",
       "        vertical-align: middle;\n",
       "    }\n",
       "\n",
       "    .dataframe tbody tr th {\n",
       "        vertical-align: top;\n",
       "    }\n",
       "\n",
       "    .dataframe thead th {\n",
       "        text-align: right;\n",
       "    }\n",
       "</style>\n",
       "<table border=\"1\" class=\"dataframe\">\n",
       "  <thead>\n",
       "    <tr style=\"text-align: right;\">\n",
       "      <th></th>\n",
       "      <th>C (W yr / m^2 / K)</th>\n",
       "      <th>C_d (W yr / m^2 / K)</th>\n",
       "      <th>alpha (W / m^2 / K)</th>\n",
       "      <th>eta (dimensionless)</th>\n",
       "      <th>kappa (W / m^2 / K)</th>\n",
       "      <th>d1 (yr)</th>\n",
       "      <th>d2 (yr)</th>\n",
       "      <th>q1 (K / (W / m^2))</th>\n",
       "      <th>q2 (K / (W / m^2))</th>\n",
       "      <th>efficacy (dimensionless)</th>\n",
       "      <th>ecs (K)</th>\n",
       "      <th>tcr (K)</th>\n",
       "      <th>rf2xCO2 (W / m^2)</th>\n",
       "    </tr>\n",
       "    <tr>\n",
       "      <th>id</th>\n",
       "      <th></th>\n",
       "      <th></th>\n",
       "      <th></th>\n",
       "      <th></th>\n",
       "      <th></th>\n",
       "      <th></th>\n",
       "      <th></th>\n",
       "      <th></th>\n",
       "      <th></th>\n",
       "      <th></th>\n",
       "      <th></th>\n",
       "      <th></th>\n",
       "      <th></th>\n",
       "    </tr>\n",
       "  </thead>\n",
       "  <tbody>\n",
       "    <tr>\n",
       "      <th>recommendation</th>\n",
       "      <td>7.649789</td>\n",
       "      <td>147.168593</td>\n",
       "      <td>1.31</td>\n",
       "      <td>1.027856</td>\n",
       "      <td>0.880636</td>\n",
       "      <td>3.424102</td>\n",
       "      <td>285.003478</td>\n",
       "      <td>0.443768</td>\n",
       "      <td>0.319591</td>\n",
       "      <td>1.027856</td>\n",
       "      <td>3.0</td>\n",
       "      <td>1.801052</td>\n",
       "      <td>3.93</td>\n",
       "    </tr>\n",
       "  </tbody>\n",
       "</table>\n",
       "</div>"
      ],
      "text/plain": [
       "                C (W yr / m^2 / K)  C_d (W yr / m^2 / K)  alpha (W / m^2 / K)  \\\n",
       "id                                                                              \n",
       "recommendation            7.649789            147.168593                 1.31   \n",
       "\n",
       "                eta (dimensionless)  kappa (W / m^2 / K)   d1 (yr)  \\\n",
       "id                                                                   \n",
       "recommendation             1.027856             0.880636  3.424102   \n",
       "\n",
       "                   d2 (yr)  q1 (K / (W / m^2))  q2 (K / (W / m^2))  \\\n",
       "id                                                                   \n",
       "recommendation  285.003478            0.443768            0.319591   \n",
       "\n",
       "                efficacy (dimensionless)  ecs (K)   tcr (K)  rf2xCO2 (W / m^2)  \n",
       "id                                                                              \n",
       "recommendation                  1.027856      3.0  1.801052               3.93  "
      ]
     },
     "execution_count": 3,
     "metadata": {},
     "output_type": "execute_result"
    }
   ],
   "source": [
    "fn_IRF_constants = INPUT_DATA_DIR /'recommended_irf_from_2xCO2_2021_02_25_222758.csv'\n",
    "\n",
    "irf_consts = pd.read_csv(fn_IRF_constants).set_index('id')\n",
    "\n",
    "ld1 = 'd1 (yr)'\n",
    "ld2 = 'd2 (yr)'\n",
    "lq1 = 'q1 (K / (W / m^2))'\n",
    "lq2 = 'q2 (K / (W / m^2))'\n",
    "median = 'median'\n",
    "perc5 = '5th percentile'\n",
    "perc95 = '95th percentile'\n",
    "recommendation = 'recommendation'\n",
    "irf_consts  # [d1]"
   ]
  },
  {
   "cell_type": "code",
   "execution_count": 4,
   "metadata": {
    "lines_to_next_cell": 2
   },
   "outputs": [
    {
     "name": "stdout",
     "output_type": "stream",
     "text": [
      "d1=3.4241020923110033, d2=285.0034778419114, q1=0.4437677288834471, q2=0.31959104974250885\n"
     ]
    }
   ],
   "source": [
    "# lets get the irf values from 0 until i\n",
    "d1 = float(irf_consts[ld1])\n",
    "d2 = float(irf_consts[ld2])\n",
    "q1 = float(irf_consts[lq1])\n",
    "q2 = float(irf_consts[lq2])\n",
    "eff = float(irf_consts['efficacy (dimensionless)'])\n",
    "\n",
    "print(f'd1={d1}, d2={d2}, q1={q1}, q2={q2}')"
   ]
  },
  {
   "cell_type": "markdown",
   "metadata": {},
   "source": [
    "### Path input data"
   ]
  },
  {
   "cell_type": "code",
   "execution_count": 5,
   "metadata": {
    "collapsed": false,
    "jupyter": {
     "outputs_hidden": false
    },
    "lines_to_next_cell": 2,
    "pycharm": {
     "name": "#%%\n"
    }
   },
   "outputs": [],
   "source": [
    "from ar6_ch6_rcmipfigs.constants import OUTPUT_DATA_DIR, RESULTS_DIR\n",
    "\n",
    "#PATH_DATASET = OUTPUT_DATA_DIR / 'ERF_data.nc'\n",
    "PATH_DATASET = OUTPUT_DATA_DIR/'historic_delta_GSAT/hist_ERF_est.csv'\n",
    "\n",
    "\n",
    "\n",
    "\n",
    "\n",
    "\n",
    "\n",
    "\n"
   ]
  },
  {
   "cell_type": "markdown",
   "metadata": {},
   "source": [
    "## Path output data"
   ]
  },
  {
   "cell_type": "code",
   "execution_count": 6,
   "metadata": {
    "collapsed": false,
    "jupyter": {
     "outputs_hidden": false
    },
    "lines_to_next_cell": 2,
    "pycharm": {
     "name": "#%%\n"
    }
   },
   "outputs": [
    {
     "name": "stdout",
     "output_type": "stream",
     "text": [
      "/home/sarambl/PHD/IPCC/public/AR6_CH6_RCMIPFIGSv2/ar6_ch6_rcmipfigs/data_out/historic_delta_GSAT/dT_data_hist_recommendation.csv\n"
     ]
    }
   ],
   "source": [
    "#PATH_DT_TAB_OUTPUT = RESULTS_DIR / 'tables' / 'table_sens_dT_cs_recommandetion.csv'\n",
    "PATH_DF_OUTPUT = OUTPUT_DATA_DIR / 'historic_delta_GSAT/dT_data_hist_recommendation.csv'\n",
    "\n",
    "print(PATH_DF_OUTPUT)"
   ]
  },
  {
   "cell_type": "markdown",
   "metadata": {},
   "source": [
    "## various definitions"
   ]
  },
  {
   "cell_type": "code",
   "execution_count": 7,
   "metadata": {},
   "outputs": [],
   "source": [
    "# name of output variable\n",
    "name_deltaT = 'Delta T'\n",
    "\n",
    "climatemodel = 'climatemodel'\n",
    "scenario = 'scenario'\n",
    "variable = 'variable'\n",
    "time = 'time'\n",
    "percentile = 'percentile'"
   ]
  },
  {
   "cell_type": "markdown",
   "metadata": {},
   "source": [
    "## Set values:"
   ]
  },
  {
   "cell_type": "markdown",
   "metadata": {},
   "source": [
    "We only compute for the recommendation (not e.g. percentiles):"
   ]
  },
  {
   "cell_type": "code",
   "execution_count": 8,
   "metadata": {},
   "outputs": [],
   "source": [
    "IRFpercentiles = [recommendation]\n",
    "# {'ECS = 2K':0.526, 'ECS = 3.4K':0.884, 'ECS = 5K': 1.136 }"
   ]
  },
  {
   "cell_type": "markdown",
   "metadata": {},
   "source": [
    "Year to integrate from and to:"
   ]
  },
  {
   "cell_type": "code",
   "execution_count": 9,
   "metadata": {},
   "outputs": [],
   "source": [
    "first_y = 1750\n",
    "last_y = 2020"
   ]
  },
  {
   "cell_type": "markdown",
   "metadata": {},
   "source": [
    "**Set reference year for temperature change:**"
   ]
  },
  {
   "cell_type": "code",
   "execution_count": 10,
   "metadata": {},
   "outputs": [],
   "source": [
    "ref_year = 1750"
   ]
  },
  {
   "cell_type": "markdown",
   "metadata": {},
   "source": [
    "### Define variables to look at:"
   ]
  },
  {
   "cell_type": "code",
   "execution_count": 11,
   "metadata": {},
   "outputs": [],
   "source": [
    "# variables to plot:\n",
    "variables_erf_comp = [\n",
    "    'CO2', 'N2O', 'CH4', 'HC', 'NOx', 'SO2', 'BC', 'OC', 'NH3'\n",
    "]\n",
    "# total ERFs for anthropogenic and total:\n",
    "variables_erf_tot = []\n",
    "variables_all = variables_erf_comp + variables_erf_tot\n",
    "# Scenarios to plot:\n",
    "scenarios_fl = []"
   ]
  },
  {
   "cell_type": "markdown",
   "metadata": {},
   "source": [
    "## IRF function: "
   ]
  },
  {
   "cell_type": "code",
   "execution_count": 12,
   "metadata": {},
   "outputs": [],
   "source": [
    "\n",
    "def IRF(t, d1, q1, d2, q2):\n",
    "    \"\"\"\n",
    "    Returns the IRF function for:\n",
    "    :param q2:\n",
    "    :param d2:\n",
    "    :param q1:\n",
    "    :param d1:\n",
    "    :param t: Time in years\n",
    "    :return:\n",
    "    IRF\n",
    "    \"\"\"\n",
    "    #print(f'd1={d1}, d2={d2}, q1={q1}, q2={q2}')\n",
    "    irf = q1 / d1 * np.exp(-t / d1) + q2 / d2 * np.exp(-t / d2)\n",
    "    return irf\n",
    "    # l * (alpha1 * np.exp(-t / tau1) + alpha2 * np.exp(-t / tau2))"
   ]
  },
  {
   "cell_type": "markdown",
   "metadata": {},
   "source": [
    "### Open ERF dataset:"
   ]
  },
  {
   "cell_type": "code",
   "execution_count": 13,
   "metadata": {},
   "outputs": [
    {
     "data": {
      "text/html": [
       "<pre>&lt;xarray.Dataset&gt;\n",
       "Dimensions:   (variable: 10, year: 270)\n",
       "Coordinates:\n",
       "  * year      (year) int64 1750 1751 1752 1753 1754 ... 2015 2016 2017 2018 2019\n",
       "  * variable  (variable) &lt;U3 &#x27;CO2&#x27; &#x27;N2O&#x27; &#x27;CH4&#x27; &#x27;NOx&#x27; ... &#x27;OC&#x27; &#x27;NH3&#x27; &#x27;VOC&#x27; &#x27;HC&#x27;\n",
       "Data variables:\n",
       "    ERF       (variable, year) float64 0.0 0.001126 0.002252 ... 0.205 0.2064</pre>"
      ],
      "text/plain": [
       "<xarray.Dataset>\n",
       "Dimensions:   (variable: 10, year: 270)\n",
       "Coordinates:\n",
       "  * year      (year) int64 1750 1751 1752 1753 1754 ... 2015 2016 2017 2018 2019\n",
       "  * variable  (variable) <U3 'CO2' 'N2O' 'CH4' 'NOx' ... 'OC' 'NH3' 'VOC' 'HC'\n",
       "Data variables:\n",
       "    ERF       (variable, year) float64 0.0 0.001126 0.002252 ... 0.205 0.2064"
      ]
     },
     "execution_count": 13,
     "metadata": {},
     "output_type": "execute_result"
    }
   ],
   "source": [
    "df = pd.read_csv(PATH_DATASET, index_col=0)\n",
    "da_ERF = df.to_xarray().to_array()#'variable'\n",
    "da_ERF = da_ERF.rename({'index':'year'})\n",
    "#ds = xr.open_dataset(PATH_DATASET).sel(year=slice(1700, 2200))  # we need only years until 1700\n",
    "ds = xr.Dataset({'ERF':da_ERF})\n",
    "ds\n",
    "#da_ERF = ds['ERF']"
   ]
  },
  {
   "cell_type": "code",
   "execution_count": 14,
   "metadata": {},
   "outputs": [],
   "source": [
    "ds['ERF'].to_pandas().transpose().to_csv('ERF_timeseries.csv')"
   ]
  },
  {
   "cell_type": "markdown",
   "metadata": {},
   "source": [
    "#### Simple pre-processing"
   ]
  },
  {
   "cell_type": "code",
   "execution_count": 15,
   "metadata": {},
   "outputs": [
    {
     "data": {
      "text/html": [
       "<pre>&lt;xarray.Dataset&gt;\n",
       "Dimensions:   (variable: 10, year: 270)\n",
       "Coordinates:\n",
       "  * year      (year) int64 1750 1751 1752 1753 1754 ... 2015 2016 2017 2018 2019\n",
       "  * variable  (variable) &lt;U3 &#x27;CO2&#x27; &#x27;N2O&#x27; &#x27;CH4&#x27; &#x27;NOx&#x27; ... &#x27;OC&#x27; &#x27;NH3&#x27; &#x27;VOC&#x27; &#x27;HC&#x27;\n",
       "Data variables:\n",
       "    ERF       (variable, year) float64 0.0 0.001126 0.002252 ... 0.205 0.2064\n",
       "    time      (year) datetime64[ns] 1750-01-01 1751-01-01 ... 2019-01-01\n",
       "    delta_t   (year) float64 1.0 1.0 1.0 1.0 1.0 1.0 ... 1.0 1.0 1.0 1.0 1.0 1.0</pre>"
      ],
      "text/plain": [
       "<xarray.Dataset>\n",
       "Dimensions:   (variable: 10, year: 270)\n",
       "Coordinates:\n",
       "  * year      (year) int64 1750 1751 1752 1753 1754 ... 2015 2016 2017 2018 2019\n",
       "  * variable  (variable) <U3 'CO2' 'N2O' 'CH4' 'NOx' ... 'OC' 'NH3' 'VOC' 'HC'\n",
       "Data variables:\n",
       "    ERF       (variable, year) float64 0.0 0.001126 0.002252 ... 0.205 0.2064\n",
       "    time      (year) datetime64[ns] 1750-01-01 1751-01-01 ... 2019-01-01\n",
       "    delta_t   (year) float64 1.0 1.0 1.0 1.0 1.0 1.0 ... 1.0 1.0 1.0 1.0 1.0 1.0"
      ]
     },
     "execution_count": 15,
     "metadata": {},
     "output_type": "execute_result"
    }
   ],
   "source": [
    "ds['time'] = pd.to_datetime(ds['year'].to_pandas().index.map(str), format='%Y')\n",
    "\n",
    "# delta_t is 1 (year)\n",
    "ds['delta_t'] = xr.DataArray(np.ones(len(ds['year'])), dims='year', coords={'year': ds['year']})\n",
    "ds"
   ]
  },
  {
   "cell_type": "markdown",
   "metadata": {},
   "source": [
    "## Integrate and compute $\\Delta T$:\n",
    "The code below integrates the read in ERFs with the pre defined impulse response function (IRF)."
   ]
  },
  {
   "cell_type": "markdown",
   "metadata": {},
   "source": [
    "\\begin{align*} \n",
    "\\Delta T (t) &= \\int_0^t ERF(t') IRF(t-t') dt' \\\\\n",
    "\\end{align*}"
   ]
  },
  {
   "cell_type": "code",
   "execution_count": 16,
   "metadata": {},
   "outputs": [],
   "source": [
    "\n",
    "\n",
    "def integrate_(i, _var, _nvar, ds_in: xr.Dataset, ds_DT, irf_cnst: dict):\n",
    "    \"\"\"\n",
    "\n",
    "    :param i:\n",
    "    :param _var:\n",
    "    :param _nvar:\n",
    "    :param ds_in:\n",
    "    :param ds_DT:\n",
    "    :param irf_cnst: dictionary\n",
    "    :return:\n",
    "    \"\"\"\n",
    "    #print('_var',_var)\n",
    "    #print('_nvar',_nvar)\n",
    "    # lets create a ds that goes from 0 to i inclusive\n",
    "    ds_short = ds_in[{'year': slice(0, i + 1)}].copy()\n",
    "    #print(ds_short)\n",
    "    # lets get the current year\n",
    "    current_year = ds_short['year'][{'year': i}]  # .dt.year\n",
    "    # lets get a list of years\n",
    "    _years = ds_short['year']  # .dt.year\n",
    "    # lets get the year delta until current year(i)\n",
    "    ds_short['end_year_delta'] = current_year - _years\n",
    "\n",
    "    # lets get the irf values from 0 until i\n",
    "    d1 = irf_cnst[ld1]\n",
    "    d2 = irf_cnst[ld2]\n",
    "    q1 = irf_cnst[lq1]\n",
    "    q2 = irf_cnst[lq2]\n",
    "\n",
    "    ds_short['irf'] = IRF(\n",
    "        ds_short['end_year_delta'] * ds_short['delta_t'], d1, q1, d2, q2)\n",
    "\n",
    "    # lets do the famous integral\n",
    "    ds_short['to_integrate'] = \\\n",
    "        ds_short[_var] * \\\n",
    "        ds_short['irf'] * \\\n",
    "        ds_short['delta_t']\n",
    "\n",
    "    # lets sum all the values up until i and set\n",
    "    # this value at ds_DT\n",
    "    # If whole array is null, set value to nan\n",
    "    if np.all(ds_short['to_integrate'].isnull()):  # or last_null:\n",
    "        _val = np.nan\n",
    "    else:\n",
    "        # \n",
    "\n",
    "        _ds_int = ds_short['to_integrate'].sum(['year'])\n",
    "        # mask where last value is null (in order to not get intgral \n",
    "        _ds_m1 = ds_short['to_integrate'].isel(year=-1)\n",
    "        # where no forcing data)\n",
    "        _val = _ds_int.where(_ds_m1.notnull())\n",
    "    # set value in dataframe:\n",
    "    ds_DT[_nvar][{'year': i}] = _val\n",
    "\n",
    "\n",
    "def integrate_to_dT(_ds, from_t, to_t, irf_cnsts, int_var='ERF'):\n",
    "    \"\"\"\n",
    "    Integrate forcing to temperature change.\n",
    "\n",
    "    :param _ds: dataset containing the forcings\n",
    "    :param from_t: start year\n",
    "    :param to_t: end year\n",
    "    :param int_var: variables to integrate\n",
    "    :param irf_cnsts: irf constants\n",
    "    :return:\n",
    "    \"\"\"\n",
    "    # slice dataset\n",
    "    ds_sl = _ds.sel(year=slice(from_t, to_t))\n",
    "    len_time = len(ds_sl['year'])\n",
    "    # lets create a result DS\n",
    "    ds_DT = ds_sl.copy()\n",
    "\n",
    "    # lets define the vars of the ds\n",
    "    namevar = name_deltaT\n",
    "    # set all values to zero for results dataarray:\n",
    "    ds_DT[namevar] = ds_DT[int_var] * 0\n",
    "    # Units Kelvin:\n",
    "    ds_DT[namevar].attrs['unit'] = 'K'\n",
    "    if 'unit' in ds_DT[namevar].coords:\n",
    "        ds_DT[namevar].coords['unit'] = 'K'\n",
    "\n",
    "    for i in range(len_time):\n",
    "        # da = ds[var]\n",
    "        if (i % 20) == 0:\n",
    "            print('%s of %s done' % (i, len_time))\n",
    "        integrate_(i, int_var, namevar, ds_sl, ds_DT, irf_cnsts)\n",
    "    clear_output()\n",
    "    # fn = 'DT_%s-%s.nc' % (from_t, to_t)\n",
    "    #fname = OUTPUT_DATA_DIR/ fn#'DT_%s-%s.nc' % (from_t, to_t)\n",
    "    # save dataset.\n",
    "    #ds_DT.to_netcdf(fname)\n",
    "    return ds_DT"
   ]
  },
  {
   "cell_type": "code",
   "execution_count": 17,
   "metadata": {},
   "outputs": [],
   "source": [
    "def calc_dGSAT(var, ds, ds_out, scenario='scenario'):\n",
    "    s_y = int(ds.isel(year=0)['year'].values)\n",
    "    _erf_tmp = ds['ERF'].sel(variable=var).to_pandas()\n",
    "    unit = \"W/m^2\"\n",
    "\n",
    "    driver = ScmRun(\n",
    "    \n",
    "        data=_erf_tmp,\n",
    "        index=s_y + np.arange(len(_erf_tmp)),\n",
    "        columns={\n",
    "            \"unit\": unit,\n",
    "            \"model\": \"custom\",\n",
    "            \"scenario\": scenario,\n",
    "            \"region\": \"World\",\n",
    "            \"variable\": \"Effective Radiative Forcing\",\n",
    "        },\n",
    "    )\n",
    "\n",
    "    impulse_res = ImpulseResponseModel(\n",
    "        d1=d1 * unit_registry(\"yr\"),\n",
    "        d2=d2 * unit_registry(\"yr\"),\n",
    "        q1=q1* unit_registry(\"delta_degC / (W / m^2)\"),\n",
    "        q2=q2* unit_registry(\"delta_degC / (W / m^2)\"),\n",
    "        efficacy=eff* unit_registry(\"dimensionless\"),\n",
    "    )\n",
    "    dt_tmp = impulse_res.run_scenarios(driver)\n",
    "\n",
    "\n",
    "    df_tmp= dt_tmp.filter(variable='Surface Temperature').timeseries()#.lineplot()#['Surface']\n",
    "    #_ds_dT[var] =df_tmp.transpose()\n",
    "    \n",
    "    #ds_out[var]  = \n",
    "    df_tmp = df_tmp.reset_index().iloc[:,12:].transpose().rename({0:var}, axis=1)#.to_xarray()\n",
    "    year_index = pd.to_datetime(df_tmp.index).year\n",
    "    df_tmp['year'] = year_index\n",
    "    df_tmp = df_tmp.set_index('year')\n",
    "\n",
    "    ds_out[var] = df_tmp.to_xarray()[var]\n",
    "\n",
    "    return ds_out"
   ]
  },
  {
   "cell_type": "code",
   "execution_count": 18,
   "metadata": {},
   "outputs": [],
   "source": [
    "def calc_GSAT_all_vars(_ds, ds_out, variables=None, scenario='scenario'):\n",
    "    \n",
    "\n",
    "    if variables is None:\n",
    "        variables =_ds['variable'].values\n",
    "    \n",
    "\n",
    "    _ds_dT = xr.Dataset()\n",
    "    for var in variables:\n",
    "        print(var)\n",
    "        _ds_dT = calc_dGSAT(var, _ds, _ds_dT, scenario=scenario)\n",
    "        print()\n",
    "    ds_DT = _ds_dT.to_array(name=name_deltaT)\n",
    "\n",
    "    #ds_out[name_deltaT] = ds_DT\n",
    "    \n",
    "\n",
    "    return ds_DT"
   ]
  },
  {
   "cell_type": "code",
   "execution_count": 19,
   "metadata": {},
   "outputs": [],
   "source": [
    "def calc_GSAT_all_scenarios(ds, ds_out, scenarios_l = None):\n",
    "    \n",
    "\n",
    "    scenarios_l = None\n",
    "    if scenarios_l is None:\n",
    "        scenarios_l = ds[scenario].values\n",
    "    _ds_dT = xr.Dataset()\n",
    "    _ds_out = xr.Dataset()\n",
    "    for scn in scenarios_l:\n",
    "        print(scn)\n",
    "        ds_scn = calc_GSAT_all_vars(ds.sel(scenario = scn), _ds_dT, scenario=scn)\n",
    "        ds_scn = ds_scn.rename(scn)\n",
    "        _ds_out[scn] = ds_scn\n",
    "    ds_DT = _ds_out.to_array(dim=scenario, name=name_deltaT)\n",
    "    ds_out[name_deltaT] = ds_DT\n",
    "    \n",
    "\n",
    "    return ds_out"
   ]
  },
  {
   "cell_type": "code",
   "execution_count": 20,
   "metadata": {
    "collapsed": false,
    "jupyter": {
     "outputs_hidden": false
    },
    "pycharm": {
     "name": "#%%\n"
    }
   },
   "outputs": [],
   "source": [
    "dic_ds_old = {}\n",
    "for key in IRFpercentiles:\n",
    "    dic_ds_old[key] = integrate_to_dT(ds, first_y, last_y, irf_consts.loc[key], int_var='ERF')"
   ]
  },
  {
   "cell_type": "code",
   "execution_count": 21,
   "metadata": {
    "pycharm": {
     "name": "#%%\n"
    }
   },
   "outputs": [
    {
     "name": "stdout",
     "output_type": "stream",
     "text": [
      "CO2\n"
     ]
    },
    {
     "data": {
      "application/vnd.jupyter.widget-view+json": {
       "model_id": "87a5c9bc65ad43d9915dd72d2ed29099",
       "version_major": 2,
       "version_minor": 0
      },
      "text/plain": [
       "HBox(children=(IntProgress(value=1, bar_style='info', description='scenarios', max=1, style=ProgressStyle(desc…"
      ]
     },
     "metadata": {},
     "output_type": "display_data"
    },
    {
     "name": "stdout",
     "output_type": "stream",
     "text": [
      "\n",
      "N2O\n"
     ]
    },
    {
     "data": {
      "application/vnd.jupyter.widget-view+json": {
       "model_id": "b0f69e8d8e8c426fae45aa979f312817",
       "version_major": 2,
       "version_minor": 0
      },
      "text/plain": [
       "HBox(children=(IntProgress(value=1, bar_style='info', description='scenarios', max=1, style=ProgressStyle(desc…"
      ]
     },
     "metadata": {},
     "output_type": "display_data"
    },
    {
     "name": "stdout",
     "output_type": "stream",
     "text": [
      "\n",
      "CH4\n"
     ]
    },
    {
     "data": {
      "application/vnd.jupyter.widget-view+json": {
       "model_id": "ad5dcfb0a3844fee9df3f0479c021314",
       "version_major": 2,
       "version_minor": 0
      },
      "text/plain": [
       "HBox(children=(IntProgress(value=1, bar_style='info', description='scenarios', max=1, style=ProgressStyle(desc…"
      ]
     },
     "metadata": {},
     "output_type": "display_data"
    },
    {
     "name": "stdout",
     "output_type": "stream",
     "text": [
      "\n",
      "NOx\n"
     ]
    },
    {
     "data": {
      "application/vnd.jupyter.widget-view+json": {
       "model_id": "7e317fb4a9ed46ad8cfc0de627a9855b",
       "version_major": 2,
       "version_minor": 0
      },
      "text/plain": [
       "HBox(children=(IntProgress(value=1, bar_style='info', description='scenarios', max=1, style=ProgressStyle(desc…"
      ]
     },
     "metadata": {},
     "output_type": "display_data"
    },
    {
     "name": "stdout",
     "output_type": "stream",
     "text": [
      "\n",
      "SO2\n"
     ]
    },
    {
     "data": {
      "application/vnd.jupyter.widget-view+json": {
       "model_id": "7722c1e5d582428dbdf773ff9c1840ec",
       "version_major": 2,
       "version_minor": 0
      },
      "text/plain": [
       "HBox(children=(IntProgress(value=1, bar_style='info', description='scenarios', max=1, style=ProgressStyle(desc…"
      ]
     },
     "metadata": {},
     "output_type": "display_data"
    },
    {
     "name": "stdout",
     "output_type": "stream",
     "text": [
      "\n",
      "BC\n"
     ]
    },
    {
     "data": {
      "application/vnd.jupyter.widget-view+json": {
       "model_id": "d290e0ed544245239d9124948fed05e4",
       "version_major": 2,
       "version_minor": 0
      },
      "text/plain": [
       "HBox(children=(IntProgress(value=1, bar_style='info', description='scenarios', max=1, style=ProgressStyle(desc…"
      ]
     },
     "metadata": {},
     "output_type": "display_data"
    },
    {
     "name": "stdout",
     "output_type": "stream",
     "text": [
      "\n",
      "OC\n"
     ]
    },
    {
     "data": {
      "application/vnd.jupyter.widget-view+json": {
       "model_id": "24cf6ecb44ba4e228dc3006d7fc64210",
       "version_major": 2,
       "version_minor": 0
      },
      "text/plain": [
       "HBox(children=(IntProgress(value=1, bar_style='info', description='scenarios', max=1, style=ProgressStyle(desc…"
      ]
     },
     "metadata": {},
     "output_type": "display_data"
    },
    {
     "name": "stdout",
     "output_type": "stream",
     "text": [
      "\n",
      "NH3\n"
     ]
    },
    {
     "data": {
      "application/vnd.jupyter.widget-view+json": {
       "model_id": "fcb4ae2834974ed281ab51f9fa231bbf",
       "version_major": 2,
       "version_minor": 0
      },
      "text/plain": [
       "HBox(children=(IntProgress(value=1, bar_style='info', description='scenarios', max=1, style=ProgressStyle(desc…"
      ]
     },
     "metadata": {},
     "output_type": "display_data"
    },
    {
     "name": "stdout",
     "output_type": "stream",
     "text": [
      "\n",
      "VOC\n"
     ]
    },
    {
     "data": {
      "application/vnd.jupyter.widget-view+json": {
       "model_id": "43bb9f2fb13d4757ae8a2c8d8abae5b6",
       "version_major": 2,
       "version_minor": 0
      },
      "text/plain": [
       "HBox(children=(IntProgress(value=1, bar_style='info', description='scenarios', max=1, style=ProgressStyle(desc…"
      ]
     },
     "metadata": {},
     "output_type": "display_data"
    },
    {
     "name": "stdout",
     "output_type": "stream",
     "text": [
      "\n",
      "HC\n"
     ]
    },
    {
     "data": {
      "application/vnd.jupyter.widget-view+json": {
       "model_id": "0621be3534864823ae77d7a235339526",
       "version_major": 2,
       "version_minor": 0
      },
      "text/plain": [
       "HBox(children=(IntProgress(value=1, bar_style='info', description='scenarios', max=1, style=ProgressStyle(desc…"
      ]
     },
     "metadata": {},
     "output_type": "display_data"
    },
    {
     "name": "stdout",
     "output_type": "stream",
     "text": [
      "\n"
     ]
    }
   ],
   "source": [
    "dic_ds = {}\n",
    "for key in IRFpercentiles:\n",
    "    ds_out = ds.copy(deep=True)\n",
    "\n",
    "    ds_out[name_deltaT]= calc_GSAT_all_vars(ds,ds_out)\n",
    "    dic_ds[key] = ds_out"
   ]
  },
  {
   "cell_type": "code",
   "execution_count": 22,
   "metadata": {
    "lines_to_next_cell": 2
   },
   "outputs": [
    {
     "data": {
      "text/html": [
       "<pre>&lt;xarray.Dataset&gt;\n",
       "Dimensions:   (variable: 10, year: 270)\n",
       "Coordinates:\n",
       "  * year      (year) int64 1750 1751 1752 1753 1754 ... 2015 2016 2017 2018 2019\n",
       "  * variable  (variable) &lt;U3 &#x27;CO2&#x27; &#x27;N2O&#x27; &#x27;CH4&#x27; &#x27;NOx&#x27; ... &#x27;OC&#x27; &#x27;NH3&#x27; &#x27;VOC&#x27; &#x27;HC&#x27;\n",
       "Data variables:\n",
       "    ERF       (variable, year) float64 0.0 0.001126 0.002252 ... 0.205 0.2064\n",
       "    time      (year) datetime64[ns] 1750-01-01 1751-01-01 ... 2019-01-01\n",
       "    delta_t   (year) float64 1.0 1.0 1.0 1.0 1.0 1.0 ... 1.0 1.0 1.0 1.0 1.0 1.0</pre>"
      ],
      "text/plain": [
       "<xarray.Dataset>\n",
       "Dimensions:   (variable: 10, year: 270)\n",
       "Coordinates:\n",
       "  * year      (year) int64 1750 1751 1752 1753 1754 ... 2015 2016 2017 2018 2019\n",
       "  * variable  (variable) <U3 'CO2' 'N2O' 'CH4' 'NOx' ... 'OC' 'NH3' 'VOC' 'HC'\n",
       "Data variables:\n",
       "    ERF       (variable, year) float64 0.0 0.001126 0.002252 ... 0.205 0.2064\n",
       "    time      (year) datetime64[ns] 1750-01-01 1751-01-01 ... 2019-01-01\n",
       "    delta_t   (year) float64 1.0 1.0 1.0 1.0 1.0 1.0 ... 1.0 1.0 1.0 1.0 1.0 1.0"
      ]
     },
     "execution_count": 22,
     "metadata": {},
     "output_type": "execute_result"
    }
   ],
   "source": [
    "ds#['delta_t']#[{'year': i}]  # .dt.year"
   ]
  },
  {
   "cell_type": "markdown",
   "metadata": {},
   "source": [
    "## check:"
   ]
  },
  {
   "cell_type": "code",
   "execution_count": 23,
   "metadata": {},
   "outputs": [
    {
     "data": {
      "image/png": "[encoded data removed]",
      "text/plain": [
       "<Figure size 432x288 with 1 Axes>"
      ]
     },
     "metadata": {
      "needs_background": "light"
     },
     "output_type": "display_data"
    }
   ],
   "source": [
    "for per in IRFpercentiles:\n",
    "    dic_ds[per].isel( variable=0)[name_deltaT].plot()"
   ]
  },
  {
   "cell_type": "markdown",
   "metadata": {},
   "source": [
    "### Make datset with percentile as dimension:\n",
    "Does really only make sense with percentiles..."
   ]
  },
  {
   "cell_type": "code",
   "execution_count": 24,
   "metadata": {},
   "outputs": [],
   "source": [
    "ds_tmp = xr.Dataset(coords=dic_ds[recommendation].coords)\n",
    "ds_tmp\n",
    "for key in IRFpercentiles:\n",
    "    ds_tmp[key] = dic_ds[key]['Delta T']  # .dims,dic_ds[key],)\n",
    "ds['Delta T'] = ds_tmp.to_array('percentile')"
   ]
  },
  {
   "cell_type": "code",
   "execution_count": 25,
   "metadata": {},
   "outputs": [],
   "source": [
    "ds['Delta T'].sel(percentile='recommendation').to_pandas().transpose().to_csv('Delta_T_timeseriies.csv')"
   ]
  },
  {
   "cell_type": "code",
   "execution_count": 26,
   "metadata": {},
   "outputs": [
    {
     "data": {
      "text/html": [
       "<div>\n",
       "<style scoped>\n",
       "    .dataframe tbody tr th:only-of-type {\n",
       "        vertical-align: middle;\n",
       "    }\n",
       "\n",
       "    .dataframe tbody tr th {\n",
       "        vertical-align: top;\n",
       "    }\n",
       "\n",
       "    .dataframe thead th {\n",
       "        text-align: right;\n",
       "    }\n",
       "</style>\n",
       "<table border=\"1\" class=\"dataframe\">\n",
       "  <thead>\n",
       "    <tr style=\"text-align: right;\">\n",
       "      <th>variable</th>\n",
       "      <th>CO2</th>\n",
       "      <th>N2O</th>\n",
       "      <th>CH4</th>\n",
       "      <th>NOx</th>\n",
       "      <th>SO2</th>\n",
       "      <th>BC</th>\n",
       "      <th>OC</th>\n",
       "      <th>NH3</th>\n",
       "      <th>VOC</th>\n",
       "      <th>HC</th>\n",
       "    </tr>\n",
       "    <tr>\n",
       "      <th>year</th>\n",
       "      <th></th>\n",
       "      <th></th>\n",
       "      <th></th>\n",
       "      <th></th>\n",
       "      <th></th>\n",
       "      <th></th>\n",
       "      <th></th>\n",
       "      <th></th>\n",
       "      <th></th>\n",
       "      <th></th>\n",
       "    </tr>\n",
       "  </thead>\n",
       "  <tbody>\n",
       "    <tr>\n",
       "      <th>1750</th>\n",
       "      <td>0.000000</td>\n",
       "      <td>0.000000</td>\n",
       "      <td>0.000000</td>\n",
       "      <td>0.000000e+00</td>\n",
       "      <td>0.000000</td>\n",
       "      <td>0.000000</td>\n",
       "      <td>0.000000</td>\n",
       "      <td>0.000000e+00</td>\n",
       "      <td>0.000000</td>\n",
       "      <td>0.000000</td>\n",
       "    </tr>\n",
       "    <tr>\n",
       "      <th>1751</th>\n",
       "      <td>0.000000</td>\n",
       "      <td>0.000000</td>\n",
       "      <td>0.000000</td>\n",
       "      <td>0.000000e+00</td>\n",
       "      <td>0.000000</td>\n",
       "      <td>0.000000</td>\n",
       "      <td>0.000000</td>\n",
       "      <td>0.000000e+00</td>\n",
       "      <td>0.000000</td>\n",
       "      <td>0.000000</td>\n",
       "    </tr>\n",
       "    <tr>\n",
       "      <th>1752</th>\n",
       "      <td>0.000128</td>\n",
       "      <td>0.000009</td>\n",
       "      <td>0.000094</td>\n",
       "      <td>-1.332385e-07</td>\n",
       "      <td>-0.000006</td>\n",
       "      <td>0.000002</td>\n",
       "      <td>-0.000013</td>\n",
       "      <td>-5.426050e-07</td>\n",
       "      <td>0.000020</td>\n",
       "      <td>0.000000</td>\n",
       "    </tr>\n",
       "    <tr>\n",
       "      <th>1753</th>\n",
       "      <td>0.000351</td>\n",
       "      <td>0.000024</td>\n",
       "      <td>0.000260</td>\n",
       "      <td>-3.673459e-07</td>\n",
       "      <td>-0.000015</td>\n",
       "      <td>0.000004</td>\n",
       "      <td>-0.000037</td>\n",
       "      <td>-1.491647e-06</td>\n",
       "      <td>0.000055</td>\n",
       "      <td>0.000000</td>\n",
       "    </tr>\n",
       "    <tr>\n",
       "      <th>1754</th>\n",
       "      <td>0.000647</td>\n",
       "      <td>0.000044</td>\n",
       "      <td>0.000478</td>\n",
       "      <td>-6.758748e-07</td>\n",
       "      <td>-0.000025</td>\n",
       "      <td>0.000008</td>\n",
       "      <td>-0.000068</td>\n",
       "      <td>-2.745437e-06</td>\n",
       "      <td>0.000102</td>\n",
       "      <td>0.000000</td>\n",
       "    </tr>\n",
       "    <tr>\n",
       "      <th>...</th>\n",
       "      <td>...</td>\n",
       "      <td>...</td>\n",
       "      <td>...</td>\n",
       "      <td>...</td>\n",
       "      <td>...</td>\n",
       "      <td>...</td>\n",
       "      <td>...</td>\n",
       "      <td>...</td>\n",
       "      <td>...</td>\n",
       "      <td>...</td>\n",
       "    </tr>\n",
       "    <tr>\n",
       "      <th>2015</th>\n",
       "      <td>0.878750</td>\n",
       "      <td>0.105006</td>\n",
       "      <td>0.585398</td>\n",
       "      <td>-1.517266e-01</td>\n",
       "      <td>-0.610134</td>\n",
       "      <td>0.034801</td>\n",
       "      <td>-0.105492</td>\n",
       "      <td>-1.426244e-02</td>\n",
       "      <td>0.264835</td>\n",
       "      <td>0.094472</td>\n",
       "    </tr>\n",
       "    <tr>\n",
       "      <th>2016</th>\n",
       "      <td>0.895436</td>\n",
       "      <td>0.106810</td>\n",
       "      <td>0.589839</td>\n",
       "      <td>-1.508235e-01</td>\n",
       "      <td>-0.593472</td>\n",
       "      <td>0.034538</td>\n",
       "      <td>-0.105600</td>\n",
       "      <td>-1.441562e-02</td>\n",
       "      <td>0.262460</td>\n",
       "      <td>0.095121</td>\n",
       "    </tr>\n",
       "    <tr>\n",
       "      <th>2017</th>\n",
       "      <td>0.914430</td>\n",
       "      <td>0.108568</td>\n",
       "      <td>0.594396</td>\n",
       "      <td>-1.497795e-01</td>\n",
       "      <td>-0.576583</td>\n",
       "      <td>0.034220</td>\n",
       "      <td>-0.105771</td>\n",
       "      <td>-1.457200e-02</td>\n",
       "      <td>0.258854</td>\n",
       "      <td>0.095798</td>\n",
       "    </tr>\n",
       "    <tr>\n",
       "      <th>2018</th>\n",
       "      <td>0.932890</td>\n",
       "      <td>0.110333</td>\n",
       "      <td>0.598911</td>\n",
       "      <td>-1.490268e-01</td>\n",
       "      <td>-0.560152</td>\n",
       "      <td>0.033991</td>\n",
       "      <td>-0.105947</td>\n",
       "      <td>-1.473472e-02</td>\n",
       "      <td>0.255489</td>\n",
       "      <td>0.096516</td>\n",
       "    </tr>\n",
       "    <tr>\n",
       "      <th>2019</th>\n",
       "      <td>0.951383</td>\n",
       "      <td>0.112206</td>\n",
       "      <td>0.603572</td>\n",
       "      <td>-1.482959e-01</td>\n",
       "      <td>-0.547457</td>\n",
       "      <td>0.033784</td>\n",
       "      <td>-0.105963</td>\n",
       "      <td>-1.489535e-02</td>\n",
       "      <td>0.252492</td>\n",
       "      <td>0.097289</td>\n",
       "    </tr>\n",
       "  </tbody>\n",
       "</table>\n",
       "<p>270 rows × 10 columns</p>\n",
       "</div>"
      ],
      "text/plain": [
       "variable       CO2       N2O       CH4           NOx       SO2        BC  \\\n",
       "year                                                                       \n",
       "1750      0.000000  0.000000  0.000000  0.000000e+00  0.000000  0.000000   \n",
       "1751      0.000000  0.000000  0.000000  0.000000e+00  0.000000  0.000000   \n",
       "1752      0.000128  0.000009  0.000094 -1.332385e-07 -0.000006  0.000002   \n",
       "1753      0.000351  0.000024  0.000260 -3.673459e-07 -0.000015  0.000004   \n",
       "1754      0.000647  0.000044  0.000478 -6.758748e-07 -0.000025  0.000008   \n",
       "...            ...       ...       ...           ...       ...       ...   \n",
       "2015      0.878750  0.105006  0.585398 -1.517266e-01 -0.610134  0.034801   \n",
       "2016      0.895436  0.106810  0.589839 -1.508235e-01 -0.593472  0.034538   \n",
       "2017      0.914430  0.108568  0.594396 -1.497795e-01 -0.576583  0.034220   \n",
       "2018      0.932890  0.110333  0.598911 -1.490268e-01 -0.560152  0.033991   \n",
       "2019      0.951383  0.112206  0.603572 -1.482959e-01 -0.547457  0.033784   \n",
       "\n",
       "variable        OC           NH3       VOC        HC  \n",
       "year                                                  \n",
       "1750      0.000000  0.000000e+00  0.000000  0.000000  \n",
       "1751      0.000000  0.000000e+00  0.000000  0.000000  \n",
       "1752     -0.000013 -5.426050e-07  0.000020  0.000000  \n",
       "1753     -0.000037 -1.491647e-06  0.000055  0.000000  \n",
       "1754     -0.000068 -2.745437e-06  0.000102  0.000000  \n",
       "...            ...           ...       ...       ...  \n",
       "2015     -0.105492 -1.426244e-02  0.264835  0.094472  \n",
       "2016     -0.105600 -1.441562e-02  0.262460  0.095121  \n",
       "2017     -0.105771 -1.457200e-02  0.258854  0.095798  \n",
       "2018     -0.105947 -1.473472e-02  0.255489  0.096516  \n",
       "2019     -0.105963 -1.489535e-02  0.252492  0.097289  \n",
       "\n",
       "[270 rows x 10 columns]"
      ]
     },
     "execution_count": 26,
     "metadata": {},
     "output_type": "execute_result"
    }
   ],
   "source": [
    "ds['Delta T'].sel(percentile='recommendation').to_pandas().transpose()#.to_csv('Delta_T_timeseriies.csv')"
   ]
  },
  {
   "cell_type": "markdown",
   "metadata": {},
   "source": [
    "## Scale "
   ]
  },
  {
   "cell_type": "markdown",
   "metadata": {},
   "source": [
    "# Save dataset:"
   ]
  },
  {
   "cell_type": "code",
   "execution_count": 27,
   "metadata": {},
   "outputs": [
    {
     "name": "stdout",
     "output_type": "stream",
     "text": [
      "Saved to \n",
      "/home/sarambl/PHD/IPCC/public/AR6_CH6_RCMIPFIGSv2/ar6_ch6_rcmipfigs/data_out/historic_delta_GSAT/dT_data_hist_recommendation.nc\n"
     ]
    }
   ],
   "source": [
    "ds.sel(year=slice(first_y, last_y)).to_netcdf(PATH_DF_OUTPUT.with_suffix('.nc'))\n",
    "print(f'Saved to ')\n",
    "print(PATH_DF_OUTPUT.with_suffix('.nc'))\n",
    "# ds_DT.to_array('percentile')\n",
    "# dic_ds[key]['Delta T']"
   ]
  },
  {
   "cell_type": "code",
   "execution_count": 28,
   "metadata": {},
   "outputs": [
    {
     "name": "stdout",
     "output_type": "stream",
     "text": [
      "hallo\n"
     ]
    }
   ],
   "source": [
    "from ar6_ch6_rcmipfigs.utils.plot import get_cmap_dic"
   ]
  },
  {
   "cell_type": "code",
   "execution_count": 29,
   "metadata": {},
   "outputs": [
    {
     "name": "stdout",
     "output_type": "stream",
     "text": [
      "(0.9568627450980393, 0.796078431372549, 0.21176470588235294)\n",
      "(0.8274509803921568, 0.0, 0.1568627450980392)\n",
      "(1.0, 0.4196078431372549, 0.07450980392156863)\n",
      "(0.47843137254901963, 0.5058823529411764, 0.5058823529411764)\n",
      "(0.26666666666666666, 0.0, 0.5254901960784314)\n",
      "(0.3764705882352941, 0.5725490196078431, 0.796078431372549)\n",
      "(0.5411764705882353, 0.2235294117647059, 0.0)\n",
      "(0.4745098039215686, 0.792156862745098, 0.9333333333333333)\n",
      "(0.0, 0.6901960784313725, 0.6039215686274509)\n"
     ]
    }
   ],
   "source": [
    "cols = get_cmap_dic(variables_all)"
   ]
  },
  {
   "cell_type": "code",
   "execution_count": 30,
   "metadata": {},
   "outputs": [],
   "source": [
    "df_deltaT = ds[name_deltaT].squeeze().drop('percentile').to_dataframe().unstack('variable')['Delta T']"
   ]
  },
  {
   "cell_type": "code",
   "execution_count": 31,
   "metadata": {},
   "outputs": [],
   "source": [
    "df_deltaT.to_csv(PATH_DF_OUTPUT)"
   ]
  },
  {
   "cell_type": "code",
   "execution_count": 32,
   "metadata": {},
   "outputs": [
    {
     "data": {
      "text/plain": [
       "Text(0,0.5,'$\\\\Delta$ T ($^\\\\circ$ C)')"
      ]
     },
     "execution_count": 32,
     "metadata": {},
     "output_type": "execute_result"
    },
    {
     "data": {
      "image/png": "[encoded data removed]",
      "text/plain": [
       "<Figure size 720x360 with 1 Axes>"
      ]
     },
     "metadata": {
      "needs_background": "light"
     },
     "output_type": "display_data"
    }
   ],
   "source": [
    "fig, ax = plt.subplots(figsize=[10,5])\n",
    "for v in variables_all:\n",
    "    df_deltaT[variables_all][v].plot(linewidth=3,ax = ax, label=v, color=cols[v])#, color=cols.items())\n",
    "plt.legend(loc='upper left')\n",
    "plt.ylabel('$\\Delta$ T ($^\\circ$ C)')"
   ]
  },
  {
   "cell_type": "code",
   "execution_count": 33,
   "metadata": {},
   "outputs": [
    {
     "data": {
      "text/plain": [
       "Text(0,0.5,'$\\\\Delta$ T ($^\\\\circ$ C)')"
      ]
     },
     "execution_count": 33,
     "metadata": {},
     "output_type": "execute_result"
    },
    {
     "data": {
      "image/png": "[encoded data removed]",
      "text/plain": [
       "<Figure size 720x360 with 1 Axes>"
      ]
     },
     "metadata": {
      "needs_background": "light"
     },
     "output_type": "display_data"
    }
   ],
   "source": [
    "df_deltaT = ds[name_deltaT].squeeze().drop('percentile').to_dataframe().unstack('variable')['Delta T']\n",
    "fig, ax = plt.subplots(figsize=[10,5])\n",
    "df_deltaT[variables_all].sum(axis=1).plot(linewidth=3,ax = ax, label=v, color=cols[v])#, color=cols.items())\n",
    "plt.legend(loc='upper left')\n",
    "plt.ylabel('$\\Delta$ T ($^\\circ$ C)')"
   ]
  },
  {
   "cell_type": "code",
   "execution_count": 34,
   "metadata": {},
   "outputs": [
    {
     "data": {
      "text/plain": [
       "Text(0,0.5,'$\\\\Delta$ T ($^\\\\circ$ C)')"
      ]
     },
     "execution_count": 34,
     "metadata": {},
     "output_type": "execute_result"
    },
    {
     "data": {
      "image/png": "[encoded data removed]",
      "text/plain": [
       "<Figure size 720x360 with 1 Axes>"
      ]
     },
     "metadata": {
      "needs_background": "light"
     },
     "output_type": "display_data"
    }
   ],
   "source": [
    "df_deltaT = ds[name_deltaT].squeeze().drop('percentile').to_dataframe().unstack('variable')['Delta T']\n",
    "fig, ax = plt.subplots(figsize=[10,5])\n",
    "for v in variables_all:\n",
    "    df_deltaT[variables_all][v].plot(linewidth=3,ax = ax, label=v, color=cols[v])#, color=cols.items())\n",
    "plt.legend(loc='upper left')\n",
    "plt.ylabel('$\\Delta$ T ($^\\circ$ C)')"
   ]
  },
  {
   "cell_type": "code",
   "execution_count": 35,
   "metadata": {},
   "outputs": [
    {
     "data": {
      "text/plain": [
       "Text(0,0.5,'$\\\\Delta$ T ($^\\\\circ$ C)')"
      ]
     },
     "execution_count": 35,
     "metadata": {},
     "output_type": "execute_result"
    },
    {
     "data": {
      "image/png": "[encoded data removed]",
      "text/plain": [
       "<Figure size 720x360 with 1 Axes>"
      ]
     },
     "metadata": {
      "needs_background": "light"
     },
     "output_type": "display_data"
    }
   ],
   "source": [
    "df_deltaT = ds[name_deltaT].squeeze().drop('percentile').to_dataframe().unstack('variable')['Delta T']\n",
    "fig, ax = plt.subplots(figsize=[10,5])\n",
    "df_deltaT[variables_all].sum(axis=1).plot(linewidth=3,ax = ax, label='sum', color=cols[v])#, color=cols.items())\n",
    "plt.legend(loc='upper left')\n",
    "plt.ylabel('$\\Delta$ T ($^\\circ$ C)')"
   ]
  },
  {
   "cell_type": "code",
   "execution_count": 36,
   "metadata": {},
   "outputs": [
    {
     "data": {
      "text/html": [
       "<div>\n",
       "<style scoped>\n",
       "    .dataframe tbody tr th:only-of-type {\n",
       "        vertical-align: middle;\n",
       "    }\n",
       "\n",
       "    .dataframe tbody tr th {\n",
       "        vertical-align: top;\n",
       "    }\n",
       "\n",
       "    .dataframe thead th {\n",
       "        text-align: right;\n",
       "    }\n",
       "</style>\n",
       "<table border=\"1\" class=\"dataframe\">\n",
       "  <thead>\n",
       "    <tr style=\"text-align: right;\">\n",
       "      <th>variable</th>\n",
       "      <th>BC</th>\n",
       "      <th>CH4</th>\n",
       "      <th>CO2</th>\n",
       "      <th>HC</th>\n",
       "      <th>N2O</th>\n",
       "      <th>NH3</th>\n",
       "      <th>NOx</th>\n",
       "      <th>OC</th>\n",
       "      <th>SO2</th>\n",
       "      <th>VOC</th>\n",
       "    </tr>\n",
       "    <tr>\n",
       "      <th>year</th>\n",
       "      <th></th>\n",
       "      <th></th>\n",
       "      <th></th>\n",
       "      <th></th>\n",
       "      <th></th>\n",
       "      <th></th>\n",
       "      <th></th>\n",
       "      <th></th>\n",
       "      <th></th>\n",
       "      <th></th>\n",
       "    </tr>\n",
       "  </thead>\n",
       "  <tbody>\n",
       "    <tr>\n",
       "      <th>1750</th>\n",
       "      <td>0.000000</td>\n",
       "      <td>0.000000</td>\n",
       "      <td>0.000000</td>\n",
       "      <td>0.000000</td>\n",
       "      <td>0.000000</td>\n",
       "      <td>0.000000e+00</td>\n",
       "      <td>0.000000e+00</td>\n",
       "      <td>0.000000</td>\n",
       "      <td>0.000000</td>\n",
       "      <td>0.000000</td>\n",
       "    </tr>\n",
       "    <tr>\n",
       "      <th>1751</th>\n",
       "      <td>0.000000</td>\n",
       "      <td>0.000000</td>\n",
       "      <td>0.000000</td>\n",
       "      <td>0.000000</td>\n",
       "      <td>0.000000</td>\n",
       "      <td>0.000000e+00</td>\n",
       "      <td>0.000000e+00</td>\n",
       "      <td>0.000000</td>\n",
       "      <td>0.000000</td>\n",
       "      <td>0.000000</td>\n",
       "    </tr>\n",
       "    <tr>\n",
       "      <th>1752</th>\n",
       "      <td>0.000002</td>\n",
       "      <td>0.000094</td>\n",
       "      <td>0.000128</td>\n",
       "      <td>0.000000</td>\n",
       "      <td>0.000009</td>\n",
       "      <td>-5.426050e-07</td>\n",
       "      <td>-1.332385e-07</td>\n",
       "      <td>-0.000013</td>\n",
       "      <td>-0.000006</td>\n",
       "      <td>0.000020</td>\n",
       "    </tr>\n",
       "    <tr>\n",
       "      <th>1753</th>\n",
       "      <td>0.000004</td>\n",
       "      <td>0.000260</td>\n",
       "      <td>0.000351</td>\n",
       "      <td>0.000000</td>\n",
       "      <td>0.000024</td>\n",
       "      <td>-1.491647e-06</td>\n",
       "      <td>-3.673459e-07</td>\n",
       "      <td>-0.000037</td>\n",
       "      <td>-0.000015</td>\n",
       "      <td>0.000055</td>\n",
       "    </tr>\n",
       "    <tr>\n",
       "      <th>1754</th>\n",
       "      <td>0.000008</td>\n",
       "      <td>0.000478</td>\n",
       "      <td>0.000647</td>\n",
       "      <td>0.000000</td>\n",
       "      <td>0.000044</td>\n",
       "      <td>-2.745437e-06</td>\n",
       "      <td>-6.758748e-07</td>\n",
       "      <td>-0.000068</td>\n",
       "      <td>-0.000025</td>\n",
       "      <td>0.000102</td>\n",
       "    </tr>\n",
       "    <tr>\n",
       "      <th>...</th>\n",
       "      <td>...</td>\n",
       "      <td>...</td>\n",
       "      <td>...</td>\n",
       "      <td>...</td>\n",
       "      <td>...</td>\n",
       "      <td>...</td>\n",
       "      <td>...</td>\n",
       "      <td>...</td>\n",
       "      <td>...</td>\n",
       "      <td>...</td>\n",
       "    </tr>\n",
       "    <tr>\n",
       "      <th>2015</th>\n",
       "      <td>0.034801</td>\n",
       "      <td>0.585398</td>\n",
       "      <td>0.878750</td>\n",
       "      <td>0.094472</td>\n",
       "      <td>0.105006</td>\n",
       "      <td>-1.426244e-02</td>\n",
       "      <td>-1.517266e-01</td>\n",
       "      <td>-0.105492</td>\n",
       "      <td>-0.610134</td>\n",
       "      <td>0.264835</td>\n",
       "    </tr>\n",
       "    <tr>\n",
       "      <th>2016</th>\n",
       "      <td>0.034538</td>\n",
       "      <td>0.589839</td>\n",
       "      <td>0.895436</td>\n",
       "      <td>0.095121</td>\n",
       "      <td>0.106810</td>\n",
       "      <td>-1.441562e-02</td>\n",
       "      <td>-1.508235e-01</td>\n",
       "      <td>-0.105600</td>\n",
       "      <td>-0.593472</td>\n",
       "      <td>0.262460</td>\n",
       "    </tr>\n",
       "    <tr>\n",
       "      <th>2017</th>\n",
       "      <td>0.034220</td>\n",
       "      <td>0.594396</td>\n",
       "      <td>0.914430</td>\n",
       "      <td>0.095798</td>\n",
       "      <td>0.108568</td>\n",
       "      <td>-1.457200e-02</td>\n",
       "      <td>-1.497795e-01</td>\n",
       "      <td>-0.105771</td>\n",
       "      <td>-0.576583</td>\n",
       "      <td>0.258854</td>\n",
       "    </tr>\n",
       "    <tr>\n",
       "      <th>2018</th>\n",
       "      <td>0.033991</td>\n",
       "      <td>0.598911</td>\n",
       "      <td>0.932890</td>\n",
       "      <td>0.096516</td>\n",
       "      <td>0.110333</td>\n",
       "      <td>-1.473472e-02</td>\n",
       "      <td>-1.490268e-01</td>\n",
       "      <td>-0.105947</td>\n",
       "      <td>-0.560152</td>\n",
       "      <td>0.255489</td>\n",
       "    </tr>\n",
       "    <tr>\n",
       "      <th>2019</th>\n",
       "      <td>0.033784</td>\n",
       "      <td>0.603572</td>\n",
       "      <td>0.951383</td>\n",
       "      <td>0.097289</td>\n",
       "      <td>0.112206</td>\n",
       "      <td>-1.489535e-02</td>\n",
       "      <td>-1.482959e-01</td>\n",
       "      <td>-0.105963</td>\n",
       "      <td>-0.547457</td>\n",
       "      <td>0.252492</td>\n",
       "    </tr>\n",
       "  </tbody>\n",
       "</table>\n",
       "<p>270 rows × 10 columns</p>\n",
       "</div>"
      ],
      "text/plain": [
       "variable        BC       CH4       CO2        HC       N2O           NH3  \\\n",
       "year                                                                       \n",
       "1750      0.000000  0.000000  0.000000  0.000000  0.000000  0.000000e+00   \n",
       "1751      0.000000  0.000000  0.000000  0.000000  0.000000  0.000000e+00   \n",
       "1752      0.000002  0.000094  0.000128  0.000000  0.000009 -5.426050e-07   \n",
       "1753      0.000004  0.000260  0.000351  0.000000  0.000024 -1.491647e-06   \n",
       "1754      0.000008  0.000478  0.000647  0.000000  0.000044 -2.745437e-06   \n",
       "...            ...       ...       ...       ...       ...           ...   \n",
       "2015      0.034801  0.585398  0.878750  0.094472  0.105006 -1.426244e-02   \n",
       "2016      0.034538  0.589839  0.895436  0.095121  0.106810 -1.441562e-02   \n",
       "2017      0.034220  0.594396  0.914430  0.095798  0.108568 -1.457200e-02   \n",
       "2018      0.033991  0.598911  0.932890  0.096516  0.110333 -1.473472e-02   \n",
       "2019      0.033784  0.603572  0.951383  0.097289  0.112206 -1.489535e-02   \n",
       "\n",
       "variable           NOx        OC       SO2       VOC  \n",
       "year                                                  \n",
       "1750      0.000000e+00  0.000000  0.000000  0.000000  \n",
       "1751      0.000000e+00  0.000000  0.000000  0.000000  \n",
       "1752     -1.332385e-07 -0.000013 -0.000006  0.000020  \n",
       "1753     -3.673459e-07 -0.000037 -0.000015  0.000055  \n",
       "1754     -6.758748e-07 -0.000068 -0.000025  0.000102  \n",
       "...                ...       ...       ...       ...  \n",
       "2015     -1.517266e-01 -0.105492 -0.610134  0.264835  \n",
       "2016     -1.508235e-01 -0.105600 -0.593472  0.262460  \n",
       "2017     -1.497795e-01 -0.105771 -0.576583  0.258854  \n",
       "2018     -1.490268e-01 -0.105947 -0.560152  0.255489  \n",
       "2019     -1.482959e-01 -0.105963 -0.547457  0.252492  \n",
       "\n",
       "[270 rows x 10 columns]"
      ]
     },
     "execution_count": 36,
     "metadata": {},
     "output_type": "execute_result"
    }
   ],
   "source": [
    "df_deltaT"
   ]
  },
  {
   "cell_type": "code",
   "execution_count": 37,
   "metadata": {},
   "outputs": [
    {
     "data": {
      "text/plain": [
       "Text(0,0.5,'$\\\\Delta$ T ($^\\\\circ$ C)')"
      ]
     },
     "execution_count": 37,
     "metadata": {},
     "output_type": "execute_result"
    },
    {
     "data": {
      "image/png": "[encoded data removed]",
      "text/plain": [
       "<Figure size 720x360 with 1 Axes>"
      ]
     },
     "metadata": {
      "needs_background": "light"
     },
     "output_type": "display_data"
    }
   ],
   "source": [
    "df_deltaT = ds[name_deltaT].squeeze().drop('percentile').to_dataframe().unstack('variable')['Delta T']\n",
    "fig, ax = plt.subplots(figsize=[10,5])\n",
    "for v in variables_all:\n",
    "    df_deltaT[variables_all][v].plot(linewidth=3,ax = ax, label=v, color=cols[v])#, color=cols.items())\n",
    "plt.legend(loc='upper left')\n",
    "plt.ylabel('$\\Delta$ T ($^\\circ$ C)')"
   ]
  },
  {
   "cell_type": "code",
   "execution_count": null,
   "metadata": {},
   "outputs": [],
   "source": []
  },
  {
   "cell_type": "code",
   "execution_count": null,
   "metadata": {},
   "outputs": [],
   "source": []
  }
 ],
 "metadata": {
  "jupytext": {
   "text_representation": {
    "extension": ".py",
    "format_name": "percent",
    "format_version": "1.3",
    "jupytext_version": "1.3.3"
   }
  },
  "kernelspec": {
   "display_name": "Python 3",
   "language": "python",
   "name": "python3"
  },
  "language_info": {
   "codemirror_mode": {
    "name": "ipython",
    "version": 3
   },
   "file_extension": ".py",
   "mimetype": "text/x-python",
   "name": "python",
   "nbconvert_exporter": "python",
   "pygments_lexer": "ipython3",
   "version": "3.7.6"
  }
 },
 "nbformat": 4,
 "nbformat_minor": 4
}
