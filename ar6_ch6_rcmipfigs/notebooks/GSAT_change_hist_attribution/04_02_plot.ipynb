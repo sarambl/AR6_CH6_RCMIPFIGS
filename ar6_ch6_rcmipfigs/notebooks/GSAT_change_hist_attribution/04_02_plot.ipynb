{
 "cells": [
  {
   "cell_type": "code",
   "execution_count": 1,
   "metadata": {},
   "outputs": [
    {
     "name": "stdout",
     "output_type": "stream",
     "text": [
      "/Users/sarablichner/science/PHD/IPCC/public/AR6_CH6_RCMIPFIGSv2/ar6_ch6_rcmipfigs\n",
      "/Users/sarablichner/science/PHD/IPCC/public/AR6_CH6_RCMIPFIGSv2/ar6_ch6_rcmipfigs/data_in\n"
     ]
    }
   ],
   "source": [
    "import pandas as pd\n",
    "import xarray as xr\n",
    "import numpy as np\n",
    "import matplotlib.pyplot as plt\n",
    "import seaborn as sns\n",
    "\n",
    "%load_ext autoreload\n",
    "%autoreload 2\n",
    "from ar6_ch6_rcmipfigs.constants import INPUT_DATA_DIR_BADC, BASE_DIR\n",
    "from ar6_ch6_rcmipfigs.constants import OUTPUT_DATA_DIR, RESULTS_DIR\n",
    "from ar6_ch6_rcmipfigs.utils.badc_csv import read_csv_badc"
   ]
  },
  {
   "cell_type": "code",
   "execution_count": null,
   "metadata": {},
   "outputs": [],
   "source": []
  },
  {
   "cell_type": "code",
   "execution_count": 2,
   "metadata": {},
   "outputs": [
    {
     "data": {
      "application/javascript": [
       "IPython.OutputArea.prototype._should_scroll = function(lines) { return false; }"
      ],
      "text/plain": [
       "<IPython.core.display.Javascript object>"
      ]
     },
     "metadata": {},
     "output_type": "display_data"
    }
   ],
   "source": [
    "from ar6_ch6_rcmipfigs.utils.plot import get_cmap_dic"
   ]
  },
  {
   "cell_type": "markdown",
   "metadata": {},
   "source": [
    "# Code + figures"
   ]
  },
  {
   "cell_type": "code",
   "execution_count": 3,
   "metadata": {},
   "outputs": [],
   "source": [
    "output_name = 'fig_em_based_ERF_GSAT_period_1750-2019'"
   ]
  },
  {
   "cell_type": "markdown",
   "metadata": {},
   "source": [
    "### Path input data"
   ]
  },
  {
   "cell_type": "code",
   "execution_count": 4,
   "metadata": {
    "collapsed": false,
    "jupyter": {
     "outputs_hidden": false
    },
    "pycharm": {
     "name": "#%%\n"
    }
   },
   "outputs": [],
   "source": [
    "# PATH_DATASET = OUTPUT_DATA_DIR / 'ERF_data.nc'\n",
    "PATH_DATASET = OUTPUT_DATA_DIR / 'historic_delta_GSAT/dT_data_hist_recommendation.nc'\n",
    "\n",
    "fn_ERF_2019 = OUTPUT_DATA_DIR / 'historic_delta_GSAT/2019_ERF_est.csv'\n",
    "# fn_output_decomposition = OUTPUT_DATA_DIR / 'historic_delta_GSAT/hist_ERF_est_decomp.csv'\n",
    "\n",
    "fn_ERF_timeseries = OUTPUT_DATA_DIR / 'historic_delta_GSAT/hist_ERF_est.csv'\n",
    "\n",
    "fp_collins_sd = RESULTS_DIR / 'tables_historic_attribution/table_std_smb_orignames.csv'\n",
    "\n",
    "fn_TAB2_THORNHILL = INPUT_DATA_DIR_BADC / 'table2_thornhill2020.csv'"
   ]
  },
  {
   "cell_type": "markdown",
   "metadata": {},
   "source": [
    "### Path output data"
   ]
  },
  {
   "cell_type": "code",
   "execution_count": 5,
   "metadata": {
    "collapsed": false,
    "jupyter": {
     "outputs_hidden": false
    },
    "pycharm": {
     "name": "#%%\n"
    }
   },
   "outputs": [
    {
     "name": "stdout",
     "output_type": "stream",
     "text": [
      "/Users/sarablichner/science/PHD/IPCC/public/AR6_CH6_RCMIPFIGSv2/ar6_ch6_rcmipfigs/data_out/historic_delta_GSAT/dT_data_hist_recommendation.csv\n"
     ]
    }
   ],
   "source": [
    "PATH_DF_OUTPUT = OUTPUT_DATA_DIR / 'historic_delta_GSAT/dT_data_hist_recommendation.csv'\n",
    "\n",
    "print(PATH_DF_OUTPUT)"
   ]
  },
  {
   "cell_type": "markdown",
   "metadata": {},
   "source": [
    "### various definitions"
   ]
  },
  {
   "cell_type": "markdown",
   "metadata": {},
   "source": [
    "**Set reference year for temperature change:**"
   ]
  },
  {
   "cell_type": "code",
   "execution_count": 6,
   "metadata": {},
   "outputs": [],
   "source": [
    "ref_year = 1750\n",
    "pd_year = 2019"
   ]
  },
  {
   "cell_type": "code",
   "execution_count": 7,
   "metadata": {},
   "outputs": [],
   "source": [
    "# variables to plot:\n",
    "variables_erf_comp = [\n",
    "    'CO2', 'N2O', 'CH4', 'HC', 'NOx', 'SO2', 'BC', 'OC', 'NH3', 'VOC'\n",
    "]\n",
    "# total ERFs for anthropogenic and total:\n",
    "variables_erf_tot = []\n",
    "variables_all = variables_erf_comp + variables_erf_tot\n",
    "# Scenarios to plot:\n",
    "scenarios_fl = []"
   ]
  },
  {
   "cell_type": "code",
   "execution_count": 8,
   "metadata": {},
   "outputs": [],
   "source": [
    "varn = ['co2', 'N2O', 'HC', 'HFCs', 'ch4', 'o3', 'H2O_strat', 'ari', 'aci']\n",
    "var_dir = ['CO2', 'N2O', 'HC', 'HFCs', 'CH4_lifetime', 'O3', 'Strat_H2O', 'Aerosol', 'Cloud']"
   ]
  },
  {
   "cell_type": "markdown",
   "metadata": {},
   "source": [
    "Names for labeling:"
   ]
  },
  {
   "cell_type": "code",
   "execution_count": 9,
   "metadata": {},
   "outputs": [],
   "source": [
    "rename_dic_cat = {\n",
    "    'CO2': 'Carbon dioxide (CO$_2$)',\n",
    "    'GHG': 'WMGHG',\n",
    "    'CH4_lifetime': 'Methane (CH$_4$)',\n",
    "    'O3': 'Ozone (O$_3$)',\n",
    "    'Strat_H2O': 'H$_2$O (strat)',\n",
    "    'Aerosol': 'Aerosol-radiation',\n",
    "    'Cloud': 'Aerosol-cloud',\n",
    "    'N2O': 'N$_2$O',\n",
    "    'HC': 'CFC + HCFC',\n",
    "    'HFCs': 'HFC'\n",
    "\n",
    "}\n",
    "rename_dic_cols = {\n",
    "    'co2': 'CO$_2$',\n",
    "    'CO2': 'CO$_2$',\n",
    "    'CH4': 'CH$_4$',\n",
    "    'ch4': 'CH$_4$',\n",
    "    'N2O': 'N$_2$O',\n",
    "    'n2o': 'N$_2$O',\n",
    "    'HC': 'CFC + HCFC + HFC',\n",
    "    'HFCs': 'HFC',\n",
    "    'NOx': 'NO$_x$',\n",
    "    'VOC': 'NMVOC + CO',\n",
    "    'SO2': 'SO$_2$',\n",
    "    'OC': 'Organic carbon',\n",
    "    'BC': 'Black carbon',\n",
    "    'NH3': 'Ammonia'\n",
    "}"
   ]
  },
  {
   "cell_type": "code",
   "execution_count": 10,
   "metadata": {},
   "outputs": [],
   "source": [
    "rn_dic_cat_o = {}\n",
    "for key in rename_dic_cat.keys():\n",
    "    rn_dic_cat_o[rename_dic_cat[key]]=key\n",
    "rn_dic_cols_o = {}\n",
    "for key in rename_dic_cols.keys():\n",
    "    rn_dic_cols_o[rename_dic_cols[key]]=key"
   ]
  },
  {
   "cell_type": "markdown",
   "metadata": {},
   "source": [
    "### Open ERF dataset:"
   ]
  },
  {
   "cell_type": "code",
   "execution_count": 11,
   "metadata": {},
   "outputs": [
    {
     "data": {
      "text/html": [
       "<div><svg style=\"position: absolute; width: 0; height: 0; overflow: hidden\">\n",
       "<defs>\n",
       "<symbol id=\"icon-database\" viewBox=\"0 0 32 32\">\n",
       "<path d=\"M16 0c-8.837 0-16 2.239-16 5v4c0 2.761 7.163 5 16 5s16-2.239 16-5v-4c0-2.761-7.163-5-16-5z\"></path>\n",
       "<path d=\"M16 17c-8.837 0-16-2.239-16-5v6c0 2.761 7.163 5 16 5s16-2.239 16-5v-6c0 2.761-7.163 5-16 5z\"></path>\n",
       "<path d=\"M16 26c-8.837 0-16-2.239-16-5v6c0 2.761 7.163 5 16 5s16-2.239 16-5v-6c0 2.761-7.163 5-16 5z\"></path>\n",
       "</symbol>\n",
       "<symbol id=\"icon-file-text2\" viewBox=\"0 0 32 32\">\n",
       "<path d=\"M28.681 7.159c-0.694-0.947-1.662-2.053-2.724-3.116s-2.169-2.030-3.116-2.724c-1.612-1.182-2.393-1.319-2.841-1.319h-15.5c-1.378 0-2.5 1.121-2.5 2.5v27c0 1.378 1.122 2.5 2.5 2.5h23c1.378 0 2.5-1.122 2.5-2.5v-19.5c0-0.448-0.137-1.23-1.319-2.841zM24.543 5.457c0.959 0.959 1.712 1.825 2.268 2.543h-4.811v-4.811c0.718 0.556 1.584 1.309 2.543 2.268zM28 29.5c0 0.271-0.229 0.5-0.5 0.5h-23c-0.271 0-0.5-0.229-0.5-0.5v-27c0-0.271 0.229-0.5 0.5-0.5 0 0 15.499-0 15.5 0v7c0 0.552 0.448 1 1 1h7v19.5z\"></path>\n",
       "<path d=\"M23 26h-14c-0.552 0-1-0.448-1-1s0.448-1 1-1h14c0.552 0 1 0.448 1 1s-0.448 1-1 1z\"></path>\n",
       "<path d=\"M23 22h-14c-0.552 0-1-0.448-1-1s0.448-1 1-1h14c0.552 0 1 0.448 1 1s-0.448 1-1 1z\"></path>\n",
       "<path d=\"M23 18h-14c-0.552 0-1-0.448-1-1s0.448-1 1-1h14c0.552 0 1 0.448 1 1s-0.448 1-1 1z\"></path>\n",
       "</symbol>\n",
       "</defs>\n",
       "</svg>\n",
       "<style>/* CSS stylesheet for displaying xarray objects in jupyterlab.\n",
       " *\n",
       " */\n",
       "\n",
       ":root {\n",
       "  --xr-font-color0: var(--jp-content-font-color0, rgba(0, 0, 0, 1));\n",
       "  --xr-font-color2: var(--jp-content-font-color2, rgba(0, 0, 0, 0.54));\n",
       "  --xr-font-color3: var(--jp-content-font-color3, rgba(0, 0, 0, 0.38));\n",
       "  --xr-border-color: var(--jp-border-color2, #e0e0e0);\n",
       "  --xr-disabled-color: var(--jp-layout-color3, #bdbdbd);\n",
       "  --xr-background-color: var(--jp-layout-color0, white);\n",
       "  --xr-background-color-row-even: var(--jp-layout-color1, white);\n",
       "  --xr-background-color-row-odd: var(--jp-layout-color2, #eeeeee);\n",
       "}\n",
       "\n",
       "html[theme=dark],\n",
       "body.vscode-dark {\n",
       "  --xr-font-color0: rgba(255, 255, 255, 1);\n",
       "  --xr-font-color2: rgba(255, 255, 255, 0.54);\n",
       "  --xr-font-color3: rgba(255, 255, 255, 0.38);\n",
       "  --xr-border-color: #1F1F1F;\n",
       "  --xr-disabled-color: #515151;\n",
       "  --xr-background-color: #111111;\n",
       "  --xr-background-color-row-even: #111111;\n",
       "  --xr-background-color-row-odd: #313131;\n",
       "}\n",
       "\n",
       ".xr-wrap {\n",
       "  display: block;\n",
       "  min-width: 300px;\n",
       "  max-width: 700px;\n",
       "}\n",
       "\n",
       ".xr-text-repr-fallback {\n",
       "  /* fallback to plain text repr when CSS is not injected (untrusted notebook) */\n",
       "  display: none;\n",
       "}\n",
       "\n",
       ".xr-header {\n",
       "  padding-top: 6px;\n",
       "  padding-bottom: 6px;\n",
       "  margin-bottom: 4px;\n",
       "  border-bottom: solid 1px var(--xr-border-color);\n",
       "}\n",
       "\n",
       ".xr-header > div,\n",
       ".xr-header > ul {\n",
       "  display: inline;\n",
       "  margin-top: 0;\n",
       "  margin-bottom: 0;\n",
       "}\n",
       "\n",
       ".xr-obj-type,\n",
       ".xr-array-name {\n",
       "  margin-left: 2px;\n",
       "  margin-right: 10px;\n",
       "}\n",
       "\n",
       ".xr-obj-type {\n",
       "  color: var(--xr-font-color2);\n",
       "}\n",
       "\n",
       ".xr-sections {\n",
       "  padding-left: 0 !important;\n",
       "  display: grid;\n",
       "  grid-template-columns: 150px auto auto 1fr 20px 20px;\n",
       "}\n",
       "\n",
       ".xr-section-item {\n",
       "  display: contents;\n",
       "}\n",
       "\n",
       ".xr-section-item input {\n",
       "  display: none;\n",
       "}\n",
       "\n",
       ".xr-section-item input + label {\n",
       "  color: var(--xr-disabled-color);\n",
       "}\n",
       "\n",
       ".xr-section-item input:enabled + label {\n",
       "  cursor: pointer;\n",
       "  color: var(--xr-font-color2);\n",
       "}\n",
       "\n",
       ".xr-section-item input:enabled + label:hover {\n",
       "  color: var(--xr-font-color0);\n",
       "}\n",
       "\n",
       ".xr-section-summary {\n",
       "  grid-column: 1;\n",
       "  color: var(--xr-font-color2);\n",
       "  font-weight: 500;\n",
       "}\n",
       "\n",
       ".xr-section-summary > span {\n",
       "  display: inline-block;\n",
       "  padding-left: 0.5em;\n",
       "}\n",
       "\n",
       ".xr-section-summary-in:disabled + label {\n",
       "  color: var(--xr-font-color2);\n",
       "}\n",
       "\n",
       ".xr-section-summary-in + label:before {\n",
       "  display: inline-block;\n",
       "  content: '►';\n",
       "  font-size: 11px;\n",
       "  width: 15px;\n",
       "  text-align: center;\n",
       "}\n",
       "\n",
       ".xr-section-summary-in:disabled + label:before {\n",
       "  color: var(--xr-disabled-color);\n",
       "}\n",
       "\n",
       ".xr-section-summary-in:checked + label:before {\n",
       "  content: '▼';\n",
       "}\n",
       "\n",
       ".xr-section-summary-in:checked + label > span {\n",
       "  display: none;\n",
       "}\n",
       "\n",
       ".xr-section-summary,\n",
       ".xr-section-inline-details {\n",
       "  padding-top: 4px;\n",
       "  padding-bottom: 4px;\n",
       "}\n",
       "\n",
       ".xr-section-inline-details {\n",
       "  grid-column: 2 / -1;\n",
       "}\n",
       "\n",
       ".xr-section-details {\n",
       "  display: none;\n",
       "  grid-column: 1 / -1;\n",
       "  margin-bottom: 5px;\n",
       "}\n",
       "\n",
       ".xr-section-summary-in:checked ~ .xr-section-details {\n",
       "  display: contents;\n",
       "}\n",
       "\n",
       ".xr-array-wrap {\n",
       "  grid-column: 1 / -1;\n",
       "  display: grid;\n",
       "  grid-template-columns: 20px auto;\n",
       "}\n",
       "\n",
       ".xr-array-wrap > label {\n",
       "  grid-column: 1;\n",
       "  vertical-align: top;\n",
       "}\n",
       "\n",
       ".xr-preview {\n",
       "  color: var(--xr-font-color3);\n",
       "}\n",
       "\n",
       ".xr-array-preview,\n",
       ".xr-array-data {\n",
       "  padding: 0 5px !important;\n",
       "  grid-column: 2;\n",
       "}\n",
       "\n",
       ".xr-array-data,\n",
       ".xr-array-in:checked ~ .xr-array-preview {\n",
       "  display: none;\n",
       "}\n",
       "\n",
       ".xr-array-in:checked ~ .xr-array-data,\n",
       ".xr-array-preview {\n",
       "  display: inline-block;\n",
       "}\n",
       "\n",
       ".xr-dim-list {\n",
       "  display: inline-block !important;\n",
       "  list-style: none;\n",
       "  padding: 0 !important;\n",
       "  margin: 0;\n",
       "}\n",
       "\n",
       ".xr-dim-list li {\n",
       "  display: inline-block;\n",
       "  padding: 0;\n",
       "  margin: 0;\n",
       "}\n",
       "\n",
       ".xr-dim-list:before {\n",
       "  content: '(';\n",
       "}\n",
       "\n",
       ".xr-dim-list:after {\n",
       "  content: ')';\n",
       "}\n",
       "\n",
       ".xr-dim-list li:not(:last-child):after {\n",
       "  content: ',';\n",
       "  padding-right: 5px;\n",
       "}\n",
       "\n",
       ".xr-has-index {\n",
       "  font-weight: bold;\n",
       "}\n",
       "\n",
       ".xr-var-list,\n",
       ".xr-var-item {\n",
       "  display: contents;\n",
       "}\n",
       "\n",
       ".xr-var-item > div,\n",
       ".xr-var-item label,\n",
       ".xr-var-item > .xr-var-name span {\n",
       "  background-color: var(--xr-background-color-row-even);\n",
       "  margin-bottom: 0;\n",
       "}\n",
       "\n",
       ".xr-var-item > .xr-var-name:hover span {\n",
       "  padding-right: 5px;\n",
       "}\n",
       "\n",
       ".xr-var-list > li:nth-child(odd) > div,\n",
       ".xr-var-list > li:nth-child(odd) > label,\n",
       ".xr-var-list > li:nth-child(odd) > .xr-var-name span {\n",
       "  background-color: var(--xr-background-color-row-odd);\n",
       "}\n",
       "\n",
       ".xr-var-name {\n",
       "  grid-column: 1;\n",
       "}\n",
       "\n",
       ".xr-var-dims {\n",
       "  grid-column: 2;\n",
       "}\n",
       "\n",
       ".xr-var-dtype {\n",
       "  grid-column: 3;\n",
       "  text-align: right;\n",
       "  color: var(--xr-font-color2);\n",
       "}\n",
       "\n",
       ".xr-var-preview {\n",
       "  grid-column: 4;\n",
       "}\n",
       "\n",
       ".xr-var-name,\n",
       ".xr-var-dims,\n",
       ".xr-var-dtype,\n",
       ".xr-preview,\n",
       ".xr-attrs dt {\n",
       "  white-space: nowrap;\n",
       "  overflow: hidden;\n",
       "  text-overflow: ellipsis;\n",
       "  padding-right: 10px;\n",
       "}\n",
       "\n",
       ".xr-var-name:hover,\n",
       ".xr-var-dims:hover,\n",
       ".xr-var-dtype:hover,\n",
       ".xr-attrs dt:hover {\n",
       "  overflow: visible;\n",
       "  width: auto;\n",
       "  z-index: 1;\n",
       "}\n",
       "\n",
       ".xr-var-attrs,\n",
       ".xr-var-data {\n",
       "  display: none;\n",
       "  background-color: var(--xr-background-color) !important;\n",
       "  padding-bottom: 5px !important;\n",
       "}\n",
       "\n",
       ".xr-var-attrs-in:checked ~ .xr-var-attrs,\n",
       ".xr-var-data-in:checked ~ .xr-var-data {\n",
       "  display: block;\n",
       "}\n",
       "\n",
       ".xr-var-data > table {\n",
       "  float: right;\n",
       "}\n",
       "\n",
       ".xr-var-name span,\n",
       ".xr-var-data,\n",
       ".xr-attrs {\n",
       "  padding-left: 25px !important;\n",
       "}\n",
       "\n",
       ".xr-attrs,\n",
       ".xr-var-attrs,\n",
       ".xr-var-data {\n",
       "  grid-column: 1 / -1;\n",
       "}\n",
       "\n",
       "dl.xr-attrs {\n",
       "  padding: 0;\n",
       "  margin: 0;\n",
       "  display: grid;\n",
       "  grid-template-columns: 125px auto;\n",
       "}\n",
       "\n",
       ".xr-attrs dt,\n",
       ".xr-attrs dd {\n",
       "  padding: 0;\n",
       "  margin: 0;\n",
       "  float: left;\n",
       "  padding-right: 10px;\n",
       "  width: auto;\n",
       "}\n",
       "\n",
       ".xr-attrs dt {\n",
       "  font-weight: normal;\n",
       "  grid-column: 1;\n",
       "}\n",
       "\n",
       ".xr-attrs dt:hover span {\n",
       "  display: inline-block;\n",
       "  background: var(--xr-background-color);\n",
       "  padding-right: 10px;\n",
       "}\n",
       "\n",
       ".xr-attrs dd {\n",
       "  grid-column: 2;\n",
       "  white-space: pre-wrap;\n",
       "  word-break: break-all;\n",
       "}\n",
       "\n",
       ".xr-icon-database,\n",
       ".xr-icon-file-text2 {\n",
       "  display: inline-block;\n",
       "  vertical-align: middle;\n",
       "  width: 1em;\n",
       "  height: 1.5em !important;\n",
       "  stroke-width: 0;\n",
       "  stroke: currentColor;\n",
       "  fill: currentColor;\n",
       "}\n",
       "</style><pre class='xr-text-repr-fallback'>&lt;xarray.Dataset&gt;\n",
       "Dimensions:     (year: 270, variable: 10, percentile: 1)\n",
       "Coordinates:\n",
       "  * year        (year) int64 1750 1751 1752 1753 1754 ... 2016 2017 2018 2019\n",
       "  * variable    (variable) object &#x27;CO2&#x27; &#x27;N2O&#x27; &#x27;CH4&#x27; &#x27;NOx&#x27; ... &#x27;NH3&#x27; &#x27;VOC&#x27; &#x27;HC&#x27;\n",
       "  * percentile  (percentile) object &#x27;recommendation&#x27;\n",
       "Data variables:\n",
       "    ERF         (variable, year) float64 0.0 0.001126 0.002252 ... 0.21 0.2114\n",
       "    time        (year) datetime64[ns] 1750-01-01 1751-01-01 ... 2019-01-01\n",
       "    delta_t     (year) float64 1.0 1.0 1.0 1.0 1.0 1.0 ... 1.0 1.0 1.0 1.0 1.0\n",
       "    Delta T     (percentile, variable, year) float64 0.0 0.0 ... 0.09901 0.09978</pre><div class='xr-wrap' hidden><div class='xr-header'><div class='xr-obj-type'>xarray.Dataset</div></div><ul class='xr-sections'><li class='xr-section-item'><input id='section-3b22331f-b7ec-461c-ac25-7a2e407ff45e' class='xr-section-summary-in' type='checkbox' disabled ><label for='section-3b22331f-b7ec-461c-ac25-7a2e407ff45e' class='xr-section-summary'  title='Expand/collapse section'>Dimensions:</label><div class='xr-section-inline-details'><ul class='xr-dim-list'><li><span class='xr-has-index'>year</span>: 270</li><li><span class='xr-has-index'>variable</span>: 10</li><li><span class='xr-has-index'>percentile</span>: 1</li></ul></div><div class='xr-section-details'></div></li><li class='xr-section-item'><input id='section-534f602e-f7ac-4c18-ac49-938789f4b77f' class='xr-section-summary-in' type='checkbox'  checked><label for='section-534f602e-f7ac-4c18-ac49-938789f4b77f' class='xr-section-summary' >Coordinates: <span>(3)</span></label><div class='xr-section-inline-details'></div><div class='xr-section-details'><ul class='xr-var-list'><li class='xr-var-item'><div class='xr-var-name'><span class='xr-has-index'>year</span></div><div class='xr-var-dims'>(year)</div><div class='xr-var-dtype'>int64</div><div class='xr-var-preview xr-preview'>1750 1751 1752 ... 2017 2018 2019</div><input id='attrs-15d0af97-bc1f-4306-a190-94a7712d4d72' class='xr-var-attrs-in' type='checkbox' disabled><label for='attrs-15d0af97-bc1f-4306-a190-94a7712d4d72' title='Show/Hide attributes'><svg class='icon xr-icon-file-text2'><use xlink:href='#icon-file-text2'></use></svg></label><input id='data-90ec0136-4fa4-43a3-b1c9-d8411c63d086' class='xr-var-data-in' type='checkbox'><label for='data-90ec0136-4fa4-43a3-b1c9-d8411c63d086' title='Show/Hide data repr'><svg class='icon xr-icon-database'><use xlink:href='#icon-database'></use></svg></label><div class='xr-var-attrs'><dl class='xr-attrs'></dl></div><div class='xr-var-data'><pre>array([1750, 1751, 1752, ..., 2017, 2018, 2019])</pre></div></li><li class='xr-var-item'><div class='xr-var-name'><span class='xr-has-index'>variable</span></div><div class='xr-var-dims'>(variable)</div><div class='xr-var-dtype'>object</div><div class='xr-var-preview xr-preview'>&#x27;CO2&#x27; &#x27;N2O&#x27; &#x27;CH4&#x27; ... &#x27;VOC&#x27; &#x27;HC&#x27;</div><input id='attrs-ced536e8-7fe3-491d-9ef8-0e4c4d1ea42c' class='xr-var-attrs-in' type='checkbox' disabled><label for='attrs-ced536e8-7fe3-491d-9ef8-0e4c4d1ea42c' title='Show/Hide attributes'><svg class='icon xr-icon-file-text2'><use xlink:href='#icon-file-text2'></use></svg></label><input id='data-557a361a-647f-4bc1-a117-4db1e48cc796' class='xr-var-data-in' type='checkbox'><label for='data-557a361a-647f-4bc1-a117-4db1e48cc796' title='Show/Hide data repr'><svg class='icon xr-icon-database'><use xlink:href='#icon-database'></use></svg></label><div class='xr-var-attrs'><dl class='xr-attrs'></dl></div><div class='xr-var-data'><pre>array([&#x27;CO2&#x27;, &#x27;N2O&#x27;, &#x27;CH4&#x27;, &#x27;NOx&#x27;, &#x27;SO2&#x27;, &#x27;BC&#x27;, &#x27;OC&#x27;, &#x27;NH3&#x27;, &#x27;VOC&#x27;, &#x27;HC&#x27;],\n",
       "      dtype=object)</pre></div></li><li class='xr-var-item'><div class='xr-var-name'><span class='xr-has-index'>percentile</span></div><div class='xr-var-dims'>(percentile)</div><div class='xr-var-dtype'>object</div><div class='xr-var-preview xr-preview'>&#x27;recommendation&#x27;</div><input id='attrs-48e7c408-4a99-4c84-b910-bd26c759ab79' class='xr-var-attrs-in' type='checkbox' disabled><label for='attrs-48e7c408-4a99-4c84-b910-bd26c759ab79' title='Show/Hide attributes'><svg class='icon xr-icon-file-text2'><use xlink:href='#icon-file-text2'></use></svg></label><input id='data-1d7acab0-a1a9-475d-b3cc-4069495c097e' class='xr-var-data-in' type='checkbox'><label for='data-1d7acab0-a1a9-475d-b3cc-4069495c097e' title='Show/Hide data repr'><svg class='icon xr-icon-database'><use xlink:href='#icon-database'></use></svg></label><div class='xr-var-attrs'><dl class='xr-attrs'></dl></div><div class='xr-var-data'><pre>array([&#x27;recommendation&#x27;], dtype=object)</pre></div></li></ul></div></li><li class='xr-section-item'><input id='section-f0d4f2c4-95c0-49a1-aa9a-40d8b9692159' class='xr-section-summary-in' type='checkbox'  checked><label for='section-f0d4f2c4-95c0-49a1-aa9a-40d8b9692159' class='xr-section-summary' >Data variables: <span>(4)</span></label><div class='xr-section-inline-details'></div><div class='xr-section-details'><ul class='xr-var-list'><li class='xr-var-item'><div class='xr-var-name'><span>ERF</span></div><div class='xr-var-dims'>(variable, year)</div><div class='xr-var-dtype'>float64</div><div class='xr-var-preview xr-preview'>...</div><input id='attrs-e361a42a-5201-48d9-b3cf-82a56a0c8834' class='xr-var-attrs-in' type='checkbox' disabled><label for='attrs-e361a42a-5201-48d9-b3cf-82a56a0c8834' title='Show/Hide attributes'><svg class='icon xr-icon-file-text2'><use xlink:href='#icon-file-text2'></use></svg></label><input id='data-9677885c-9365-4f9e-bd8e-54d313557b4f' class='xr-var-data-in' type='checkbox'><label for='data-9677885c-9365-4f9e-bd8e-54d313557b4f' title='Show/Hide data repr'><svg class='icon xr-icon-database'><use xlink:href='#icon-database'></use></svg></label><div class='xr-var-attrs'><dl class='xr-attrs'></dl></div><div class='xr-var-data'><pre>array([[ 0.000000e+00,  1.126141e-03,  2.252283e-03, ...,  1.981696e+00,\n",
       "         2.019078e+00,  2.057554e+00],\n",
       "       [ 0.000000e+00,  7.761419e-05,  1.552284e-04, ...,  2.326097e-01,\n",
       "         2.370745e-01,  2.405691e-01],\n",
       "       [ 0.000000e+00,  8.235621e-04,  1.647124e-03, ...,  1.176556e+00,\n",
       "         1.185527e+00,  1.194509e+00],\n",
       "       ...,\n",
       "       [-0.000000e+00, -5.214913e-06, -1.042905e-05, ..., -3.314063e-02,\n",
       "        -3.344874e-02, -3.376874e-02],\n",
       "       [ 0.000000e+00,  1.739049e-04,  3.475539e-04, ...,  4.498646e-01,\n",
       "         4.448732e-01,  4.403344e-01],\n",
       "       [ 0.000000e+00,  0.000000e+00,  0.000000e+00, ...,  2.083983e-01,\n",
       "         2.100097e-01,  2.113664e-01]])</pre></div></li><li class='xr-var-item'><div class='xr-var-name'><span>time</span></div><div class='xr-var-dims'>(year)</div><div class='xr-var-dtype'>datetime64[ns]</div><div class='xr-var-preview xr-preview'>...</div><input id='attrs-8caf1223-2b89-43ae-9dc9-43acad836b82' class='xr-var-attrs-in' type='checkbox' disabled><label for='attrs-8caf1223-2b89-43ae-9dc9-43acad836b82' title='Show/Hide attributes'><svg class='icon xr-icon-file-text2'><use xlink:href='#icon-file-text2'></use></svg></label><input id='data-93a59c7a-e8de-471f-9ea8-831296d733aa' class='xr-var-data-in' type='checkbox'><label for='data-93a59c7a-e8de-471f-9ea8-831296d733aa' title='Show/Hide data repr'><svg class='icon xr-icon-database'><use xlink:href='#icon-database'></use></svg></label><div class='xr-var-attrs'><dl class='xr-attrs'></dl></div><div class='xr-var-data'><pre>array([&#x27;1750-01-01T00:00:00.000000000&#x27;, &#x27;1751-01-01T00:00:00.000000000&#x27;,\n",
       "       &#x27;1752-01-01T00:00:00.000000000&#x27;, ..., &#x27;2017-01-01T00:00:00.000000000&#x27;,\n",
       "       &#x27;2018-01-01T00:00:00.000000000&#x27;, &#x27;2019-01-01T00:00:00.000000000&#x27;],\n",
       "      dtype=&#x27;datetime64[ns]&#x27;)</pre></div></li><li class='xr-var-item'><div class='xr-var-name'><span>delta_t</span></div><div class='xr-var-dims'>(year)</div><div class='xr-var-dtype'>float64</div><div class='xr-var-preview xr-preview'>...</div><input id='attrs-201d7179-653c-41c3-8884-4ec7cd5660e4' class='xr-var-attrs-in' type='checkbox' disabled><label for='attrs-201d7179-653c-41c3-8884-4ec7cd5660e4' title='Show/Hide attributes'><svg class='icon xr-icon-file-text2'><use xlink:href='#icon-file-text2'></use></svg></label><input id='data-0de28379-80d7-45b2-9a64-e6f6c37cfdbf' class='xr-var-data-in' type='checkbox'><label for='data-0de28379-80d7-45b2-9a64-e6f6c37cfdbf' title='Show/Hide data repr'><svg class='icon xr-icon-database'><use xlink:href='#icon-database'></use></svg></label><div class='xr-var-attrs'><dl class='xr-attrs'></dl></div><div class='xr-var-data'><pre>array([1., 1., 1., ..., 1., 1., 1.])</pre></div></li><li class='xr-var-item'><div class='xr-var-name'><span>Delta T</span></div><div class='xr-var-dims'>(percentile, variable, year)</div><div class='xr-var-dtype'>float64</div><div class='xr-var-preview xr-preview'>...</div><input id='attrs-03843a21-9601-4864-aa5c-81988322a4de' class='xr-var-attrs-in' type='checkbox' disabled><label for='attrs-03843a21-9601-4864-aa5c-81988322a4de' title='Show/Hide attributes'><svg class='icon xr-icon-file-text2'><use xlink:href='#icon-file-text2'></use></svg></label><input id='data-a1e2c29a-47e1-44d2-8fb4-bbff95361d98' class='xr-var-data-in' type='checkbox'><label for='data-a1e2c29a-47e1-44d2-8fb4-bbff95361d98' title='Show/Hide data repr'><svg class='icon xr-icon-database'><use xlink:href='#icon-database'></use></svg></label><div class='xr-var-attrs'><dl class='xr-attrs'></dl></div><div class='xr-var-data'><pre>array([[[0.      , 0.      , ..., 0.93289 , 0.951383],\n",
       "        [0.      , 0.      , ..., 0.111463, 0.113355],\n",
       "        ...,\n",
       "        [0.      , 0.      , ..., 0.25092 , 0.247976],\n",
       "        [0.      , 0.      , ..., 0.099012, 0.099777]]])</pre></div></li></ul></div></li><li class='xr-section-item'><input id='section-53482d14-0966-46d0-86bf-6b8fbf27ac28' class='xr-section-summary-in' type='checkbox' disabled ><label for='section-53482d14-0966-46d0-86bf-6b8fbf27ac28' class='xr-section-summary'  title='Expand/collapse section'>Attributes: <span>(0)</span></label><div class='xr-section-inline-details'></div><div class='xr-section-details'><dl class='xr-attrs'></dl></div></li></ul></div></div>"
      ],
      "text/plain": [
       "<xarray.Dataset>\n",
       "Dimensions:     (year: 270, variable: 10, percentile: 1)\n",
       "Coordinates:\n",
       "  * year        (year) int64 1750 1751 1752 1753 1754 ... 2016 2017 2018 2019\n",
       "  * variable    (variable) object 'CO2' 'N2O' 'CH4' 'NOx' ... 'NH3' 'VOC' 'HC'\n",
       "  * percentile  (percentile) object 'recommendation'\n",
       "Data variables:\n",
       "    ERF         (variable, year) float64 ...\n",
       "    time        (year) datetime64[ns] ...\n",
       "    delta_t     (year) float64 ...\n",
       "    Delta T     (percentile, variable, year) float64 ..."
      ]
     },
     "execution_count": 11,
     "metadata": {},
     "output_type": "execute_result"
    }
   ],
   "source": [
    "ds = xr.open_dataset(PATH_DATASET)\n",
    "ds  # ['Delta T']"
   ]
  },
  {
   "cell_type": "markdown",
   "metadata": {},
   "source": [
    "### Overview plots"
   ]
  },
  {
   "cell_type": "code",
   "execution_count": 12,
   "metadata": {},
   "outputs": [
    {
     "name": "stdout",
     "output_type": "stream",
     "text": [
      "(0.9568627450980393, 0.796078431372549, 0.21176470588235294)\n",
      "(0.8274509803921568, 0.0, 0.1568627450980392)\n",
      "(1.0, 0.4196078431372549, 0.07450980392156863)\n",
      "(0.26666666666666666, 0.0, 0.5254901960784314)\n",
      "(0.3764705882352941, 0.5725490196078431, 0.796078431372549)\n",
      "(0.5411764705882353, 0.2235294117647059, 0.0)\n",
      "(0.4745098039215686, 0.792156862745098, 0.9333333333333333)\n",
      "(0.0, 0.6901960784313725, 0.6039215686274509)\n",
      "(0.0, 0.5019607843137255, 0.23137254901960785)\n",
      "(0.47843137254901963, 0.5058823529411764, 0.5058823529411764)\n"
     ]
    }
   ],
   "source": [
    "cols = get_cmap_dic(ds['variable'].values)"
   ]
  },
  {
   "cell_type": "code",
   "execution_count": 13,
   "metadata": {},
   "outputs": [
    {
     "data": {
      "image/png": "[encoded data removed]",
      "text/plain": [
       "<Figure size 432x432 with 2 Axes>"
      ]
     },
     "metadata": {
      "needs_background": "light"
     },
     "output_type": "display_data"
    }
   ],
   "source": [
    "fig, axs = plt.subplots(2, sharex=True, figsize=[6, 6])\n",
    "\n",
    "ax_erf = axs[0]\n",
    "ax_dT = axs[1]\n",
    "for v in ds['variable'].values:\n",
    "    ds.sel(variable=v)['Delta T'].plot(ax=ax_dT, label=v, c=cols[v])\n",
    "    ds.sel(variable=v)['ERF'].plot(ax=ax_erf, c=cols[v])\n",
    "ds.sum('variable')['Delta T'].plot(ax=ax_dT, label='Sum', c='k', linewidth=2)\n",
    "ds.sum('variable')['ERF'].plot(ax=ax_erf, c='k', linewidth=2)\n",
    "\n",
    "ax_dT.set_title('Temperature change')\n",
    "ax_erf.set_title('ERF')\n",
    "ax_erf.set_ylabel('ERF [W m$^{-2}$]')\n",
    "ax_dT.set_ylabel('$\\Delta$ GSAT [$^{\\circ}$C]')\n",
    "ax_erf.set_xlabel('')\n",
    "ax_dT.legend(ncol=4, loc='upper left', frameon=False)\n",
    "plt.tight_layout()\n",
    "fig.savefig('hist_timeseries_ERF_dT.png', dpi=300)"
   ]
  },
  {
   "cell_type": "code",
   "execution_count": 14,
   "metadata": {},
   "outputs": [
    {
     "data": {
      "image/png": "[encoded data removed]",
      "text/plain": [
       "<Figure size 720x360 with 1 Axes>"
      ]
     },
     "metadata": {
      "needs_background": "light"
     },
     "output_type": "display_data"
    }
   ],
   "source": [
    "df_deltaT = ds['Delta T'].squeeze().drop('percentile').to_dataframe().unstack('variable')['Delta T']\n",
    "\n",
    "col_list = [cols[c] for c in df_deltaT.columns]\n",
    "\n",
    "df_deltaT = ds['Delta T'].squeeze().drop('percentile').to_dataframe().unstack('variable')['Delta T']\n",
    "\n",
    "fig, ax = plt.subplots(figsize=[10, 5])\n",
    "ax.hlines(0, 1740, 2028, linestyle='solid', alpha=0.9, color='k',\n",
    "          linewidth=0.5)  # .sum(axis=1).plot(linestyle='dashed', color='k', linewidth=3)\n",
    "\n",
    "df_deltaT.plot.area(color=col_list, ax=ax)\n",
    "df_deltaT.sum(axis=1).plot(linestyle='dashed', color='k', linewidth=3, label='Sum')\n",
    "plt.legend(loc='upper left', ncol=3, frameon=False)\n",
    "plt.ylabel('$\\Delta$ GSAT ($^\\circ$ C)')\n",
    "ax.set_xlim([1740, 2028])\n",
    "sns.despine()"
   ]
  },
  {
   "cell_type": "code",
   "execution_count": null,
   "metadata": {},
   "outputs": [],
   "source": []
  },
  {
   "cell_type": "markdown",
   "metadata": {},
   "source": [
    "# Split up ERF/warming into sources by using data from Thornhill"
   ]
  },
  {
   "cell_type": "markdown",
   "metadata": {},
   "source": [
    "We use the original split up in ERF from Thornhill/Bill Collin's plot "
   ]
  },
  {
   "cell_type": "markdown",
   "metadata": {},
   "source": [
    "Open dataset from Bill Collin's script:"
   ]
  },
  {
   "cell_type": "code",
   "execution_count": null,
   "metadata": {},
   "outputs": [],
   "source": []
  },
  {
   "cell_type": "code",
   "execution_count": 15,
   "metadata": {},
   "outputs": [
    {
     "data": {
      "text/html": [
       "<div>\n",
       "<style scoped>\n",
       "    .dataframe tbody tr th:only-of-type {\n",
       "        vertical-align: middle;\n",
       "    }\n",
       "\n",
       "    .dataframe tbody tr th {\n",
       "        vertical-align: top;\n",
       "    }\n",
       "\n",
       "    .dataframe thead th {\n",
       "        text-align: right;\n",
       "    }\n",
       "</style>\n",
       "<table border=\"1\" class=\"dataframe\">\n",
       "  <thead>\n",
       "    <tr style=\"text-align: right;\">\n",
       "      <th></th>\n",
       "      <th>CO2</th>\n",
       "      <th>CH4_lifetime</th>\n",
       "      <th>Strat_H2O</th>\n",
       "      <th>Aerosol</th>\n",
       "      <th>Cloud</th>\n",
       "      <th>O3</th>\n",
       "      <th>HC</th>\n",
       "      <th>N2O</th>\n",
       "      <th>HFCs</th>\n",
       "    </tr>\n",
       "    <tr>\n",
       "      <th>emission_experiment</th>\n",
       "      <th></th>\n",
       "      <th></th>\n",
       "      <th></th>\n",
       "      <th></th>\n",
       "      <th></th>\n",
       "      <th></th>\n",
       "      <th></th>\n",
       "      <th></th>\n",
       "      <th></th>\n",
       "    </tr>\n",
       "  </thead>\n",
       "  <tbody>\n",
       "    <tr>\n",
       "      <th>CO2</th>\n",
       "      <td>2.057554</td>\n",
       "      <td>0.000000</td>\n",
       "      <td>0.00</td>\n",
       "      <td>0.000000</td>\n",
       "      <td>0.000000</td>\n",
       "      <td>0.000000</td>\n",
       "      <td>0.00</td>\n",
       "      <td>0.00</td>\n",
       "      <td>0.000000</td>\n",
       "    </tr>\n",
       "    <tr>\n",
       "      <th>CH4</th>\n",
       "      <td>0.017549</td>\n",
       "      <td>0.844457</td>\n",
       "      <td>0.05</td>\n",
       "      <td>-0.002653</td>\n",
       "      <td>0.018421</td>\n",
       "      <td>0.266736</td>\n",
       "      <td>0.00</td>\n",
       "      <td>0.00</td>\n",
       "      <td>0.000000</td>\n",
       "    </tr>\n",
       "    <tr>\n",
       "      <th>N2O</th>\n",
       "      <td>0.000000</td>\n",
       "      <td>-0.035967</td>\n",
       "      <td>0.00</td>\n",
       "      <td>-0.002090</td>\n",
       "      <td>0.042503</td>\n",
       "      <td>0.026124</td>\n",
       "      <td>0.00</td>\n",
       "      <td>0.21</td>\n",
       "      <td>0.000000</td>\n",
       "    </tr>\n",
       "    <tr>\n",
       "      <th>HC</th>\n",
       "      <td>0.000053</td>\n",
       "      <td>-0.050927</td>\n",
       "      <td>0.00</td>\n",
       "      <td>-0.008080</td>\n",
       "      <td>-0.017419</td>\n",
       "      <td>-0.162033</td>\n",
       "      <td>0.41</td>\n",
       "      <td>0.00</td>\n",
       "      <td>0.039772</td>\n",
       "    </tr>\n",
       "    <tr>\n",
       "      <th>NOx</th>\n",
       "      <td>0.000000</td>\n",
       "      <td>-0.380025</td>\n",
       "      <td>0.00</td>\n",
       "      <td>-0.009166</td>\n",
       "      <td>-0.014458</td>\n",
       "      <td>0.137102</td>\n",
       "      <td>0.00</td>\n",
       "      <td>0.00</td>\n",
       "      <td>0.000000</td>\n",
       "    </tr>\n",
       "    <tr>\n",
       "      <th>VOC</th>\n",
       "      <td>0.069491</td>\n",
       "      <td>0.162462</td>\n",
       "      <td>0.00</td>\n",
       "      <td>-0.002573</td>\n",
       "      <td>0.008884</td>\n",
       "      <td>0.202071</td>\n",
       "      <td>0.00</td>\n",
       "      <td>0.00</td>\n",
       "      <td>0.000000</td>\n",
       "    </tr>\n",
       "    <tr>\n",
       "      <th>SO2</th>\n",
       "      <td>0.000000</td>\n",
       "      <td>0.000000</td>\n",
       "      <td>0.00</td>\n",
       "      <td>-0.234228</td>\n",
       "      <td>-0.703784</td>\n",
       "      <td>0.000000</td>\n",
       "      <td>0.00</td>\n",
       "      <td>0.00</td>\n",
       "      <td>0.000000</td>\n",
       "    </tr>\n",
       "    <tr>\n",
       "      <th>OC</th>\n",
       "      <td>0.000000</td>\n",
       "      <td>0.000000</td>\n",
       "      <td>0.00</td>\n",
       "      <td>-0.072143</td>\n",
       "      <td>-0.136919</td>\n",
       "      <td>0.000000</td>\n",
       "      <td>0.00</td>\n",
       "      <td>0.00</td>\n",
       "      <td>0.000000</td>\n",
       "    </tr>\n",
       "    <tr>\n",
       "      <th>BC</th>\n",
       "      <td>0.000000</td>\n",
       "      <td>0.000000</td>\n",
       "      <td>0.00</td>\n",
       "      <td>0.144702</td>\n",
       "      <td>-0.037227</td>\n",
       "      <td>0.000000</td>\n",
       "      <td>0.00</td>\n",
       "      <td>0.00</td>\n",
       "      <td>0.000000</td>\n",
       "    </tr>\n",
       "    <tr>\n",
       "      <th>NH3</th>\n",
       "      <td>0.000000</td>\n",
       "      <td>0.000000</td>\n",
       "      <td>0.00</td>\n",
       "      <td>-0.033769</td>\n",
       "      <td>0.000000</td>\n",
       "      <td>0.000000</td>\n",
       "      <td>0.00</td>\n",
       "      <td>0.00</td>\n",
       "      <td>0.000000</td>\n",
       "    </tr>\n",
       "  </tbody>\n",
       "</table>\n",
       "</div>"
      ],
      "text/plain": [
       "                          CO2  CH4_lifetime  Strat_H2O   Aerosol     Cloud  \\\n",
       "emission_experiment                                                          \n",
       "CO2                  2.057554      0.000000       0.00  0.000000  0.000000   \n",
       "CH4                  0.017549      0.844457       0.05 -0.002653  0.018421   \n",
       "N2O                  0.000000     -0.035967       0.00 -0.002090  0.042503   \n",
       "HC                   0.000053     -0.050927       0.00 -0.008080 -0.017419   \n",
       "NOx                  0.000000     -0.380025       0.00 -0.009166 -0.014458   \n",
       "VOC                  0.069491      0.162462       0.00 -0.002573  0.008884   \n",
       "SO2                  0.000000      0.000000       0.00 -0.234228 -0.703784   \n",
       "OC                   0.000000      0.000000       0.00 -0.072143 -0.136919   \n",
       "BC                   0.000000      0.000000       0.00  0.144702 -0.037227   \n",
       "NH3                  0.000000      0.000000       0.00 -0.033769  0.000000   \n",
       "\n",
       "                           O3    HC   N2O      HFCs  \n",
       "emission_experiment                                  \n",
       "CO2                  0.000000  0.00  0.00  0.000000  \n",
       "CH4                  0.266736  0.00  0.00  0.000000  \n",
       "N2O                  0.026124  0.00  0.21  0.000000  \n",
       "HC                  -0.162033  0.41  0.00  0.039772  \n",
       "NOx                  0.137102  0.00  0.00  0.000000  \n",
       "VOC                  0.202071  0.00  0.00  0.000000  \n",
       "SO2                  0.000000  0.00  0.00  0.000000  \n",
       "OC                   0.000000  0.00  0.00  0.000000  \n",
       "BC                   0.000000  0.00  0.00  0.000000  \n",
       "NH3                  0.000000  0.00  0.00  0.000000  "
      ]
     },
     "execution_count": 15,
     "metadata": {},
     "output_type": "execute_result"
    }
   ],
   "source": [
    "df_collins = pd.read_csv(fn_ERF_2019, index_col=0)\n",
    "df_collins.index = df_collins.index.rename('emission_experiment')\n",
    "df_collins_sd = pd.read_csv(fp_collins_sd, index_col=0)\n",
    "df_collins"
   ]
  },
  {
   "cell_type": "code",
   "execution_count": 16,
   "metadata": {},
   "outputs": [],
   "source": [
    "width = 0.7\n",
    "kwargs = {'linewidth': .1, 'edgecolor': 'k'}"
   ]
  },
  {
   "cell_type": "markdown",
   "metadata": {},
   "source": [
    "## Decompose GSAT signal as the ERF signal"
   ]
  },
  {
   "cell_type": "markdown",
   "metadata": {},
   "source": [
    "### GSAT"
   ]
  },
  {
   "cell_type": "markdown",
   "metadata": {},
   "source": [
    "Get period mean difference for GSAT:"
   ]
  },
  {
   "cell_type": "code",
   "execution_count": 17,
   "metadata": {},
   "outputs": [],
   "source": [
    "df_deltaT = ds['Delta T'].squeeze().drop('percentile').to_dataframe().unstack('variable')['Delta T']\n",
    "PD = df_deltaT.loc[pd_year]\n",
    "PD\n",
    "\n",
    "PI = df_deltaT.loc[ref_year]  # .mean()\n",
    "\n",
    "dT_period_diff = pd.DataFrame(PD - PI, columns=['diff'])  # df_deltaT.loc[2019])\n",
    "dT_period_diff.index = dT_period_diff.index.rename('emission_experiment')"
   ]
  },
  {
   "cell_type": "markdown",
   "metadata": {},
   "source": [
    "Make normalized decomposition of different components from emission based ERF. "
   ]
  },
  {
   "cell_type": "code",
   "execution_count": 18,
   "metadata": {},
   "outputs": [
    {
     "data": {
      "text/plain": [
       "<AxesSubplot:ylabel='emission_experiment'>"
      ]
     },
     "execution_count": 18,
     "metadata": {},
     "output_type": "execute_result"
    },
    {
     "data": {
      "image/png": "[encoded data removed]",
      "text/plain": [
       "<Figure size 432x288 with 1 Axes>"
      ]
     },
     "metadata": {
      "needs_background": "light"
     },
     "output_type": "display_data"
    }
   ],
   "source": [
    "df_coll_t = df_collins.transpose()\n",
    "if 'Total' in df_coll_t.index:\n",
    "    df_coll_t = df_coll_t.drop('Total')\n",
    "# scale by total:\n",
    "scale = df_coll_t.sum()\n",
    "# normalized ERF: \n",
    "df_col_normalized = df_coll_t / scale\n",
    "#\n",
    "df_col_normalized.transpose().plot.barh(stacked=True)"
   ]
  },
  {
   "cell_type": "markdown",
   "metadata": {},
   "source": [
    "We multiply the change in GSAT in 2010-2019 vs 1850-1900 by the matrix describing the source distribution from the ERF:"
   ]
  },
  {
   "cell_type": "code",
   "execution_count": 19,
   "metadata": {},
   "outputs": [
    {
     "data": {
      "text/plain": [
       "emission_experiment\n",
       "CO2    0.951383\n",
       "N2O    0.113355\n",
       "CH4    0.597743\n",
       "NOx   -0.138133\n",
       "SO2   -0.571412\n",
       "BC     0.057791\n",
       "OC    -0.111211\n",
       "NH3   -0.016250\n",
       "VOC    0.247976\n",
       "HC     0.099777\n",
       "Name: diff, dtype: float64"
      ]
     },
     "execution_count": 19,
     "metadata": {},
     "output_type": "execute_result"
    }
   ],
   "source": [
    "dT_period_diff['diff']"
   ]
  },
  {
   "cell_type": "code",
   "execution_count": 20,
   "metadata": {},
   "outputs": [
    {
     "data": {
      "text/html": [
       "<div>\n",
       "<style scoped>\n",
       "    .dataframe tbody tr th:only-of-type {\n",
       "        vertical-align: middle;\n",
       "    }\n",
       "\n",
       "    .dataframe tbody tr th {\n",
       "        vertical-align: top;\n",
       "    }\n",
       "\n",
       "    .dataframe thead th {\n",
       "        text-align: right;\n",
       "    }\n",
       "</style>\n",
       "<table border=\"1\" class=\"dataframe\">\n",
       "  <thead>\n",
       "    <tr style=\"text-align: right;\">\n",
       "      <th></th>\n",
       "      <th>CO2</th>\n",
       "      <th>CH4_lifetime</th>\n",
       "      <th>Strat_H2O</th>\n",
       "      <th>Aerosol</th>\n",
       "      <th>Cloud</th>\n",
       "      <th>O3</th>\n",
       "      <th>HC</th>\n",
       "      <th>N2O</th>\n",
       "      <th>HFCs</th>\n",
       "    </tr>\n",
       "    <tr>\n",
       "      <th>emission_experiment</th>\n",
       "      <th></th>\n",
       "      <th></th>\n",
       "      <th></th>\n",
       "      <th></th>\n",
       "      <th></th>\n",
       "      <th></th>\n",
       "      <th></th>\n",
       "      <th></th>\n",
       "      <th></th>\n",
       "    </tr>\n",
       "  </thead>\n",
       "  <tbody>\n",
       "    <tr>\n",
       "      <th>BC</th>\n",
       "      <td>0.000000</td>\n",
       "      <td>0.000000</td>\n",
       "      <td>0.00000</td>\n",
       "      <td>0.077809</td>\n",
       "      <td>-0.020018</td>\n",
       "      <td>0.000000</td>\n",
       "      <td>0.000000</td>\n",
       "      <td>0.000000</td>\n",
       "      <td>0.000000</td>\n",
       "    </tr>\n",
       "    <tr>\n",
       "      <th>CH4</th>\n",
       "      <td>0.008782</td>\n",
       "      <td>0.422574</td>\n",
       "      <td>0.02502</td>\n",
       "      <td>-0.001328</td>\n",
       "      <td>0.009218</td>\n",
       "      <td>0.133477</td>\n",
       "      <td>0.000000</td>\n",
       "      <td>0.000000</td>\n",
       "      <td>0.000000</td>\n",
       "    </tr>\n",
       "    <tr>\n",
       "      <th>CO2</th>\n",
       "      <td>0.951383</td>\n",
       "      <td>0.000000</td>\n",
       "      <td>0.00000</td>\n",
       "      <td>0.000000</td>\n",
       "      <td>0.000000</td>\n",
       "      <td>0.000000</td>\n",
       "      <td>0.000000</td>\n",
       "      <td>0.000000</td>\n",
       "      <td>0.000000</td>\n",
       "    </tr>\n",
       "    <tr>\n",
       "      <th>HC</th>\n",
       "      <td>0.000025</td>\n",
       "      <td>-0.024040</td>\n",
       "      <td>0.00000</td>\n",
       "      <td>-0.003814</td>\n",
       "      <td>-0.008223</td>\n",
       "      <td>-0.076489</td>\n",
       "      <td>0.193544</td>\n",
       "      <td>0.000000</td>\n",
       "      <td>0.018775</td>\n",
       "    </tr>\n",
       "    <tr>\n",
       "      <th>N2O</th>\n",
       "      <td>0.000000</td>\n",
       "      <td>-0.016948</td>\n",
       "      <td>0.00000</td>\n",
       "      <td>-0.000985</td>\n",
       "      <td>0.020027</td>\n",
       "      <td>0.012309</td>\n",
       "      <td>0.000000</td>\n",
       "      <td>0.098951</td>\n",
       "      <td>0.000000</td>\n",
       "    </tr>\n",
       "    <tr>\n",
       "      <th>NH3</th>\n",
       "      <td>0.000000</td>\n",
       "      <td>0.000000</td>\n",
       "      <td>0.00000</td>\n",
       "      <td>-0.016250</td>\n",
       "      <td>0.000000</td>\n",
       "      <td>0.000000</td>\n",
       "      <td>0.000000</td>\n",
       "      <td>0.000000</td>\n",
       "      <td>0.000000</td>\n",
       "    </tr>\n",
       "    <tr>\n",
       "      <th>NOx</th>\n",
       "      <td>0.000000</td>\n",
       "      <td>-0.196941</td>\n",
       "      <td>0.00000</td>\n",
       "      <td>-0.004750</td>\n",
       "      <td>-0.007493</td>\n",
       "      <td>0.071051</td>\n",
       "      <td>0.000000</td>\n",
       "      <td>0.000000</td>\n",
       "      <td>0.000000</td>\n",
       "    </tr>\n",
       "    <tr>\n",
       "      <th>OC</th>\n",
       "      <td>0.000000</td>\n",
       "      <td>0.000000</td>\n",
       "      <td>0.00000</td>\n",
       "      <td>-0.038377</td>\n",
       "      <td>-0.072834</td>\n",
       "      <td>0.000000</td>\n",
       "      <td>0.000000</td>\n",
       "      <td>0.000000</td>\n",
       "      <td>0.000000</td>\n",
       "    </tr>\n",
       "    <tr>\n",
       "      <th>SO2</th>\n",
       "      <td>0.000000</td>\n",
       "      <td>0.000000</td>\n",
       "      <td>0.00000</td>\n",
       "      <td>-0.142685</td>\n",
       "      <td>-0.428727</td>\n",
       "      <td>0.000000</td>\n",
       "      <td>0.000000</td>\n",
       "      <td>0.000000</td>\n",
       "      <td>0.000000</td>\n",
       "    </tr>\n",
       "    <tr>\n",
       "      <th>VOC</th>\n",
       "      <td>0.039134</td>\n",
       "      <td>0.091491</td>\n",
       "      <td>0.00000</td>\n",
       "      <td>-0.001449</td>\n",
       "      <td>0.005003</td>\n",
       "      <td>0.113797</td>\n",
       "      <td>0.000000</td>\n",
       "      <td>0.000000</td>\n",
       "      <td>0.000000</td>\n",
       "    </tr>\n",
       "  </tbody>\n",
       "</table>\n",
       "</div>"
      ],
      "text/plain": [
       "                          CO2  CH4_lifetime  Strat_H2O   Aerosol     Cloud  \\\n",
       "emission_experiment                                                          \n",
       "BC                   0.000000      0.000000    0.00000  0.077809 -0.020018   \n",
       "CH4                  0.008782      0.422574    0.02502 -0.001328  0.009218   \n",
       "CO2                  0.951383      0.000000    0.00000  0.000000  0.000000   \n",
       "HC                   0.000025     -0.024040    0.00000 -0.003814 -0.008223   \n",
       "N2O                  0.000000     -0.016948    0.00000 -0.000985  0.020027   \n",
       "NH3                  0.000000      0.000000    0.00000 -0.016250  0.000000   \n",
       "NOx                  0.000000     -0.196941    0.00000 -0.004750 -0.007493   \n",
       "OC                   0.000000      0.000000    0.00000 -0.038377 -0.072834   \n",
       "SO2                  0.000000      0.000000    0.00000 -0.142685 -0.428727   \n",
       "VOC                  0.039134      0.091491    0.00000 -0.001449  0.005003   \n",
       "\n",
       "                           O3        HC       N2O      HFCs  \n",
       "emission_experiment                                          \n",
       "BC                   0.000000  0.000000  0.000000  0.000000  \n",
       "CH4                  0.133477  0.000000  0.000000  0.000000  \n",
       "CO2                  0.000000  0.000000  0.000000  0.000000  \n",
       "HC                  -0.076489  0.193544  0.000000  0.018775  \n",
       "N2O                  0.012309  0.000000  0.098951  0.000000  \n",
       "NH3                  0.000000  0.000000  0.000000  0.000000  \n",
       "NOx                  0.071051  0.000000  0.000000  0.000000  \n",
       "OC                   0.000000  0.000000  0.000000  0.000000  \n",
       "SO2                  0.000000  0.000000  0.000000  0.000000  \n",
       "VOC                  0.113797  0.000000  0.000000  0.000000  "
      ]
     },
     "execution_count": 20,
     "metadata": {},
     "output_type": "execute_result"
    }
   ],
   "source": [
    "df_dt_sep = dT_period_diff['diff'] * df_col_normalized\n",
    "\n",
    "df_dt_sep = df_dt_sep.transpose()\n",
    "df_dt_sep"
   ]
  },
  {
   "cell_type": "code",
   "execution_count": 21,
   "metadata": {},
   "outputs": [
    {
     "data": {
      "text/plain": [
       "<AxesSubplot:xlabel='emission_experiment'>"
      ]
     },
     "execution_count": 21,
     "metadata": {},
     "output_type": "execute_result"
    },
    {
     "data": {
      "image/png": "[encoded data removed]",
      "text/plain": [
       "<Figure size 432x288 with 1 Axes>"
      ]
     },
     "metadata": {
      "needs_background": "light"
     },
     "output_type": "display_data"
    }
   ],
   "source": [
    "df_dt_sep.plot.bar(stacked=True)\n",
    "dT_period_diff['diff'].reindex(df_dt_sep.index).plot()"
   ]
  },
  {
   "cell_type": "markdown",
   "metadata": {},
   "source": [
    "### ERF"
   ]
  },
  {
   "cell_type": "markdown",
   "metadata": {},
   "source": [
    "Get period mean difference for ERF:"
   ]
  },
  {
   "cell_type": "code",
   "execution_count": 22,
   "metadata": {},
   "outputs": [],
   "source": [
    "df_ERF = ds['ERF'].squeeze().to_dataframe().unstack('variable')['ERF']\n",
    "ERF_PD = df_ERF.loc[pd_year]\n",
    "\n",
    "ERF_PI = df_ERF.loc[ref_year]"
   ]
  },
  {
   "cell_type": "code",
   "execution_count": 23,
   "metadata": {},
   "outputs": [],
   "source": [
    "ERF_period_diff = pd.DataFrame(ERF_PD - ERF_PI, columns=['diff'])  # df_deltaT.loc[2019])\n",
    "ERF_period_diff.index = ERF_period_diff.index.rename('emission_experiment')"
   ]
  },
  {
   "cell_type": "markdown",
   "metadata": {},
   "source": [
    "\n",
    "We multiply the change in ERF in 2010-2019 vs 1850-1900 by the matrix describing the source distribution from the ERF:"
   ]
  },
  {
   "cell_type": "code",
   "execution_count": 24,
   "metadata": {},
   "outputs": [],
   "source": [
    "df_erf_sep = ERF_period_diff['diff'] * df_col_normalized\n",
    "df_erf_sep = df_erf_sep.transpose()"
   ]
  },
  {
   "cell_type": "code",
   "execution_count": 25,
   "metadata": {},
   "outputs": [
    {
     "data": {
      "text/html": [
       "<div>\n",
       "<style scoped>\n",
       "    .dataframe tbody tr th:only-of-type {\n",
       "        vertical-align: middle;\n",
       "    }\n",
       "\n",
       "    .dataframe tbody tr th {\n",
       "        vertical-align: top;\n",
       "    }\n",
       "\n",
       "    .dataframe thead th {\n",
       "        text-align: right;\n",
       "    }\n",
       "</style>\n",
       "<table border=\"1\" class=\"dataframe\">\n",
       "  <thead>\n",
       "    <tr style=\"text-align: right;\">\n",
       "      <th></th>\n",
       "      <th>diff</th>\n",
       "    </tr>\n",
       "    <tr>\n",
       "      <th>emission_experiment</th>\n",
       "      <th></th>\n",
       "    </tr>\n",
       "  </thead>\n",
       "  <tbody>\n",
       "    <tr>\n",
       "      <th>CO2</th>\n",
       "      <td>2.057554</td>\n",
       "    </tr>\n",
       "    <tr>\n",
       "      <th>N2O</th>\n",
       "      <td>0.240569</td>\n",
       "    </tr>\n",
       "    <tr>\n",
       "      <th>CH4</th>\n",
       "      <td>1.194509</td>\n",
       "    </tr>\n",
       "    <tr>\n",
       "      <th>NOx</th>\n",
       "      <td>-0.266546</td>\n",
       "    </tr>\n",
       "    <tr>\n",
       "      <th>SO2</th>\n",
       "      <td>-0.938012</td>\n",
       "    </tr>\n",
       "    <tr>\n",
       "      <th>BC</th>\n",
       "      <td>0.107475</td>\n",
       "    </tr>\n",
       "    <tr>\n",
       "      <th>OC</th>\n",
       "      <td>-0.209062</td>\n",
       "    </tr>\n",
       "    <tr>\n",
       "      <th>NH3</th>\n",
       "      <td>-0.033769</td>\n",
       "    </tr>\n",
       "    <tr>\n",
       "      <th>VOC</th>\n",
       "      <td>0.440334</td>\n",
       "    </tr>\n",
       "    <tr>\n",
       "      <th>HC</th>\n",
       "      <td>0.211366</td>\n",
       "    </tr>\n",
       "  </tbody>\n",
       "</table>\n",
       "</div>"
      ],
      "text/plain": [
       "                         diff\n",
       "emission_experiment          \n",
       "CO2                  2.057554\n",
       "N2O                  0.240569\n",
       "CH4                  1.194509\n",
       "NOx                 -0.266546\n",
       "SO2                 -0.938012\n",
       "BC                   0.107475\n",
       "OC                  -0.209062\n",
       "NH3                 -0.033769\n",
       "VOC                  0.440334\n",
       "HC                   0.211366"
      ]
     },
     "execution_count": 25,
     "metadata": {},
     "output_type": "execute_result"
    }
   ],
   "source": [
    "ERF_period_diff"
   ]
  },
  {
   "cell_type": "code",
   "execution_count": 26,
   "metadata": {},
   "outputs": [
    {
     "data": {
      "image/png": "[encoded data removed]",
      "text/plain": [
       "<Figure size 432x288 with 1 Axes>"
      ]
     },
     "metadata": {
      "needs_background": "light"
     },
     "output_type": "display_data"
    }
   ],
   "source": [
    "df_erf_sep.plot.bar(stacked=True)\n",
    "ERF_period_diff['diff'].reindex(df_erf_sep.index).plot.line()\n",
    "plt.show()"
   ]
  },
  {
   "cell_type": "markdown",
   "metadata": {},
   "source": [
    "# Accounting for non-linearities in ERFaci, we scale down the GSAT change from aci contribution to fit with chapter 7 "
   ]
  },
  {
   "cell_type": "markdown",
   "metadata": {},
   "source": [
    "The GSAT change from aerosol cloud interactions in 2019 vs 1750 is estimated to -0.38 degrees by chapter 7, which accounts for non-linearities in ERFaci. When considering the 1750-2019 change in GSAT, we therefore scaled the GSAT change by aerosol cloud interactions to fit this total. "
   ]
  },
  {
   "cell_type": "code",
   "execution_count": 27,
   "metadata": {},
   "outputs": [
    {
     "data": {
      "text/plain": [
       "CO2             0.999324\n",
       "CH4_lifetime    0.276136\n",
       "Strat_H2O       0.025020\n",
       "Aerosol        -0.131829\n",
       "Cloud          -0.503046\n",
       "O3              0.254145\n",
       "HC              0.193544\n",
       "N2O             0.098951\n",
       "HFCs            0.018775\n",
       "dtype: float64"
      ]
     },
     "execution_count": 27,
     "metadata": {},
     "output_type": "execute_result"
    }
   ],
   "source": [
    "df_dt_sep.sum()"
   ]
  },
  {
   "cell_type": "code",
   "execution_count": 28,
   "metadata": {},
   "outputs": [
    {
     "name": "stdout",
     "output_type": "stream",
     "text": [
      "Scaled down by  24.46016383440439 %\n",
      "-0.38 -0.5030458355336888\n"
     ]
    },
    {
     "data": {
      "text/plain": [
       "CO2             0.999324\n",
       "CH4_lifetime    0.276136\n",
       "Strat_H2O       0.025020\n",
       "Aerosol        -0.131829\n",
       "Cloud          -0.380000\n",
       "O3              0.254145\n",
       "HC              0.193544\n",
       "N2O             0.098951\n",
       "HFCs            0.018775\n",
       "dtype: float64"
      ]
     },
     "execution_count": 28,
     "metadata": {},
     "output_type": "execute_result"
    }
   ],
   "source": [
    "scal_to = -0.38\n",
    "aci_tot = df_dt_sep.sum()['Cloud']\n",
    "scale_by = scal_to / aci_tot\n",
    "print('Scaled down by ', (1 - scale_by) * 100, '%')\n",
    "print(scal_to, aci_tot)\n",
    "\n",
    "df_dt_sep['Cloud'] = df_dt_sep['Cloud'] * scale_by\n",
    "df_dt_sep.sum()"
   ]
  },
  {
   "cell_type": "markdown",
   "metadata": {},
   "source": [
    "# Uncertainties"
   ]
  },
  {
   "cell_type": "code",
   "execution_count": 29,
   "metadata": {
    "tags": []
   },
   "outputs": [
    {
     "data": {
      "text/html": [
       "<div>\n",
       "<style scoped>\n",
       "    .dataframe tbody tr th:only-of-type {\n",
       "        vertical-align: middle;\n",
       "    }\n",
       "\n",
       "    .dataframe tbody tr th {\n",
       "        vertical-align: top;\n",
       "    }\n",
       "\n",
       "    .dataframe thead th {\n",
       "        text-align: right;\n",
       "    }\n",
       "</style>\n",
       "<table border=\"1\" class=\"dataframe\">\n",
       "  <thead>\n",
       "    <tr style=\"text-align: right;\">\n",
       "      <th></th>\n",
       "      <th>std</th>\n",
       "      <th>SE</th>\n",
       "      <th>95-50_SE</th>\n",
       "      <th>95-50</th>\n",
       "    </tr>\n",
       "    <tr>\n",
       "      <th>Species</th>\n",
       "      <th></th>\n",
       "      <th></th>\n",
       "      <th></th>\n",
       "      <th></th>\n",
       "    </tr>\n",
       "  </thead>\n",
       "  <tbody>\n",
       "    <tr>\n",
       "      <th>CO2</th>\n",
       "      <td>0.246907</td>\n",
       "      <td>NaN</td>\n",
       "      <td>0.246907</td>\n",
       "      <td>0.246907</td>\n",
       "    </tr>\n",
       "    <tr>\n",
       "      <th>CH4</th>\n",
       "      <td>0.236538</td>\n",
       "      <td>0.083629</td>\n",
       "      <td>0.137569</td>\n",
       "      <td>0.389105</td>\n",
       "    </tr>\n",
       "    <tr>\n",
       "      <th>N2O</th>\n",
       "      <td>0.061736</td>\n",
       "      <td>0.027609</td>\n",
       "      <td>0.045417</td>\n",
       "      <td>0.101555</td>\n",
       "    </tr>\n",
       "    <tr>\n",
       "      <th>HC</th>\n",
       "      <td>0.116583</td>\n",
       "      <td>0.047595</td>\n",
       "      <td>0.078293</td>\n",
       "      <td>0.191779</td>\n",
       "    </tr>\n",
       "    <tr>\n",
       "      <th>NOx</th>\n",
       "      <td>0.170036</td>\n",
       "      <td>0.076043</td>\n",
       "      <td>0.125090</td>\n",
       "      <td>0.279710</td>\n",
       "    </tr>\n",
       "    <tr>\n",
       "      <th>VOC</th>\n",
       "      <td>0.136683</td>\n",
       "      <td>0.061127</td>\n",
       "      <td>0.100553</td>\n",
       "      <td>0.224844</td>\n",
       "    </tr>\n",
       "    <tr>\n",
       "      <th>SO2</th>\n",
       "      <td>0.419710</td>\n",
       "      <td>0.171346</td>\n",
       "      <td>0.281864</td>\n",
       "      <td>0.690423</td>\n",
       "    </tr>\n",
       "    <tr>\n",
       "      <th>OC</th>\n",
       "      <td>0.139932</td>\n",
       "      <td>0.057127</td>\n",
       "      <td>0.093974</td>\n",
       "      <td>0.230188</td>\n",
       "    </tr>\n",
       "    <tr>\n",
       "      <th>BC</th>\n",
       "      <td>0.187990</td>\n",
       "      <td>0.071053</td>\n",
       "      <td>0.116883</td>\n",
       "      <td>0.309243</td>\n",
       "    </tr>\n",
       "    <tr>\n",
       "      <th>NH3</th>\n",
       "      <td>0.004824</td>\n",
       "      <td>0.003411</td>\n",
       "      <td>0.005611</td>\n",
       "      <td>0.007936</td>\n",
       "    </tr>\n",
       "  </tbody>\n",
       "</table>\n",
       "</div>"
      ],
      "text/plain": [
       "              std        SE  95-50_SE     95-50\n",
       "Species                                        \n",
       "CO2      0.246907       NaN  0.246907  0.246907\n",
       "CH4      0.236538  0.083629  0.137569  0.389105\n",
       "N2O      0.061736  0.027609  0.045417  0.101555\n",
       "HC       0.116583  0.047595  0.078293  0.191779\n",
       "NOx      0.170036  0.076043  0.125090  0.279710\n",
       "VOC      0.136683  0.061127  0.100553  0.224844\n",
       "SO2      0.419710  0.171346  0.281864  0.690423\n",
       "OC       0.139932  0.057127  0.093974  0.230188\n",
       "BC       0.187990  0.071053  0.116883  0.309243\n",
       "NH3      0.004824  0.003411  0.005611  0.007936"
      ]
     },
     "execution_count": 29,
     "metadata": {},
     "output_type": "execute_result"
    }
   ],
   "source": [
    "\n",
    "num_mod_lab = 'Number of models (Thornhill 2020)'\n",
    "thornhill = read_csv_badc(fn_TAB2_THORNHILL, index_col=0)\n",
    "thornhill.index = thornhill.index.rename('Species')\n",
    "thornhill\n",
    "\n",
    "# ratio between standard deviation and 5-95th percentile.\n",
    "std_2_95th = 1.645\n",
    "\n",
    "sd_tot = df_collins_sd['Total_sd']\n",
    "df_err = pd.DataFrame(sd_tot.rename('std'))\n",
    "df_err['SE'] = df_err\n",
    "\n",
    "df_err['SE'] = df_err['std'] / np.sqrt(thornhill[num_mod_lab])\n",
    "df_err['95-50_SE'] = df_err['SE'] * std_2_95th\n",
    "df_err.loc['CO2', '95-50_SE'] = df_err.loc['CO2', 'std']\n",
    "df_err\n",
    "\n",
    "df_err['95-50'] = df_err['std'] * std_2_95th\n",
    "# CO2 is already 95-50 percentile: \n",
    "df_err.loc['CO2', '95-50'] = df_err.loc['CO2', 'std']\n",
    "df_err"
   ]
  },
  {
   "cell_type": "markdown",
   "metadata": {},
   "source": [
    "## Uncertainty on period mean ERF is scaled from uncertainty in 2019: \n"
   ]
  },
  {
   "cell_type": "code",
   "execution_count": 30,
   "metadata": {},
   "outputs": [],
   "source": [
    "ERF_2019_tot = df_collins.sum(axis=1).reindex(df_err.index)\n",
    "ERF_period_diff_tot = df_erf_sep.sum(axis=1).reindex(df_err.index)"
   ]
  },
  {
   "cell_type": "markdown",
   "metadata": {},
   "source": [
    "Scale by the period mean to the original 1750-2019 difference. "
   ]
  },
  {
   "cell_type": "code",
   "execution_count": 31,
   "metadata": {},
   "outputs": [
    {
     "data": {
      "text/plain": [
       "Species\n",
       "CO2    1.0\n",
       "CH4    1.0\n",
       "N2O    1.0\n",
       "HC     1.0\n",
       "NOx    1.0\n",
       "VOC    1.0\n",
       "SO2    1.0\n",
       "OC     1.0\n",
       "BC     1.0\n",
       "NH3    1.0\n",
       "dtype: float64"
      ]
     },
     "execution_count": 31,
     "metadata": {},
     "output_type": "execute_result"
    }
   ],
   "source": [
    "_scale = np.abs(ERF_period_diff_tot / ERF_2019_tot)\n",
    "df_err['95-50_period'] = df_err['95-50'] * _scale\n",
    "_scale"
   ]
  },
  {
   "cell_type": "markdown",
   "metadata": {},
   "source": [
    "(In the case of period=2019 vs 1750, the scaling is 1, i.e. no scaling)"
   ]
  },
  {
   "cell_type": "code",
   "execution_count": 32,
   "metadata": {},
   "outputs": [
    {
     "data": {
      "text/html": [
       "<div>\n",
       "<style scoped>\n",
       "    .dataframe tbody tr th:only-of-type {\n",
       "        vertical-align: middle;\n",
       "    }\n",
       "\n",
       "    .dataframe tbody tr th {\n",
       "        vertical-align: top;\n",
       "    }\n",
       "\n",
       "    .dataframe thead th {\n",
       "        text-align: right;\n",
       "    }\n",
       "</style>\n",
       "<table border=\"1\" class=\"dataframe\">\n",
       "  <thead>\n",
       "    <tr style=\"text-align: right;\">\n",
       "      <th></th>\n",
       "      <th>std</th>\n",
       "      <th>SE</th>\n",
       "      <th>95-50_SE</th>\n",
       "      <th>95-50</th>\n",
       "      <th>95-50_period</th>\n",
       "    </tr>\n",
       "    <tr>\n",
       "      <th>Species</th>\n",
       "      <th></th>\n",
       "      <th></th>\n",
       "      <th></th>\n",
       "      <th></th>\n",
       "      <th></th>\n",
       "    </tr>\n",
       "  </thead>\n",
       "  <tbody>\n",
       "    <tr>\n",
       "      <th>CO2</th>\n",
       "      <td>0.246907</td>\n",
       "      <td>NaN</td>\n",
       "      <td>0.246907</td>\n",
       "      <td>0.246907</td>\n",
       "      <td>0.246907</td>\n",
       "    </tr>\n",
       "    <tr>\n",
       "      <th>CH4</th>\n",
       "      <td>0.236538</td>\n",
       "      <td>0.083629</td>\n",
       "      <td>0.137569</td>\n",
       "      <td>0.389105</td>\n",
       "      <td>0.389105</td>\n",
       "    </tr>\n",
       "    <tr>\n",
       "      <th>N2O</th>\n",
       "      <td>0.061736</td>\n",
       "      <td>0.027609</td>\n",
       "      <td>0.045417</td>\n",
       "      <td>0.101555</td>\n",
       "      <td>0.101555</td>\n",
       "    </tr>\n",
       "    <tr>\n",
       "      <th>HC</th>\n",
       "      <td>0.116583</td>\n",
       "      <td>0.047595</td>\n",
       "      <td>0.078293</td>\n",
       "      <td>0.191779</td>\n",
       "      <td>0.191779</td>\n",
       "    </tr>\n",
       "    <tr>\n",
       "      <th>NOx</th>\n",
       "      <td>0.170036</td>\n",
       "      <td>0.076043</td>\n",
       "      <td>0.125090</td>\n",
       "      <td>0.279710</td>\n",
       "      <td>0.279710</td>\n",
       "    </tr>\n",
       "    <tr>\n",
       "      <th>VOC</th>\n",
       "      <td>0.136683</td>\n",
       "      <td>0.061127</td>\n",
       "      <td>0.100553</td>\n",
       "      <td>0.224844</td>\n",
       "      <td>0.224844</td>\n",
       "    </tr>\n",
       "    <tr>\n",
       "      <th>SO2</th>\n",
       "      <td>0.419710</td>\n",
       "      <td>0.171346</td>\n",
       "      <td>0.281864</td>\n",
       "      <td>0.690423</td>\n",
       "      <td>0.690423</td>\n",
       "    </tr>\n",
       "    <tr>\n",
       "      <th>OC</th>\n",
       "      <td>0.139932</td>\n",
       "      <td>0.057127</td>\n",
       "      <td>0.093974</td>\n",
       "      <td>0.230188</td>\n",
       "      <td>0.230188</td>\n",
       "    </tr>\n",
       "    <tr>\n",
       "      <th>BC</th>\n",
       "      <td>0.187990</td>\n",
       "      <td>0.071053</td>\n",
       "      <td>0.116883</td>\n",
       "      <td>0.309243</td>\n",
       "      <td>0.309243</td>\n",
       "    </tr>\n",
       "    <tr>\n",
       "      <th>NH3</th>\n",
       "      <td>0.004824</td>\n",
       "      <td>0.003411</td>\n",
       "      <td>0.005611</td>\n",
       "      <td>0.007936</td>\n",
       "      <td>0.007936</td>\n",
       "    </tr>\n",
       "  </tbody>\n",
       "</table>\n",
       "</div>"
      ],
      "text/plain": [
       "              std        SE  95-50_SE     95-50  95-50_period\n",
       "Species                                                      \n",
       "CO2      0.246907       NaN  0.246907  0.246907      0.246907\n",
       "CH4      0.236538  0.083629  0.137569  0.389105      0.389105\n",
       "N2O      0.061736  0.027609  0.045417  0.101555      0.101555\n",
       "HC       0.116583  0.047595  0.078293  0.191779      0.191779\n",
       "NOx      0.170036  0.076043  0.125090  0.279710      0.279710\n",
       "VOC      0.136683  0.061127  0.100553  0.224844      0.224844\n",
       "SO2      0.419710  0.171346  0.281864  0.690423      0.690423\n",
       "OC       0.139932  0.057127  0.093974  0.230188      0.230188\n",
       "BC       0.187990  0.071053  0.116883  0.309243      0.309243\n",
       "NH3      0.004824  0.003411  0.005611  0.007936      0.007936"
      ]
     },
     "execution_count": 32,
     "metadata": {},
     "output_type": "execute_result"
    }
   ],
   "source": [
    "df_err"
   ]
  },
  {
   "cell_type": "markdown",
   "metadata": {},
   "source": [
    "## Uncertainties $\\Delta$ GSAT"
   ]
  },
  {
   "cell_type": "markdown",
   "metadata": {},
   "source": [
    "\n",
    "\\begin{align*} \n",
    "\\Delta T (t) &= \\int_0^t ERF(t') IRF(t-t') dt' \\\\\n",
    "\\end{align*}"
   ]
  },
  {
   "cell_type": "markdown",
   "metadata": {},
   "source": [
    "most of the uncertainty in the IRF derives from the uncertainty in the climate sensitivity which is said 3 (2.5-4), i.e. relative std 0.5/3 for the lower and 1/3 for the higher. If we treat this as two independent normally distributed variables multiplied together, $X$ and $Y$ and $X \\cdot Y$, we may propagate the uncertainty: \n",
    "\n",
    "\\begin{align*} \n",
    "\\frac{\\sigma_{XY}^2}{(XY)^2} = \\Big[(\\frac{\\sigma_X}{X})^2 + (\\frac{\\sigma_Y}{Y})^2 \\Big]\n",
    "\\end{align*}"
   ]
  },
  {
   "cell_type": "code",
   "execution_count": 33,
   "metadata": {},
   "outputs": [
    {
     "data": {
      "text/plain": [
       "Species\n",
       "CO2    2.057554\n",
       "CH4    1.194509\n",
       "N2O    0.240569\n",
       "HC     0.211366\n",
       "NOx   -0.266546\n",
       "VOC    0.440334\n",
       "SO2   -0.938012\n",
       "OC    -0.209062\n",
       "BC     0.107475\n",
       "NH3   -0.033769\n",
       "dtype: float64"
      ]
     },
     "execution_count": 33,
     "metadata": {},
     "output_type": "execute_result"
    }
   ],
   "source": [
    "ERF_2019_tot"
   ]
  },
  {
   "cell_type": "code",
   "execution_count": 34,
   "metadata": {},
   "outputs": [
    {
     "data": {
      "text/plain": [
       "Species\n",
       "CO2    0.120000\n",
       "CH4    0.198021\n",
       "N2O    0.256624\n",
       "HC     0.551568\n",
       "NOx    0.637925\n",
       "VOC    0.310408\n",
       "SO2    0.447446\n",
       "OC     0.669331\n",
       "BC     1.749148\n",
       "NH3    0.142857\n",
       "dtype: float64"
      ]
     },
     "execution_count": 34,
     "metadata": {},
     "output_type": "execute_result"
    }
   ],
   "source": [
    "std_ERF = df_err['std']\n",
    "std_ECS_lw_rl = 0.5 / 3\n",
    "std_ECS_hg_rl = 1 / 3\n",
    "\n",
    "tot_ERF = ERF_2019_tot  # df_collins.loc[::-1,var_dir].reindex(std_ERF.index).sum(axis=1)#tab_plt_ERF.sum(axis=1)\n",
    "std_erf_rl = np.abs(std_ERF / tot_ERF)\n",
    "std_erf_rl  # .rename(rename_dic_cols)"
   ]
  },
  {
   "cell_type": "code",
   "execution_count": null,
   "metadata": {},
   "outputs": [],
   "source": []
  },
  {
   "cell_type": "code",
   "execution_count": 35,
   "metadata": {},
   "outputs": [],
   "source": [
    "def rel_sigma_prod(rel_sigmaX, rel_sigmaY):\n",
    "    var_prod_rel = (rel_sigmaX ** 2 + rel_sigmaY ** 2)\n",
    "    rel_sigma_product = np.sqrt(var_prod_rel)\n",
    "    return rel_sigma_product\n",
    "\n",
    "\n",
    "rel_sig_lw = rel_sigma_prod(std_erf_rl, std_ECS_lw_rl)\n",
    "rel_sig_hg = rel_sigma_prod(std_erf_rl, std_ECS_hg_rl)"
   ]
  },
  {
   "cell_type": "code",
   "execution_count": 36,
   "metadata": {},
   "outputs": [],
   "source": [
    "tot_dT = df_dt_sep.sum(axis=1).reindex(std_ERF.index)\n",
    "\n",
    "neg_v = (tot_dT < 0)  # .squeeze()"
   ]
  },
  {
   "cell_type": "code",
   "execution_count": 37,
   "metadata": {},
   "outputs": [
    {
     "data": {
      "text/plain": [
       "1.645"
      ]
     },
     "execution_count": 37,
     "metadata": {},
     "output_type": "execute_result"
    }
   ],
   "source": [
    "std_2_95th"
   ]
  },
  {
   "cell_type": "code",
   "execution_count": 38,
   "metadata": {},
   "outputs": [
    {
     "data": {
      "text/plain": [
       "Species\n",
       "CO2    0.354275\n",
       "CH4    0.387716\n",
       "N2O    0.420674\n",
       "HC     0.644468\n",
       "NOx    0.719763\n",
       "VOC    0.455482\n",
       "SO2    0.557960\n",
       "OC     0.747740\n",
       "BC     1.780626\n",
       "NH3    0.362656\n",
       "dtype: float64"
      ]
     },
     "execution_count": 38,
     "metadata": {},
     "output_type": "execute_result"
    }
   ],
   "source": [
    "rel_sig_hg"
   ]
  },
  {
   "cell_type": "code",
   "execution_count": 39,
   "metadata": {},
   "outputs": [],
   "source": [
    "err_dT = pd.DataFrame(index=tot_dT.index)\n",
    "err_dT['min 1 sigma'] = np.abs(tot_dT * rel_sig_lw)  # *tot_dT\n",
    "err_dT['plus 1 sigma'] = np.abs(tot_dT * rel_sig_hg)\n",
    "err_dT['plus 1 sigma'][neg_v] = np.abs(tot_dT * rel_sig_lw)[neg_v]  # .iloc[neg_v].iloc[neg_v].iloc[neg_v]\n",
    "err_dT['min 1 sigma'][neg_v] = np.abs(tot_dT * rel_sig_hg)[neg_v]  # .iloc[neg_v].iloc[neg_v].iloc[neg_v]\n",
    "# err_dT['min 1 sigma'].iloc[neg_v] =np.abs(tot_dT*rel_sig_hg).iloc[neg_v]\n",
    "# err_dT['plus 1 sigma'][neg_v] = np.abs(tot_dT*rel_sig_lw)[neg_v]\n",
    "# err_dT['min 1 sigma'][neg_v] = np.abs(tot_dT*rel_sig_hg)[neg_v]\n",
    "# [::-1]\n",
    "err_dT['p50-05'] = err_dT['min 1 sigma'] * std_2_95th\n",
    "err_dT['p95-50'] = err_dT['plus 1 sigma'] * std_2_95th\n",
    "err_dT\n",
    "err_dT = err_dT.rename(rename_dic_cat, axis=1).rename(rename_dic_cols, axis=0)\n",
    "# var_nn_dir = [rename_dic_cols[v] for v in varn]"
   ]
  },
  {
   "cell_type": "code",
   "execution_count": 40,
   "metadata": {},
   "outputs": [],
   "source": [
    "df_err = df_err.rename(rename_dic_cols, axis=0)"
   ]
  },
  {
   "cell_type": "markdown",
   "metadata": {},
   "source": [
    "# Reorder and rename"
   ]
  },
  {
   "cell_type": "code",
   "execution_count": 41,
   "metadata": {},
   "outputs": [],
   "source": [
    "exps_ls = ['CO2', 'CH4', 'N2O', 'HC', 'NOx', 'VOC', 'SO2', 'OC', 'BC', 'NH3']"
   ]
  },
  {
   "cell_type": "code",
   "execution_count": 42,
   "metadata": {},
   "outputs": [],
   "source": [
    "tab_plt_dT = df_dt_sep.loc[::-1, var_dir]  # .rename(rename_dic_cat, axis=1).rename(rename_dic_cols, axis=0)\n",
    "tab_plt_dT = tab_plt_dT.loc[exps_ls]\n",
    "tab_plt_dT = tab_plt_dT.rename(rename_dic_cat, axis=1).rename(rename_dic_cols, axis=0)"
   ]
  },
  {
   "cell_type": "code",
   "execution_count": 43,
   "metadata": {},
   "outputs": [],
   "source": [
    "tab_plt_erf = df_erf_sep.loc[::-1, var_dir]  # .rename(rename_dic_cat, axis=1).rename(rename_dic_cols, axis=0)\n",
    "tab_plt_erf = tab_plt_erf.loc[exps_ls]\n",
    "tab_plt_erf = tab_plt_erf.rename(rename_dic_cat, axis=1).rename(rename_dic_cols, axis=0)\n",
    "tab_plt_erf = tab_plt_erf  # .T"
   ]
  },
  {
   "cell_type": "code",
   "execution_count": 44,
   "metadata": {},
   "outputs": [
    {
     "name": "stdout",
     "output_type": "stream",
     "text": [
      "(0.9568627450980393, 0.796078431372549, 0.21176470588235294)\n",
      "(0.8274509803921568, 0.0, 0.1568627450980392)\n",
      "(0.47843137254901963, 0.5058823529411764, 0.5058823529411764)\n",
      "(0.21568627450980393, 0.49411764705882355, 0.7215686274509804)\n",
      "(1.0, 0.4196078431372549, 0.07450980392156863)\n",
      "(0.5254901960784314, 0.7803921568627451, 0.29411764705882354)\n",
      "(0.47843137254901963, 0.5058823529411764, 0.5058823529411764)\n",
      "(0.792156862745098, 0.6980392156862745, 0.8392156862745098)\n",
      "(0.5607843137254902, 0.0, 0.6470588235294118)\n"
     ]
    }
   ],
   "source": [
    "cmap = get_cmap_dic(var_dir)\n",
    "col_ls = [cmap[c] for c in cmap.keys()]"
   ]
  },
  {
   "cell_type": "code",
   "execution_count": null,
   "metadata": {
    "lines_to_next_cell": 2
   },
   "outputs": [],
   "source": []
  },
  {
   "cell_type": "code",
   "execution_count": 45,
   "metadata": {},
   "outputs": [],
   "source": [
    "ybar = np.arange(len(tab_plt_erf.T) + 1)  # , -1)"
   ]
  },
  {
   "cell_type": "code",
   "execution_count": 46,
   "metadata": {},
   "outputs": [
    {
     "data": {
      "text/plain": [
       "Index(['Ammonia', 'Black carbon', 'Organic carbon', 'SO$_2$', 'NMVOC + CO',\n",
       "       'NO$_x$', 'CFC + HCFC + HFC', 'N$_2$O', 'CH$_4$', 'CO$_2$'],\n",
       "      dtype='object', name='emission_experiment')"
      ]
     },
     "execution_count": 46,
     "metadata": {},
     "output_type": "execute_result"
    }
   ],
   "source": [
    "index_order = tab_plt_dT[::-1].index\n",
    "index_order"
   ]
  },
  {
   "cell_type": "markdown",
   "metadata": {},
   "source": [
    "# Plot"
   ]
  },
  {
   "cell_type": "code",
   "execution_count": 47,
   "metadata": {},
   "outputs": [
    {
     "data": {
      "image/png": "[encoded data removed]",
      "text/plain": [
       "<Figure size 3000x1200 with 2 Axes>"
      ]
     },
     "metadata": {
      "needs_background": "light"
     },
     "output_type": "display_data"
    }
   ],
   "source": [
    "sns.set_style()\n",
    "fig, axs = plt.subplots(1, 2, dpi=300, figsize=[10, 4])  # , dpi=150)\n",
    "width = .8\n",
    "kws = {\n",
    "    'width': .8,\n",
    "    'linewidth': .1,\n",
    "    'edgecolor': 'k',\n",
    "\n",
    "}\n",
    "\n",
    "ax = axs[0]\n",
    "ax.axvline(x=0., color='k', linewidth=0.25)\n",
    "\n",
    "tab_plt_erf.reindex(index_order).plot.barh(stacked=True, color=col_ls, ax=ax, **kws)\n",
    "# tot = table['Total'][::-1]\n",
    "tot = tab_plt_erf.reindex(index_order).sum(axis=1)  # tab_plt\n",
    "xerr = df_err['95-50_period'].reindex(index_order)\n",
    "y = np.arange(len(tot))\n",
    "ax.errorbar(tot, y, xerr=xerr, marker='d', linestyle='None', color='k', label='Sum', )\n",
    "# ax.legend(frameon=False)\n",
    "ax.set_ylabel('')\n",
    "\n",
    "for lab, y in zip(index_order, ybar):\n",
    "    # plt.text(-1.55, ybar[i], species[i],  ha='left')#, va='left')\n",
    "    ax.text(-1.9, y - 0.1, lab, ha='left')  # , va='left')\n",
    "ax.set_title('Effective radiative forcing,  1750 to 2019')\n",
    "ax.set_xlabel(r'(W m$^{-2}$)')\n",
    "# ax.set_xlim(-1.5, 2.6)\n",
    "# plt.xlim(-1.6, 2.0)\n",
    "# sns.despine(fig, left=True, trim=True)\n",
    "ax.legend(loc='lower right', frameon=False)\n",
    "ax.set_yticks([])\n",
    "\n",
    "ax.get_legend().remove()\n",
    "\n",
    "ax.set_xticks(np.arange(-1.5, 2.1, .5))\n",
    "ax.set_xticks(np.arange(-1.5, 2, .1), minor=True)\n",
    "\n",
    "ax = axs[1]\n",
    "ax.axvline(x=0., color='k', linewidth=0.25)\n",
    "\n",
    "tab_plt_dT.reindex(index_order).plot.barh(stacked=True, color=col_ls, ax=ax, **kws)\n",
    "tot = tab_plt_dT.reindex(index_order).sum(axis=1)\n",
    "# xerr =0# df_err['95-50'][::-1]\n",
    "y = np.arange(len(tot))\n",
    "xerr_dT = err_dT[['p50-05', 'p95-50']].reindex(index_order).transpose().values\n",
    "ax.errorbar(tot, y,\n",
    "            xerr=xerr_dT,\n",
    "            # xerr=err_dT[['min 1 sigma','plus 1 sigma']].loc[tot.index].transpose().values,\n",
    "            marker='d', linestyle='None', color='k', label='Sum', )\n",
    "# ax.legend(frameon=False)\n",
    "ax.set_ylabel('')\n",
    "\n",
    "ax.set_title('Change in GSAT, 1750 to 2019')\n",
    "ax.set_xlabel(r'($^{\\circ}$C)')\n",
    "ax.set_xlim(-1.3, 1.8)\n",
    "\n",
    "sns.despine(fig, left=True, trim=True)\n",
    "ax.spines['bottom'].set_bounds(-1., 1.5)\n",
    "ax.legend(loc='lower right', frameon=False)\n",
    "\n",
    "ax.set_xticks(np.arange(-1, 2.1, .5))\n",
    "# ax.xaxis.set_major_locator(MultipleLocator(.5))\n",
    "\n",
    "ax.set_xticks(np.arange(-1, 1.6, .5))\n",
    "ax.set_xticks(np.arange(-1, 1.5, .1), minor=True)\n",
    "\n",
    "fn = output_name + '.png'\n",
    "fp = RESULTS_DIR / 'figures_historic_attribution_DT' / fn\n",
    "fp.parent.mkdir(parents=True, exist_ok=True)\n",
    "ax.set_yticks([])\n",
    "fig.tight_layout()\n",
    "plt.savefig(fp, dpi=300, bbox_inches='tight')\n",
    "plt.savefig(fp.with_suffix('.pdf'), dpi=300, bbox_inches='tight')\n",
    "plt.savefig(fp.with_suffix('.png'), dpi=300, bbox_inches='tight')\n",
    "plt.show()"
   ]
  },
  {
   "cell_type": "code",
   "execution_count": null,
   "metadata": {},
   "outputs": [],
   "source": []
  },
  {
   "cell_type": "code",
   "execution_count": 48,
   "metadata": {},
   "outputs": [
    {
     "data": {
      "text/plain": [
       "emission_experiment\n",
       "CO$_2$              2.057554\n",
       "CH$_4$              1.194509\n",
       "N$_2$O              0.240569\n",
       "CFC + HCFC + HFC    0.211366\n",
       "NO$_x$             -0.266546\n",
       "NMVOC + CO          0.440334\n",
       "SO$_2$             -0.938012\n",
       "Organic carbon     -0.209062\n",
       "Black carbon        0.107475\n",
       "Ammonia            -0.033769\n",
       "dtype: float64"
      ]
     },
     "execution_count": 48,
     "metadata": {},
     "output_type": "execute_result"
    }
   ],
   "source": [
    "tab_plt_erf.T.sum(axis=0)"
   ]
  },
  {
   "cell_type": "code",
   "execution_count": 49,
   "metadata": {},
   "outputs": [
    {
     "data": {
      "text/plain": [
       "emission_experiment\n",
       "CO$_2$              0.951383\n",
       "CH$_4$              0.595488\n",
       "N$_2$O              0.108457\n",
       "CFC + HCFC + HFC    0.101789\n",
       "NO$_x$             -0.136300\n",
       "NMVOC + CO          0.246752\n",
       "SO$_2$             -0.466545\n",
       "Organic carbon     -0.093395\n",
       "Black carbon        0.062687\n",
       "Ammonia            -0.016250\n",
       "dtype: float64"
      ]
     },
     "execution_count": 49,
     "metadata": {},
     "output_type": "execute_result"
    }
   ],
   "source": [
    "tab_plt_dT.sum(axis=1)"
   ]
  },
  {
   "cell_type": "code",
   "execution_count": 50,
   "metadata": {},
   "outputs": [
    {
     "data": {
      "text/plain": [
       "Carbon dioxide (CO$_2$)    0.999324\n",
       "N$_2$O                     0.098951\n",
       "CFC + HCFC                 0.193544\n",
       "HFC                        0.018775\n",
       "Methane (CH$_4$)           0.276136\n",
       "Ozone (O$_3$)              0.254145\n",
       "H$_2$O (strat)             0.025020\n",
       "Aerosol-radiation         -0.131829\n",
       "Aerosol-cloud             -0.380000\n",
       "dtype: float64"
      ]
     },
     "execution_count": 50,
     "metadata": {},
     "output_type": "execute_result"
    }
   ],
   "source": [
    "tab_plt_dT.sum()"
   ]
  },
  {
   "cell_type": "markdown",
   "metadata": {},
   "source": [
    "# Write vales to csv"
   ]
  },
  {
   "cell_type": "code",
   "execution_count": 51,
   "metadata": {},
   "outputs": [
    {
     "data": {
      "text/html": [
       "<div>\n",
       "<style scoped>\n",
       "    .dataframe tbody tr th:only-of-type {\n",
       "        vertical-align: middle;\n",
       "    }\n",
       "\n",
       "    .dataframe tbody tr th {\n",
       "        vertical-align: top;\n",
       "    }\n",
       "\n",
       "    .dataframe thead th {\n",
       "        text-align: right;\n",
       "    }\n",
       "</style>\n",
       "<table border=\"1\" class=\"dataframe\">\n",
       "  <thead>\n",
       "    <tr style=\"text-align: right;\">\n",
       "      <th></th>\n",
       "      <th>Carbon dioxide (CO$_2$)</th>\n",
       "      <th>N$_2$O</th>\n",
       "      <th>CFC + HCFC</th>\n",
       "      <th>HFC</th>\n",
       "      <th>Methane (CH$_4$)</th>\n",
       "      <th>Ozone (O$_3$)</th>\n",
       "      <th>H$_2$O (strat)</th>\n",
       "      <th>Aerosol-radiation</th>\n",
       "      <th>Aerosol-cloud</th>\n",
       "    </tr>\n",
       "    <tr>\n",
       "      <th>emission_experiment</th>\n",
       "      <th></th>\n",
       "      <th></th>\n",
       "      <th></th>\n",
       "      <th></th>\n",
       "      <th></th>\n",
       "      <th></th>\n",
       "      <th></th>\n",
       "      <th></th>\n",
       "      <th></th>\n",
       "    </tr>\n",
       "  </thead>\n",
       "  <tbody>\n",
       "    <tr>\n",
       "      <th>CO$_2$</th>\n",
       "      <td>2.057554</td>\n",
       "      <td>0.00</td>\n",
       "      <td>0.00</td>\n",
       "      <td>0.000000</td>\n",
       "      <td>0.000000</td>\n",
       "      <td>0.000000</td>\n",
       "      <td>0.00</td>\n",
       "      <td>0.000000</td>\n",
       "      <td>0.000000</td>\n",
       "    </tr>\n",
       "    <tr>\n",
       "      <th>CH$_4$</th>\n",
       "      <td>0.017549</td>\n",
       "      <td>0.00</td>\n",
       "      <td>0.00</td>\n",
       "      <td>0.000000</td>\n",
       "      <td>0.844457</td>\n",
       "      <td>0.266736</td>\n",
       "      <td>0.05</td>\n",
       "      <td>-0.002653</td>\n",
       "      <td>0.018421</td>\n",
       "    </tr>\n",
       "    <tr>\n",
       "      <th>N$_2$O</th>\n",
       "      <td>0.000000</td>\n",
       "      <td>0.21</td>\n",
       "      <td>0.00</td>\n",
       "      <td>0.000000</td>\n",
       "      <td>-0.035967</td>\n",
       "      <td>0.026124</td>\n",
       "      <td>0.00</td>\n",
       "      <td>-0.002090</td>\n",
       "      <td>0.042503</td>\n",
       "    </tr>\n",
       "    <tr>\n",
       "      <th>CFC + HCFC + HFC</th>\n",
       "      <td>0.000053</td>\n",
       "      <td>0.00</td>\n",
       "      <td>0.41</td>\n",
       "      <td>0.039772</td>\n",
       "      <td>-0.050927</td>\n",
       "      <td>-0.162033</td>\n",
       "      <td>0.00</td>\n",
       "      <td>-0.008080</td>\n",
       "      <td>-0.017419</td>\n",
       "    </tr>\n",
       "    <tr>\n",
       "      <th>NO$_x$</th>\n",
       "      <td>0.000000</td>\n",
       "      <td>0.00</td>\n",
       "      <td>0.00</td>\n",
       "      <td>0.000000</td>\n",
       "      <td>-0.380025</td>\n",
       "      <td>0.137102</td>\n",
       "      <td>0.00</td>\n",
       "      <td>-0.009166</td>\n",
       "      <td>-0.014458</td>\n",
       "    </tr>\n",
       "    <tr>\n",
       "      <th>NMVOC + CO</th>\n",
       "      <td>0.069491</td>\n",
       "      <td>0.00</td>\n",
       "      <td>0.00</td>\n",
       "      <td>0.000000</td>\n",
       "      <td>0.162462</td>\n",
       "      <td>0.202071</td>\n",
       "      <td>0.00</td>\n",
       "      <td>-0.002573</td>\n",
       "      <td>0.008884</td>\n",
       "    </tr>\n",
       "    <tr>\n",
       "      <th>SO$_2$</th>\n",
       "      <td>0.000000</td>\n",
       "      <td>0.00</td>\n",
       "      <td>0.00</td>\n",
       "      <td>0.000000</td>\n",
       "      <td>0.000000</td>\n",
       "      <td>0.000000</td>\n",
       "      <td>0.00</td>\n",
       "      <td>-0.234228</td>\n",
       "      <td>-0.703784</td>\n",
       "    </tr>\n",
       "    <tr>\n",
       "      <th>Organic carbon</th>\n",
       "      <td>0.000000</td>\n",
       "      <td>0.00</td>\n",
       "      <td>0.00</td>\n",
       "      <td>0.000000</td>\n",
       "      <td>0.000000</td>\n",
       "      <td>0.000000</td>\n",
       "      <td>0.00</td>\n",
       "      <td>-0.072143</td>\n",
       "      <td>-0.136919</td>\n",
       "    </tr>\n",
       "    <tr>\n",
       "      <th>Black carbon</th>\n",
       "      <td>0.000000</td>\n",
       "      <td>0.00</td>\n",
       "      <td>0.00</td>\n",
       "      <td>0.000000</td>\n",
       "      <td>0.000000</td>\n",
       "      <td>0.000000</td>\n",
       "      <td>0.00</td>\n",
       "      <td>0.144702</td>\n",
       "      <td>-0.037227</td>\n",
       "    </tr>\n",
       "    <tr>\n",
       "      <th>Ammonia</th>\n",
       "      <td>0.000000</td>\n",
       "      <td>0.00</td>\n",
       "      <td>0.00</td>\n",
       "      <td>0.000000</td>\n",
       "      <td>0.000000</td>\n",
       "      <td>0.000000</td>\n",
       "      <td>0.00</td>\n",
       "      <td>-0.033769</td>\n",
       "      <td>0.000000</td>\n",
       "    </tr>\n",
       "  </tbody>\n",
       "</table>\n",
       "</div>"
      ],
      "text/plain": [
       "                     Carbon dioxide (CO$_2$)  N$_2$O  CFC + HCFC       HFC  \\\n",
       "emission_experiment                                                          \n",
       "CO$_2$                              2.057554    0.00        0.00  0.000000   \n",
       "CH$_4$                              0.017549    0.00        0.00  0.000000   \n",
       "N$_2$O                              0.000000    0.21        0.00  0.000000   \n",
       "CFC + HCFC + HFC                    0.000053    0.00        0.41  0.039772   \n",
       "NO$_x$                              0.000000    0.00        0.00  0.000000   \n",
       "NMVOC + CO                          0.069491    0.00        0.00  0.000000   \n",
       "SO$_2$                              0.000000    0.00        0.00  0.000000   \n",
       "Organic carbon                      0.000000    0.00        0.00  0.000000   \n",
       "Black carbon                        0.000000    0.00        0.00  0.000000   \n",
       "Ammonia                             0.000000    0.00        0.00  0.000000   \n",
       "\n",
       "                     Methane (CH$_4$)  Ozone (O$_3$)  H$_2$O (strat)  \\\n",
       "emission_experiment                                                    \n",
       "CO$_2$                       0.000000       0.000000            0.00   \n",
       "CH$_4$                       0.844457       0.266736            0.05   \n",
       "N$_2$O                      -0.035967       0.026124            0.00   \n",
       "CFC + HCFC + HFC            -0.050927      -0.162033            0.00   \n",
       "NO$_x$                      -0.380025       0.137102            0.00   \n",
       "NMVOC + CO                   0.162462       0.202071            0.00   \n",
       "SO$_2$                       0.000000       0.000000            0.00   \n",
       "Organic carbon               0.000000       0.000000            0.00   \n",
       "Black carbon                 0.000000       0.000000            0.00   \n",
       "Ammonia                      0.000000       0.000000            0.00   \n",
       "\n",
       "                     Aerosol-radiation  Aerosol-cloud  \n",
       "emission_experiment                                    \n",
       "CO$_2$                        0.000000       0.000000  \n",
       "CH$_4$                       -0.002653       0.018421  \n",
       "N$_2$O                       -0.002090       0.042503  \n",
       "CFC + HCFC + HFC             -0.008080      -0.017419  \n",
       "NO$_x$                       -0.009166      -0.014458  \n",
       "NMVOC + CO                   -0.002573       0.008884  \n",
       "SO$_2$                       -0.234228      -0.703784  \n",
       "Organic carbon               -0.072143      -0.136919  \n",
       "Black carbon                  0.144702      -0.037227  \n",
       "Ammonia                      -0.033769       0.000000  "
      ]
     },
     "execution_count": 51,
     "metadata": {},
     "output_type": "execute_result"
    }
   ],
   "source": [
    "tab_plt_erf"
   ]
  },
  {
   "cell_type": "code",
   "execution_count": 52,
   "metadata": {},
   "outputs": [
    {
     "data": {
      "text/html": [
       "<div>\n",
       "<style scoped>\n",
       "    .dataframe tbody tr th:only-of-type {\n",
       "        vertical-align: middle;\n",
       "    }\n",
       "\n",
       "    .dataframe tbody tr th {\n",
       "        vertical-align: top;\n",
       "    }\n",
       "\n",
       "    .dataframe thead th {\n",
       "        text-align: right;\n",
       "    }\n",
       "</style>\n",
       "<table border=\"1\" class=\"dataframe\">\n",
       "  <thead>\n",
       "    <tr style=\"text-align: right;\">\n",
       "      <th></th>\n",
       "      <th>std</th>\n",
       "      <th>SE</th>\n",
       "      <th>95-50_SE</th>\n",
       "      <th>95-50</th>\n",
       "      <th>95-50_period</th>\n",
       "    </tr>\n",
       "    <tr>\n",
       "      <th>Species</th>\n",
       "      <th></th>\n",
       "      <th></th>\n",
       "      <th></th>\n",
       "      <th></th>\n",
       "      <th></th>\n",
       "    </tr>\n",
       "  </thead>\n",
       "  <tbody>\n",
       "    <tr>\n",
       "      <th>CO$_2$</th>\n",
       "      <td>0.246907</td>\n",
       "      <td>NaN</td>\n",
       "      <td>0.246907</td>\n",
       "      <td>0.246907</td>\n",
       "      <td>0.246907</td>\n",
       "    </tr>\n",
       "    <tr>\n",
       "      <th>CH$_4$</th>\n",
       "      <td>0.236538</td>\n",
       "      <td>0.083629</td>\n",
       "      <td>0.137569</td>\n",
       "      <td>0.389105</td>\n",
       "      <td>0.389105</td>\n",
       "    </tr>\n",
       "    <tr>\n",
       "      <th>N$_2$O</th>\n",
       "      <td>0.061736</td>\n",
       "      <td>0.027609</td>\n",
       "      <td>0.045417</td>\n",
       "      <td>0.101555</td>\n",
       "      <td>0.101555</td>\n",
       "    </tr>\n",
       "    <tr>\n",
       "      <th>CFC + HCFC + HFC</th>\n",
       "      <td>0.116583</td>\n",
       "      <td>0.047595</td>\n",
       "      <td>0.078293</td>\n",
       "      <td>0.191779</td>\n",
       "      <td>0.191779</td>\n",
       "    </tr>\n",
       "    <tr>\n",
       "      <th>NO$_x$</th>\n",
       "      <td>0.170036</td>\n",
       "      <td>0.076043</td>\n",
       "      <td>0.125090</td>\n",
       "      <td>0.279710</td>\n",
       "      <td>0.279710</td>\n",
       "    </tr>\n",
       "    <tr>\n",
       "      <th>NMVOC + CO</th>\n",
       "      <td>0.136683</td>\n",
       "      <td>0.061127</td>\n",
       "      <td>0.100553</td>\n",
       "      <td>0.224844</td>\n",
       "      <td>0.224844</td>\n",
       "    </tr>\n",
       "    <tr>\n",
       "      <th>SO$_2$</th>\n",
       "      <td>0.419710</td>\n",
       "      <td>0.171346</td>\n",
       "      <td>0.281864</td>\n",
       "      <td>0.690423</td>\n",
       "      <td>0.690423</td>\n",
       "    </tr>\n",
       "    <tr>\n",
       "      <th>Organic carbon</th>\n",
       "      <td>0.139932</td>\n",
       "      <td>0.057127</td>\n",
       "      <td>0.093974</td>\n",
       "      <td>0.230188</td>\n",
       "      <td>0.230188</td>\n",
       "    </tr>\n",
       "    <tr>\n",
       "      <th>Black carbon</th>\n",
       "      <td>0.187990</td>\n",
       "      <td>0.071053</td>\n",
       "      <td>0.116883</td>\n",
       "      <td>0.309243</td>\n",
       "      <td>0.309243</td>\n",
       "    </tr>\n",
       "    <tr>\n",
       "      <th>Ammonia</th>\n",
       "      <td>0.004824</td>\n",
       "      <td>0.003411</td>\n",
       "      <td>0.005611</td>\n",
       "      <td>0.007936</td>\n",
       "      <td>0.007936</td>\n",
       "    </tr>\n",
       "  </tbody>\n",
       "</table>\n",
       "</div>"
      ],
      "text/plain": [
       "                       std        SE  95-50_SE     95-50  95-50_period\n",
       "Species                                                               \n",
       "CO$_2$            0.246907       NaN  0.246907  0.246907      0.246907\n",
       "CH$_4$            0.236538  0.083629  0.137569  0.389105      0.389105\n",
       "N$_2$O            0.061736  0.027609  0.045417  0.101555      0.101555\n",
       "CFC + HCFC + HFC  0.116583  0.047595  0.078293  0.191779      0.191779\n",
       "NO$_x$            0.170036  0.076043  0.125090  0.279710      0.279710\n",
       "NMVOC + CO        0.136683  0.061127  0.100553  0.224844      0.224844\n",
       "SO$_2$            0.419710  0.171346  0.281864  0.690423      0.690423\n",
       "Organic carbon    0.139932  0.057127  0.093974  0.230188      0.230188\n",
       "Black carbon      0.187990  0.071053  0.116883  0.309243      0.309243\n",
       "Ammonia           0.004824  0.003411  0.005611  0.007936      0.007936"
      ]
     },
     "execution_count": 52,
     "metadata": {},
     "output_type": "execute_result"
    }
   ],
   "source": [
    "df_err"
   ]
  },
  {
   "cell_type": "markdown",
   "metadata": {},
   "source": [
    "fn = output_name + '_values_ERF.csv'\n",
    "fp = RESULTS_DIR / 'figures_historic_attribution_DT' / fn\n",
    "tab_plt_erf.to_csv(fp)\n",
    "\n",
    "fn = output_name + '_values_ERF_uncertainty.csv'\n",
    "fp = RESULTS_DIR / 'figures_historic_attribution_DT' / fn\n",
    "df_err.to_csv(fp)\n",
    "\n",
    "fn = output_name + '_values_dT.csv'\n",
    "fp = RESULTS_DIR / 'figures_historic_attribution_DT' / fn\n",
    "tab_plt_dT.to_csv(fp)\n",
    "\n",
    "fn = output_name + '_values_dT_uncertainty.csv'\n",
    "fp = RESULTS_DIR / 'figures_historic_attribution_DT' / fn\n",
    "err_dT.to_csv(fp)"
   ]
  },
  {
   "cell_type": "code",
   "execution_count": 53,
   "metadata": {},
   "outputs": [],
   "source": [
    "from ar6_ch6_rcmipfigs.utils.badc_csv import write_badc_header"
   ]
  },
  {
   "cell_type": "markdown",
   "metadata": {},
   "source": [
    "### Write plotted data to file"
   ]
  },
  {
   "cell_type": "code",
   "execution_count": 54,
   "metadata": {},
   "outputs": [],
   "source": [
    "dic_head = dict(\n",
    "    title='Data for Figure 6.12, emission based ERF and warming for the historical period',\n",
    "    last_revised_date='2021-06-29',\n",
    "    location='global',\n",
    "    reference='https://github.com/sarambl/AR6_CH6_RCMIPFIGS/',\n",
    "    source='IPCC AR6 output',\n",
    "    creator='Sara Marie Blichner (s.m.blichner@geo.uio.no)',\n",
    "\n",
    ")\n",
    "add_global_comments = [\n",
    "    ['comments', 'G', 'This data is based on various input datasets,'],\n",
    "    ['comments', 'G', 'please see https://github.com/sarambl/AR6_CH6_RCMIPFIGS for methods'],\n",
    "]\n",
    "\n",
    "\n",
    "def get_add_global_from_dic(_dic_head):\n",
    "    add_global = [[key, 'G', _dic_head[key]] for key in _dic_head.keys()]\n",
    "    add_global = add_global + add_global_comments\n",
    "    return add_global\n",
    "\n",
    "\n",
    "path_header_def = BASE_DIR / 'misc/header_empty.csv'\n",
    "path_header_def.exists()\n",
    "\n",
    "\n",
    "def to_csv_w_header(df, var_name, perc, _ref_year, end_year, fn, \n",
    "                   unit):\n",
    "    fn_out = RESULTS_DIR / fn\n",
    "    df_out = df.rename(rn_dic_cat_o, axis=1)\n",
    "    df_out  = df_out.rename(rn_dic_cols_o)\n",
    "    df_out.to_csv(fn_out)\n",
    "\n",
    "    dic_head['title'] = get_title(perc, var_name)\n",
    "\n",
    "    add_global = get_add_global_from_dic(dic_head)\n",
    "\n",
    "    write_badc_header(fn_out, fn_out, add_global, default_unit=unit,\n",
    "                      fp_global_default=path_header_def,\n",
    "                      fp_var_default=path_header_def)\n",
    "\n",
    "def get_title(perc,var):\n",
    "    if perc == 'mean':\n",
    "        txt = f'Data for Figure 6.12,  emission based {var} for the historical period'\n",
    "    else:\n",
    "        txt = f'Data for Figure 6.12, uncertainty in emission based {var} and warming for the historical period'\n",
    "    \n",
    "    return txt\n",
    "\n"
   ]
  },
  {
   "cell_type": "code",
   "execution_count": 55,
   "metadata": {},
   "outputs": [],
   "source": [
    "fn = output_name + '_values_ERF.csv'\n",
    "fp = RESULTS_DIR / 'figures_historic_attribution_DT' / fn\n",
    "\n",
    "to_csv_w_header(tab_plt_erf, 'ERF', 'mean', '', '', fp, \n",
    "                   'W/m2')\n",
    "\n",
    "fn = output_name + '_values_ERF_uncertainty.csv'\n",
    "fp = RESULTS_DIR / 'figures_historic_attribution_DT' / fn\n",
    "df_err.to_csv(fp)\n",
    "to_csv_w_header(df_err, 'ERF', 'uncertainty', '', '', fp, \n",
    "                   'W/m2')\n",
    "\n",
    "fn = output_name + '_values_dT.csv'\n",
    "fp = RESULTS_DIR / 'figures_historic_attribution_DT' / fn\n",
    "to_csv_w_header(tab_plt_dT, 'warming', 'mean', '', '', fp, \n",
    "                   'degrees C')\n",
    "\n",
    "fn = output_name + '_values_dT_uncertainty.csv'\n",
    "fp = RESULTS_DIR / 'figures_historic_attribution_DT' / fn\n",
    "to_csv_w_header(err_dT, 'warming', 'uncertainty', '', '', fp, \n",
    "                   'degrees C')"
   ]
  },
  {
   "cell_type": "code",
   "execution_count": null,
   "metadata": {},
   "outputs": [],
   "source": []
  }
 ],
 "metadata": {
  "jupytext": {
   "encoding": "# -*- coding: utf-8 -*-",
   "formats": "ipynb,py:percent"
  },
  "kernelspec": {
   "display_name": "Python 3 (ipykernel)",
   "language": "python",
   "name": "python3"
  },
  "language_info": {
   "codemirror_mode": {
    "name": "ipython",
    "version": 3
   },
   "file_extension": ".py",
   "mimetype": "text/x-python",
   "name": "python",
   "nbconvert_exporter": "python",
   "pygments_lexer": "ipython3",
   "version": "3.7.10"
  }
 },
 "nbformat": 4,
 "nbformat_minor": 4
}
