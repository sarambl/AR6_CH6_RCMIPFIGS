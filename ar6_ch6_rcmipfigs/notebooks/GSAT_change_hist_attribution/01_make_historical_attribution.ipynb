{
 "cells": [
  {
   "cell_type": "markdown",
   "metadata": {
    "lines_to_next_cell": 0,
    "tags": []
   },
   "source": [
    "## Make plot ERF 2019\n",
    "\n",
    "\n",
    "This script uses code produced by Bill Collins to produce an emission based estimate of ERF in 2019 vs 1750 based on Thornhill et al 2021. \n",
    "\n",
    "\n",
    "Thornhill, Gillian D., William J. Collins, Ryan J. Kramer, Dirk Olivié, Ragnhild B. Skeie, Fiona M. O’Connor, Nathan Luke Abraham, et al. “Effective Radiative Forcing from Emissions of Reactive Gases and Aerosols – a Multi-Model Comparison.” Atmospheric Chemistry and Physics 21, no. 2 (January 21, 2021): 853–74. https://doi.org/10.5194/acp-21-853-2021."
   ]
  },
  {
   "cell_type": "code",
   "execution_count": 1,
   "metadata": {
    "lines_to_next_cell": 0,
    "tags": []
   },
   "outputs": [],
   "source": [
    "import matplotlib.pyplot as plt\n",
    "import numpy as np"
   ]
  },
  {
   "cell_type": "code",
   "execution_count": 2,
   "metadata": {},
   "outputs": [
    {
     "name": "stdout",
     "output_type": "stream",
     "text": [
      "/Users/sarablichner/science/PHD/IPCC/public/AR6_CH6_RCMIPFIGSv2/ar6_ch6_rcmipfigs\n",
      "/Users/sarablichner/science/PHD/IPCC/public/AR6_CH6_RCMIPFIGSv2/ar6_ch6_rcmipfigs/data_in\n"
     ]
    }
   ],
   "source": [
    "import pandas as pd\n",
    "\n",
    "from ar6_ch6_rcmipfigs.constants import RESULTS_DIR, INPUT_DATA_DIR_BADC"
   ]
  },
  {
   "cell_type": "markdown",
   "metadata": {},
   "source": [
    "### Output filenames."
   ]
  },
  {
   "cell_type": "code",
   "execution_count": 3,
   "metadata": {
    "lines_to_next_cell": 2
   },
   "outputs": [],
   "source": [
    "# standard deviation filename:\n",
    "fn_sd = RESULTS_DIR / 'tables_historic_attribution/table_uncertainties_smb_plt.csv'\n",
    "# mean filename\n",
    "fn_mean = RESULTS_DIR / 'tables_historic_attribution/table_mean_smb_plt.csv'"
   ]
  },
  {
   "cell_type": "markdown",
   "metadata": {},
   "source": [
    "## Get tables from script from Bill"
   ]
  },
  {
   "cell_type": "code",
   "execution_count": 4,
   "metadata": {
    "tags": []
   },
   "outputs": [
    {
     "data": {
      "application/javascript": [
       "IPython.OutputArea.prototype._should_scroll = function(lines) { return false; }"
      ],
      "text/plain": [
       "<IPython.core.display.Javascript object>"
      ]
     },
     "metadata": {},
     "output_type": "display_data"
    }
   ],
   "source": [
    "from ar6_ch6_rcmipfigs.notebooks.GSAT_change_hist_attribution.utils_hist_att import attribution_1750_2019_newBC_smb"
   ]
  },
  {
   "cell_type": "code",
   "execution_count": 5,
   "metadata": {},
   "outputs": [
    {
     "name": "stderr",
     "output_type": "stream",
     "text": [
      "/Users/sarablichner/science/PHD/IPCC/public/AR6_CH6_RCMIPFIGSv2/ar6_ch6_rcmipfigs/notebooks/GSAT_change_hist_attribution/utils_hist_att/attribution_1750_2019_newBC_smb.py:91: RuntimeWarning: invalid value encountered in true_divide\n",
      "  ch4_sd = (ch4-ch4_2014)*lifech4_sd/lifech4\n",
      "/Users/sarablichner/science/PHD/IPCC/public/AR6_CH6_RCMIPFIGSv2/ar6_ch6_rcmipfigs/notebooks/GSAT_change_hist_attribution/utils_hist_att/attribution_1750_2019_newBC_smb.py:105: FutureWarning: Using a non-tuple sequence for multidimensional indexing is deprecated; use `arr[tuple(seq)]` instead of `arr[seq]`. In the future this will be interpreted as an array index, `arr[np.array(seq)]`, which will result either in an error or a different result.\n",
      "  rfo3_prime_sd[i_ch4] = np.sqrt(np.sum(np.square(rfo3_prime_sd[[i_non_ch4]])))\n",
      "/Users/sarablichner/science/PHD/IPCC/public/AR6_CH6_RCMIPFIGSv2/ar6_ch6_rcmipfigs/notebooks/GSAT_change_hist_attribution/utils_hist_att/attribution_1750_2019_newBC_smb.py:120: FutureWarning: Using a non-tuple sequence for multidimensional indexing is deprecated; use `arr[tuple(seq)]` instead of `arr[seq]`. In the future this will be interpreted as an array index, `arr[np.array(seq)]`, which will result either in an error or a different result.\n",
      "  rfch4_sd[i_ch4] = np.sqrt(np.sum(np.square(rfch4_sd[[i_non_ch4]])))\n"
     ]
    },
    {
     "data": {
      "image/png": "[encoded data removed]",
      "text/plain": [
       "<Figure size 432x288 with 1 Axes>"
      ]
     },
     "metadata": {
      "needs_background": "light"
     },
     "output_type": "display_data"
    }
   ],
   "source": [
    "table, table_sd = attribution_1750_2019_newBC_smb.main(plot=True)"
   ]
  },
  {
   "cell_type": "code",
   "execution_count": 6,
   "metadata": {},
   "outputs": [
    {
     "data": {
      "text/plain": [
       "CO2             2.144647e+00\n",
       "GHG             1.160000e+00\n",
       "CH4_lifetime    2.775558e-17\n",
       "O3              4.700000e-01\n",
       "O3_prime       -2.081668e-17\n",
       "Strat_H2O       5.000000e-02\n",
       "Aerosol        -2.200000e-01\n",
       "Cloud          -8.037083e-01\n",
       "Total           2.800939e+00\n",
       "dtype: float64"
      ]
     },
     "execution_count": 6,
     "metadata": {},
     "output_type": "execute_result"
    }
   ],
   "source": [
    "table.sum()#_sd"
   ]
  },
  {
   "cell_type": "code",
   "execution_count": null,
   "metadata": {},
   "outputs": [],
   "source": []
  },
  {
   "cell_type": "markdown",
   "metadata": {},
   "source": [
    "## Make one category with both CH4 from emissions and change in lifetime "
   ]
  },
  {
   "cell_type": "code",
   "execution_count": 7,
   "metadata": {},
   "outputs": [],
   "source": [
    "ch4_ghg_old = table.loc['CH4','GHG']\n",
    "ch4_lftime_old = table.loc['CH4','CH4_lifetime']\n",
    "\n",
    "table.loc['CH4','CH4_lifetime'] = ch4_lftime_old + ch4_ghg_old\n",
    "table.loc['CH4','GHG'] = 0."
   ]
  },
  {
   "cell_type": "markdown",
   "metadata": {},
   "source": [
    "## Scale cloud forcing to fit mest estimate 0.84"
   ]
  },
  {
   "cell_type": "code",
   "execution_count": 8,
   "metadata": {
    "lines_to_next_cell": 2
   },
   "outputs": [
    {
     "data": {
      "text/plain": [
       "CO2             2.144647e+00\n",
       "GHG             6.200000e-01\n",
       "CH4_lifetime    5.400000e-01\n",
       "O3              4.700000e-01\n",
       "O3_prime       -2.081668e-17\n",
       "Strat_H2O       5.000000e-02\n",
       "Aerosol        -2.200000e-01\n",
       "Cloud          -8.400000e-01\n",
       "Total           2.800939e+00\n",
       "dtype: float64"
      ]
     },
     "execution_count": 8,
     "metadata": {},
     "output_type": "execute_result"
    }
   ],
   "source": [
    "table_c = table.copy()\n",
    "correct_cloud_forcing = - 0.84\n",
    "scale_fac = correct_cloud_forcing/table.sum()['Cloud']\n",
    "table_c['Cloud']=scale_fac*table['Cloud']\n",
    "table_c.sum()"
   ]
  },
  {
   "cell_type": "markdown",
   "metadata": {},
   "source": [
    "## Add together O3 primary and O3"
   ]
  },
  {
   "cell_type": "code",
   "execution_count": 9,
   "metadata": {},
   "outputs": [],
   "source": [
    "o3_sum = table_c['O3']+table_c['O3_prime']\n",
    "tab2 = table_c.copy(deep=True).drop(['O3','O3_prime','Total'], axis=1)\n",
    "tab2['O3'] = o3_sum"
   ]
  },
  {
   "cell_type": "markdown",
   "metadata": {},
   "source": [
    "## Replace GHG with N2O and HC"
   ]
  },
  {
   "cell_type": "code",
   "execution_count": 10,
   "metadata": {},
   "outputs": [
    {
     "data": {
      "text/html": [
       "<div>\n",
       "<style scoped>\n",
       "    .dataframe tbody tr th:only-of-type {\n",
       "        vertical-align: middle;\n",
       "    }\n",
       "\n",
       "    .dataframe tbody tr th {\n",
       "        vertical-align: top;\n",
       "    }\n",
       "\n",
       "    .dataframe thead th {\n",
       "        text-align: right;\n",
       "    }\n",
       "</style>\n",
       "<table border=\"1\" class=\"dataframe\">\n",
       "  <thead>\n",
       "    <tr style=\"text-align: right;\">\n",
       "      <th></th>\n",
       "      <th>CO2</th>\n",
       "      <th>CH4_lifetime</th>\n",
       "      <th>Strat_H2O</th>\n",
       "      <th>Aerosol</th>\n",
       "      <th>Cloud</th>\n",
       "      <th>O3</th>\n",
       "      <th>HC</th>\n",
       "      <th>N2O</th>\n",
       "    </tr>\n",
       "    <tr>\n",
       "      <th>Species</th>\n",
       "      <th></th>\n",
       "      <th></th>\n",
       "      <th></th>\n",
       "      <th></th>\n",
       "      <th></th>\n",
       "      <th></th>\n",
       "      <th></th>\n",
       "      <th></th>\n",
       "    </tr>\n",
       "  </thead>\n",
       "  <tbody>\n",
       "    <tr>\n",
       "      <th>CO2</th>\n",
       "      <td>2.057554</td>\n",
       "      <td>0.000000</td>\n",
       "      <td>0.00</td>\n",
       "      <td>0.000000</td>\n",
       "      <td>0.000000</td>\n",
       "      <td>0.000000</td>\n",
       "      <td>0.00</td>\n",
       "      <td>0.00</td>\n",
       "    </tr>\n",
       "    <tr>\n",
       "      <th>CH4</th>\n",
       "      <td>0.017549</td>\n",
       "      <td>0.844457</td>\n",
       "      <td>0.05</td>\n",
       "      <td>-0.002653</td>\n",
       "      <td>0.018421</td>\n",
       "      <td>0.266736</td>\n",
       "      <td>0.00</td>\n",
       "      <td>0.00</td>\n",
       "    </tr>\n",
       "    <tr>\n",
       "      <th>N2O</th>\n",
       "      <td>0.000000</td>\n",
       "      <td>-0.035967</td>\n",
       "      <td>0.00</td>\n",
       "      <td>-0.002090</td>\n",
       "      <td>0.042503</td>\n",
       "      <td>0.026124</td>\n",
       "      <td>0.00</td>\n",
       "      <td>0.21</td>\n",
       "    </tr>\n",
       "    <tr>\n",
       "      <th>HC</th>\n",
       "      <td>0.000053</td>\n",
       "      <td>-0.050927</td>\n",
       "      <td>0.00</td>\n",
       "      <td>-0.008080</td>\n",
       "      <td>-0.017419</td>\n",
       "      <td>-0.162033</td>\n",
       "      <td>0.41</td>\n",
       "      <td>0.00</td>\n",
       "    </tr>\n",
       "    <tr>\n",
       "      <th>NOx</th>\n",
       "      <td>0.000000</td>\n",
       "      <td>-0.380025</td>\n",
       "      <td>0.00</td>\n",
       "      <td>-0.009166</td>\n",
       "      <td>-0.014458</td>\n",
       "      <td>0.137102</td>\n",
       "      <td>0.00</td>\n",
       "      <td>0.00</td>\n",
       "    </tr>\n",
       "    <tr>\n",
       "      <th>VOC</th>\n",
       "      <td>0.069491</td>\n",
       "      <td>0.162462</td>\n",
       "      <td>0.00</td>\n",
       "      <td>-0.002573</td>\n",
       "      <td>0.008884</td>\n",
       "      <td>0.202071</td>\n",
       "      <td>0.00</td>\n",
       "      <td>0.00</td>\n",
       "    </tr>\n",
       "    <tr>\n",
       "      <th>SO2</th>\n",
       "      <td>0.000000</td>\n",
       "      <td>0.000000</td>\n",
       "      <td>0.00</td>\n",
       "      <td>-0.234228</td>\n",
       "      <td>-0.703784</td>\n",
       "      <td>0.000000</td>\n",
       "      <td>0.00</td>\n",
       "      <td>0.00</td>\n",
       "    </tr>\n",
       "    <tr>\n",
       "      <th>OC</th>\n",
       "      <td>0.000000</td>\n",
       "      <td>0.000000</td>\n",
       "      <td>0.00</td>\n",
       "      <td>-0.072143</td>\n",
       "      <td>-0.136919</td>\n",
       "      <td>0.000000</td>\n",
       "      <td>0.00</td>\n",
       "      <td>0.00</td>\n",
       "    </tr>\n",
       "    <tr>\n",
       "      <th>BC</th>\n",
       "      <td>0.000000</td>\n",
       "      <td>0.000000</td>\n",
       "      <td>0.00</td>\n",
       "      <td>0.144702</td>\n",
       "      <td>-0.037227</td>\n",
       "      <td>0.000000</td>\n",
       "      <td>0.00</td>\n",
       "      <td>0.00</td>\n",
       "    </tr>\n",
       "    <tr>\n",
       "      <th>NH3</th>\n",
       "      <td>0.000000</td>\n",
       "      <td>0.000000</td>\n",
       "      <td>0.00</td>\n",
       "      <td>-0.033769</td>\n",
       "      <td>0.000000</td>\n",
       "      <td>0.000000</td>\n",
       "      <td>0.00</td>\n",
       "      <td>0.00</td>\n",
       "    </tr>\n",
       "  </tbody>\n",
       "</table>\n",
       "</div>"
      ],
      "text/plain": [
       "              CO2  CH4_lifetime  Strat_H2O   Aerosol     Cloud        O3  \\\n",
       "Species                                                                    \n",
       "CO2      2.057554      0.000000       0.00  0.000000  0.000000  0.000000   \n",
       "CH4      0.017549      0.844457       0.05 -0.002653  0.018421  0.266736   \n",
       "N2O      0.000000     -0.035967       0.00 -0.002090  0.042503  0.026124   \n",
       "HC       0.000053     -0.050927       0.00 -0.008080 -0.017419 -0.162033   \n",
       "NOx      0.000000     -0.380025       0.00 -0.009166 -0.014458  0.137102   \n",
       "VOC      0.069491      0.162462       0.00 -0.002573  0.008884  0.202071   \n",
       "SO2      0.000000      0.000000       0.00 -0.234228 -0.703784  0.000000   \n",
       "OC       0.000000      0.000000       0.00 -0.072143 -0.136919  0.000000   \n",
       "BC       0.000000      0.000000       0.00  0.144702 -0.037227  0.000000   \n",
       "NH3      0.000000      0.000000       0.00 -0.033769  0.000000  0.000000   \n",
       "\n",
       "           HC   N2O  \n",
       "Species              \n",
       "CO2      0.00  0.00  \n",
       "CH4      0.00  0.00  \n",
       "N2O      0.00  0.21  \n",
       "HC       0.41  0.00  \n",
       "NOx      0.00  0.00  \n",
       "VOC      0.00  0.00  \n",
       "SO2      0.00  0.00  \n",
       "OC       0.00  0.00  \n",
       "BC       0.00  0.00  \n",
       "NH3      0.00  0.00  "
      ]
     },
     "execution_count": 10,
     "metadata": {},
     "output_type": "execute_result"
    }
   ],
   "source": [
    "table_ed = tab2.copy(deep=True)\n",
    "_ghg = tab2.loc['HC','GHG']\n",
    "table_ed.loc['HC','GHG'] = 0\n",
    "table_ed['HC'] = 0\n",
    "table_ed.loc['HC','HC']=_ghg\n",
    "table_ed\n",
    "_ghg = tab2.loc['N2O','GHG']\n",
    "table_ed.loc['N2O','GHG'] = 0\n",
    "table_ed['N2O']=0\n",
    "table_ed.loc['N2O','N2O']=_ghg\n",
    "table_ed = table_ed.drop('GHG', axis=1)\n",
    "table_ed"
   ]
  },
  {
   "cell_type": "markdown",
   "metadata": {},
   "source": [
    " No need to fix std because we only use the total (which is not influenced by the summation above). "
   ]
  },
  {
   "cell_type": "code",
   "execution_count": 11,
   "metadata": {},
   "outputs": [
    {
     "data": {
      "text/html": [
       "<div>\n",
       "<style scoped>\n",
       "    .dataframe tbody tr th:only-of-type {\n",
       "        vertical-align: middle;\n",
       "    }\n",
       "\n",
       "    .dataframe tbody tr th {\n",
       "        vertical-align: top;\n",
       "    }\n",
       "\n",
       "    .dataframe thead th {\n",
       "        text-align: right;\n",
       "    }\n",
       "</style>\n",
       "<table border=\"1\" class=\"dataframe\">\n",
       "  <thead>\n",
       "    <tr style=\"text-align: right;\">\n",
       "      <th></th>\n",
       "      <th>CO2_sd</th>\n",
       "      <th>GHG_sd</th>\n",
       "      <th>CH4_lifetime_sd</th>\n",
       "      <th>O3_sd</th>\n",
       "      <th>O3_prime_sd</th>\n",
       "      <th>Strat_H2O_sd</th>\n",
       "      <th>Aerosol_sd</th>\n",
       "      <th>Cloud_sd</th>\n",
       "      <th>Total_sd</th>\n",
       "    </tr>\n",
       "    <tr>\n",
       "      <th>Species</th>\n",
       "      <th></th>\n",
       "      <th></th>\n",
       "      <th></th>\n",
       "      <th></th>\n",
       "      <th></th>\n",
       "      <th></th>\n",
       "      <th></th>\n",
       "      <th></th>\n",
       "      <th></th>\n",
       "    </tr>\n",
       "  </thead>\n",
       "  <tbody>\n",
       "    <tr>\n",
       "      <th>CO2</th>\n",
       "      <td>0.246907</td>\n",
       "      <td>0.0000</td>\n",
       "      <td>0.000000</td>\n",
       "      <td>0.000000</td>\n",
       "      <td>0.000000</td>\n",
       "      <td>0.00</td>\n",
       "      <td>0.000000</td>\n",
       "      <td>0.000000</td>\n",
       "      <td>0.246907</td>\n",
       "    </tr>\n",
       "    <tr>\n",
       "      <th>CH4</th>\n",
       "      <td>0.002106</td>\n",
       "      <td>0.0756</td>\n",
       "      <td>0.123938</td>\n",
       "      <td>0.036693</td>\n",
       "      <td>0.034401</td>\n",
       "      <td>0.05</td>\n",
       "      <td>0.002197</td>\n",
       "      <td>0.092581</td>\n",
       "      <td>0.236538</td>\n",
       "    </tr>\n",
       "    <tr>\n",
       "      <th>N2O</th>\n",
       "      <td>0.000000</td>\n",
       "      <td>0.0294</td>\n",
       "      <td>0.028548</td>\n",
       "      <td>0.015462</td>\n",
       "      <td>0.003236</td>\n",
       "      <td>0.00</td>\n",
       "      <td>0.002021</td>\n",
       "      <td>0.042169</td>\n",
       "      <td>0.061736</td>\n",
       "    </tr>\n",
       "    <tr>\n",
       "      <th>HC</th>\n",
       "      <td>0.000006</td>\n",
       "      <td>0.0574</td>\n",
       "      <td>0.032639</td>\n",
       "      <td>0.077735</td>\n",
       "      <td>0.004558</td>\n",
       "      <td>0.00</td>\n",
       "      <td>0.001971</td>\n",
       "      <td>0.049554</td>\n",
       "      <td>0.116583</td>\n",
       "    </tr>\n",
       "    <tr>\n",
       "      <th>NOx</th>\n",
       "      <td>0.000000</td>\n",
       "      <td>0.0000</td>\n",
       "      <td>0.107711</td>\n",
       "      <td>0.088303</td>\n",
       "      <td>0.030102</td>\n",
       "      <td>0.00</td>\n",
       "      <td>0.004543</td>\n",
       "      <td>0.057188</td>\n",
       "      <td>0.170036</td>\n",
       "    </tr>\n",
       "    <tr>\n",
       "      <th>VOC</th>\n",
       "      <td>0.008339</td>\n",
       "      <td>0.0000</td>\n",
       "      <td>0.059041</td>\n",
       "      <td>0.057143</td>\n",
       "      <td>0.015687</td>\n",
       "      <td>0.00</td>\n",
       "      <td>0.005065</td>\n",
       "      <td>0.098979</td>\n",
       "      <td>0.136683</td>\n",
       "    </tr>\n",
       "    <tr>\n",
       "      <th>SO2</th>\n",
       "      <td>0.000000</td>\n",
       "      <td>0.0000</td>\n",
       "      <td>0.000000</td>\n",
       "      <td>0.000000</td>\n",
       "      <td>0.000000</td>\n",
       "      <td>0.00</td>\n",
       "      <td>0.223907</td>\n",
       "      <td>0.354996</td>\n",
       "      <td>0.419710</td>\n",
       "    </tr>\n",
       "    <tr>\n",
       "      <th>OC</th>\n",
       "      <td>0.000000</td>\n",
       "      <td>0.0000</td>\n",
       "      <td>0.000000</td>\n",
       "      <td>0.000000</td>\n",
       "      <td>0.000000</td>\n",
       "      <td>0.00</td>\n",
       "      <td>0.065461</td>\n",
       "      <td>0.123676</td>\n",
       "      <td>0.139932</td>\n",
       "    </tr>\n",
       "    <tr>\n",
       "      <th>BC</th>\n",
       "      <td>0.000000</td>\n",
       "      <td>0.0000</td>\n",
       "      <td>0.000000</td>\n",
       "      <td>0.000000</td>\n",
       "      <td>0.000000</td>\n",
       "      <td>0.00</td>\n",
       "      <td>0.158984</td>\n",
       "      <td>0.100321</td>\n",
       "      <td>0.187990</td>\n",
       "    </tr>\n",
       "    <tr>\n",
       "      <th>NH3</th>\n",
       "      <td>0.000000</td>\n",
       "      <td>0.0000</td>\n",
       "      <td>0.000000</td>\n",
       "      <td>0.000000</td>\n",
       "      <td>0.000000</td>\n",
       "      <td>0.00</td>\n",
       "      <td>0.004824</td>\n",
       "      <td>0.000000</td>\n",
       "      <td>0.004824</td>\n",
       "    </tr>\n",
       "  </tbody>\n",
       "</table>\n",
       "</div>"
      ],
      "text/plain": [
       "           CO2_sd  GHG_sd  CH4_lifetime_sd     O3_sd  O3_prime_sd  \\\n",
       "Species                                                             \n",
       "CO2      0.246907  0.0000         0.000000  0.000000     0.000000   \n",
       "CH4      0.002106  0.0756         0.123938  0.036693     0.034401   \n",
       "N2O      0.000000  0.0294         0.028548  0.015462     0.003236   \n",
       "HC       0.000006  0.0574         0.032639  0.077735     0.004558   \n",
       "NOx      0.000000  0.0000         0.107711  0.088303     0.030102   \n",
       "VOC      0.008339  0.0000         0.059041  0.057143     0.015687   \n",
       "SO2      0.000000  0.0000         0.000000  0.000000     0.000000   \n",
       "OC       0.000000  0.0000         0.000000  0.000000     0.000000   \n",
       "BC       0.000000  0.0000         0.000000  0.000000     0.000000   \n",
       "NH3      0.000000  0.0000         0.000000  0.000000     0.000000   \n",
       "\n",
       "         Strat_H2O_sd  Aerosol_sd  Cloud_sd  Total_sd  \n",
       "Species                                                \n",
       "CO2              0.00    0.000000  0.000000  0.246907  \n",
       "CH4              0.05    0.002197  0.092581  0.236538  \n",
       "N2O              0.00    0.002021  0.042169  0.061736  \n",
       "HC               0.00    0.001971  0.049554  0.116583  \n",
       "NOx              0.00    0.004543  0.057188  0.170036  \n",
       "VOC              0.00    0.005065  0.098979  0.136683  \n",
       "SO2              0.00    0.223907  0.354996  0.419710  \n",
       "OC               0.00    0.065461  0.123676  0.139932  \n",
       "BC               0.00    0.158984  0.100321  0.187990  \n",
       "NH3              0.00    0.004824  0.000000  0.004824  "
      ]
     },
     "execution_count": 11,
     "metadata": {},
     "output_type": "execute_result"
    }
   ],
   "source": [
    "table_sd"
   ]
  },
  {
   "cell_type": "markdown",
   "metadata": {},
   "source": [
    "Write tables to file."
   ]
  },
  {
   "cell_type": "code",
   "execution_count": 12,
   "metadata": {},
   "outputs": [],
   "source": [
    "table_ed.to_csv(RESULTS_DIR/'tables_historic_attribution/table_mean_smb_orignames.csv')\n",
    "table_sd.to_csv(RESULTS_DIR/'tables_historic_attribution/table_std_smb_orignames.csv')"
   ]
  },
  {
   "cell_type": "code",
   "execution_count": 13,
   "metadata": {},
   "outputs": [],
   "source": [
    "from ar6_ch6_rcmipfigs.utils.plot import get_chem_col"
   ]
  },
  {
   "cell_type": "markdown",
   "metadata": {},
   "source": [
    "Variables in the rigth order:"
   ]
  },
  {
   "cell_type": "code",
   "execution_count": 14,
   "metadata": {},
   "outputs": [],
   "source": [
    "varn = ['co2','N2O','HC','ch4','o3','H2O_strat','ari','aci']\n",
    "var_dir = ['CO2','N2O','HC','CH4_lifetime','O3','Strat_H2O','Aerosol','Cloud']"
   ]
  },
  {
   "cell_type": "markdown",
   "metadata": {},
   "source": [
    "Colors:"
   ]
  },
  {
   "cell_type": "code",
   "execution_count": 15,
   "metadata": {},
   "outputs": [
    {
     "name": "stdout",
     "output_type": "stream",
     "text": [
      "(0.9568627450980393, 0.796078431372549, 0.21176470588235294)\n",
      "(0.8274509803921568, 0.0, 0.1568627450980392)\n",
      "(0.47843137254901963, 0.5058823529411764, 0.5058823529411764)\n",
      "(1.0, 0.4196078431372549, 0.07450980392156863)\n",
      "(0.5254901960784314, 0.7803921568627451, 0.29411764705882354)\n",
      "(0.47843137254901963, 0.5058823529411764, 0.5058823529411764)\n",
      "(0.792156862745098, 0.6980392156862745, 0.8392156862745098)\n",
      "(0.5607843137254902, 0.0, 0.6470588235294118)\n"
     ]
    }
   ],
   "source": [
    "cols = [get_chem_col(var) for var in varn]"
   ]
  },
  {
   "cell_type": "markdown",
   "metadata": {},
   "source": [
    "## Uncertainty:"
   ]
  },
  {
   "cell_type": "markdown",
   "metadata": {},
   "source": [
    "We have the standard deviation, but would like the use the standard error of the mean AND we would like to calculate the 5-95th percentile. "
   ]
  },
  {
   "cell_type": "markdown",
   "metadata": {},
   "source": [
    "We have the standard deviation (as far as I can tell, not the unbiased one)"
   ]
  },
  {
   "cell_type": "markdown",
   "metadata": {},
   "source": [
    "$\\sigma=\\sqrt {\\frac {\\sum _{i=1}^{n}(x_{i}-{\\overline {x}})^{2}}{n}}$"
   ]
  },
  {
   "cell_type": "markdown",
   "metadata": {},
   "source": [
    "The unbiased estimator would be:"
   ]
  },
  {
   "cell_type": "markdown",
   "metadata": {},
   "source": [
    "$s=\\sqrt {\\frac {\\sum _{i=1}^{n}(x_{i}-{\\overline {x}})^{2}}{n-1}} = \\sigma \\cdot \\sqrt{ \\frac{n}{n-1}}$"
   ]
  },
  {
   "cell_type": "markdown",
   "metadata": {},
   "source": [
    "The standard error is:\n",
    "\n",
    "$SE = \\frac{\\sigma}{n}$"
   ]
  },
  {
   "cell_type": "markdown",
   "metadata": {},
   "source": [
    "Finally, we want 5-95th percentile. Assuming normal distribution, this amounts to multiplying the standard error by 1.645"
   ]
  },
  {
   "cell_type": "code",
   "execution_count": 16,
   "metadata": {},
   "outputs": [],
   "source": [
    "std_2_95th = 1.645"
   ]
  },
  {
   "cell_type": "code",
   "execution_count": 17,
   "metadata": {},
   "outputs": [
    {
     "data": {
      "text/html": [
       "<div>\n",
       "<style scoped>\n",
       "    .dataframe tbody tr th:only-of-type {\n",
       "        vertical-align: middle;\n",
       "    }\n",
       "\n",
       "    .dataframe tbody tr th {\n",
       "        vertical-align: top;\n",
       "    }\n",
       "\n",
       "    .dataframe thead th {\n",
       "        text-align: right;\n",
       "    }\n",
       "</style>\n",
       "<table border=\"1\" class=\"dataframe\">\n",
       "  <thead>\n",
       "    <tr style=\"text-align: right;\">\n",
       "      <th></th>\n",
       "      <th>n</th>\n",
       "      <th>Number of models (Thornhill 2020)</th>\n",
       "    </tr>\n",
       "    <tr>\n",
       "      <th>Species</th>\n",
       "      <th></th>\n",
       "      <th></th>\n",
       "    </tr>\n",
       "  </thead>\n",
       "  <tbody>\n",
       "    <tr>\n",
       "      <th>BC</th>\n",
       "      <td>6</td>\n",
       "      <td>7</td>\n",
       "    </tr>\n",
       "    <tr>\n",
       "      <th>CH4</th>\n",
       "      <td>7</td>\n",
       "      <td>8</td>\n",
       "    </tr>\n",
       "    <tr>\n",
       "      <th>N2O</th>\n",
       "      <td>4</td>\n",
       "      <td>5</td>\n",
       "    </tr>\n",
       "    <tr>\n",
       "      <th>HC</th>\n",
       "      <td>4</td>\n",
       "      <td>6</td>\n",
       "    </tr>\n",
       "    <tr>\n",
       "      <th>NOx</th>\n",
       "      <td>4</td>\n",
       "      <td>5</td>\n",
       "    </tr>\n",
       "    <tr>\n",
       "      <th>VOC</th>\n",
       "      <td>4</td>\n",
       "      <td>5</td>\n",
       "    </tr>\n",
       "    <tr>\n",
       "      <th>SO2</th>\n",
       "      <td>5</td>\n",
       "      <td>6</td>\n",
       "    </tr>\n",
       "    <tr>\n",
       "      <th>OC</th>\n",
       "      <td>5</td>\n",
       "      <td>6</td>\n",
       "    </tr>\n",
       "    <tr>\n",
       "      <th>NH3</th>\n",
       "      <td>2</td>\n",
       "      <td>2</td>\n",
       "    </tr>\n",
       "  </tbody>\n",
       "</table>\n",
       "</div>"
      ],
      "text/plain": [
       "         n  Number of models (Thornhill 2020)\n",
       "Species                                      \n",
       "BC       6                                  7\n",
       "CH4      7                                  8\n",
       "N2O      4                                  5\n",
       "HC       4                                  6\n",
       "NOx      4                                  5\n",
       "VOC      4                                  5\n",
       "SO2      5                                  6\n",
       "OC       5                                  6\n",
       "NH3      2                                  2"
      ]
     },
     "execution_count": 17,
     "metadata": {},
     "output_type": "execute_result"
    }
   ],
   "source": [
    "from ar6_ch6_rcmipfigs.utils.badc_csv import read_csv_badc\n",
    "num_mod_lab = 'Number of models (Thornhill 2020)'\n",
    "thornhill = read_csv_badc(INPUT_DATA_DIR_BADC/'table2_thornhill2020.csv', index_col=0)\n",
    "thornhill.index = thornhill.index.rename('Species')\n",
    "thornhill"
   ]
  },
  {
   "cell_type": "markdown",
   "metadata": {},
   "source": [
    "![](thornhill.jpg)"
   ]
  },
  {
   "cell_type": "code",
   "execution_count": 18,
   "metadata": {},
   "outputs": [
    {
     "data": {
      "text/html": [
       "<div>\n",
       "<style scoped>\n",
       "    .dataframe tbody tr th:only-of-type {\n",
       "        vertical-align: middle;\n",
       "    }\n",
       "\n",
       "    .dataframe tbody tr th {\n",
       "        vertical-align: top;\n",
       "    }\n",
       "\n",
       "    .dataframe thead th {\n",
       "        text-align: right;\n",
       "    }\n",
       "</style>\n",
       "<table border=\"1\" class=\"dataframe\">\n",
       "  <thead>\n",
       "    <tr style=\"text-align: right;\">\n",
       "      <th></th>\n",
       "      <th>std</th>\n",
       "      <th>SE</th>\n",
       "      <th>95-50_SE</th>\n",
       "      <th>95-50</th>\n",
       "    </tr>\n",
       "    <tr>\n",
       "      <th>Species</th>\n",
       "      <th></th>\n",
       "      <th></th>\n",
       "      <th></th>\n",
       "      <th></th>\n",
       "    </tr>\n",
       "  </thead>\n",
       "  <tbody>\n",
       "    <tr>\n",
       "      <th>CO2</th>\n",
       "      <td>0.246907</td>\n",
       "      <td>NaN</td>\n",
       "      <td>0.246907</td>\n",
       "      <td>0.246907</td>\n",
       "    </tr>\n",
       "    <tr>\n",
       "      <th>CH4</th>\n",
       "      <td>0.236538</td>\n",
       "      <td>0.083629</td>\n",
       "      <td>0.137569</td>\n",
       "      <td>0.389105</td>\n",
       "    </tr>\n",
       "    <tr>\n",
       "      <th>N2O</th>\n",
       "      <td>0.061736</td>\n",
       "      <td>0.027609</td>\n",
       "      <td>0.045417</td>\n",
       "      <td>0.101555</td>\n",
       "    </tr>\n",
       "    <tr>\n",
       "      <th>HC</th>\n",
       "      <td>0.116583</td>\n",
       "      <td>0.047595</td>\n",
       "      <td>0.078293</td>\n",
       "      <td>0.191779</td>\n",
       "    </tr>\n",
       "    <tr>\n",
       "      <th>NOx</th>\n",
       "      <td>0.170036</td>\n",
       "      <td>0.076043</td>\n",
       "      <td>0.125090</td>\n",
       "      <td>0.279710</td>\n",
       "    </tr>\n",
       "    <tr>\n",
       "      <th>VOC</th>\n",
       "      <td>0.136683</td>\n",
       "      <td>0.061127</td>\n",
       "      <td>0.100553</td>\n",
       "      <td>0.224844</td>\n",
       "    </tr>\n",
       "    <tr>\n",
       "      <th>SO2</th>\n",
       "      <td>0.419710</td>\n",
       "      <td>0.171346</td>\n",
       "      <td>0.281864</td>\n",
       "      <td>0.690423</td>\n",
       "    </tr>\n",
       "    <tr>\n",
       "      <th>OC</th>\n",
       "      <td>0.139932</td>\n",
       "      <td>0.057127</td>\n",
       "      <td>0.093974</td>\n",
       "      <td>0.230188</td>\n",
       "    </tr>\n",
       "    <tr>\n",
       "      <th>BC</th>\n",
       "      <td>0.187990</td>\n",
       "      <td>0.071053</td>\n",
       "      <td>0.116883</td>\n",
       "      <td>0.309243</td>\n",
       "    </tr>\n",
       "    <tr>\n",
       "      <th>NH3</th>\n",
       "      <td>0.004824</td>\n",
       "      <td>0.003411</td>\n",
       "      <td>0.005611</td>\n",
       "      <td>0.007936</td>\n",
       "    </tr>\n",
       "  </tbody>\n",
       "</table>\n",
       "</div>"
      ],
      "text/plain": [
       "              std        SE  95-50_SE     95-50\n",
       "Species                                        \n",
       "CO2      0.246907       NaN  0.246907  0.246907\n",
       "CH4      0.236538  0.083629  0.137569  0.389105\n",
       "N2O      0.061736  0.027609  0.045417  0.101555\n",
       "HC       0.116583  0.047595  0.078293  0.191779\n",
       "NOx      0.170036  0.076043  0.125090  0.279710\n",
       "VOC      0.136683  0.061127  0.100553  0.224844\n",
       "SO2      0.419710  0.171346  0.281864  0.690423\n",
       "OC       0.139932  0.057127  0.093974  0.230188\n",
       "BC       0.187990  0.071053  0.116883  0.309243\n",
       "NH3      0.004824  0.003411  0.005611  0.007936"
      ]
     },
     "execution_count": 18,
     "metadata": {},
     "output_type": "execute_result"
    }
   ],
   "source": [
    "sd_tot = table_sd['Total_sd']\n",
    "df_err= pd.DataFrame(sd_tot.rename('std'))\n",
    "df_err['SE'] = df_err\n",
    "\n",
    "df_err['SE'] = df_err['std']/np.sqrt(thornhill[num_mod_lab])\n",
    "df_err['95-50_SE'] = df_err['SE']*std_2_95th\n",
    "df_err.loc['CO2','95-50_SE']= df_err.loc['CO2','std']\n",
    "df_err\n",
    "\n",
    "df_err['95-50'] = df_err['std']*std_2_95th\n",
    "df_err.loc['CO2','95-50']= df_err.loc['CO2','std']\n",
    "df_err"
   ]
  },
  {
   "cell_type": "markdown",
   "metadata": {},
   "source": [
    "## Rename some variables"
   ]
  },
  {
   "cell_type": "code",
   "execution_count": 19,
   "metadata": {},
   "outputs": [
    {
     "data": {
      "text/html": [
       "<div>\n",
       "<style scoped>\n",
       "    .dataframe tbody tr th:only-of-type {\n",
       "        vertical-align: middle;\n",
       "    }\n",
       "\n",
       "    .dataframe tbody tr th {\n",
       "        vertical-align: top;\n",
       "    }\n",
       "\n",
       "    .dataframe thead th {\n",
       "        text-align: right;\n",
       "    }\n",
       "</style>\n",
       "<table border=\"1\" class=\"dataframe\">\n",
       "  <thead>\n",
       "    <tr style=\"text-align: right;\">\n",
       "      <th></th>\n",
       "      <th>Carbon dioxide (CO$_2$)</th>\n",
       "      <th>N$_2$O</th>\n",
       "      <th>CFC + HCFC</th>\n",
       "      <th>Methane (CH$_4$)</th>\n",
       "      <th>Ozone (O$_3$)</th>\n",
       "      <th>H$_2$O (strat)</th>\n",
       "      <th>Aerosol-radiation</th>\n",
       "      <th>Aerosol-cloud</th>\n",
       "    </tr>\n",
       "    <tr>\n",
       "      <th>Species</th>\n",
       "      <th></th>\n",
       "      <th></th>\n",
       "      <th></th>\n",
       "      <th></th>\n",
       "      <th></th>\n",
       "      <th></th>\n",
       "      <th></th>\n",
       "      <th></th>\n",
       "    </tr>\n",
       "  </thead>\n",
       "  <tbody>\n",
       "    <tr>\n",
       "      <th>Ammonia</th>\n",
       "      <td>0.000000</td>\n",
       "      <td>0.00</td>\n",
       "      <td>0.00</td>\n",
       "      <td>0.000000</td>\n",
       "      <td>0.000000</td>\n",
       "      <td>0.00</td>\n",
       "      <td>-0.033769</td>\n",
       "      <td>0.000000</td>\n",
       "    </tr>\n",
       "    <tr>\n",
       "      <th>Black carbon</th>\n",
       "      <td>0.000000</td>\n",
       "      <td>0.00</td>\n",
       "      <td>0.00</td>\n",
       "      <td>0.000000</td>\n",
       "      <td>0.000000</td>\n",
       "      <td>0.00</td>\n",
       "      <td>0.144702</td>\n",
       "      <td>-0.037227</td>\n",
       "    </tr>\n",
       "    <tr>\n",
       "      <th>Organic carbon</th>\n",
       "      <td>0.000000</td>\n",
       "      <td>0.00</td>\n",
       "      <td>0.00</td>\n",
       "      <td>0.000000</td>\n",
       "      <td>0.000000</td>\n",
       "      <td>0.00</td>\n",
       "      <td>-0.072143</td>\n",
       "      <td>-0.136919</td>\n",
       "    </tr>\n",
       "    <tr>\n",
       "      <th>SO$_2$</th>\n",
       "      <td>0.000000</td>\n",
       "      <td>0.00</td>\n",
       "      <td>0.00</td>\n",
       "      <td>0.000000</td>\n",
       "      <td>0.000000</td>\n",
       "      <td>0.00</td>\n",
       "      <td>-0.234228</td>\n",
       "      <td>-0.703784</td>\n",
       "    </tr>\n",
       "    <tr>\n",
       "      <th>NMVOC + CO</th>\n",
       "      <td>0.069491</td>\n",
       "      <td>0.00</td>\n",
       "      <td>0.00</td>\n",
       "      <td>0.162462</td>\n",
       "      <td>0.202071</td>\n",
       "      <td>0.00</td>\n",
       "      <td>-0.002573</td>\n",
       "      <td>0.008884</td>\n",
       "    </tr>\n",
       "    <tr>\n",
       "      <th>NO$_x$</th>\n",
       "      <td>0.000000</td>\n",
       "      <td>0.00</td>\n",
       "      <td>0.00</td>\n",
       "      <td>-0.380025</td>\n",
       "      <td>0.137102</td>\n",
       "      <td>0.00</td>\n",
       "      <td>-0.009166</td>\n",
       "      <td>-0.014458</td>\n",
       "    </tr>\n",
       "    <tr>\n",
       "      <th>CFC + HCFC</th>\n",
       "      <td>0.000053</td>\n",
       "      <td>0.00</td>\n",
       "      <td>0.41</td>\n",
       "      <td>-0.050927</td>\n",
       "      <td>-0.162033</td>\n",
       "      <td>0.00</td>\n",
       "      <td>-0.008080</td>\n",
       "      <td>-0.017419</td>\n",
       "    </tr>\n",
       "    <tr>\n",
       "      <th>N$_2$O</th>\n",
       "      <td>0.000000</td>\n",
       "      <td>0.21</td>\n",
       "      <td>0.00</td>\n",
       "      <td>-0.035967</td>\n",
       "      <td>0.026124</td>\n",
       "      <td>0.00</td>\n",
       "      <td>-0.002090</td>\n",
       "      <td>0.042503</td>\n",
       "    </tr>\n",
       "    <tr>\n",
       "      <th>CH$_4$</th>\n",
       "      <td>0.017549</td>\n",
       "      <td>0.00</td>\n",
       "      <td>0.00</td>\n",
       "      <td>0.844457</td>\n",
       "      <td>0.266736</td>\n",
       "      <td>0.05</td>\n",
       "      <td>-0.002653</td>\n",
       "      <td>0.018421</td>\n",
       "    </tr>\n",
       "    <tr>\n",
       "      <th>CO$_2$</th>\n",
       "      <td>2.057554</td>\n",
       "      <td>0.00</td>\n",
       "      <td>0.00</td>\n",
       "      <td>0.000000</td>\n",
       "      <td>0.000000</td>\n",
       "      <td>0.00</td>\n",
       "      <td>0.000000</td>\n",
       "      <td>0.000000</td>\n",
       "    </tr>\n",
       "  </tbody>\n",
       "</table>\n",
       "</div>"
      ],
      "text/plain": [
       "                Carbon dioxide (CO$_2$)  N$_2$O  CFC + HCFC  Methane (CH$_4$)  \\\n",
       "Species                                                                         \n",
       "Ammonia                        0.000000    0.00        0.00          0.000000   \n",
       "Black carbon                   0.000000    0.00        0.00          0.000000   \n",
       "Organic carbon                 0.000000    0.00        0.00          0.000000   \n",
       "SO$_2$                         0.000000    0.00        0.00          0.000000   \n",
       "NMVOC + CO                     0.069491    0.00        0.00          0.162462   \n",
       "NO$_x$                         0.000000    0.00        0.00         -0.380025   \n",
       "CFC + HCFC                     0.000053    0.00        0.41         -0.050927   \n",
       "N$_2$O                         0.000000    0.21        0.00         -0.035967   \n",
       "CH$_4$                         0.017549    0.00        0.00          0.844457   \n",
       "CO$_2$                         2.057554    0.00        0.00          0.000000   \n",
       "\n",
       "                Ozone (O$_3$)  H$_2$O (strat)  Aerosol-radiation  \\\n",
       "Species                                                            \n",
       "Ammonia              0.000000            0.00          -0.033769   \n",
       "Black carbon         0.000000            0.00           0.144702   \n",
       "Organic carbon       0.000000            0.00          -0.072143   \n",
       "SO$_2$               0.000000            0.00          -0.234228   \n",
       "NMVOC + CO           0.202071            0.00          -0.002573   \n",
       "NO$_x$               0.137102            0.00          -0.009166   \n",
       "CFC + HCFC          -0.162033            0.00          -0.008080   \n",
       "N$_2$O               0.026124            0.00          -0.002090   \n",
       "CH$_4$               0.266736            0.05          -0.002653   \n",
       "CO$_2$               0.000000            0.00           0.000000   \n",
       "\n",
       "                Aerosol-cloud  \n",
       "Species                        \n",
       "Ammonia              0.000000  \n",
       "Black carbon        -0.037227  \n",
       "Organic carbon      -0.136919  \n",
       "SO$_2$              -0.703784  \n",
       "NMVOC + CO           0.008884  \n",
       "NO$_x$              -0.014458  \n",
       "CFC + HCFC          -0.017419  \n",
       "N$_2$O               0.042503  \n",
       "CH$_4$               0.018421  \n",
       "CO$_2$               0.000000  "
      ]
     },
     "execution_count": 19,
     "metadata": {},
     "output_type": "execute_result"
    }
   ],
   "source": [
    "rename_dic_cat = {\n",
    "    'CO2':'Carbon dioxide (CO$_2$)',\n",
    "    'GHG':'WMGHG',\n",
    "    'CH4_lifetime': 'Methane (CH$_4$)',\n",
    "    'O3': 'Ozone (O$_3$)',\n",
    "    'Strat_H2O':'H$_2$O (strat)',\n",
    "    'Aerosol':'Aerosol-radiation',\n",
    "    'Cloud':'Aerosol-cloud',\n",
    "    'N2O':'N$_2$O',\n",
    "    'HC':'CFC + HCFC',\n",
    "\n",
    "}\n",
    "rename_dic_cols ={\n",
    "    'CO2':'CO$_2$',\n",
    "    'CH4':'CH$_4$',\n",
    "    'N2O':'N$_2$O',\n",
    "    'HC':'CFC + HCFC',\n",
    "    'NOx':'NO$_x$',\n",
    "    'VOC':'NMVOC + CO',\n",
    "    'SO2':'SO$_2$',\n",
    "    'OC':'Organic carbon',\n",
    "    'BC':'Black carbon',\n",
    "    'NH3':'Ammonia'\n",
    "}\n",
    "tab_plt = table_ed.loc[::-1,var_dir].rename(rename_dic_cat, axis=1).rename(rename_dic_cols, axis=0)\n",
    "tab_plt"
   ]
  },
  {
   "cell_type": "code",
   "execution_count": 20,
   "metadata": {},
   "outputs": [],
   "source": [
    "df_err = df_err.rename(rename_dic_cols, axis=0)\n",
    "df_err.to_csv(fn_sd)\n",
    "tab_plt.to_csv(fn_mean)"
   ]
  },
  {
   "cell_type": "code",
   "execution_count": 21,
   "metadata": {
    "lines_to_next_cell": 2
   },
   "outputs": [],
   "source": [
    "width = 0.7\n",
    "kwargs = {'linewidth':.1,'edgecolor':'k'}"
   ]
  },
  {
   "cell_type": "code",
   "execution_count": 22,
   "metadata": {},
   "outputs": [],
   "source": [
    "import seaborn as sns"
   ]
  },
  {
   "cell_type": "code",
   "execution_count": 23,
   "metadata": {},
   "outputs": [
    {
     "data": {
      "text/plain": [
       "array([ 0,  1,  2,  3,  4,  5,  6,  7,  8,  9, 10])"
      ]
     },
     "execution_count": 23,
     "metadata": {},
     "output_type": "execute_result"
    }
   ],
   "source": [
    "ybar = np.arange(len(tab_plt)+1)#, -1)\n",
    "ybar"
   ]
  },
  {
   "cell_type": "code",
   "execution_count": 24,
   "metadata": {},
   "outputs": [
    {
     "data": {
      "text/plain": [
       "CO2             2.144647\n",
       "CH4_lifetime    0.540000\n",
       "Strat_H2O       0.050000\n",
       "Aerosol        -0.220000\n",
       "Cloud          -0.840000\n",
       "O3              0.470000\n",
       "HC              0.410000\n",
       "N2O             0.210000\n",
       "dtype: float64"
      ]
     },
     "execution_count": 24,
     "metadata": {},
     "output_type": "execute_result"
    }
   ],
   "source": [
    "table_ed.sum(axis=0)"
   ]
  },
  {
   "cell_type": "code",
   "execution_count": 25,
   "metadata": {
    "lines_to_next_cell": 2
   },
   "outputs": [
    {
     "data": {
      "image/png": "[encoded data removed]",
      "text/plain": [
       "<Figure size 900x600 with 1 Axes>"
      ]
     },
     "metadata": {
      "needs_background": "light"
     },
     "output_type": "display_data"
    }
   ],
   "source": [
    "fig, ax = plt.subplots(dpi=150)#figsize=[10,10])\n",
    "\n",
    "\n",
    "tab_plt.plot.barh(stacked=True, color=cols, linewidth=.0, edgecolor='k',ax=ax, width=width)\n",
    "tot = table_ed.sum(axis=1)[::-1]#table_ed['Total'][::-1]\n",
    "xerr = df_err['95-50'][::-1]\n",
    "y = np.arange(len(tot))\n",
    "plt.errorbar(tot, y,xerr=xerr,marker='d', linestyle='None', color='k', label='Sum', )\n",
    "plt.legend(frameon=False)\n",
    "ax.set_ylabel('')\n",
    "sns.despine()\n",
    "\n",
    "\n",
    "\n",
    "\n",
    "\n",
    "for lab, y in zip(tab_plt.index, ybar):\n",
    "        #plt.text(-1.55, ybar[i], species[i],  ha='left')#, va='left')\n",
    "    plt.text(-1.9, y-0.1, lab,  ha='left')#, va='left')\n",
    "plt.title('Change in effective radiative forcing from  1750 to 2019')\n",
    "plt.xlabel(r'Effective radiative forcing, W m$^{-2}$')\n",
    "plt.xlim(-1.5, 2.6)\n",
    "    #plt.xlim(-1.6, 2.0)\n",
    "sns.despine(fig, left=True, trim=True)\n",
    "plt.legend(loc='lower right', frameon=False)\n",
    "plt.axvline(x=0., color='k', linewidth=0.25)\n",
    "fn = 'attribution_1750_2019_5-95th.png'\n",
    "fp = RESULTS_DIR /'figures_historic_attribution'/fn\n",
    "fp.parent.mkdir(parents=True, exist_ok=True)\n",
    "ax.set_yticks([])\n",
    "\n",
    "plt.savefig(fp, dpi=300)\n",
    "plt.savefig(fp.with_suffix('.pdf'), dpi=300)\n",
    "plt.show()"
   ]
  },
  {
   "cell_type": "code",
   "execution_count": null,
   "metadata": {},
   "outputs": [],
   "source": []
  }
 ],
 "metadata": {
  "jupytext": {
   "encoding": "# -*- coding: utf-8 -*-",
   "formats": "ipynb,py:percent"
  },
  "kernelspec": {
   "display_name": "Python 3 (ipykernel)",
   "language": "python",
   "name": "python3"
  },
  "language_info": {
   "codemirror_mode": {
    "name": "ipython",
    "version": 3
   },
   "file_extension": ".py",
   "mimetype": "text/x-python",
   "name": "python",
   "nbconvert_exporter": "python",
   "pygments_lexer": "ipython3",
   "version": "3.7.10"
  }
 },
 "nbformat": 4,
 "nbformat_minor": 4
}
