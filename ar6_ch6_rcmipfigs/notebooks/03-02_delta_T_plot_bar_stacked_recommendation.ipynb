{
 "cells": [
  {
   "cell_type": "markdown",
   "metadata": {},
   "source": [
    "# Plot temperature response in years 2040 and 2100\n"
   ]
  },
  {
   "cell_type": "markdown",
   "metadata": {},
   "source": [
    "This notebook plots temperature respons to SLCFs AND the total scenario forcing in a fixed nr of years"
   ]
  },
  {
   "cell_type": "code",
   "execution_count": 1,
   "metadata": {},
   "outputs": [
    {
     "name": "stdout",
     "output_type": "stream",
     "text": [
      "/Users/sarablichner/science/PHD/IPCC/public/AR6_CH6_RCMIPFIGSv2/ar6_ch6_rcmipfigs\n",
      "/Users/sarablichner/science/PHD/IPCC/public/AR6_CH6_RCMIPFIGSv2/ar6_ch6_rcmipfigs/data_in\n"
     ]
    }
   ],
   "source": [
    "from IPython.core.display import display\n",
    "\n",
    "from ar6_ch6_rcmipfigs.utils.badc_csv import write_badc_header\n",
    "\n",
    "output_name = 'fig_dT_2040_2100_stacked_bar'"
   ]
  },
  {
   "cell_type": "code",
   "execution_count": 2,
   "metadata": {},
   "outputs": [],
   "source": [
    "import matplotlib.pyplot as plt"
   ]
  },
  {
   "cell_type": "code",
   "execution_count": 3,
   "metadata": {},
   "outputs": [],
   "source": [
    "import pandas as pd"
   ]
  },
  {
   "cell_type": "code",
   "execution_count": 4,
   "metadata": {},
   "outputs": [],
   "source": [
    "import xarray as xr\n",
    "from pandas.plotting import register_matplotlib_converters\n",
    "\n",
    "register_matplotlib_converters()\n",
    "\n",
    "%load_ext autoreload\n",
    "%autoreload 2"
   ]
  },
  {
   "cell_type": "code",
   "execution_count": 5,
   "metadata": {},
   "outputs": [
    {
     "data": {
      "application/javascript": [
       "IPython.OutputArea.prototype._should_scroll = function(lines) { return false; }"
      ],
      "text/plain": [
       "<IPython.core.display.Javascript object>"
      ]
     },
     "metadata": {},
     "output_type": "display_data"
    }
   ],
   "source": [
    "from ar6_ch6_rcmipfigs.utils.plot import get_cmap_dic\n",
    "from ar6_ch6_rcmipfigs.utils.plot import get_var_nicename"
   ]
  },
  {
   "cell_type": "code",
   "execution_count": 6,
   "metadata": {},
   "outputs": [],
   "source": [
    "from ar6_ch6_rcmipfigs.constants import OUTPUT_DATA_DIR, RESULTS_DIR, BASE_DIR\n",
    "\n",
    "# PATH_DATASET = OUTPUT_DATA_DIR + '/forcing_data_rcmip_models.nc'\n",
    "# PATH_DT = OUTPUT_DATA_DIR / '/dT_data_rcmip_models.nc'\n",
    "# PATH_DT = OUTPUT_DATA_DIR / 'dT_data_RCMIP.nc'\n",
    "PATH_DT = OUTPUT_DATA_DIR / 'dT_data_RCMIP_recommendation.nc'"
   ]
  },
  {
   "cell_type": "markdown",
   "metadata": {},
   "source": [
    "#### Uncertainty data:"
   ]
  },
  {
   "cell_type": "code",
   "execution_count": 7,
   "metadata": {},
   "outputs": [],
   "source": [
    "# PATH_DT_UNCERTAINTY = OUTPUT_DATA_DIR / 'dT_uncertainty_data_FaIR_chris.nc'\n",
    "PATH_DT_UNCERTAINTY = OUTPUT_DATA_DIR / 'dT_uncertainty_data_FaIR_chris_ed02-3.nc'"
   ]
  },
  {
   "cell_type": "markdown",
   "metadata": {},
   "source": [
    "## Set values:"
   ]
  },
  {
   "cell_type": "code",
   "execution_count": 8,
   "metadata": {},
   "outputs": [],
   "source": [
    "# Years to plot:\n",
    "years = [2040, 2100]"
   ]
  },
  {
   "cell_type": "markdown",
   "metadata": {},
   "source": [
    "**Set reference year for temperature change:**"
   ]
  },
  {
   "cell_type": "code",
   "execution_count": 9,
   "metadata": {},
   "outputs": [],
   "source": [
    "ref_year = 2019\n",
    "ref_year_uncertainty = 2020"
   ]
  },
  {
   "cell_type": "code",
   "execution_count": 10,
   "metadata": {},
   "outputs": [],
   "source": [
    "FIGURE_DIR = RESULTS_DIR / 'figures_recommendation/' / output_name\n",
    "\n"
   ]
  },
  {
   "cell_type": "markdown",
   "metadata": {},
   "source": [
    "Create directories if not created. "
   ]
  },
  {
   "cell_type": "code",
   "execution_count": 11,
   "metadata": {
    "lines_to_next_cell": 2
   },
   "outputs": [],
   "source": [
    "from pathlib import Path\n",
    "\n",
    "Path(FIGURE_DIR).mkdir(parents=True, exist_ok=True)"
   ]
  },
  {
   "cell_type": "markdown",
   "metadata": {},
   "source": [
    "#### Various definitions"
   ]
  },
  {
   "cell_type": "code",
   "execution_count": 12,
   "metadata": {},
   "outputs": [],
   "source": [
    "\n",
    "climatemodel = 'climatemodel'\n",
    "scenario = 'scenario'\n",
    "variable = 'variable'\n",
    "time = 'time'\n",
    "\n",
    "recommendation = 'recommendation'\n",
    "name_deltaT = 'Delta T'\n",
    "sum_v = 'Sum SLCF (Aerosols, Methane, Ozone, HFCs)'\n",
    "\n",
    "\n",
    "o3 = 'Ozone (O$_3$)'\n",
    "ch4 = 'Methane (CH$_4$)'\n",
    "HFCs = 'HFCs'\n",
    "\n",
    "scenario_tot = 'Scenario total'\n",
    "\n",
    "variables_erf_comp = [\n",
    "    'aerosol-total-with_bc-snow',\n",
    "    'ch4',\n",
    "    'o3',\n",
    "    'HFCs',\n",
    "]\n",
    "\n",
    "# total ERFs for anthropogenic and total:\n",
    "variables_erf_tot = ['total_anthropogenic',\n",
    "                     'total']\n",
    "variables_all = variables_erf_comp + variables_erf_tot\n",
    "# Scenarios to plot:"
   ]
  },
  {
   "cell_type": "markdown",
   "metadata": {},
   "source": [
    "#### Scenarios:"
   ]
  },
  {
   "cell_type": "code",
   "execution_count": 13,
   "metadata": {},
   "outputs": [],
   "source": [
    "scenarios_fl = ['ssp119',\n",
    "                'ssp126',\n",
    "                'ssp245',\n",
    "                'ssp334',\n",
    "                'ssp370',\n",
    "                'ssp370-lowNTCF-aerchemmip',\n",
    "                'ssp370-lowNTCF-gidden',\n",
    "                'ssp585']\n",
    "scenarios_fl_oneNTCF = ['ssp119',\n",
    "                        'ssp126',\n",
    "                        'ssp245',\n",
    "                        'ssp370',\n",
    "                        'ssp370-lowNTCF-aerchemmip',\n",
    "                        # 'ssp370-lowNTCF-gidden',\n",
    "                        'ssp585']\n",
    "\n",
    "scenarios_fl_370 = ['ssp370', 'ssp370-lowNTCF-aerchemmip', 'ssp370-lowNTCF-gidden'  # Due to mistake here\n",
    "                    ]"
   ]
  },
  {
   "cell_type": "code",
   "execution_count": 14,
   "metadata": {},
   "outputs": [],
   "source": [
    "perc5 = '5th percentile'\n",
    "perc95 = '95th percentile'"
   ]
  },
  {
   "cell_type": "markdown",
   "metadata": {},
   "source": [
    "## Open dataset:"
   ]
  },
  {
   "cell_type": "markdown",
   "metadata": {},
   "source": [
    "Open datasets generates in notebooks 1 - 2. "
   ]
  },
  {
   "cell_type": "code",
   "execution_count": 15,
   "metadata": {
    "lines_to_next_cell": 2
   },
   "outputs": [],
   "source": [
    "ds_DT = xr.open_dataset(PATH_DT)\n",
    "ds_uncertainty = xr.open_dataset(PATH_DT_UNCERTAINTY)\n",
    "\n",
    "# make percentiles a dimension/coordinate: \n",
    "\n",
    "ds_uncertainty = ds_uncertainty.to_array('percentile', name=name_deltaT).to_dataset()"
   ]
  },
  {
   "cell_type": "markdown",
   "metadata": {},
   "source": [
    "## Add sum of SLCFs as variable:"
   ]
  },
  {
   "cell_type": "code",
   "execution_count": 16,
   "metadata": {
    "lines_to_next_cell": 2
   },
   "outputs": [
    {
     "name": "stdout",
     "output_type": "stream",
     "text": [
      "Sum SLCF (Aerosols, Methane, Ozone, HFCs)\n"
     ]
    }
   ],
   "source": [
    "_str = ''\n",
    "_vl = [get_var_nicename(var).split('(')[0].strip() for var in variables_erf_comp]\n",
    "for var in _vl:\n",
    "    _str += f'{var}, '\n",
    "\n",
    "vn_sum = 'Sum SLCF (%s)' % _str[:-2]\n",
    "print(vn_sum)\n",
    "\n",
    "# _st = vn_sum.replace('(','').replace(')','').replace(' ','_').replace(',','')+'.csv'\n",
    "\n",
    "\n",
    "_da_sum = ds_DT[name_deltaT].sel(variable=variables_erf_comp).sum(variable)\n",
    "_da_sum  # .assin_coord()\n",
    "# _ds_check = ds_DT.copy()\n",
    "ds_DT\n",
    "# xr.concat([_ds_check[name_deltaT],_da_sum], dim=variable)\n",
    "\n",
    "dd1 = _da_sum.expand_dims(\n",
    "    {'variable': ['Sum SLCF (Aerosols, Methane, Ozone, HFCs)']})\n",
    "# dd1=dd1.to_dataset()\n",
    "\n",
    "ds_DT = xr.merge([ds_DT, dd1])"
   ]
  },
  {
   "cell_type": "markdown",
   "metadata": {},
   "source": [
    "## Various functions:"
   ]
  },
  {
   "cell_type": "markdown",
   "metadata": {},
   "source": [
    "#### Filenames of output"
   ]
  },
  {
   "cell_type": "code",
   "execution_count": 17,
   "metadata": {},
   "outputs": [],
   "source": [
    "\n",
    "\n",
    "def get_fn(var_name, s_y, e_y, ref_y, perc):\n",
    "    _st = var_name.replace('(', '').replace(')', '').replace(' ', '_').replace(',', '')  # +'.csv'\n",
    "    fn_out = f'{output_name}_{perc}_{_st}_{s_y}-{e_y}_refyear{ref_y}.csv'\n",
    "    return fn_out"
   ]
  },
  {
   "cell_type": "markdown",
   "metadata": {},
   "source": [
    "#### Rename variables to pretty names: "
   ]
  },
  {
   "cell_type": "code",
   "execution_count": 18,
   "metadata": {},
   "outputs": [
    {
     "name": "stdout",
     "output_type": "stream",
     "text": [
      "Scenario total\n"
     ]
    }
   ],
   "source": [
    "from ar6_ch6_rcmipfigs.utils.plot import scn_dic\n",
    "\n",
    "rn_dic = dict()\n",
    "rn_dic_o = dict()\n",
    "for v in variables_all:\n",
    "    rn_dic[v] = get_var_nicename(v)\n",
    "    rn_dic_o[get_var_nicename(v)] = v\n",
    "rn_dic_o[scenario_tot] = 'scenario_total'\n",
    "print(scenario_tot)\n",
    "\n",
    "rn_dic_scen = scn_dic\n",
    "\n",
    "\n",
    "def fix_names(df):\n",
    "    df = df.rename(rn_dic)\n",
    "    df = df.rename(rn_dic_scen, axis=1)\n",
    "    return df"
   ]
  },
  {
   "cell_type": "markdown",
   "metadata": {
    "tags": []
   },
   "source": [
    "#### Function for creating table. "
   ]
  },
  {
   "cell_type": "code",
   "execution_count": 19,
   "metadata": {
    "lines_to_next_cell": 2
   },
   "outputs": [],
   "source": [
    "def setup_table_prop(scenario_n='', yrs=None, _vlist=None, scens=None):\n",
    "    if _vlist is None:\n",
    "        _vlist = variables_erf_comp\n",
    "    if yrs is None:\n",
    "        yrs = [2040, 2100]\n",
    "    if scens is None:\n",
    "        scens = scenarios_fl\n",
    "    its = [yrs, _vlist]\n",
    "    _i = pd.MultiIndex.from_product(its, names=['', ''])\n",
    "    table = pd.DataFrame(columns=scens, index=_i)  # .transpose()\n",
    "    table.index.name = scenario_n\n",
    "    return table"
   ]
  },
  {
   "cell_type": "markdown",
   "metadata": {},
   "source": [
    "#### Extract values in tables: "
   ]
  },
  {
   "cell_type": "code",
   "execution_count": 20,
   "metadata": {},
   "outputs": [],
   "source": [
    "\n",
    "\n",
    "# tab_tot = setup_table2()\n",
    "# tab_tot_sd = setup_table2()\n",
    "def table_of_sts(_ds, _scn_fl, variables, tab_vars, _yrs, ref_yr, sts=recommendation):\n",
    "    \"\"\"\n",
    "    Creates pandas dataframe of statistics (mean, standard deviation) for change\n",
    "    in temperature Delta T since year (ref year) for each scenario in scenarios,\n",
    "\n",
    "    :param _ds:\n",
    "    :param _scn_fl:\n",
    "    :param variables:\n",
    "    :param tab_vars:\n",
    "    :param _yrs:\n",
    "    :param ref_yr:\n",
    "    :param sts:\n",
    "    :return:\n",
    "    \"\"\"\n",
    "    tabel = setup_table_prop(yrs=_yrs, _vlist=tab_vars)\n",
    "    for scn in _scn_fl:\n",
    "        for _var, tabvar in zip(variables, tab_vars):\n",
    "            # dtvar =  name_deltaT # if ERF name, changes it here.\n",
    "            tabscn = scn  # Table scenario name the same.\n",
    "            for year in _yrs:\n",
    "                _da = _ds[name_deltaT].sel(scenario=scn, variable=_var)\n",
    "                _da_refy = _da.sel(year=slice(ref_yr, ref_yr)).squeeze()  # ref year value\n",
    "                _da_y = _da.sel(year=slice(year, year))  # year value\n",
    "                _tab_da = _da_y - _da_refy\n",
    "                tabel.loc[(year, tabvar), tabscn] = float(_tab_da.sel(percentile=sts).squeeze().values)  # [0]\n",
    "    return fix_names(tabel)\n",
    "    # return tabel"
   ]
  },
  {
   "cell_type": "markdown",
   "metadata": {},
   "source": [
    "#### Write plotted data to file and add metadata to header"
   ]
  },
  {
   "cell_type": "code",
   "execution_count": 21,
   "metadata": {},
   "outputs": [],
   "source": [
    "dic_head = dict(\n",
    "    # title='Data for Figure 6.24, warming for SSP scenarios in year',\n",
    "    last_revised_date='2021-06-29',\n",
    "    location='global',\n",
    "    reference='https://github.com/sarambl/AR6_CH6_RCMIPFIGS/',\n",
    "    source='IPCC AR6 output',\n",
    "    creator='Sara Marie Blichner (s.m.blichner@geo.uio.no)',\n",
    "\n",
    ")\n",
    "add_global_comments = [\n",
    "    ['comments', 'G', 'This data is based on the AR6 forcing time series.'],\n",
    "    ['comments', 'G', 'Please see https://github.com/sarambl/AR6_CH6_RCMIPFIGS for methods'],\n",
    "]\n",
    "\n",
    "\n",
    "def get_add_global_from_dic(_dic_head):\n",
    "    add_global = [[key, 'G', _dic_head[key]] for key in _dic_head.keys()]\n",
    "    add_global = add_global + add_global_comments\n",
    "    return add_global\n",
    "\n",
    "\n",
    "path_header_def = BASE_DIR / 'misc/header_empty.csv'\n",
    "path_header_def.exists()\n",
    "\n",
    "\n",
    "def to_csv_w_header(df, var_name, perc, _ref_year, end_year, ):\n",
    "    fn_out = FIGURE_DIR / get_fn(var_name, _ref_year, end_year, _ref_year, perc)\n",
    "\n",
    "    df.to_csv(fn_out)\n",
    "\n",
    "    dic_head['title'] = get_title(perc, _ref_year, end_year)\n",
    "\n",
    "    add_global = get_add_global_from_dic(dic_head)\n",
    "\n",
    "    write_badc_header(fn_out, fn_out, add_global, default_unit='degrees C',\n",
    "                      fp_global_default=path_header_def,\n",
    "                      fp_var_default=path_header_def)\n",
    "\n",
    "def get_title(perc, _ref_year, in_year):\n",
    "    if perc == 'mean':\n",
    "        txt = f'Data for Figure 6.24, warming for SSP scenarios in year {in_year}' \\\n",
    "              f' relative to year {_ref_year} '\n",
    "    else:\n",
    "        txt = f'Data for Figure 6.24, percentile {perc} warming in year {in_year} ' \\\n",
    "              f' relative to year {_ref_year}'\n",
    "\n",
    "    return txt\n",
    "\n",
    "\n",
    "def write_percentiles_to_file(_table_dT_anthrop,\n",
    "                              _table_dT_slcfs,\n",
    "                              _table_dT_anthrop_5th,\n",
    "                              _table_dT_anthrop_95th,\n",
    "                              _table_dT_sum_slcf_5,\n",
    "                              _table_dT_sum_slcf_95\n",
    "                              ):\n",
    "    \"\"\"\n",
    "    Write plotted data to file\n",
    "    :param _table_dT_anthrop:\n",
    "    :param _table_dT_slcfs:\n",
    "    :param _table_dT_anthrop_5th:\n",
    "    :param _table_dT_anthrop_95th:\n",
    "    :param _table_dT_sum_slcf_5:\n",
    "    :param _table_dT_sum_slcf_95:\n",
    "    :return:\n",
    "    \"\"\"\n",
    "\n",
    "    _ls = [_table_dT_anthrop, _table_dT_slcfs]\n",
    "\n",
    "    df_mean_merge = pd.concat(_ls)\n",
    "    _ls = [_table_dT_anthrop_5th, _table_dT_sum_slcf_5]\n",
    "    df_5th_merge = pd.concat(_ls)\n",
    "\n",
    "    _ls = [_table_dT_anthrop_95th, _table_dT_sum_slcf_95]\n",
    "    df_95th_merge = pd.concat(_ls)\n",
    "\n",
    "    for y in years:\n",
    "        df_y = df_mean_merge.loc[y].T\n",
    "        df_y.index = df_y.index.rename('scenario')\n",
    "        df_y = df_y.rename(rn_dic_o, axis=1)\n",
    "        to_csv_w_header(df_y, '', 'mean', ref_year, y)\n",
    "    for y in years:\n",
    "        for perc, _df in zip(['5th-50th', '95th-50th'], [df_5th_merge, df_95th_merge]):\n",
    "            df_y = _df.loc[y].T\n",
    "            df_y.index = df_y.index.rename('scenario')\n",
    "            df_y = df_y.rename(rn_dic_o, axis=1)\n",
    "            to_csv_w_header(df_y, '', perc, ref_year_uncertainty, y)"
   ]
  },
  {
   "cell_type": "markdown",
   "metadata": {},
   "source": [
    "### Extract tables to plot"
   ]
  },
  {
   "cell_type": "code",
   "execution_count": 22,
   "metadata": {},
   "outputs": [],
   "source": [
    "tabel_dT_anthrop = table_of_sts(ds_DT, scenarios_fl, ['total_anthropogenic'], [scenario_tot], years, ref_year)\n",
    "# 5th\n",
    "tabel_dT_anthrop_5th = -table_of_sts(ds_uncertainty,\n",
    "                                     scenarios_fl,\n",
    "                                     ['total_anthropogenic'],\n",
    "                                     [scenario_tot],\n",
    "                                     years,\n",
    "                                     ref_year_uncertainty,\n",
    "                                     sts='p05-p50'\n",
    "                                     )\n",
    "# 95th\n",
    "\n",
    "tabel_dT_anthrop_95th = table_of_sts(ds_uncertainty, scenarios_fl, ['total_anthropogenic'], [scenario_tot], years,\n",
    "                                     ref_year_uncertainty,\n",
    "                                     sts='p95-p50')\n",
    "\n",
    "\n",
    "# Mean:\n",
    "tabel_dT_slcfs = table_of_sts(ds_DT, scenarios_fl, variables_erf_comp, variables_erf_comp, years,\n",
    "                              ref_year)\n",
    "\n",
    "# Get percentiles for sum of SLCFs\n",
    "\n",
    "tabel_dT_sum_slcf_5 = - table_of_sts(ds_uncertainty,\n",
    "                                     scenarios_fl,\n",
    "                                     [sum_v],\n",
    "                                     ['Sum SLCFs'],\n",
    "                                     years,\n",
    "                                     ref_year_uncertainty,\n",
    "                                     sts='p05-p50')\n",
    "tabel_dT_sum_slcf_95 = table_of_sts(ds_uncertainty,\n",
    "                                    scenarios_fl,\n",
    "                                    [sum_v],\n",
    "                                    ['Sum SLCFs'],\n",
    "                                    years,\n",
    "                                    ref_year_uncertainty,\n",
    "                                    sts='p95-p50')"
   ]
  },
  {
   "cell_type": "markdown",
   "metadata": {},
   "source": [
    "### colors"
   ]
  },
  {
   "cell_type": "code",
   "execution_count": 23,
   "metadata": {},
   "outputs": [
    {
     "name": "stdout",
     "output_type": "stream",
     "text": [
      "(0.5607843137254902, 0.0, 0.6470588235294118)\n",
      "(1.0, 0.4196078431372549, 0.07450980392156863)\n",
      "(0.5254901960784314, 0.7803921568627451, 0.29411764705882354)\n",
      "(0.21568627450980393, 0.49411764705882355, 0.7215686274509804)\n"
     ]
    }
   ],
   "source": [
    "cdic = get_cmap_dic(variables_erf_comp)  # , palette='colorblind'):\n",
    "ls = [cdic[key] for key in variables_erf_comp]"
   ]
  },
  {
   "cell_type": "code",
   "execution_count": 24,
   "metadata": {},
   "outputs": [],
   "source": [
    "\n",
    "def plt_stacked(axs, _table_dT_anthrop, _table_dT_slcfs,\n",
    "                _table_dT_anthrop_5th, _table_dT_anthrop_95th,\n",
    "                _table_dT_sum_slcf_5, _table_dT_sum_slcf_95):\n",
    "    tits = ['Change in GSAT in 2040 relative to 2019', 'Change in GSAT in 2100 relative to 2019']\n",
    "    for _yr, _ax, _tit in zip(years, axs, tits):\n",
    "        # Pick out year and do various renames:\n",
    "        # Total antropogenic\n",
    "        _tot_anthrop = _table_dT_anthrop.loc[_yr].rename(scn_dic, axis=1)\n",
    "        # Sum SLCFs\n",
    "        # uncertainty:\n",
    "        bot = _table_dT_anthrop_5th.loc[_yr].rename(scn_dic, axis=1)\n",
    "        top = _table_dT_anthrop_95th.loc[_yr].rename(scn_dic, axis=1)\n",
    "        err_anthrop = pd.merge(bot, top, how='outer').values\n",
    "        # Plot bars for anthropogenic total:\n",
    "        _ax.barh(_tot_anthrop.transpose().index, _tot_anthrop.transpose()[scenario_tot].values,\n",
    "                 color='k',\n",
    "                 xerr=err_anthrop,\n",
    "                 error_kw=dict(ecolor='gray', lw=2, capsize=5, capthick=2),\n",
    "                 label='Scenario total', alpha=.2,\n",
    "                 )\n",
    "        # Plot bars for SLCFs total:\n",
    "\n",
    "        # Plot stacked plot of components:\n",
    "        _tab = _table_dT_slcfs.loc[_yr].transpose().rename(\n",
    "            {'ssp370-lowNTCF-aerchemmip': 'ssp370-lowNTCF\\n-aerchemmip'})\n",
    "        _tab = _tab.rename(scn_dic, axis=0)\n",
    "        a = _tab.plot(kind='barh', stacked=True, ax=_ax, color=ls, legend=(_yr != 2040))  # , grid=True)#stac)\n",
    "        tab_sum_all_slcf = _tab.sum(axis=1)  # , c=100)#.plot(kind='barh', )\n",
    "        # ax.scatter(_t, list(_t.reset_index().index), zorder=10, c='w', marker='d')\n",
    "        # uncertainty:\n",
    "        bot = _table_dT_sum_slcf_5.loc[_yr].rename(scn_dic, axis=1)\n",
    "        top = _table_dT_sum_slcf_95.loc[_yr].rename(scn_dic, axis=1)\n",
    "        err_sum_slcf = pd.merge(bot, top, how='outer').values\n",
    "\n",
    "        _ax.errorbar(tab_sum_all_slcf,\n",
    "                     list(tab_sum_all_slcf.reset_index().index),\n",
    "                     xerr=err_sum_slcf,\n",
    "                     label='__nolabel__',\n",
    "                     color='w',\n",
    "                     fmt='d',\n",
    "                     linestyle=\"None\")  # ,\n",
    "\n",
    "        if not _yr == 2040:\n",
    "            _ax.legend(frameon=False, ncol=1)  # [l],labels=['Sce!!nario total'], loc = 4)#'lower right')\n",
    "        # Zero line:\n",
    "        _ax.axvline(0, linestyle='--', color='k', alpha=0.4)\n",
    "        _ax.set_title(_tit)\n",
    "        _ax.set_xlabel('Change in GSAT ($^\\circ$C)')\n",
    "        _ax.xaxis.set_minor_locator(MultipleLocator(.1))\n",
    "\n",
    "\n",
    "def fix_axs(axs):\n",
    "    ax = axs[0]\n",
    "\n",
    "    ax.spines['right'].set_visible(False)\n",
    "    ax.spines['top'].set_visible(False)\n",
    "    ax.spines['left'].set_visible(False)\n",
    "    ax.tick_params(right=False, left=False)  # , color='w')\n",
    "\n",
    "    ax = axs[1]\n",
    "    ax.spines['right'].set_visible(False)\n",
    "    ax.spines['top'].set_visible(False)\n",
    "    ax.spines['left'].set_visible(False)\n",
    "    ax.tick_params(labelleft=False, right=False, left=False, color='w')\n",
    "    ax.tick_params(labelright=False, labelleft=False, right=False, left=False, color='w')\n",
    "    ax.yaxis.set_visible(False)\n",
    "    plt.tight_layout()"
   ]
  },
  {
   "cell_type": "code",
   "execution_count": 25,
   "metadata": {},
   "outputs": [],
   "source": [
    "from matplotlib.ticker import MultipleLocator"
   ]
  },
  {
   "cell_type": "markdown",
   "metadata": {},
   "source": [
    "## Main plot: "
   ]
  },
  {
   "cell_type": "code",
   "execution_count": 26,
   "metadata": {},
   "outputs": [
    {
     "data": {
      "image/png": "[encoded data removed]",
      "text/plain": [
       "<Figure size 720x316.8 with 2 Axes>"
      ]
     },
     "metadata": {
      "needs_background": "light"
     },
     "output_type": "display_data"
    }
   ],
   "source": [
    "fig, axs = plt.subplots(1, len(years), figsize=[10, 4.4], sharex=False, sharey=True)\n",
    "plt_stacked(axs, tabel_dT_anthrop, tabel_dT_slcfs, tabel_dT_anthrop_5th, tabel_dT_anthrop_95th,\n",
    "            tabel_dT_sum_slcf_5, tabel_dT_sum_slcf_95)\n",
    "\n",
    "fix_axs(axs)\n",
    "\n",
    "write_percentiles_to_file(tabel_dT_anthrop, tabel_dT_slcfs, tabel_dT_anthrop_5th, tabel_dT_anthrop_95th,\n",
    "                          tabel_dT_sum_slcf_5, tabel_dT_sum_slcf_95)\n",
    "\n",
    "fn = FIGURE_DIR / output_name  # 'stack_bar_influence_years.png'\n",
    "plt.tight_layout()\n",
    "# ax = plt.gca()\n",
    "\n",
    "plt.savefig(fn.with_suffix('.png'), dpi=300)\n",
    "plt.savefig(fn.with_suffix('.pdf'), dpi=300)\n",
    "plt.show()"
   ]
  },
  {
   "cell_type": "code",
   "execution_count": 27,
   "metadata": {},
   "outputs": [
    {
     "data": {
      "text/html": [
       "<div>\n",
       "<style scoped>\n",
       "    .dataframe tbody tr th:only-of-type {\n",
       "        vertical-align: middle;\n",
       "    }\n",
       "\n",
       "    .dataframe tbody tr th {\n",
       "        vertical-align: top;\n",
       "    }\n",
       "\n",
       "    .dataframe thead th {\n",
       "        text-align: right;\n",
       "    }\n",
       "</style>\n",
       "<table border=\"1\" class=\"dataframe\">\n",
       "  <thead>\n",
       "    <tr style=\"text-align: right;\">\n",
       "      <th></th>\n",
       "      <th></th>\n",
       "      <th>SSP1-1.9</th>\n",
       "      <th>SSP1-2.6</th>\n",
       "      <th>SSP2-4.5</th>\n",
       "      <th>SSP3-3.4</th>\n",
       "      <th>SSP3-7.0</th>\n",
       "      <th>SSP3-7.0-LowSLCF-HighCH$_4$</th>\n",
       "      <th>SSP3-7.0-LowSLCF-LowCH$_4$</th>\n",
       "      <th>SSP5-8.5</th>\n",
       "    </tr>\n",
       "    <tr>\n",
       "      <th></th>\n",
       "      <th></th>\n",
       "      <th></th>\n",
       "      <th></th>\n",
       "      <th></th>\n",
       "      <th></th>\n",
       "      <th></th>\n",
       "      <th></th>\n",
       "      <th></th>\n",
       "      <th></th>\n",
       "    </tr>\n",
       "  </thead>\n",
       "  <tbody>\n",
       "    <tr>\n",
       "      <th>2040</th>\n",
       "      <th>Scenario total</th>\n",
       "      <td>0.420935</td>\n",
       "      <td>0.502187</td>\n",
       "      <td>0.562209</td>\n",
       "      <td>0.481826</td>\n",
       "      <td>0.61491</td>\n",
       "      <td>0.696614</td>\n",
       "      <td>0.541559</td>\n",
       "      <td>0.781281</td>\n",
       "    </tr>\n",
       "    <tr>\n",
       "      <th>2100</th>\n",
       "      <th>Scenario total</th>\n",
       "      <td>0.196752</td>\n",
       "      <td>0.576662</td>\n",
       "      <td>1.645168</td>\n",
       "      <td>0.862185</td>\n",
       "      <td>2.843732</td>\n",
       "      <td>3.046661</td>\n",
       "      <td>2.403491</td>\n",
       "      <td>3.718987</td>\n",
       "    </tr>\n",
       "  </tbody>\n",
       "</table>\n",
       "</div>"
      ],
      "text/plain": [
       "                     SSP1-1.9  SSP1-2.6  SSP2-4.5  SSP3-3.4  SSP3-7.0  \\\n",
       "                                                                        \n",
       "2040 Scenario total  0.420935  0.502187  0.562209  0.481826   0.61491   \n",
       "2100 Scenario total  0.196752  0.576662  1.645168  0.862185  2.843732   \n",
       "\n",
       "                    SSP3-7.0-LowSLCF-HighCH$_4$ SSP3-7.0-LowSLCF-LowCH$_4$  \\\n",
       "                                                                             \n",
       "2040 Scenario total                    0.696614                   0.541559   \n",
       "2100 Scenario total                    3.046661                   2.403491   \n",
       "\n",
       "                     SSP5-8.5  \n",
       "                               \n",
       "2040 Scenario total  0.781281  \n",
       "2100 Scenario total  3.718987  "
      ]
     },
     "metadata": {},
     "output_type": "display_data"
    },
    {
     "data": {
      "text/html": [
       "<div>\n",
       "<style scoped>\n",
       "    .dataframe tbody tr th:only-of-type {\n",
       "        vertical-align: middle;\n",
       "    }\n",
       "\n",
       "    .dataframe tbody tr th {\n",
       "        vertical-align: top;\n",
       "    }\n",
       "\n",
       "    .dataframe thead th {\n",
       "        text-align: right;\n",
       "    }\n",
       "</style>\n",
       "<table border=\"1\" class=\"dataframe\">\n",
       "  <thead>\n",
       "    <tr style=\"text-align: right;\">\n",
       "      <th></th>\n",
       "      <th></th>\n",
       "      <th>SSP1-1.9</th>\n",
       "      <th>SSP1-2.6</th>\n",
       "      <th>SSP2-4.5</th>\n",
       "      <th>SSP3-3.4</th>\n",
       "      <th>SSP3-7.0</th>\n",
       "      <th>SSP3-7.0-LowSLCF-HighCH$_4$</th>\n",
       "      <th>SSP3-7.0-LowSLCF-LowCH$_4$</th>\n",
       "      <th>SSP5-8.5</th>\n",
       "    </tr>\n",
       "    <tr>\n",
       "      <th></th>\n",
       "      <th></th>\n",
       "      <th></th>\n",
       "      <th></th>\n",
       "      <th></th>\n",
       "      <th></th>\n",
       "      <th></th>\n",
       "      <th></th>\n",
       "      <th></th>\n",
       "      <th></th>\n",
       "    </tr>\n",
       "  </thead>\n",
       "  <tbody>\n",
       "    <tr>\n",
       "      <th rowspan=\"4\" valign=\"top\">2040</th>\n",
       "      <th>Aerosols</th>\n",
       "      <td>0.25451</td>\n",
       "      <td>0.210743</td>\n",
       "      <td>0.050571</td>\n",
       "      <td>0.034456</td>\n",
       "      <td>-0.047187</td>\n",
       "      <td>0.074816</td>\n",
       "      <td>0.074816</td>\n",
       "      <td>0.128671</td>\n",
       "    </tr>\n",
       "    <tr>\n",
       "      <th>Methane (CH$_4$)</th>\n",
       "      <td>-0.020353</td>\n",
       "      <td>-0.010873</td>\n",
       "      <td>0.042229</td>\n",
       "      <td>0.048756</td>\n",
       "      <td>0.070685</td>\n",
       "      <td>0.070685</td>\n",
       "      <td>-0.020829</td>\n",
       "      <td>0.057007</td>\n",
       "    </tr>\n",
       "    <tr>\n",
       "      <th>Ozone (O$_3$)</th>\n",
       "      <td>-0.070592</td>\n",
       "      <td>-0.051027</td>\n",
       "      <td>0.015453</td>\n",
       "      <td>-0.014381</td>\n",
       "      <td>0.064835</td>\n",
       "      <td>0.024497</td>\n",
       "      <td>-0.031654</td>\n",
       "      <td>0.036518</td>\n",
       "    </tr>\n",
       "    <tr>\n",
       "      <th>HFCs</th>\n",
       "      <td>0.007461</td>\n",
       "      <td>0.017515</td>\n",
       "      <td>0.026536</td>\n",
       "      <td>0.007461</td>\n",
       "      <td>0.024436</td>\n",
       "      <td>0.024436</td>\n",
       "      <td>0.024487</td>\n",
       "      <td>0.037495</td>\n",
       "    </tr>\n",
       "    <tr>\n",
       "      <th rowspan=\"4\" valign=\"top\">2100</th>\n",
       "      <th>Aerosols</th>\n",
       "      <td>0.390768</td>\n",
       "      <td>0.398195</td>\n",
       "      <td>0.258795</td>\n",
       "      <td>0.264948</td>\n",
       "      <td>-0.03259</td>\n",
       "      <td>0.252303</td>\n",
       "      <td>0.252303</td>\n",
       "      <td>0.220348</td>\n",
       "    </tr>\n",
       "    <tr>\n",
       "      <th>Methane (CH$_4$)</th>\n",
       "      <td>-0.136404</td>\n",
       "      <td>-0.129499</td>\n",
       "      <td>0.008606</td>\n",
       "      <td>0.004981</td>\n",
       "      <td>0.253615</td>\n",
       "      <td>0.253615</td>\n",
       "      <td>-0.101002</td>\n",
       "      <td>0.142298</td>\n",
       "    </tr>\n",
       "    <tr>\n",
       "      <th>Ozone (O$_3$)</th>\n",
       "      <td>-0.130242</td>\n",
       "      <td>-0.128863</td>\n",
       "      <td>-0.035455</td>\n",
       "      <td>-0.059085</td>\n",
       "      <td>0.217271</td>\n",
       "      <td>0.144787</td>\n",
       "      <td>-0.082406</td>\n",
       "      <td>0.055321</td>\n",
       "    </tr>\n",
       "    <tr>\n",
       "      <th>HFCs</th>\n",
       "      <td>-0.000936</td>\n",
       "      <td>0.001244</td>\n",
       "      <td>0.053756</td>\n",
       "      <td>-0.000936</td>\n",
       "      <td>0.087936</td>\n",
       "      <td>0.087936</td>\n",
       "      <td>0.076451</td>\n",
       "      <td>0.200145</td>\n",
       "    </tr>\n",
       "  </tbody>\n",
       "</table>\n",
       "</div>"
      ],
      "text/plain": [
       "                       SSP1-1.9  SSP1-2.6  SSP2-4.5  SSP3-3.4  SSP3-7.0  \\\n",
       "                                                                          \n",
       "2040 Aerosols           0.25451  0.210743  0.050571  0.034456 -0.047187   \n",
       "     Methane (CH$_4$) -0.020353 -0.010873  0.042229  0.048756  0.070685   \n",
       "     Ozone (O$_3$)    -0.070592 -0.051027  0.015453 -0.014381  0.064835   \n",
       "     HFCs              0.007461  0.017515  0.026536  0.007461  0.024436   \n",
       "2100 Aerosols          0.390768  0.398195  0.258795  0.264948  -0.03259   \n",
       "     Methane (CH$_4$) -0.136404 -0.129499  0.008606  0.004981  0.253615   \n",
       "     Ozone (O$_3$)    -0.130242 -0.128863 -0.035455 -0.059085  0.217271   \n",
       "     HFCs             -0.000936  0.001244  0.053756 -0.000936  0.087936   \n",
       "\n",
       "                      SSP3-7.0-LowSLCF-HighCH$_4$ SSP3-7.0-LowSLCF-LowCH$_4$  \\\n",
       "                                                                               \n",
       "2040 Aerosols                            0.074816                   0.074816   \n",
       "     Methane (CH$_4$)                    0.070685                  -0.020829   \n",
       "     Ozone (O$_3$)                       0.024497                  -0.031654   \n",
       "     HFCs                                0.024436                   0.024487   \n",
       "2100 Aerosols                            0.252303                   0.252303   \n",
       "     Methane (CH$_4$)                    0.253615                  -0.101002   \n",
       "     Ozone (O$_3$)                       0.144787                  -0.082406   \n",
       "     HFCs                                0.087936                   0.076451   \n",
       "\n",
       "                       SSP5-8.5  \n",
       "                                 \n",
       "2040 Aerosols          0.128671  \n",
       "     Methane (CH$_4$)  0.057007  \n",
       "     Ozone (O$_3$)     0.036518  \n",
       "     HFCs              0.037495  \n",
       "2100 Aerosols          0.220348  \n",
       "     Methane (CH$_4$)  0.142298  \n",
       "     Ozone (O$_3$)     0.055321  \n",
       "     HFCs              0.200145  "
      ]
     },
     "metadata": {},
     "output_type": "display_data"
    }
   ],
   "source": [
    "for tab in [tabel_dT_anthrop, tabel_dT_slcfs]:\n",
    "    display(tab)"
   ]
  },
  {
   "cell_type": "markdown",
   "metadata": {},
   "source": [
    "# Supplementary figues: "
   ]
  },
  {
   "cell_type": "markdown",
   "metadata": {},
   "source": [
    "### Without SSP3-3.4"
   ]
  },
  {
   "cell_type": "code",
   "execution_count": 28,
   "metadata": {},
   "outputs": [],
   "source": [
    "all_scanarios = tabel_dT_anthrop.columns\n",
    "subset_scenarios = [s for s in all_scanarios if s != 'SSP3-3.4']\n",
    "\n",
    "tabel_dT_anthrop2 = tabel_dT_anthrop[subset_scenarios]\n",
    "tabel_dT_slcfs2 = tabel_dT_slcfs[subset_scenarios]\n",
    "tabel_dT_anthrop2_5th = tabel_dT_anthrop_5th[subset_scenarios]\n",
    "tabel_dT_anthrop2_95th = tabel_dT_anthrop_95th[subset_scenarios]\n",
    "tabel_dT_sum_slcf2_5 = tabel_dT_sum_slcf_5[subset_scenarios]\n",
    "tabel_dT_sum_slcf2_95 = tabel_dT_sum_slcf_95[subset_scenarios]"
   ]
  },
  {
   "cell_type": "code",
   "execution_count": 29,
   "metadata": {},
   "outputs": [
    {
     "data": {
      "image/png": "[encoded data removed]",
      "text/plain": [
       "<Figure size 720x316.8 with 2 Axes>"
      ]
     },
     "metadata": {
      "needs_background": "light"
     },
     "output_type": "display_data"
    }
   ],
   "source": [
    "# noinspection PyRedeclaration\n",
    "fig, axs = plt.subplots(1, len(years), figsize=[10, 4.4], sharex=False, sharey=True)\n",
    "plt_stacked(axs, tabel_dT_anthrop2, tabel_dT_slcfs2, tabel_dT_anthrop2_5th, tabel_dT_anthrop2_95th,\n",
    "            tabel_dT_sum_slcf2_5, tabel_dT_sum_slcf2_95)\n",
    "\n",
    "fix_axs(axs)\n",
    "\n",
    "# write_percentiles_to_file(tabel_dT_anthrop2, tabel_dT_slcfs2, tabel_dT_anthrop_5th, tabel_dT_anthrop_95th,\n",
    "#            tabel_dT_sum_slcf_5, tabel_dT_sum_slcf_95)\n",
    "\n",
    "\n",
    "fn = FIGURE_DIR / (output_name + 'no_ssp334')  # 'stack_bar_influence_years.png'\n",
    "plt.tight_layout()\n",
    "# ax = plt.gca()\n",
    "\n",
    "plt.savefig(fn.with_suffix('.png'), dpi=300)\n",
    "plt.savefig(fn.with_suffix('.pdf'), dpi=300)\n",
    "plt.show()"
   ]
  },
  {
   "cell_type": "markdown",
   "metadata": {
    "tags": []
   },
   "source": [
    "### Without lowNTCF"
   ]
  },
  {
   "cell_type": "code",
   "execution_count": 30,
   "metadata": {
    "lines_to_next_cell": 0
   },
   "outputs": [
    {
     "name": "stdout",
     "output_type": "stream",
     "text": [
      "['ssp119', 'ssp126', 'ssp245', 'ssp334', 'ssp370', 'ssp585']\n"
     ]
    }
   ],
   "source": [
    "\n",
    "scen_no_lowNTCF = [scn for scn in scenarios_fl if 'lowNTCF' not in scn]\n",
    "print(scen_no_lowNTCF)"
   ]
  },
  {
   "cell_type": "code",
   "execution_count": 31,
   "metadata": {
    "lines_to_next_cell": 0
   },
   "outputs": [],
   "source": [
    "subset_scenarios = list(pd.Series(scenarios_fl_oneNTCF).replace(rn_dic_scen))"
   ]
  },
  {
   "cell_type": "code",
   "execution_count": 32,
   "metadata": {},
   "outputs": [],
   "source": [
    "tabel_dT_anthrop2 = tabel_dT_anthrop[subset_scenarios]\n",
    "tabel_dT_slcfs2 = tabel_dT_slcfs[subset_scenarios]\n",
    "tabel_dT_anthrop2_5th = tabel_dT_anthrop_5th[subset_scenarios]\n",
    "tabel_dT_anthrop2_95th = tabel_dT_anthrop_95th[subset_scenarios]\n",
    "tabel_dT_sum_slcf2_5 = tabel_dT_sum_slcf_5[subset_scenarios]\n",
    "tabel_dT_sum_slcf2_95 = tabel_dT_sum_slcf_95[subset_scenarios]"
   ]
  },
  {
   "cell_type": "code",
   "execution_count": 33,
   "metadata": {
    "lines_to_next_cell": 0
   },
   "outputs": [
    {
     "data": {
      "image/png": "[encoded data removed]",
      "text/plain": [
       "<Figure size 720x316.8 with 2 Axes>"
      ]
     },
     "metadata": {
      "needs_background": "light"
     },
     "output_type": "display_data"
    }
   ],
   "source": [
    "\n",
    "fig, axs = plt.subplots(1, len(years), figsize=[10, 4.4], sharex=False, sharey=True)\n",
    "plt_stacked(axs, tabel_dT_anthrop2, tabel_dT_slcfs2, tabel_dT_anthrop2_5th,\n",
    "            tabel_dT_anthrop2_95th, tabel_dT_sum_slcf2_5, tabel_dT_sum_slcf2_95)\n",
    "\n",
    "fix_axs(axs)\n",
    "fn = FIGURE_DIR / 'stack_bar_influence_years_one_lowNTCF.png'\n",
    "plt.tight_layout()\n",
    "ax = plt.gca()\n",
    "\n",
    "plt.savefig(fn, dpi=300)\n",
    "plt.savefig(fn.with_suffix('.pdf'), dpi=300)\n",
    "\n",
    "plt.show()"
   ]
  },
  {
   "cell_type": "code",
   "execution_count": null,
   "metadata": {},
   "outputs": [],
   "source": []
  },
  {
   "cell_type": "markdown",
   "metadata": {
    "tags": []
   },
   "source": [
    "### Without lowNTCF"
   ]
  },
  {
   "cell_type": "code",
   "execution_count": 34,
   "metadata": {
    "lines_to_next_cell": 0
   },
   "outputs": [],
   "source": [
    "# tabel_dT_anthrop2 = tabel_dT_anthrop[scen_no_lowNTCF]\n",
    "# tabel_dT_slcfs2 = tabel_dT_slcfs[scen_no_lowNTCF]\n",
    "\n",
    "subset_scenarios = list(pd.Series(scen_no_lowNTCF).replace(rn_dic_scen))"
   ]
  },
  {
   "cell_type": "code",
   "execution_count": 35,
   "metadata": {},
   "outputs": [],
   "source": [
    "tabel_dT_anthrop2 = tabel_dT_anthrop[subset_scenarios]\n",
    "tabel_dT_slcfs2 = tabel_dT_slcfs[subset_scenarios]\n",
    "tabel_dT_anthrop2_5th = tabel_dT_anthrop_5th[subset_scenarios]\n",
    "tabel_dT_anthrop2_95th = tabel_dT_anthrop_95th[subset_scenarios]\n",
    "tabel_dT_sum_slcf2_5 = tabel_dT_sum_slcf_5[subset_scenarios]\n",
    "tabel_dT_sum_slcf2_95 = tabel_dT_sum_slcf_95[subset_scenarios]"
   ]
  },
  {
   "cell_type": "code",
   "execution_count": 36,
   "metadata": {},
   "outputs": [
    {
     "data": {
      "image/png": "[encoded data removed]",
      "text/plain": [
       "<Figure size 720x273.6 with 2 Axes>"
      ]
     },
     "metadata": {
      "needs_background": "light"
     },
     "output_type": "display_data"
    }
   ],
   "source": [
    "\n",
    "fig, axs = plt.subplots(1, len(years), figsize=[10, 3.8], sharex=False, sharey=True)\n",
    "plt_stacked(axs, tabel_dT_anthrop2, tabel_dT_slcfs2, tabel_dT_anthrop2_5th,\n",
    "            tabel_dT_anthrop2_95th, tabel_dT_sum_slcf2_5, tabel_dT_sum_slcf2_95)\n",
    "\n",
    "fix_axs(axs)\n",
    "\n",
    "fn = FIGURE_DIR / 'stack_bar_influence_years_no_lowNTCF.png'\n",
    "plt.tight_layout()\n",
    "\n",
    "plt.savefig(fn, dpi=300)\n",
    "plt.savefig(fn.with_suffix('.pdf'), dpi=300)"
   ]
  },
  {
   "cell_type": "markdown",
   "metadata": {},
   "source": [
    "### 3-7.0 only "
   ]
  },
  {
   "cell_type": "code",
   "execution_count": 37,
   "metadata": {
    "lines_to_next_cell": 0
   },
   "outputs": [],
   "source": [
    "\n",
    "scenario_370 = [sc for sc in scenarios_fl if 'ssp370' in sc]\n",
    "subset_scenarios = list(pd.Series(scenario_370).replace(rn_dic_scen))"
   ]
  },
  {
   "cell_type": "code",
   "execution_count": 38,
   "metadata": {},
   "outputs": [],
   "source": [
    "\n",
    "tabel_dT_anthrop2 = tabel_dT_anthrop[subset_scenarios]\n",
    "tabel_dT_slcfs2 = tabel_dT_slcfs[subset_scenarios]\n",
    "tabel_dT_anthrop2_5th = tabel_dT_anthrop_5th[subset_scenarios]\n",
    "tabel_dT_anthrop2_95th = tabel_dT_anthrop_95th[subset_scenarios]\n",
    "tabel_dT_sum_slcf2_5 = tabel_dT_sum_slcf_5[subset_scenarios]\n",
    "tabel_dT_sum_slcf2_95 = tabel_dT_sum_slcf_95[subset_scenarios]"
   ]
  },
  {
   "cell_type": "code",
   "execution_count": 39,
   "metadata": {},
   "outputs": [
    {
     "data": {
      "image/png": "[encoded data removed]",
      "text/plain": [
       "<Figure size 720x180 with 2 Axes>"
      ]
     },
     "metadata": {
      "needs_background": "light"
     },
     "output_type": "display_data"
    }
   ],
   "source": [
    "\n",
    "fig, axs = plt.subplots(1, len(years), figsize=[10, 2.5], sharex=False, sharey=True)\n",
    "\n",
    "plt_stacked(axs, tabel_dT_anthrop2, tabel_dT_slcfs2, tabel_dT_anthrop2_5th,\n",
    "            tabel_dT_anthrop2_95th, tabel_dT_sum_slcf2_5, tabel_dT_sum_slcf2_95)\n",
    "\n",
    "fix_axs(axs)\n",
    "\n",
    "fn = FIGURE_DIR / 'stack_bar_influence_years_horiz_errTot_370only.png'\n",
    "\n",
    "plt.tight_layout()\n",
    "\n",
    "plt.savefig(fn, dpi=300)\n",
    "plt.savefig(fn.with_suffix('.pdf'), dpi=300)"
   ]
  }
 ],
 "metadata": {
  "ipub": {
   "bibliography": "IPCC_terje.bib",
   "biboptions": [
    "super",
    "sort"
   ],
   "bibstyle": "unsrtnat"
  },
  "jupytext": {
   "encoding": "# -*- coding: utf-8 -*-",
   "formats": "ipynb,py:percent"
  },
  "kernelspec": {
   "display_name": "Python 3 (ipykernel)",
   "language": "python",
   "name": "python3"
  },
  "language_info": {
   "codemirror_mode": {
    "name": "ipython",
    "version": 3
   },
   "file_extension": ".py",
   "mimetype": "text/x-python",
   "name": "python",
   "nbconvert_exporter": "python",
   "pygments_lexer": "ipython3",
   "version": "3.7.10"
  },
  "latex_metadata": {
   "author": "Sara Blichner, T. K. Berntsen",
   "bibliography": "IPCC_terje",
   "bibstyle": "plain",
   "title": "Comparison of temperature response for various climate gases"
  },
  "pycharm": {
   "stem_cell": {
    "cell_type": "raw",
    "metadata": {
     "collapsed": false
    },
    "source": []
   }
  }
 },
 "nbformat": 4,
 "nbformat_minor": 4
}
