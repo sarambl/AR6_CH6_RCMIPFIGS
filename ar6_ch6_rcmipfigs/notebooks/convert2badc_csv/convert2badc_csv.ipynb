{
 "cells": [
  {
   "cell_type": "code",
   "execution_count": 50,
   "outputs": [
    {
     "name": "stdout",
     "output_type": "stream",
     "text": [
      "The autoreload extension is already loaded. To reload it, use:\n",
      "  %reload_ext autoreload\n"
     ]
    }
   ],
   "source": [
    "import pandas as pd\n",
    "%load_ext autoreload\n",
    "%autoreload 2\n"
   ],
   "metadata": {
    "collapsed": false
   }
  },
  {
   "cell_type": "code",
   "execution_count": 51,
   "id": "dccb5ea6-16be-4a4c-aa67-c9523fa96890",
   "metadata": {},
   "outputs": [],
   "source": [
    "from ar6_ch6_rcmipfigs.utils.badc_csv import redo_SSPs_to_badc_csv, write_badc_header, make_badc_csvs_for_slcf_warming_ranges"
   ]
  },
  {
   "cell_type": "code",
   "execution_count": 52,
   "id": "e04f3474-510c-4e01-9df3-1c1283e1aaa1",
   "metadata": {},
   "outputs": [],
   "source": [
    "from pathlib import Path"
   ]
  },
  {
   "cell_type": "code",
   "execution_count": 53,
   "id": "6d5a7fc9-d95f-49c4-89c0-1f97f7c03143",
   "metadata": {},
   "outputs": [],
   "source": [
    "from ar6_ch6_rcmipfigs.constants import BASE_DIR"
   ]
  },
  {
   "cell_type": "code",
   "execution_count": 54,
   "id": "a000d231-7fb3-4b13-b139-d48c11c4d05f",
   "metadata": {
    "scrolled": true,
    "tags": []
   },
   "outputs": [],
   "source": [
    "path_in =  Path(BASE_DIR) / 'data_in/SSPs/'\n",
    "path_out =  Path(BASE_DIR) / 'data_in_badc_csv/SSPs/'\n",
    "redo_SSPs_to_badc_csv(path_in, path_out)\n"
   ]
  },
  {
   "cell_type": "code",
   "execution_count": 55,
   "id": "399249b9-c921-496b-b1e0-1625f3730da8",
   "metadata": {
    "scrolled": true,
    "tags": []
   },
   "outputs": [],
   "source": [
    "make_badc_csvs_for_slcf_warming_ranges()\n"
   ]
  },
  {
   "cell_type": "code",
   "execution_count": 56,
   "outputs": [],
   "source": [
    "import pandas as pd"
   ],
   "metadata": {
    "collapsed": false
   }
  },
  {
   "cell_type": "code",
   "execution_count": 57,
   "id": "03f5ea40-0f4a-4cd0-abaf-6a0ad476911e",
   "metadata": {},
   "outputs": [],
   "source": [
    "from ar6_ch6_rcmipfigs.utils.badc_csv import path_FaIR_hist_header_general_info"
   ]
  },
  {
   "cell_type": "code",
   "execution_count": 58,
   "id": "cfb19628-f1b4-465f-8734-034021d02611",
   "metadata": {},
   "outputs": [
    {
     "data": {
      "text/plain": "               0                     1   \\\n0     Conventions                     G   \n1           title                     G   \n2         creator                     G   \n3        activity                     G   \n4    feature_type                     G   \n..            ...                   ...   \n267          2016         0.01495610505   \n268          2017  0.016003404290000002   \n269          2018         0.01702178831   \n270          2019  0.017982759740000003   \n0        end_data                   NaN   \n\n                                                    2                      3   \\\n0                                             BADC-CSV                      1   \n1    Effective radiative forcing (ERF) for the hist...                    NaN   \n2                 Chris Smith (C.J.Smith1@leeds.ac.uk)       Leeds University   \n3                                             IPCC AR6                    NaN   \n4                              Global mean time series                    NaN   \n..                                                 ...                    ...   \n267                                       0.0055326345  0.0013342024611084904   \n268                              0.0057285222500000005  0.0015772212711693907   \n269                                      0.00595460538  0.0018450031904473309   \n270                              0.0061946395400000005   0.002226602887196375   \n0                                                  NaN                    NaN   \n\n                       4                      5              6   \\\n0                     NaN                    NaN            NaN   \n1                     NaN                    NaN            NaN   \n2                     NaN                    NaN            NaN   \n3                     NaN                    NaN            NaN   \n4                     NaN                    NaN            NaN   \n..                    ...                    ...            ...   \n267         0.00478816507            0.003218124   0.0006775884   \n268          0.0054342161            0.003500112  0.00069361245   \n269         0.00615133625  0.0037673160000000006  0.00071355349   \n270  0.006873833339999999  0.0040340160000000005  0.00072586403   \n0                     NaN                    NaN            NaN   \n\n                         7                       8                      9   \\\n0                       NaN                     NaN                    NaN   \n1                       NaN                     NaN                    NaN   \n2                       NaN                     NaN                    NaN   \n3                       NaN                     NaN                    NaN   \n4                       NaN                     NaN                    NaN   \n..                      ...                     ...                    ...   \n267  0.00032948426965223273   3.835557000000001e-05  0.0005943214800000001   \n268  0.00036273930237253873   4.161454000000001e-05  0.0006457672800000001   \n269   0.0003983250947703697  4.4873510000000004e-05          0.00069770304   \n270   0.0004357564579669396  4.8132480000000006e-05  0.0007496388000000001   \n0                       NaN                     NaN                    NaN   \n\n     ...            40           41   42             43                  44  \\\n0    ...           NaN          NaN  NaN            NaN                 NaN   \n1    ...           NaN          NaN  NaN            NaN                 NaN   \n2    ...           NaN          NaN  NaN            NaN                 NaN   \n3    ...           NaN          NaN  NaN            NaN                 NaN   \n4    ...           NaN          NaN  NaN            NaN                 NaN   \n..   ...           ...          ...  ...            ...                 ...   \n267  ...  2.783056e-05  5.53432e-05  0.0  0.00011615104  1.645788049128e-05   \n268  ...  2.783056e-05  5.53432e-05  0.0  0.00011615104  1.645788049128e-05   \n269  ...  2.783056e-05  5.53432e-05  0.0  0.00011615104  1.645788049128e-05   \n270  ...  2.783056e-05  5.53432e-05  0.0  0.00011615104  1.645788049128e-05   \n0    ...           NaN          NaN  NaN            NaN                 NaN   \n\n               45            46                     47  \\\n0             NaN           NaN                    NaN   \n1             NaN           NaN                    NaN   \n2             NaN           NaN                    NaN   \n3             NaN           NaN                    NaN   \n4             NaN           NaN                    NaN   \n..            ...           ...                    ...   \n267  0.0001638392  0.0003093688  6.373024950000001e-05   \n268  0.0001638392  0.0003093688         6.59615055e-05   \n269  0.0001638392  0.0003093688          6.5822052e-05   \n270  0.0001638392  0.0003093688  6.470642400000001e-05   \n0             NaN           NaN                    NaN   \n\n                         48                      49  \n0                       NaN                     NaN  \n1                       NaN                     NaN  \n2                       NaN                     NaN  \n3                       NaN                     NaN  \n4                       NaN                     NaN  \n..                      ...                     ...  \n267  5.6440000000000005e-06  0.00021135420000000004  \n268  5.6440000000000005e-06  0.00021135420000000004  \n269  5.6440000000000005e-06  0.00021135420000000004  \n270  5.6440000000000005e-06  0.00021135420000000004  \n0                       NaN                     NaN  \n\n[438 rows x 50 columns]",
      "text/html": "<div>\n<style scoped>\n    .dataframe tbody tr th:only-of-type {\n        vertical-align: middle;\n    }\n\n    .dataframe tbody tr th {\n        vertical-align: top;\n    }\n\n    .dataframe thead th {\n        text-align: right;\n    }\n</style>\n<table border=\"1\" class=\"dataframe\">\n  <thead>\n    <tr style=\"text-align: right;\">\n      <th></th>\n      <th>0</th>\n      <th>1</th>\n      <th>2</th>\n      <th>3</th>\n      <th>4</th>\n      <th>5</th>\n      <th>6</th>\n      <th>7</th>\n      <th>8</th>\n      <th>9</th>\n      <th>...</th>\n      <th>40</th>\n      <th>41</th>\n      <th>42</th>\n      <th>43</th>\n      <th>44</th>\n      <th>45</th>\n      <th>46</th>\n      <th>47</th>\n      <th>48</th>\n      <th>49</th>\n    </tr>\n  </thead>\n  <tbody>\n    <tr>\n      <th>0</th>\n      <td>Conventions</td>\n      <td>G</td>\n      <td>BADC-CSV</td>\n      <td>1</td>\n      <td>NaN</td>\n      <td>NaN</td>\n      <td>NaN</td>\n      <td>NaN</td>\n      <td>NaN</td>\n      <td>NaN</td>\n      <td>...</td>\n      <td>NaN</td>\n      <td>NaN</td>\n      <td>NaN</td>\n      <td>NaN</td>\n      <td>NaN</td>\n      <td>NaN</td>\n      <td>NaN</td>\n      <td>NaN</td>\n      <td>NaN</td>\n      <td>NaN</td>\n    </tr>\n    <tr>\n      <th>1</th>\n      <td>title</td>\n      <td>G</td>\n      <td>Effective radiative forcing (ERF) for the hist...</td>\n      <td>NaN</td>\n      <td>NaN</td>\n      <td>NaN</td>\n      <td>NaN</td>\n      <td>NaN</td>\n      <td>NaN</td>\n      <td>NaN</td>\n      <td>...</td>\n      <td>NaN</td>\n      <td>NaN</td>\n      <td>NaN</td>\n      <td>NaN</td>\n      <td>NaN</td>\n      <td>NaN</td>\n      <td>NaN</td>\n      <td>NaN</td>\n      <td>NaN</td>\n      <td>NaN</td>\n    </tr>\n    <tr>\n      <th>2</th>\n      <td>creator</td>\n      <td>G</td>\n      <td>Chris Smith (C.J.Smith1@leeds.ac.uk)</td>\n      <td>Leeds University</td>\n      <td>NaN</td>\n      <td>NaN</td>\n      <td>NaN</td>\n      <td>NaN</td>\n      <td>NaN</td>\n      <td>NaN</td>\n      <td>...</td>\n      <td>NaN</td>\n      <td>NaN</td>\n      <td>NaN</td>\n      <td>NaN</td>\n      <td>NaN</td>\n      <td>NaN</td>\n      <td>NaN</td>\n      <td>NaN</td>\n      <td>NaN</td>\n      <td>NaN</td>\n    </tr>\n    <tr>\n      <th>3</th>\n      <td>activity</td>\n      <td>G</td>\n      <td>IPCC AR6</td>\n      <td>NaN</td>\n      <td>NaN</td>\n      <td>NaN</td>\n      <td>NaN</td>\n      <td>NaN</td>\n      <td>NaN</td>\n      <td>NaN</td>\n      <td>...</td>\n      <td>NaN</td>\n      <td>NaN</td>\n      <td>NaN</td>\n      <td>NaN</td>\n      <td>NaN</td>\n      <td>NaN</td>\n      <td>NaN</td>\n      <td>NaN</td>\n      <td>NaN</td>\n      <td>NaN</td>\n    </tr>\n    <tr>\n      <th>4</th>\n      <td>feature_type</td>\n      <td>G</td>\n      <td>Global mean time series</td>\n      <td>NaN</td>\n      <td>NaN</td>\n      <td>NaN</td>\n      <td>NaN</td>\n      <td>NaN</td>\n      <td>NaN</td>\n      <td>NaN</td>\n      <td>...</td>\n      <td>NaN</td>\n      <td>NaN</td>\n      <td>NaN</td>\n      <td>NaN</td>\n      <td>NaN</td>\n      <td>NaN</td>\n      <td>NaN</td>\n      <td>NaN</td>\n      <td>NaN</td>\n      <td>NaN</td>\n    </tr>\n    <tr>\n      <th>...</th>\n      <td>...</td>\n      <td>...</td>\n      <td>...</td>\n      <td>...</td>\n      <td>...</td>\n      <td>...</td>\n      <td>...</td>\n      <td>...</td>\n      <td>...</td>\n      <td>...</td>\n      <td>...</td>\n      <td>...</td>\n      <td>...</td>\n      <td>...</td>\n      <td>...</td>\n      <td>...</td>\n      <td>...</td>\n      <td>...</td>\n      <td>...</td>\n      <td>...</td>\n      <td>...</td>\n    </tr>\n    <tr>\n      <th>267</th>\n      <td>2016</td>\n      <td>0.01495610505</td>\n      <td>0.0055326345</td>\n      <td>0.0013342024611084904</td>\n      <td>0.00478816507</td>\n      <td>0.003218124</td>\n      <td>0.0006775884</td>\n      <td>0.00032948426965223273</td>\n      <td>3.835557000000001e-05</td>\n      <td>0.0005943214800000001</td>\n      <td>...</td>\n      <td>2.783056e-05</td>\n      <td>5.53432e-05</td>\n      <td>0.0</td>\n      <td>0.00011615104</td>\n      <td>1.645788049128e-05</td>\n      <td>0.0001638392</td>\n      <td>0.0003093688</td>\n      <td>6.373024950000001e-05</td>\n      <td>5.6440000000000005e-06</td>\n      <td>0.00021135420000000004</td>\n    </tr>\n    <tr>\n      <th>268</th>\n      <td>2017</td>\n      <td>0.016003404290000002</td>\n      <td>0.0057285222500000005</td>\n      <td>0.0015772212711693907</td>\n      <td>0.0054342161</td>\n      <td>0.003500112</td>\n      <td>0.00069361245</td>\n      <td>0.00036273930237253873</td>\n      <td>4.161454000000001e-05</td>\n      <td>0.0006457672800000001</td>\n      <td>...</td>\n      <td>2.783056e-05</td>\n      <td>5.53432e-05</td>\n      <td>0.0</td>\n      <td>0.00011615104</td>\n      <td>1.645788049128e-05</td>\n      <td>0.0001638392</td>\n      <td>0.0003093688</td>\n      <td>6.59615055e-05</td>\n      <td>5.6440000000000005e-06</td>\n      <td>0.00021135420000000004</td>\n    </tr>\n    <tr>\n      <th>269</th>\n      <td>2018</td>\n      <td>0.01702178831</td>\n      <td>0.00595460538</td>\n      <td>0.0018450031904473309</td>\n      <td>0.00615133625</td>\n      <td>0.0037673160000000006</td>\n      <td>0.00071355349</td>\n      <td>0.0003983250947703697</td>\n      <td>4.4873510000000004e-05</td>\n      <td>0.00069770304</td>\n      <td>...</td>\n      <td>2.783056e-05</td>\n      <td>5.53432e-05</td>\n      <td>0.0</td>\n      <td>0.00011615104</td>\n      <td>1.645788049128e-05</td>\n      <td>0.0001638392</td>\n      <td>0.0003093688</td>\n      <td>6.5822052e-05</td>\n      <td>5.6440000000000005e-06</td>\n      <td>0.00021135420000000004</td>\n    </tr>\n    <tr>\n      <th>270</th>\n      <td>2019</td>\n      <td>0.017982759740000003</td>\n      <td>0.0061946395400000005</td>\n      <td>0.002226602887196375</td>\n      <td>0.006873833339999999</td>\n      <td>0.0040340160000000005</td>\n      <td>0.00072586403</td>\n      <td>0.0004357564579669396</td>\n      <td>4.8132480000000006e-05</td>\n      <td>0.0007496388000000001</td>\n      <td>...</td>\n      <td>2.783056e-05</td>\n      <td>5.53432e-05</td>\n      <td>0.0</td>\n      <td>0.00011615104</td>\n      <td>1.645788049128e-05</td>\n      <td>0.0001638392</td>\n      <td>0.0003093688</td>\n      <td>6.470642400000001e-05</td>\n      <td>5.6440000000000005e-06</td>\n      <td>0.00021135420000000004</td>\n    </tr>\n    <tr>\n      <th>0</th>\n      <td>end_data</td>\n      <td>NaN</td>\n      <td>NaN</td>\n      <td>NaN</td>\n      <td>NaN</td>\n      <td>NaN</td>\n      <td>NaN</td>\n      <td>NaN</td>\n      <td>NaN</td>\n      <td>NaN</td>\n      <td>...</td>\n      <td>NaN</td>\n      <td>NaN</td>\n      <td>NaN</td>\n      <td>NaN</td>\n      <td>NaN</td>\n      <td>NaN</td>\n      <td>NaN</td>\n      <td>NaN</td>\n      <td>NaN</td>\n      <td>NaN</td>\n    </tr>\n  </tbody>\n</table>\n<p>438 rows × 50 columns</p>\n</div>"
     },
     "execution_count": 58,
     "metadata": {},
     "output_type": "execute_result"
    }
   ],
   "source": [
    "# %%\n",
    "## Write AR6 files:\n",
    "fp_orig = BASE_DIR /'data_in/AR6_ERF_1750-2019.csv'\n",
    "fp_out =  BASE_DIR /'data_in_badc_csv/AR6_ERF_1750-2019.csv'\n",
    "path_header = path_FaIR_hist_header_general_info\n",
    "add_global_info = [['comments','G',f'Time period: 1750-2019'],]\n",
    "#\n",
    "# %%\n",
    "\n",
    "write_badc_header(\n",
    "    fp_orig,\n",
    "    fp_out,\n",
    "    add_global_info,\n",
    "    #variable_dic,\n",
    "    #read_csv_kwargs=None,\n",
    "    fp_global_default = path_header,\n",
    "    fp_var_default = path_header\n",
    ")\n",
    "# %%\n",
    "fp_orig = BASE_DIR /'data_in/AR6_ERF_minorGHGs_1750-2019.csv'\n",
    "fp_out =  BASE_DIR /'data_in_badc_csv/AR6_ERF_minorGHGs_1750-2019.csv'\n",
    "#\n",
    "\n",
    "write_badc_header(\n",
    "    fp_orig,\n",
    "    fp_out,\n",
    "    add_global_info,\n",
    "    #variable_dic,\n",
    "    #read_csv_kwargs=None,\n",
    "    fp_global_default = path_header,\n",
    "    fp_var_default = path_header\n",
    ")"
   ]
  },
  {
   "cell_type": "code",
   "execution_count": 58,
   "outputs": [],
   "source": [],
   "metadata": {
    "collapsed": false
   }
  }
 ],
 "metadata": {
  "kernelspec": {
   "display_name": "Python 3 (ipykernel)",
   "language": "python",
   "name": "python3"
  },
  "language_info": {
   "codemirror_mode": {
    "name": "ipython",
    "version": 3
   },
   "file_extension": ".py",
   "mimetype": "text/x-python",
   "name": "python",
   "nbconvert_exporter": "python",
   "pygments_lexer": "ipython3",
   "version": "3.7.10"
  }
 },
 "nbformat": 4,
 "nbformat_minor": 5
}
